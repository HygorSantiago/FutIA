{
  "nbformat": 4,
  "nbformat_minor": 0,
  "metadata": {
    "colab": {
      "provenance": [],
      "toc_visible": true
    },
    "kernelspec": {
      "name": "python3",
      "display_name": "Python 3"
    },
    "language_info": {
      "name": "python"
    },
    "widgets": {
      "application/vnd.jupyter.widget-state+json": {
        "9b2bae732ca14bd39f754a4ef9792d8e": {
          "model_module": "@jupyter-widgets/controls",
          "model_name": "HBoxModel",
          "model_module_version": "1.5.0",
          "state": {
            "_dom_classes": [],
            "_model_module": "@jupyter-widgets/controls",
            "_model_module_version": "1.5.0",
            "_model_name": "HBoxModel",
            "_view_count": null,
            "_view_module": "@jupyter-widgets/controls",
            "_view_module_version": "1.5.0",
            "_view_name": "HBoxView",
            "box_style": "",
            "children": [
              "IPY_MODEL_19187c34e7c045cb8c20d45ff6c8608b",
              "IPY_MODEL_fd0fab89254846aa8c7085cdbe8b6fd2",
              "IPY_MODEL_98446c65a3924ad98f2ce5261fc44372"
            ],
            "layout": "IPY_MODEL_9aa59d75c7194cc2bcc2b26233574072"
          }
        },
        "19187c34e7c045cb8c20d45ff6c8608b": {
          "model_module": "@jupyter-widgets/controls",
          "model_name": "HTMLModel",
          "model_module_version": "1.5.0",
          "state": {
            "_dom_classes": [],
            "_model_module": "@jupyter-widgets/controls",
            "_model_module_version": "1.5.0",
            "_model_name": "HTMLModel",
            "_view_count": null,
            "_view_module": "@jupyter-widgets/controls",
            "_view_module_version": "1.5.0",
            "_view_name": "HTMLView",
            "description": "",
            "description_tooltip": null,
            "layout": "IPY_MODEL_ea16ecac736247b2967630a289e397ec",
            "placeholder": "​",
            "style": "IPY_MODEL_76d970e2aaa14affbb1eb70dc56c1e34",
            "value": "Processing: 100%"
          }
        },
        "fd0fab89254846aa8c7085cdbe8b6fd2": {
          "model_module": "@jupyter-widgets/controls",
          "model_name": "FloatProgressModel",
          "model_module_version": "1.5.0",
          "state": {
            "_dom_classes": [],
            "_model_module": "@jupyter-widgets/controls",
            "_model_module_version": "1.5.0",
            "_model_name": "FloatProgressModel",
            "_view_count": null,
            "_view_module": "@jupyter-widgets/controls",
            "_view_module_version": "1.5.0",
            "_view_name": "ProgressView",
            "bar_style": "",
            "description": "",
            "description_tooltip": null,
            "layout": "IPY_MODEL_0dba65a35dec4d0ab6536197d429aedf",
            "max": 61,
            "min": 0,
            "orientation": "horizontal",
            "style": "IPY_MODEL_05732850171a4b21aeb9847cc00058fe",
            "value": 61
          }
        },
        "98446c65a3924ad98f2ce5261fc44372": {
          "model_module": "@jupyter-widgets/controls",
          "model_name": "HTMLModel",
          "model_module_version": "1.5.0",
          "state": {
            "_dom_classes": [],
            "_model_module": "@jupyter-widgets/controls",
            "_model_module_version": "1.5.0",
            "_model_name": "HTMLModel",
            "_view_count": null,
            "_view_module": "@jupyter-widgets/controls",
            "_view_module_version": "1.5.0",
            "_view_name": "HTMLView",
            "description": "",
            "description_tooltip": null,
            "layout": "IPY_MODEL_74fedefb58ae4ee2a53e32671e345f60",
            "placeholder": "​",
            "style": "IPY_MODEL_bc508eb919984eba8d6fe5354bb35032",
            "value": " 61/61 [01:00&lt;00:00,  1.54it/s]"
          }
        },
        "9aa59d75c7194cc2bcc2b26233574072": {
          "model_module": "@jupyter-widgets/base",
          "model_name": "LayoutModel",
          "model_module_version": "1.2.0",
          "state": {
            "_model_module": "@jupyter-widgets/base",
            "_model_module_version": "1.2.0",
            "_model_name": "LayoutModel",
            "_view_count": null,
            "_view_module": "@jupyter-widgets/base",
            "_view_module_version": "1.2.0",
            "_view_name": "LayoutView",
            "align_content": null,
            "align_items": null,
            "align_self": null,
            "border": null,
            "bottom": null,
            "display": null,
            "flex": null,
            "flex_flow": null,
            "grid_area": null,
            "grid_auto_columns": null,
            "grid_auto_flow": null,
            "grid_auto_rows": null,
            "grid_column": null,
            "grid_gap": null,
            "grid_row": null,
            "grid_template_areas": null,
            "grid_template_columns": null,
            "grid_template_rows": null,
            "height": null,
            "justify_content": null,
            "justify_items": null,
            "left": null,
            "margin": null,
            "max_height": null,
            "max_width": null,
            "min_height": null,
            "min_width": null,
            "object_fit": null,
            "object_position": null,
            "order": null,
            "overflow": null,
            "overflow_x": null,
            "overflow_y": null,
            "padding": null,
            "right": null,
            "top": null,
            "visibility": "hidden",
            "width": null
          }
        },
        "ea16ecac736247b2967630a289e397ec": {
          "model_module": "@jupyter-widgets/base",
          "model_name": "LayoutModel",
          "model_module_version": "1.2.0",
          "state": {
            "_model_module": "@jupyter-widgets/base",
            "_model_module_version": "1.2.0",
            "_model_name": "LayoutModel",
            "_view_count": null,
            "_view_module": "@jupyter-widgets/base",
            "_view_module_version": "1.2.0",
            "_view_name": "LayoutView",
            "align_content": null,
            "align_items": null,
            "align_self": null,
            "border": null,
            "bottom": null,
            "display": null,
            "flex": null,
            "flex_flow": null,
            "grid_area": null,
            "grid_auto_columns": null,
            "grid_auto_flow": null,
            "grid_auto_rows": null,
            "grid_column": null,
            "grid_gap": null,
            "grid_row": null,
            "grid_template_areas": null,
            "grid_template_columns": null,
            "grid_template_rows": null,
            "height": null,
            "justify_content": null,
            "justify_items": null,
            "left": null,
            "margin": null,
            "max_height": null,
            "max_width": null,
            "min_height": null,
            "min_width": null,
            "object_fit": null,
            "object_position": null,
            "order": null,
            "overflow": null,
            "overflow_x": null,
            "overflow_y": null,
            "padding": null,
            "right": null,
            "top": null,
            "visibility": null,
            "width": null
          }
        },
        "76d970e2aaa14affbb1eb70dc56c1e34": {
          "model_module": "@jupyter-widgets/controls",
          "model_name": "DescriptionStyleModel",
          "model_module_version": "1.5.0",
          "state": {
            "_model_module": "@jupyter-widgets/controls",
            "_model_module_version": "1.5.0",
            "_model_name": "DescriptionStyleModel",
            "_view_count": null,
            "_view_module": "@jupyter-widgets/base",
            "_view_module_version": "1.2.0",
            "_view_name": "StyleView",
            "description_width": ""
          }
        },
        "0dba65a35dec4d0ab6536197d429aedf": {
          "model_module": "@jupyter-widgets/base",
          "model_name": "LayoutModel",
          "model_module_version": "1.2.0",
          "state": {
            "_model_module": "@jupyter-widgets/base",
            "_model_module_version": "1.2.0",
            "_model_name": "LayoutModel",
            "_view_count": null,
            "_view_module": "@jupyter-widgets/base",
            "_view_module_version": "1.2.0",
            "_view_name": "LayoutView",
            "align_content": null,
            "align_items": null,
            "align_self": null,
            "border": null,
            "bottom": null,
            "display": null,
            "flex": null,
            "flex_flow": null,
            "grid_area": null,
            "grid_auto_columns": null,
            "grid_auto_flow": null,
            "grid_auto_rows": null,
            "grid_column": null,
            "grid_gap": null,
            "grid_row": null,
            "grid_template_areas": null,
            "grid_template_columns": null,
            "grid_template_rows": null,
            "height": null,
            "justify_content": null,
            "justify_items": null,
            "left": null,
            "margin": null,
            "max_height": null,
            "max_width": null,
            "min_height": null,
            "min_width": null,
            "object_fit": null,
            "object_position": null,
            "order": null,
            "overflow": null,
            "overflow_x": null,
            "overflow_y": null,
            "padding": null,
            "right": null,
            "top": null,
            "visibility": null,
            "width": null
          }
        },
        "05732850171a4b21aeb9847cc00058fe": {
          "model_module": "@jupyter-widgets/controls",
          "model_name": "ProgressStyleModel",
          "model_module_version": "1.5.0",
          "state": {
            "_model_module": "@jupyter-widgets/controls",
            "_model_module_version": "1.5.0",
            "_model_name": "ProgressStyleModel",
            "_view_count": null,
            "_view_module": "@jupyter-widgets/base",
            "_view_module_version": "1.2.0",
            "_view_name": "StyleView",
            "bar_color": null,
            "description_width": ""
          }
        },
        "74fedefb58ae4ee2a53e32671e345f60": {
          "model_module": "@jupyter-widgets/base",
          "model_name": "LayoutModel",
          "model_module_version": "1.2.0",
          "state": {
            "_model_module": "@jupyter-widgets/base",
            "_model_module_version": "1.2.0",
            "_model_name": "LayoutModel",
            "_view_count": null,
            "_view_module": "@jupyter-widgets/base",
            "_view_module_version": "1.2.0",
            "_view_name": "LayoutView",
            "align_content": null,
            "align_items": null,
            "align_self": null,
            "border": null,
            "bottom": null,
            "display": null,
            "flex": null,
            "flex_flow": null,
            "grid_area": null,
            "grid_auto_columns": null,
            "grid_auto_flow": null,
            "grid_auto_rows": null,
            "grid_column": null,
            "grid_gap": null,
            "grid_row": null,
            "grid_template_areas": null,
            "grid_template_columns": null,
            "grid_template_rows": null,
            "height": null,
            "justify_content": null,
            "justify_items": null,
            "left": null,
            "margin": null,
            "max_height": null,
            "max_width": null,
            "min_height": null,
            "min_width": null,
            "object_fit": null,
            "object_position": null,
            "order": null,
            "overflow": null,
            "overflow_x": null,
            "overflow_y": null,
            "padding": null,
            "right": null,
            "top": null,
            "visibility": null,
            "width": null
          }
        },
        "bc508eb919984eba8d6fe5354bb35032": {
          "model_module": "@jupyter-widgets/controls",
          "model_name": "DescriptionStyleModel",
          "model_module_version": "1.5.0",
          "state": {
            "_model_module": "@jupyter-widgets/controls",
            "_model_module_version": "1.5.0",
            "_model_name": "DescriptionStyleModel",
            "_view_count": null,
            "_view_module": "@jupyter-widgets/base",
            "_view_module_version": "1.2.0",
            "_view_name": "StyleView",
            "description_width": ""
          }
        },
        "50fe69c176f3489594eff21a64810064": {
          "model_module": "@jupyter-widgets/controls",
          "model_name": "HBoxModel",
          "model_module_version": "1.5.0",
          "state": {
            "_dom_classes": [],
            "_model_module": "@jupyter-widgets/controls",
            "_model_module_version": "1.5.0",
            "_model_name": "HBoxModel",
            "_view_count": null,
            "_view_module": "@jupyter-widgets/controls",
            "_view_module_version": "1.5.0",
            "_view_name": "HBoxView",
            "box_style": "",
            "children": [
              "IPY_MODEL_2aff7203914840f9baa5c5090c3dc8d8",
              "IPY_MODEL_c86ffae608ac49c2a474c56cb5020e0f",
              "IPY_MODEL_6134c208673c4a748cd716f210af580e"
            ],
            "layout": "IPY_MODEL_c4b103673e7241cb9829385fa04d5e33"
          }
        },
        "2aff7203914840f9baa5c5090c3dc8d8": {
          "model_module": "@jupyter-widgets/controls",
          "model_name": "HTMLModel",
          "model_module_version": "1.5.0",
          "state": {
            "_dom_classes": [],
            "_model_module": "@jupyter-widgets/controls",
            "_model_module_version": "1.5.0",
            "_model_name": "HTMLModel",
            "_view_count": null,
            "_view_module": "@jupyter-widgets/controls",
            "_view_module_version": "1.5.0",
            "_view_name": "HTMLView",
            "description": "",
            "description_tooltip": null,
            "layout": "IPY_MODEL_51b8a0a15e634b32810c563c60054324",
            "placeholder": "​",
            "style": "IPY_MODEL_576f5f37dfcf4865ad5bd69480f2b5a9",
            "value": "Processing: 100%"
          }
        },
        "c86ffae608ac49c2a474c56cb5020e0f": {
          "model_module": "@jupyter-widgets/controls",
          "model_name": "FloatProgressModel",
          "model_module_version": "1.5.0",
          "state": {
            "_dom_classes": [],
            "_model_module": "@jupyter-widgets/controls",
            "_model_module_version": "1.5.0",
            "_model_name": "FloatProgressModel",
            "_view_count": null,
            "_view_module": "@jupyter-widgets/controls",
            "_view_module_version": "1.5.0",
            "_view_name": "ProgressView",
            "bar_style": "",
            "description": "",
            "description_tooltip": null,
            "layout": "IPY_MODEL_1d84659c121041018ada188c9c542346",
            "max": 4,
            "min": 0,
            "orientation": "horizontal",
            "style": "IPY_MODEL_054b3adcb88b4832ad99b517611f758f",
            "value": 4
          }
        },
        "6134c208673c4a748cd716f210af580e": {
          "model_module": "@jupyter-widgets/controls",
          "model_name": "HTMLModel",
          "model_module_version": "1.5.0",
          "state": {
            "_dom_classes": [],
            "_model_module": "@jupyter-widgets/controls",
            "_model_module_version": "1.5.0",
            "_model_name": "HTMLModel",
            "_view_count": null,
            "_view_module": "@jupyter-widgets/controls",
            "_view_module_version": "1.5.0",
            "_view_name": "HTMLView",
            "description": "",
            "description_tooltip": null,
            "layout": "IPY_MODEL_d0ab968049824ddcaa577ae0bbe5cf6e",
            "placeholder": "​",
            "style": "IPY_MODEL_b82bc5e84d5a48e7943d52b40af5094d",
            "value": " 4/4 [00:22&lt;00:00,  5.69s/it]"
          }
        },
        "c4b103673e7241cb9829385fa04d5e33": {
          "model_module": "@jupyter-widgets/base",
          "model_name": "LayoutModel",
          "model_module_version": "1.2.0",
          "state": {
            "_model_module": "@jupyter-widgets/base",
            "_model_module_version": "1.2.0",
            "_model_name": "LayoutModel",
            "_view_count": null,
            "_view_module": "@jupyter-widgets/base",
            "_view_module_version": "1.2.0",
            "_view_name": "LayoutView",
            "align_content": null,
            "align_items": null,
            "align_self": null,
            "border": null,
            "bottom": null,
            "display": null,
            "flex": null,
            "flex_flow": null,
            "grid_area": null,
            "grid_auto_columns": null,
            "grid_auto_flow": null,
            "grid_auto_rows": null,
            "grid_column": null,
            "grid_gap": null,
            "grid_row": null,
            "grid_template_areas": null,
            "grid_template_columns": null,
            "grid_template_rows": null,
            "height": null,
            "justify_content": null,
            "justify_items": null,
            "left": null,
            "margin": null,
            "max_height": null,
            "max_width": null,
            "min_height": null,
            "min_width": null,
            "object_fit": null,
            "object_position": null,
            "order": null,
            "overflow": null,
            "overflow_x": null,
            "overflow_y": null,
            "padding": null,
            "right": null,
            "top": null,
            "visibility": "hidden",
            "width": null
          }
        },
        "51b8a0a15e634b32810c563c60054324": {
          "model_module": "@jupyter-widgets/base",
          "model_name": "LayoutModel",
          "model_module_version": "1.2.0",
          "state": {
            "_model_module": "@jupyter-widgets/base",
            "_model_module_version": "1.2.0",
            "_model_name": "LayoutModel",
            "_view_count": null,
            "_view_module": "@jupyter-widgets/base",
            "_view_module_version": "1.2.0",
            "_view_name": "LayoutView",
            "align_content": null,
            "align_items": null,
            "align_self": null,
            "border": null,
            "bottom": null,
            "display": null,
            "flex": null,
            "flex_flow": null,
            "grid_area": null,
            "grid_auto_columns": null,
            "grid_auto_flow": null,
            "grid_auto_rows": null,
            "grid_column": null,
            "grid_gap": null,
            "grid_row": null,
            "grid_template_areas": null,
            "grid_template_columns": null,
            "grid_template_rows": null,
            "height": null,
            "justify_content": null,
            "justify_items": null,
            "left": null,
            "margin": null,
            "max_height": null,
            "max_width": null,
            "min_height": null,
            "min_width": null,
            "object_fit": null,
            "object_position": null,
            "order": null,
            "overflow": null,
            "overflow_x": null,
            "overflow_y": null,
            "padding": null,
            "right": null,
            "top": null,
            "visibility": null,
            "width": null
          }
        },
        "576f5f37dfcf4865ad5bd69480f2b5a9": {
          "model_module": "@jupyter-widgets/controls",
          "model_name": "DescriptionStyleModel",
          "model_module_version": "1.5.0",
          "state": {
            "_model_module": "@jupyter-widgets/controls",
            "_model_module_version": "1.5.0",
            "_model_name": "DescriptionStyleModel",
            "_view_count": null,
            "_view_module": "@jupyter-widgets/base",
            "_view_module_version": "1.2.0",
            "_view_name": "StyleView",
            "description_width": ""
          }
        },
        "1d84659c121041018ada188c9c542346": {
          "model_module": "@jupyter-widgets/base",
          "model_name": "LayoutModel",
          "model_module_version": "1.2.0",
          "state": {
            "_model_module": "@jupyter-widgets/base",
            "_model_module_version": "1.2.0",
            "_model_name": "LayoutModel",
            "_view_count": null,
            "_view_module": "@jupyter-widgets/base",
            "_view_module_version": "1.2.0",
            "_view_name": "LayoutView",
            "align_content": null,
            "align_items": null,
            "align_self": null,
            "border": null,
            "bottom": null,
            "display": null,
            "flex": null,
            "flex_flow": null,
            "grid_area": null,
            "grid_auto_columns": null,
            "grid_auto_flow": null,
            "grid_auto_rows": null,
            "grid_column": null,
            "grid_gap": null,
            "grid_row": null,
            "grid_template_areas": null,
            "grid_template_columns": null,
            "grid_template_rows": null,
            "height": null,
            "justify_content": null,
            "justify_items": null,
            "left": null,
            "margin": null,
            "max_height": null,
            "max_width": null,
            "min_height": null,
            "min_width": null,
            "object_fit": null,
            "object_position": null,
            "order": null,
            "overflow": null,
            "overflow_x": null,
            "overflow_y": null,
            "padding": null,
            "right": null,
            "top": null,
            "visibility": null,
            "width": null
          }
        },
        "054b3adcb88b4832ad99b517611f758f": {
          "model_module": "@jupyter-widgets/controls",
          "model_name": "ProgressStyleModel",
          "model_module_version": "1.5.0",
          "state": {
            "_model_module": "@jupyter-widgets/controls",
            "_model_module_version": "1.5.0",
            "_model_name": "ProgressStyleModel",
            "_view_count": null,
            "_view_module": "@jupyter-widgets/base",
            "_view_module_version": "1.2.0",
            "_view_name": "StyleView",
            "bar_color": null,
            "description_width": ""
          }
        },
        "d0ab968049824ddcaa577ae0bbe5cf6e": {
          "model_module": "@jupyter-widgets/base",
          "model_name": "LayoutModel",
          "model_module_version": "1.2.0",
          "state": {
            "_model_module": "@jupyter-widgets/base",
            "_model_module_version": "1.2.0",
            "_model_name": "LayoutModel",
            "_view_count": null,
            "_view_module": "@jupyter-widgets/base",
            "_view_module_version": "1.2.0",
            "_view_name": "LayoutView",
            "align_content": null,
            "align_items": null,
            "align_self": null,
            "border": null,
            "bottom": null,
            "display": null,
            "flex": null,
            "flex_flow": null,
            "grid_area": null,
            "grid_auto_columns": null,
            "grid_auto_flow": null,
            "grid_auto_rows": null,
            "grid_column": null,
            "grid_gap": null,
            "grid_row": null,
            "grid_template_areas": null,
            "grid_template_columns": null,
            "grid_template_rows": null,
            "height": null,
            "justify_content": null,
            "justify_items": null,
            "left": null,
            "margin": null,
            "max_height": null,
            "max_width": null,
            "min_height": null,
            "min_width": null,
            "object_fit": null,
            "object_position": null,
            "order": null,
            "overflow": null,
            "overflow_x": null,
            "overflow_y": null,
            "padding": null,
            "right": null,
            "top": null,
            "visibility": null,
            "width": null
          }
        },
        "b82bc5e84d5a48e7943d52b40af5094d": {
          "model_module": "@jupyter-widgets/controls",
          "model_name": "DescriptionStyleModel",
          "model_module_version": "1.5.0",
          "state": {
            "_model_module": "@jupyter-widgets/controls",
            "_model_module_version": "1.5.0",
            "_model_name": "DescriptionStyleModel",
            "_view_count": null,
            "_view_module": "@jupyter-widgets/base",
            "_view_module_version": "1.2.0",
            "_view_name": "StyleView",
            "description_width": ""
          }
        },
        "059f49cee7c4451aa644e39f1da396f4": {
          "model_module": "@jupyter-widgets/controls",
          "model_name": "HBoxModel",
          "model_module_version": "1.5.0",
          "state": {
            "_dom_classes": [],
            "_model_module": "@jupyter-widgets/controls",
            "_model_module_version": "1.5.0",
            "_model_name": "HBoxModel",
            "_view_count": null,
            "_view_module": "@jupyter-widgets/controls",
            "_view_module_version": "1.5.0",
            "_view_name": "HBoxView",
            "box_style": "",
            "children": [
              "IPY_MODEL_e470c1f97cb54d539915a2a71d6f3d50",
              "IPY_MODEL_121ce22c44004fb9be9ebfadf86748bf",
              "IPY_MODEL_3a5d50247aed476ea8758a5e1068e89a"
            ],
            "layout": "IPY_MODEL_2b4551fea4274da18d3670c0474b2d1f"
          }
        },
        "e470c1f97cb54d539915a2a71d6f3d50": {
          "model_module": "@jupyter-widgets/controls",
          "model_name": "HTMLModel",
          "model_module_version": "1.5.0",
          "state": {
            "_dom_classes": [],
            "_model_module": "@jupyter-widgets/controls",
            "_model_module_version": "1.5.0",
            "_model_name": "HTMLModel",
            "_view_count": null,
            "_view_module": "@jupyter-widgets/controls",
            "_view_module_version": "1.5.0",
            "_view_name": "HTMLView",
            "description": "",
            "description_tooltip": null,
            "layout": "IPY_MODEL_65861e8486634a17b70daf36a4009db0",
            "placeholder": "​",
            "style": "IPY_MODEL_f4170b2739f842888531da3a732c11a3",
            "value": "Processing: 100%"
          }
        },
        "121ce22c44004fb9be9ebfadf86748bf": {
          "model_module": "@jupyter-widgets/controls",
          "model_name": "FloatProgressModel",
          "model_module_version": "1.5.0",
          "state": {
            "_dom_classes": [],
            "_model_module": "@jupyter-widgets/controls",
            "_model_module_version": "1.5.0",
            "_model_name": "FloatProgressModel",
            "_view_count": null,
            "_view_module": "@jupyter-widgets/controls",
            "_view_module_version": "1.5.0",
            "_view_name": "ProgressView",
            "bar_style": "",
            "description": "",
            "description_tooltip": null,
            "layout": "IPY_MODEL_dca04c0a3dad462d9f0cb27299e49e1a",
            "max": 4,
            "min": 0,
            "orientation": "horizontal",
            "style": "IPY_MODEL_1c8df57a91654e7a85e04d0392915a86",
            "value": 4
          }
        },
        "3a5d50247aed476ea8758a5e1068e89a": {
          "model_module": "@jupyter-widgets/controls",
          "model_name": "HTMLModel",
          "model_module_version": "1.5.0",
          "state": {
            "_dom_classes": [],
            "_model_module": "@jupyter-widgets/controls",
            "_model_module_version": "1.5.0",
            "_model_name": "HTMLModel",
            "_view_count": null,
            "_view_module": "@jupyter-widgets/controls",
            "_view_module_version": "1.5.0",
            "_view_name": "HTMLView",
            "description": "",
            "description_tooltip": null,
            "layout": "IPY_MODEL_6fa4df4be5de41f6888d173ff238df2d",
            "placeholder": "​",
            "style": "IPY_MODEL_41645faf96a94d82b9a36f736a552024",
            "value": " 4/4 [00:14&lt;00:00,  3.39s/it]"
          }
        },
        "2b4551fea4274da18d3670c0474b2d1f": {
          "model_module": "@jupyter-widgets/base",
          "model_name": "LayoutModel",
          "model_module_version": "1.2.0",
          "state": {
            "_model_module": "@jupyter-widgets/base",
            "_model_module_version": "1.2.0",
            "_model_name": "LayoutModel",
            "_view_count": null,
            "_view_module": "@jupyter-widgets/base",
            "_view_module_version": "1.2.0",
            "_view_name": "LayoutView",
            "align_content": null,
            "align_items": null,
            "align_self": null,
            "border": null,
            "bottom": null,
            "display": null,
            "flex": null,
            "flex_flow": null,
            "grid_area": null,
            "grid_auto_columns": null,
            "grid_auto_flow": null,
            "grid_auto_rows": null,
            "grid_column": null,
            "grid_gap": null,
            "grid_row": null,
            "grid_template_areas": null,
            "grid_template_columns": null,
            "grid_template_rows": null,
            "height": null,
            "justify_content": null,
            "justify_items": null,
            "left": null,
            "margin": null,
            "max_height": null,
            "max_width": null,
            "min_height": null,
            "min_width": null,
            "object_fit": null,
            "object_position": null,
            "order": null,
            "overflow": null,
            "overflow_x": null,
            "overflow_y": null,
            "padding": null,
            "right": null,
            "top": null,
            "visibility": "hidden",
            "width": null
          }
        },
        "65861e8486634a17b70daf36a4009db0": {
          "model_module": "@jupyter-widgets/base",
          "model_name": "LayoutModel",
          "model_module_version": "1.2.0",
          "state": {
            "_model_module": "@jupyter-widgets/base",
            "_model_module_version": "1.2.0",
            "_model_name": "LayoutModel",
            "_view_count": null,
            "_view_module": "@jupyter-widgets/base",
            "_view_module_version": "1.2.0",
            "_view_name": "LayoutView",
            "align_content": null,
            "align_items": null,
            "align_self": null,
            "border": null,
            "bottom": null,
            "display": null,
            "flex": null,
            "flex_flow": null,
            "grid_area": null,
            "grid_auto_columns": null,
            "grid_auto_flow": null,
            "grid_auto_rows": null,
            "grid_column": null,
            "grid_gap": null,
            "grid_row": null,
            "grid_template_areas": null,
            "grid_template_columns": null,
            "grid_template_rows": null,
            "height": null,
            "justify_content": null,
            "justify_items": null,
            "left": null,
            "margin": null,
            "max_height": null,
            "max_width": null,
            "min_height": null,
            "min_width": null,
            "object_fit": null,
            "object_position": null,
            "order": null,
            "overflow": null,
            "overflow_x": null,
            "overflow_y": null,
            "padding": null,
            "right": null,
            "top": null,
            "visibility": null,
            "width": null
          }
        },
        "f4170b2739f842888531da3a732c11a3": {
          "model_module": "@jupyter-widgets/controls",
          "model_name": "DescriptionStyleModel",
          "model_module_version": "1.5.0",
          "state": {
            "_model_module": "@jupyter-widgets/controls",
            "_model_module_version": "1.5.0",
            "_model_name": "DescriptionStyleModel",
            "_view_count": null,
            "_view_module": "@jupyter-widgets/base",
            "_view_module_version": "1.2.0",
            "_view_name": "StyleView",
            "description_width": ""
          }
        },
        "dca04c0a3dad462d9f0cb27299e49e1a": {
          "model_module": "@jupyter-widgets/base",
          "model_name": "LayoutModel",
          "model_module_version": "1.2.0",
          "state": {
            "_model_module": "@jupyter-widgets/base",
            "_model_module_version": "1.2.0",
            "_model_name": "LayoutModel",
            "_view_count": null,
            "_view_module": "@jupyter-widgets/base",
            "_view_module_version": "1.2.0",
            "_view_name": "LayoutView",
            "align_content": null,
            "align_items": null,
            "align_self": null,
            "border": null,
            "bottom": null,
            "display": null,
            "flex": null,
            "flex_flow": null,
            "grid_area": null,
            "grid_auto_columns": null,
            "grid_auto_flow": null,
            "grid_auto_rows": null,
            "grid_column": null,
            "grid_gap": null,
            "grid_row": null,
            "grid_template_areas": null,
            "grid_template_columns": null,
            "grid_template_rows": null,
            "height": null,
            "justify_content": null,
            "justify_items": null,
            "left": null,
            "margin": null,
            "max_height": null,
            "max_width": null,
            "min_height": null,
            "min_width": null,
            "object_fit": null,
            "object_position": null,
            "order": null,
            "overflow": null,
            "overflow_x": null,
            "overflow_y": null,
            "padding": null,
            "right": null,
            "top": null,
            "visibility": null,
            "width": null
          }
        },
        "1c8df57a91654e7a85e04d0392915a86": {
          "model_module": "@jupyter-widgets/controls",
          "model_name": "ProgressStyleModel",
          "model_module_version": "1.5.0",
          "state": {
            "_model_module": "@jupyter-widgets/controls",
            "_model_module_version": "1.5.0",
            "_model_name": "ProgressStyleModel",
            "_view_count": null,
            "_view_module": "@jupyter-widgets/base",
            "_view_module_version": "1.2.0",
            "_view_name": "StyleView",
            "bar_color": null,
            "description_width": ""
          }
        },
        "6fa4df4be5de41f6888d173ff238df2d": {
          "model_module": "@jupyter-widgets/base",
          "model_name": "LayoutModel",
          "model_module_version": "1.2.0",
          "state": {
            "_model_module": "@jupyter-widgets/base",
            "_model_module_version": "1.2.0",
            "_model_name": "LayoutModel",
            "_view_count": null,
            "_view_module": "@jupyter-widgets/base",
            "_view_module_version": "1.2.0",
            "_view_name": "LayoutView",
            "align_content": null,
            "align_items": null,
            "align_self": null,
            "border": null,
            "bottom": null,
            "display": null,
            "flex": null,
            "flex_flow": null,
            "grid_area": null,
            "grid_auto_columns": null,
            "grid_auto_flow": null,
            "grid_auto_rows": null,
            "grid_column": null,
            "grid_gap": null,
            "grid_row": null,
            "grid_template_areas": null,
            "grid_template_columns": null,
            "grid_template_rows": null,
            "height": null,
            "justify_content": null,
            "justify_items": null,
            "left": null,
            "margin": null,
            "max_height": null,
            "max_width": null,
            "min_height": null,
            "min_width": null,
            "object_fit": null,
            "object_position": null,
            "order": null,
            "overflow": null,
            "overflow_x": null,
            "overflow_y": null,
            "padding": null,
            "right": null,
            "top": null,
            "visibility": null,
            "width": null
          }
        },
        "41645faf96a94d82b9a36f736a552024": {
          "model_module": "@jupyter-widgets/controls",
          "model_name": "DescriptionStyleModel",
          "model_module_version": "1.5.0",
          "state": {
            "_model_module": "@jupyter-widgets/controls",
            "_model_module_version": "1.5.0",
            "_model_name": "DescriptionStyleModel",
            "_view_count": null,
            "_view_module": "@jupyter-widgets/base",
            "_view_module_version": "1.2.0",
            "_view_name": "StyleView",
            "description_width": ""
          }
        },
        "afc27d14b31142f48304c194bdfdeab6": {
          "model_module": "@jupyter-widgets/controls",
          "model_name": "HBoxModel",
          "model_module_version": "1.5.0",
          "state": {
            "_dom_classes": [],
            "_model_module": "@jupyter-widgets/controls",
            "_model_module_version": "1.5.0",
            "_model_name": "HBoxModel",
            "_view_count": null,
            "_view_module": "@jupyter-widgets/controls",
            "_view_module_version": "1.5.0",
            "_view_name": "HBoxView",
            "box_style": "",
            "children": [
              "IPY_MODEL_36622279d4b84adbab3698c230bd3211",
              "IPY_MODEL_d3e2bdbdedfb448ba002538982504be1",
              "IPY_MODEL_37a1e14490ed4ee480cc0f33f5cf2ff9"
            ],
            "layout": "IPY_MODEL_c8990fea85fe4cf08e0aaf8f3f7ca856"
          }
        },
        "36622279d4b84adbab3698c230bd3211": {
          "model_module": "@jupyter-widgets/controls",
          "model_name": "HTMLModel",
          "model_module_version": "1.5.0",
          "state": {
            "_dom_classes": [],
            "_model_module": "@jupyter-widgets/controls",
            "_model_module_version": "1.5.0",
            "_model_name": "HTMLModel",
            "_view_count": null,
            "_view_module": "@jupyter-widgets/controls",
            "_view_module_version": "1.5.0",
            "_view_name": "HTMLView",
            "description": "",
            "description_tooltip": null,
            "layout": "IPY_MODEL_cea0e7829df444d79dc18858dd2e763a",
            "placeholder": "​",
            "style": "IPY_MODEL_b00eb1c48d4a4029a884c750ae1da000",
            "value": "Processing: 100%"
          }
        },
        "d3e2bdbdedfb448ba002538982504be1": {
          "model_module": "@jupyter-widgets/controls",
          "model_name": "FloatProgressModel",
          "model_module_version": "1.5.0",
          "state": {
            "_dom_classes": [],
            "_model_module": "@jupyter-widgets/controls",
            "_model_module_version": "1.5.0",
            "_model_name": "FloatProgressModel",
            "_view_count": null,
            "_view_module": "@jupyter-widgets/controls",
            "_view_module_version": "1.5.0",
            "_view_name": "ProgressView",
            "bar_style": "",
            "description": "",
            "description_tooltip": null,
            "layout": "IPY_MODEL_feacd3f517234b3685a5a9ad600a1a2c",
            "max": 61,
            "min": 0,
            "orientation": "horizontal",
            "style": "IPY_MODEL_fded0ac46d0e409a83042a91b6056fcb",
            "value": 61
          }
        },
        "37a1e14490ed4ee480cc0f33f5cf2ff9": {
          "model_module": "@jupyter-widgets/controls",
          "model_name": "HTMLModel",
          "model_module_version": "1.5.0",
          "state": {
            "_dom_classes": [],
            "_model_module": "@jupyter-widgets/controls",
            "_model_module_version": "1.5.0",
            "_model_name": "HTMLModel",
            "_view_count": null,
            "_view_module": "@jupyter-widgets/controls",
            "_view_module_version": "1.5.0",
            "_view_name": "HTMLView",
            "description": "",
            "description_tooltip": null,
            "layout": "IPY_MODEL_f6d6c4bad3a648058f8d5a32894249cb",
            "placeholder": "​",
            "style": "IPY_MODEL_4d258c1a558a4d2ab9d68e02cd89ba08",
            "value": " 61/61 [00:41&lt;00:00,  2.42it/s]"
          }
        },
        "c8990fea85fe4cf08e0aaf8f3f7ca856": {
          "model_module": "@jupyter-widgets/base",
          "model_name": "LayoutModel",
          "model_module_version": "1.2.0",
          "state": {
            "_model_module": "@jupyter-widgets/base",
            "_model_module_version": "1.2.0",
            "_model_name": "LayoutModel",
            "_view_count": null,
            "_view_module": "@jupyter-widgets/base",
            "_view_module_version": "1.2.0",
            "_view_name": "LayoutView",
            "align_content": null,
            "align_items": null,
            "align_self": null,
            "border": null,
            "bottom": null,
            "display": null,
            "flex": null,
            "flex_flow": null,
            "grid_area": null,
            "grid_auto_columns": null,
            "grid_auto_flow": null,
            "grid_auto_rows": null,
            "grid_column": null,
            "grid_gap": null,
            "grid_row": null,
            "grid_template_areas": null,
            "grid_template_columns": null,
            "grid_template_rows": null,
            "height": null,
            "justify_content": null,
            "justify_items": null,
            "left": null,
            "margin": null,
            "max_height": null,
            "max_width": null,
            "min_height": null,
            "min_width": null,
            "object_fit": null,
            "object_position": null,
            "order": null,
            "overflow": null,
            "overflow_x": null,
            "overflow_y": null,
            "padding": null,
            "right": null,
            "top": null,
            "visibility": "hidden",
            "width": null
          }
        },
        "cea0e7829df444d79dc18858dd2e763a": {
          "model_module": "@jupyter-widgets/base",
          "model_name": "LayoutModel",
          "model_module_version": "1.2.0",
          "state": {
            "_model_module": "@jupyter-widgets/base",
            "_model_module_version": "1.2.0",
            "_model_name": "LayoutModel",
            "_view_count": null,
            "_view_module": "@jupyter-widgets/base",
            "_view_module_version": "1.2.0",
            "_view_name": "LayoutView",
            "align_content": null,
            "align_items": null,
            "align_self": null,
            "border": null,
            "bottom": null,
            "display": null,
            "flex": null,
            "flex_flow": null,
            "grid_area": null,
            "grid_auto_columns": null,
            "grid_auto_flow": null,
            "grid_auto_rows": null,
            "grid_column": null,
            "grid_gap": null,
            "grid_row": null,
            "grid_template_areas": null,
            "grid_template_columns": null,
            "grid_template_rows": null,
            "height": null,
            "justify_content": null,
            "justify_items": null,
            "left": null,
            "margin": null,
            "max_height": null,
            "max_width": null,
            "min_height": null,
            "min_width": null,
            "object_fit": null,
            "object_position": null,
            "order": null,
            "overflow": null,
            "overflow_x": null,
            "overflow_y": null,
            "padding": null,
            "right": null,
            "top": null,
            "visibility": null,
            "width": null
          }
        },
        "b00eb1c48d4a4029a884c750ae1da000": {
          "model_module": "@jupyter-widgets/controls",
          "model_name": "DescriptionStyleModel",
          "model_module_version": "1.5.0",
          "state": {
            "_model_module": "@jupyter-widgets/controls",
            "_model_module_version": "1.5.0",
            "_model_name": "DescriptionStyleModel",
            "_view_count": null,
            "_view_module": "@jupyter-widgets/base",
            "_view_module_version": "1.2.0",
            "_view_name": "StyleView",
            "description_width": ""
          }
        },
        "feacd3f517234b3685a5a9ad600a1a2c": {
          "model_module": "@jupyter-widgets/base",
          "model_name": "LayoutModel",
          "model_module_version": "1.2.0",
          "state": {
            "_model_module": "@jupyter-widgets/base",
            "_model_module_version": "1.2.0",
            "_model_name": "LayoutModel",
            "_view_count": null,
            "_view_module": "@jupyter-widgets/base",
            "_view_module_version": "1.2.0",
            "_view_name": "LayoutView",
            "align_content": null,
            "align_items": null,
            "align_self": null,
            "border": null,
            "bottom": null,
            "display": null,
            "flex": null,
            "flex_flow": null,
            "grid_area": null,
            "grid_auto_columns": null,
            "grid_auto_flow": null,
            "grid_auto_rows": null,
            "grid_column": null,
            "grid_gap": null,
            "grid_row": null,
            "grid_template_areas": null,
            "grid_template_columns": null,
            "grid_template_rows": null,
            "height": null,
            "justify_content": null,
            "justify_items": null,
            "left": null,
            "margin": null,
            "max_height": null,
            "max_width": null,
            "min_height": null,
            "min_width": null,
            "object_fit": null,
            "object_position": null,
            "order": null,
            "overflow": null,
            "overflow_x": null,
            "overflow_y": null,
            "padding": null,
            "right": null,
            "top": null,
            "visibility": null,
            "width": null
          }
        },
        "fded0ac46d0e409a83042a91b6056fcb": {
          "model_module": "@jupyter-widgets/controls",
          "model_name": "ProgressStyleModel",
          "model_module_version": "1.5.0",
          "state": {
            "_model_module": "@jupyter-widgets/controls",
            "_model_module_version": "1.5.0",
            "_model_name": "ProgressStyleModel",
            "_view_count": null,
            "_view_module": "@jupyter-widgets/base",
            "_view_module_version": "1.2.0",
            "_view_name": "StyleView",
            "bar_color": null,
            "description_width": ""
          }
        },
        "f6d6c4bad3a648058f8d5a32894249cb": {
          "model_module": "@jupyter-widgets/base",
          "model_name": "LayoutModel",
          "model_module_version": "1.2.0",
          "state": {
            "_model_module": "@jupyter-widgets/base",
            "_model_module_version": "1.2.0",
            "_model_name": "LayoutModel",
            "_view_count": null,
            "_view_module": "@jupyter-widgets/base",
            "_view_module_version": "1.2.0",
            "_view_name": "LayoutView",
            "align_content": null,
            "align_items": null,
            "align_self": null,
            "border": null,
            "bottom": null,
            "display": null,
            "flex": null,
            "flex_flow": null,
            "grid_area": null,
            "grid_auto_columns": null,
            "grid_auto_flow": null,
            "grid_auto_rows": null,
            "grid_column": null,
            "grid_gap": null,
            "grid_row": null,
            "grid_template_areas": null,
            "grid_template_columns": null,
            "grid_template_rows": null,
            "height": null,
            "justify_content": null,
            "justify_items": null,
            "left": null,
            "margin": null,
            "max_height": null,
            "max_width": null,
            "min_height": null,
            "min_width": null,
            "object_fit": null,
            "object_position": null,
            "order": null,
            "overflow": null,
            "overflow_x": null,
            "overflow_y": null,
            "padding": null,
            "right": null,
            "top": null,
            "visibility": null,
            "width": null
          }
        },
        "4d258c1a558a4d2ab9d68e02cd89ba08": {
          "model_module": "@jupyter-widgets/controls",
          "model_name": "DescriptionStyleModel",
          "model_module_version": "1.5.0",
          "state": {
            "_model_module": "@jupyter-widgets/controls",
            "_model_module_version": "1.5.0",
            "_model_name": "DescriptionStyleModel",
            "_view_count": null,
            "_view_module": "@jupyter-widgets/base",
            "_view_module_version": "1.2.0",
            "_view_name": "StyleView",
            "description_width": ""
          }
        },
        "4084bd89085843d19c9d3908ceaa0b0b": {
          "model_module": "@jupyter-widgets/controls",
          "model_name": "HBoxModel",
          "model_module_version": "1.5.0",
          "state": {
            "_dom_classes": [],
            "_model_module": "@jupyter-widgets/controls",
            "_model_module_version": "1.5.0",
            "_model_name": "HBoxModel",
            "_view_count": null,
            "_view_module": "@jupyter-widgets/controls",
            "_view_module_version": "1.5.0",
            "_view_name": "HBoxView",
            "box_style": "",
            "children": [
              "IPY_MODEL_3257ed3b9a324edeb58bd6a6f4ce8189",
              "IPY_MODEL_0072fd4302a74990a65a6e8c831395cc",
              "IPY_MODEL_6936d83ec58b41e38f9cc07599b61938"
            ],
            "layout": "IPY_MODEL_169a2e28c61f44a4a1f93370ab7ef2ff"
          }
        },
        "3257ed3b9a324edeb58bd6a6f4ce8189": {
          "model_module": "@jupyter-widgets/controls",
          "model_name": "HTMLModel",
          "model_module_version": "1.5.0",
          "state": {
            "_dom_classes": [],
            "_model_module": "@jupyter-widgets/controls",
            "_model_module_version": "1.5.0",
            "_model_name": "HTMLModel",
            "_view_count": null,
            "_view_module": "@jupyter-widgets/controls",
            "_view_module_version": "1.5.0",
            "_view_name": "HTMLView",
            "description": "",
            "description_tooltip": null,
            "layout": "IPY_MODEL_1fabe7a013b24bf38f4dc9e88443fab7",
            "placeholder": "​",
            "style": "IPY_MODEL_e17de2edd5f64e0ca9dae7b588bdd27c",
            "value": "Processing: 100%"
          }
        },
        "0072fd4302a74990a65a6e8c831395cc": {
          "model_module": "@jupyter-widgets/controls",
          "model_name": "FloatProgressModel",
          "model_module_version": "1.5.0",
          "state": {
            "_dom_classes": [],
            "_model_module": "@jupyter-widgets/controls",
            "_model_module_version": "1.5.0",
            "_model_name": "FloatProgressModel",
            "_view_count": null,
            "_view_module": "@jupyter-widgets/controls",
            "_view_module_version": "1.5.0",
            "_view_name": "ProgressView",
            "bar_style": "",
            "description": "",
            "description_tooltip": null,
            "layout": "IPY_MODEL_f9ddc412d13c425889be79cb7cfeabd9",
            "max": 4,
            "min": 0,
            "orientation": "horizontal",
            "style": "IPY_MODEL_36519adc258e42778c0cc683db1dbf2c",
            "value": 4
          }
        },
        "6936d83ec58b41e38f9cc07599b61938": {
          "model_module": "@jupyter-widgets/controls",
          "model_name": "HTMLModel",
          "model_module_version": "1.5.0",
          "state": {
            "_dom_classes": [],
            "_model_module": "@jupyter-widgets/controls",
            "_model_module_version": "1.5.0",
            "_model_name": "HTMLModel",
            "_view_count": null,
            "_view_module": "@jupyter-widgets/controls",
            "_view_module_version": "1.5.0",
            "_view_name": "HTMLView",
            "description": "",
            "description_tooltip": null,
            "layout": "IPY_MODEL_08949d6b5fca4a52b6841ca0bb974068",
            "placeholder": "​",
            "style": "IPY_MODEL_ca8b88529d2d4c72a34be74305b29b42",
            "value": " 4/4 [00:03&lt;00:00,  1.14it/s]"
          }
        },
        "169a2e28c61f44a4a1f93370ab7ef2ff": {
          "model_module": "@jupyter-widgets/base",
          "model_name": "LayoutModel",
          "model_module_version": "1.2.0",
          "state": {
            "_model_module": "@jupyter-widgets/base",
            "_model_module_version": "1.2.0",
            "_model_name": "LayoutModel",
            "_view_count": null,
            "_view_module": "@jupyter-widgets/base",
            "_view_module_version": "1.2.0",
            "_view_name": "LayoutView",
            "align_content": null,
            "align_items": null,
            "align_self": null,
            "border": null,
            "bottom": null,
            "display": null,
            "flex": null,
            "flex_flow": null,
            "grid_area": null,
            "grid_auto_columns": null,
            "grid_auto_flow": null,
            "grid_auto_rows": null,
            "grid_column": null,
            "grid_gap": null,
            "grid_row": null,
            "grid_template_areas": null,
            "grid_template_columns": null,
            "grid_template_rows": null,
            "height": null,
            "justify_content": null,
            "justify_items": null,
            "left": null,
            "margin": null,
            "max_height": null,
            "max_width": null,
            "min_height": null,
            "min_width": null,
            "object_fit": null,
            "object_position": null,
            "order": null,
            "overflow": null,
            "overflow_x": null,
            "overflow_y": null,
            "padding": null,
            "right": null,
            "top": null,
            "visibility": "hidden",
            "width": null
          }
        },
        "1fabe7a013b24bf38f4dc9e88443fab7": {
          "model_module": "@jupyter-widgets/base",
          "model_name": "LayoutModel",
          "model_module_version": "1.2.0",
          "state": {
            "_model_module": "@jupyter-widgets/base",
            "_model_module_version": "1.2.0",
            "_model_name": "LayoutModel",
            "_view_count": null,
            "_view_module": "@jupyter-widgets/base",
            "_view_module_version": "1.2.0",
            "_view_name": "LayoutView",
            "align_content": null,
            "align_items": null,
            "align_self": null,
            "border": null,
            "bottom": null,
            "display": null,
            "flex": null,
            "flex_flow": null,
            "grid_area": null,
            "grid_auto_columns": null,
            "grid_auto_flow": null,
            "grid_auto_rows": null,
            "grid_column": null,
            "grid_gap": null,
            "grid_row": null,
            "grid_template_areas": null,
            "grid_template_columns": null,
            "grid_template_rows": null,
            "height": null,
            "justify_content": null,
            "justify_items": null,
            "left": null,
            "margin": null,
            "max_height": null,
            "max_width": null,
            "min_height": null,
            "min_width": null,
            "object_fit": null,
            "object_position": null,
            "order": null,
            "overflow": null,
            "overflow_x": null,
            "overflow_y": null,
            "padding": null,
            "right": null,
            "top": null,
            "visibility": null,
            "width": null
          }
        },
        "e17de2edd5f64e0ca9dae7b588bdd27c": {
          "model_module": "@jupyter-widgets/controls",
          "model_name": "DescriptionStyleModel",
          "model_module_version": "1.5.0",
          "state": {
            "_model_module": "@jupyter-widgets/controls",
            "_model_module_version": "1.5.0",
            "_model_name": "DescriptionStyleModel",
            "_view_count": null,
            "_view_module": "@jupyter-widgets/base",
            "_view_module_version": "1.2.0",
            "_view_name": "StyleView",
            "description_width": ""
          }
        },
        "f9ddc412d13c425889be79cb7cfeabd9": {
          "model_module": "@jupyter-widgets/base",
          "model_name": "LayoutModel",
          "model_module_version": "1.2.0",
          "state": {
            "_model_module": "@jupyter-widgets/base",
            "_model_module_version": "1.2.0",
            "_model_name": "LayoutModel",
            "_view_count": null,
            "_view_module": "@jupyter-widgets/base",
            "_view_module_version": "1.2.0",
            "_view_name": "LayoutView",
            "align_content": null,
            "align_items": null,
            "align_self": null,
            "border": null,
            "bottom": null,
            "display": null,
            "flex": null,
            "flex_flow": null,
            "grid_area": null,
            "grid_auto_columns": null,
            "grid_auto_flow": null,
            "grid_auto_rows": null,
            "grid_column": null,
            "grid_gap": null,
            "grid_row": null,
            "grid_template_areas": null,
            "grid_template_columns": null,
            "grid_template_rows": null,
            "height": null,
            "justify_content": null,
            "justify_items": null,
            "left": null,
            "margin": null,
            "max_height": null,
            "max_width": null,
            "min_height": null,
            "min_width": null,
            "object_fit": null,
            "object_position": null,
            "order": null,
            "overflow": null,
            "overflow_x": null,
            "overflow_y": null,
            "padding": null,
            "right": null,
            "top": null,
            "visibility": null,
            "width": null
          }
        },
        "36519adc258e42778c0cc683db1dbf2c": {
          "model_module": "@jupyter-widgets/controls",
          "model_name": "ProgressStyleModel",
          "model_module_version": "1.5.0",
          "state": {
            "_model_module": "@jupyter-widgets/controls",
            "_model_module_version": "1.5.0",
            "_model_name": "ProgressStyleModel",
            "_view_count": null,
            "_view_module": "@jupyter-widgets/base",
            "_view_module_version": "1.2.0",
            "_view_name": "StyleView",
            "bar_color": null,
            "description_width": ""
          }
        },
        "08949d6b5fca4a52b6841ca0bb974068": {
          "model_module": "@jupyter-widgets/base",
          "model_name": "LayoutModel",
          "model_module_version": "1.2.0",
          "state": {
            "_model_module": "@jupyter-widgets/base",
            "_model_module_version": "1.2.0",
            "_model_name": "LayoutModel",
            "_view_count": null,
            "_view_module": "@jupyter-widgets/base",
            "_view_module_version": "1.2.0",
            "_view_name": "LayoutView",
            "align_content": null,
            "align_items": null,
            "align_self": null,
            "border": null,
            "bottom": null,
            "display": null,
            "flex": null,
            "flex_flow": null,
            "grid_area": null,
            "grid_auto_columns": null,
            "grid_auto_flow": null,
            "grid_auto_rows": null,
            "grid_column": null,
            "grid_gap": null,
            "grid_row": null,
            "grid_template_areas": null,
            "grid_template_columns": null,
            "grid_template_rows": null,
            "height": null,
            "justify_content": null,
            "justify_items": null,
            "left": null,
            "margin": null,
            "max_height": null,
            "max_width": null,
            "min_height": null,
            "min_width": null,
            "object_fit": null,
            "object_position": null,
            "order": null,
            "overflow": null,
            "overflow_x": null,
            "overflow_y": null,
            "padding": null,
            "right": null,
            "top": null,
            "visibility": null,
            "width": null
          }
        },
        "ca8b88529d2d4c72a34be74305b29b42": {
          "model_module": "@jupyter-widgets/controls",
          "model_name": "DescriptionStyleModel",
          "model_module_version": "1.5.0",
          "state": {
            "_model_module": "@jupyter-widgets/controls",
            "_model_module_version": "1.5.0",
            "_model_name": "DescriptionStyleModel",
            "_view_count": null,
            "_view_module": "@jupyter-widgets/base",
            "_view_module_version": "1.2.0",
            "_view_name": "StyleView",
            "description_width": ""
          }
        },
        "d49218a68dee421d95eb2d0ec1b3a9d5": {
          "model_module": "@jupyter-widgets/controls",
          "model_name": "HBoxModel",
          "model_module_version": "1.5.0",
          "state": {
            "_dom_classes": [],
            "_model_module": "@jupyter-widgets/controls",
            "_model_module_version": "1.5.0",
            "_model_name": "HBoxModel",
            "_view_count": null,
            "_view_module": "@jupyter-widgets/controls",
            "_view_module_version": "1.5.0",
            "_view_name": "HBoxView",
            "box_style": "",
            "children": [
              "IPY_MODEL_178e8e4c89d64264b5c8c68f1e45e5bf",
              "IPY_MODEL_4b0d3027f0b6433c85ac6ec761b34bc7",
              "IPY_MODEL_8a1430c5d7f944c89efbe18f1ae3de39"
            ],
            "layout": "IPY_MODEL_49065d56380147b792bbc584bfe5524f"
          }
        },
        "178e8e4c89d64264b5c8c68f1e45e5bf": {
          "model_module": "@jupyter-widgets/controls",
          "model_name": "HTMLModel",
          "model_module_version": "1.5.0",
          "state": {
            "_dom_classes": [],
            "_model_module": "@jupyter-widgets/controls",
            "_model_module_version": "1.5.0",
            "_model_name": "HTMLModel",
            "_view_count": null,
            "_view_module": "@jupyter-widgets/controls",
            "_view_module_version": "1.5.0",
            "_view_name": "HTMLView",
            "description": "",
            "description_tooltip": null,
            "layout": "IPY_MODEL_f1733c2a9bc340ee85ec23844af7f3d3",
            "placeholder": "​",
            "style": "IPY_MODEL_aecd85e781294612b58a9278fc972340",
            "value": "Processing: 100%"
          }
        },
        "4b0d3027f0b6433c85ac6ec761b34bc7": {
          "model_module": "@jupyter-widgets/controls",
          "model_name": "FloatProgressModel",
          "model_module_version": "1.5.0",
          "state": {
            "_dom_classes": [],
            "_model_module": "@jupyter-widgets/controls",
            "_model_module_version": "1.5.0",
            "_model_name": "FloatProgressModel",
            "_view_count": null,
            "_view_module": "@jupyter-widgets/controls",
            "_view_module_version": "1.5.0",
            "_view_name": "ProgressView",
            "bar_style": "",
            "description": "",
            "description_tooltip": null,
            "layout": "IPY_MODEL_6b7156a2222743ccb9274ebd53a718eb",
            "max": 61,
            "min": 0,
            "orientation": "horizontal",
            "style": "IPY_MODEL_008c5f2ffb024a78857c43e582e57472",
            "value": 61
          }
        },
        "8a1430c5d7f944c89efbe18f1ae3de39": {
          "model_module": "@jupyter-widgets/controls",
          "model_name": "HTMLModel",
          "model_module_version": "1.5.0",
          "state": {
            "_dom_classes": [],
            "_model_module": "@jupyter-widgets/controls",
            "_model_module_version": "1.5.0",
            "_model_name": "HTMLModel",
            "_view_count": null,
            "_view_module": "@jupyter-widgets/controls",
            "_view_module_version": "1.5.0",
            "_view_name": "HTMLView",
            "description": "",
            "description_tooltip": null,
            "layout": "IPY_MODEL_1f0510b27e7d458dbcc89a958dc811d0",
            "placeholder": "​",
            "style": "IPY_MODEL_7b91f1b2c0c84d8ca6cda7d98c5db472",
            "value": " 61/61 [00:21&lt;00:00,  3.81it/s]"
          }
        },
        "49065d56380147b792bbc584bfe5524f": {
          "model_module": "@jupyter-widgets/base",
          "model_name": "LayoutModel",
          "model_module_version": "1.2.0",
          "state": {
            "_model_module": "@jupyter-widgets/base",
            "_model_module_version": "1.2.0",
            "_model_name": "LayoutModel",
            "_view_count": null,
            "_view_module": "@jupyter-widgets/base",
            "_view_module_version": "1.2.0",
            "_view_name": "LayoutView",
            "align_content": null,
            "align_items": null,
            "align_self": null,
            "border": null,
            "bottom": null,
            "display": null,
            "flex": null,
            "flex_flow": null,
            "grid_area": null,
            "grid_auto_columns": null,
            "grid_auto_flow": null,
            "grid_auto_rows": null,
            "grid_column": null,
            "grid_gap": null,
            "grid_row": null,
            "grid_template_areas": null,
            "grid_template_columns": null,
            "grid_template_rows": null,
            "height": null,
            "justify_content": null,
            "justify_items": null,
            "left": null,
            "margin": null,
            "max_height": null,
            "max_width": null,
            "min_height": null,
            "min_width": null,
            "object_fit": null,
            "object_position": null,
            "order": null,
            "overflow": null,
            "overflow_x": null,
            "overflow_y": null,
            "padding": null,
            "right": null,
            "top": null,
            "visibility": "hidden",
            "width": null
          }
        },
        "f1733c2a9bc340ee85ec23844af7f3d3": {
          "model_module": "@jupyter-widgets/base",
          "model_name": "LayoutModel",
          "model_module_version": "1.2.0",
          "state": {
            "_model_module": "@jupyter-widgets/base",
            "_model_module_version": "1.2.0",
            "_model_name": "LayoutModel",
            "_view_count": null,
            "_view_module": "@jupyter-widgets/base",
            "_view_module_version": "1.2.0",
            "_view_name": "LayoutView",
            "align_content": null,
            "align_items": null,
            "align_self": null,
            "border": null,
            "bottom": null,
            "display": null,
            "flex": null,
            "flex_flow": null,
            "grid_area": null,
            "grid_auto_columns": null,
            "grid_auto_flow": null,
            "grid_auto_rows": null,
            "grid_column": null,
            "grid_gap": null,
            "grid_row": null,
            "grid_template_areas": null,
            "grid_template_columns": null,
            "grid_template_rows": null,
            "height": null,
            "justify_content": null,
            "justify_items": null,
            "left": null,
            "margin": null,
            "max_height": null,
            "max_width": null,
            "min_height": null,
            "min_width": null,
            "object_fit": null,
            "object_position": null,
            "order": null,
            "overflow": null,
            "overflow_x": null,
            "overflow_y": null,
            "padding": null,
            "right": null,
            "top": null,
            "visibility": null,
            "width": null
          }
        },
        "aecd85e781294612b58a9278fc972340": {
          "model_module": "@jupyter-widgets/controls",
          "model_name": "DescriptionStyleModel",
          "model_module_version": "1.5.0",
          "state": {
            "_model_module": "@jupyter-widgets/controls",
            "_model_module_version": "1.5.0",
            "_model_name": "DescriptionStyleModel",
            "_view_count": null,
            "_view_module": "@jupyter-widgets/base",
            "_view_module_version": "1.2.0",
            "_view_name": "StyleView",
            "description_width": ""
          }
        },
        "6b7156a2222743ccb9274ebd53a718eb": {
          "model_module": "@jupyter-widgets/base",
          "model_name": "LayoutModel",
          "model_module_version": "1.2.0",
          "state": {
            "_model_module": "@jupyter-widgets/base",
            "_model_module_version": "1.2.0",
            "_model_name": "LayoutModel",
            "_view_count": null,
            "_view_module": "@jupyter-widgets/base",
            "_view_module_version": "1.2.0",
            "_view_name": "LayoutView",
            "align_content": null,
            "align_items": null,
            "align_self": null,
            "border": null,
            "bottom": null,
            "display": null,
            "flex": null,
            "flex_flow": null,
            "grid_area": null,
            "grid_auto_columns": null,
            "grid_auto_flow": null,
            "grid_auto_rows": null,
            "grid_column": null,
            "grid_gap": null,
            "grid_row": null,
            "grid_template_areas": null,
            "grid_template_columns": null,
            "grid_template_rows": null,
            "height": null,
            "justify_content": null,
            "justify_items": null,
            "left": null,
            "margin": null,
            "max_height": null,
            "max_width": null,
            "min_height": null,
            "min_width": null,
            "object_fit": null,
            "object_position": null,
            "order": null,
            "overflow": null,
            "overflow_x": null,
            "overflow_y": null,
            "padding": null,
            "right": null,
            "top": null,
            "visibility": null,
            "width": null
          }
        },
        "008c5f2ffb024a78857c43e582e57472": {
          "model_module": "@jupyter-widgets/controls",
          "model_name": "ProgressStyleModel",
          "model_module_version": "1.5.0",
          "state": {
            "_model_module": "@jupyter-widgets/controls",
            "_model_module_version": "1.5.0",
            "_model_name": "ProgressStyleModel",
            "_view_count": null,
            "_view_module": "@jupyter-widgets/base",
            "_view_module_version": "1.2.0",
            "_view_name": "StyleView",
            "bar_color": null,
            "description_width": ""
          }
        },
        "1f0510b27e7d458dbcc89a958dc811d0": {
          "model_module": "@jupyter-widgets/base",
          "model_name": "LayoutModel",
          "model_module_version": "1.2.0",
          "state": {
            "_model_module": "@jupyter-widgets/base",
            "_model_module_version": "1.2.0",
            "_model_name": "LayoutModel",
            "_view_count": null,
            "_view_module": "@jupyter-widgets/base",
            "_view_module_version": "1.2.0",
            "_view_name": "LayoutView",
            "align_content": null,
            "align_items": null,
            "align_self": null,
            "border": null,
            "bottom": null,
            "display": null,
            "flex": null,
            "flex_flow": null,
            "grid_area": null,
            "grid_auto_columns": null,
            "grid_auto_flow": null,
            "grid_auto_rows": null,
            "grid_column": null,
            "grid_gap": null,
            "grid_row": null,
            "grid_template_areas": null,
            "grid_template_columns": null,
            "grid_template_rows": null,
            "height": null,
            "justify_content": null,
            "justify_items": null,
            "left": null,
            "margin": null,
            "max_height": null,
            "max_width": null,
            "min_height": null,
            "min_width": null,
            "object_fit": null,
            "object_position": null,
            "order": null,
            "overflow": null,
            "overflow_x": null,
            "overflow_y": null,
            "padding": null,
            "right": null,
            "top": null,
            "visibility": null,
            "width": null
          }
        },
        "7b91f1b2c0c84d8ca6cda7d98c5db472": {
          "model_module": "@jupyter-widgets/controls",
          "model_name": "DescriptionStyleModel",
          "model_module_version": "1.5.0",
          "state": {
            "_model_module": "@jupyter-widgets/controls",
            "_model_module_version": "1.5.0",
            "_model_name": "DescriptionStyleModel",
            "_view_count": null,
            "_view_module": "@jupyter-widgets/base",
            "_view_module_version": "1.2.0",
            "_view_name": "StyleView",
            "description_width": ""
          }
        },
        "13e6d4657995413f8f97f8956d271d56": {
          "model_module": "@jupyter-widgets/controls",
          "model_name": "HBoxModel",
          "model_module_version": "1.5.0",
          "state": {
            "_dom_classes": [],
            "_model_module": "@jupyter-widgets/controls",
            "_model_module_version": "1.5.0",
            "_model_name": "HBoxModel",
            "_view_count": null,
            "_view_module": "@jupyter-widgets/controls",
            "_view_module_version": "1.5.0",
            "_view_name": "HBoxView",
            "box_style": "",
            "children": [
              "IPY_MODEL_a0387ace36b24247844744d8423fd874",
              "IPY_MODEL_8ee41409aa0d4d89badfee14f429eb23",
              "IPY_MODEL_0748f81cd80c4682ba3fa86870bd54dd"
            ],
            "layout": "IPY_MODEL_4aac14d7d5da4c388ff0f06381b36837"
          }
        },
        "a0387ace36b24247844744d8423fd874": {
          "model_module": "@jupyter-widgets/controls",
          "model_name": "HTMLModel",
          "model_module_version": "1.5.0",
          "state": {
            "_dom_classes": [],
            "_model_module": "@jupyter-widgets/controls",
            "_model_module_version": "1.5.0",
            "_model_name": "HTMLModel",
            "_view_count": null,
            "_view_module": "@jupyter-widgets/controls",
            "_view_module_version": "1.5.0",
            "_view_name": "HTMLView",
            "description": "",
            "description_tooltip": null,
            "layout": "IPY_MODEL_68ac4899950b492187832417578f5604",
            "placeholder": "​",
            "style": "IPY_MODEL_705cd7b407cf46deb45f58df8421b294",
            "value": "Processing: 100%"
          }
        },
        "8ee41409aa0d4d89badfee14f429eb23": {
          "model_module": "@jupyter-widgets/controls",
          "model_name": "FloatProgressModel",
          "model_module_version": "1.5.0",
          "state": {
            "_dom_classes": [],
            "_model_module": "@jupyter-widgets/controls",
            "_model_module_version": "1.5.0",
            "_model_name": "FloatProgressModel",
            "_view_count": null,
            "_view_module": "@jupyter-widgets/controls",
            "_view_module_version": "1.5.0",
            "_view_name": "ProgressView",
            "bar_style": "",
            "description": "",
            "description_tooltip": null,
            "layout": "IPY_MODEL_05a2bb6323704fd988f23839f0b47f1b",
            "max": 61,
            "min": 0,
            "orientation": "horizontal",
            "style": "IPY_MODEL_fa96f57637e84e3f817dd3182bacd879",
            "value": 61
          }
        },
        "0748f81cd80c4682ba3fa86870bd54dd": {
          "model_module": "@jupyter-widgets/controls",
          "model_name": "HTMLModel",
          "model_module_version": "1.5.0",
          "state": {
            "_dom_classes": [],
            "_model_module": "@jupyter-widgets/controls",
            "_model_module_version": "1.5.0",
            "_model_name": "HTMLModel",
            "_view_count": null,
            "_view_module": "@jupyter-widgets/controls",
            "_view_module_version": "1.5.0",
            "_view_name": "HTMLView",
            "description": "",
            "description_tooltip": null,
            "layout": "IPY_MODEL_a219914aa8b24f6aa6fcfe2efdc0ca4a",
            "placeholder": "​",
            "style": "IPY_MODEL_e657023b4cd04ee2984fb4e03c8c5820",
            "value": " 61/61 [00:52&lt;00:00,  2.36it/s]"
          }
        },
        "4aac14d7d5da4c388ff0f06381b36837": {
          "model_module": "@jupyter-widgets/base",
          "model_name": "LayoutModel",
          "model_module_version": "1.2.0",
          "state": {
            "_model_module": "@jupyter-widgets/base",
            "_model_module_version": "1.2.0",
            "_model_name": "LayoutModel",
            "_view_count": null,
            "_view_module": "@jupyter-widgets/base",
            "_view_module_version": "1.2.0",
            "_view_name": "LayoutView",
            "align_content": null,
            "align_items": null,
            "align_self": null,
            "border": null,
            "bottom": null,
            "display": null,
            "flex": null,
            "flex_flow": null,
            "grid_area": null,
            "grid_auto_columns": null,
            "grid_auto_flow": null,
            "grid_auto_rows": null,
            "grid_column": null,
            "grid_gap": null,
            "grid_row": null,
            "grid_template_areas": null,
            "grid_template_columns": null,
            "grid_template_rows": null,
            "height": null,
            "justify_content": null,
            "justify_items": null,
            "left": null,
            "margin": null,
            "max_height": null,
            "max_width": null,
            "min_height": null,
            "min_width": null,
            "object_fit": null,
            "object_position": null,
            "order": null,
            "overflow": null,
            "overflow_x": null,
            "overflow_y": null,
            "padding": null,
            "right": null,
            "top": null,
            "visibility": "hidden",
            "width": null
          }
        },
        "68ac4899950b492187832417578f5604": {
          "model_module": "@jupyter-widgets/base",
          "model_name": "LayoutModel",
          "model_module_version": "1.2.0",
          "state": {
            "_model_module": "@jupyter-widgets/base",
            "_model_module_version": "1.2.0",
            "_model_name": "LayoutModel",
            "_view_count": null,
            "_view_module": "@jupyter-widgets/base",
            "_view_module_version": "1.2.0",
            "_view_name": "LayoutView",
            "align_content": null,
            "align_items": null,
            "align_self": null,
            "border": null,
            "bottom": null,
            "display": null,
            "flex": null,
            "flex_flow": null,
            "grid_area": null,
            "grid_auto_columns": null,
            "grid_auto_flow": null,
            "grid_auto_rows": null,
            "grid_column": null,
            "grid_gap": null,
            "grid_row": null,
            "grid_template_areas": null,
            "grid_template_columns": null,
            "grid_template_rows": null,
            "height": null,
            "justify_content": null,
            "justify_items": null,
            "left": null,
            "margin": null,
            "max_height": null,
            "max_width": null,
            "min_height": null,
            "min_width": null,
            "object_fit": null,
            "object_position": null,
            "order": null,
            "overflow": null,
            "overflow_x": null,
            "overflow_y": null,
            "padding": null,
            "right": null,
            "top": null,
            "visibility": null,
            "width": null
          }
        },
        "705cd7b407cf46deb45f58df8421b294": {
          "model_module": "@jupyter-widgets/controls",
          "model_name": "DescriptionStyleModel",
          "model_module_version": "1.5.0",
          "state": {
            "_model_module": "@jupyter-widgets/controls",
            "_model_module_version": "1.5.0",
            "_model_name": "DescriptionStyleModel",
            "_view_count": null,
            "_view_module": "@jupyter-widgets/base",
            "_view_module_version": "1.2.0",
            "_view_name": "StyleView",
            "description_width": ""
          }
        },
        "05a2bb6323704fd988f23839f0b47f1b": {
          "model_module": "@jupyter-widgets/base",
          "model_name": "LayoutModel",
          "model_module_version": "1.2.0",
          "state": {
            "_model_module": "@jupyter-widgets/base",
            "_model_module_version": "1.2.0",
            "_model_name": "LayoutModel",
            "_view_count": null,
            "_view_module": "@jupyter-widgets/base",
            "_view_module_version": "1.2.0",
            "_view_name": "LayoutView",
            "align_content": null,
            "align_items": null,
            "align_self": null,
            "border": null,
            "bottom": null,
            "display": null,
            "flex": null,
            "flex_flow": null,
            "grid_area": null,
            "grid_auto_columns": null,
            "grid_auto_flow": null,
            "grid_auto_rows": null,
            "grid_column": null,
            "grid_gap": null,
            "grid_row": null,
            "grid_template_areas": null,
            "grid_template_columns": null,
            "grid_template_rows": null,
            "height": null,
            "justify_content": null,
            "justify_items": null,
            "left": null,
            "margin": null,
            "max_height": null,
            "max_width": null,
            "min_height": null,
            "min_width": null,
            "object_fit": null,
            "object_position": null,
            "order": null,
            "overflow": null,
            "overflow_x": null,
            "overflow_y": null,
            "padding": null,
            "right": null,
            "top": null,
            "visibility": null,
            "width": null
          }
        },
        "fa96f57637e84e3f817dd3182bacd879": {
          "model_module": "@jupyter-widgets/controls",
          "model_name": "ProgressStyleModel",
          "model_module_version": "1.5.0",
          "state": {
            "_model_module": "@jupyter-widgets/controls",
            "_model_module_version": "1.5.0",
            "_model_name": "ProgressStyleModel",
            "_view_count": null,
            "_view_module": "@jupyter-widgets/base",
            "_view_module_version": "1.2.0",
            "_view_name": "StyleView",
            "bar_color": null,
            "description_width": ""
          }
        },
        "a219914aa8b24f6aa6fcfe2efdc0ca4a": {
          "model_module": "@jupyter-widgets/base",
          "model_name": "LayoutModel",
          "model_module_version": "1.2.0",
          "state": {
            "_model_module": "@jupyter-widgets/base",
            "_model_module_version": "1.2.0",
            "_model_name": "LayoutModel",
            "_view_count": null,
            "_view_module": "@jupyter-widgets/base",
            "_view_module_version": "1.2.0",
            "_view_name": "LayoutView",
            "align_content": null,
            "align_items": null,
            "align_self": null,
            "border": null,
            "bottom": null,
            "display": null,
            "flex": null,
            "flex_flow": null,
            "grid_area": null,
            "grid_auto_columns": null,
            "grid_auto_flow": null,
            "grid_auto_rows": null,
            "grid_column": null,
            "grid_gap": null,
            "grid_row": null,
            "grid_template_areas": null,
            "grid_template_columns": null,
            "grid_template_rows": null,
            "height": null,
            "justify_content": null,
            "justify_items": null,
            "left": null,
            "margin": null,
            "max_height": null,
            "max_width": null,
            "min_height": null,
            "min_width": null,
            "object_fit": null,
            "object_position": null,
            "order": null,
            "overflow": null,
            "overflow_x": null,
            "overflow_y": null,
            "padding": null,
            "right": null,
            "top": null,
            "visibility": null,
            "width": null
          }
        },
        "e657023b4cd04ee2984fb4e03c8c5820": {
          "model_module": "@jupyter-widgets/controls",
          "model_name": "DescriptionStyleModel",
          "model_module_version": "1.5.0",
          "state": {
            "_model_module": "@jupyter-widgets/controls",
            "_model_module_version": "1.5.0",
            "_model_name": "DescriptionStyleModel",
            "_view_count": null,
            "_view_module": "@jupyter-widgets/base",
            "_view_module_version": "1.2.0",
            "_view_name": "StyleView",
            "description_width": ""
          }
        }
      }
    }
  },
  "cells": [
    {
      "cell_type": "markdown",
      "source": [
        "#Modelagem FutIA"
      ],
      "metadata": {
        "id": "5Xjn9b8CjclC"
      }
    },
    {
      "cell_type": "markdown",
      "source": [
        "Código escrito no Google Colab"
      ],
      "metadata": {
        "id": "VmyLuKToknm5"
      }
    },
    {
      "cell_type": "markdown",
      "source": [
        "#Bibliotecas Utilizada:"
      ],
      "metadata": {
        "id": "EOUwyC7Dj_ta"
      }
    },
    {
      "cell_type": "code",
      "source": [
        "! pip install --pre pycaret"
      ],
      "metadata": {
        "id": "FKkNVgSLkDCY"
      },
      "execution_count": null,
      "outputs": []
    },
    {
      "cell_type": "code",
      "source": [
        "from pycaret.utils import version\n",
        "version()"
      ],
      "metadata": {
        "colab": {
          "base_uri": "https://localhost:8080/",
          "height": 36
        },
        "id": "rX7GcUWjkR65",
        "outputId": "7e206ecd-792c-45e7-cb62-bcb5ae8b3219"
      },
      "execution_count": 55,
      "outputs": [
        {
          "output_type": "execute_result",
          "data": {
            "text/plain": [
              "'3.0.0.rc7'"
            ],
            "application/vnd.google.colaboratory.intrinsic+json": {
              "type": "string"
            }
          },
          "metadata": {},
          "execution_count": 55
        }
      ]
    },
    {
      "cell_type": "code",
      "source": [
        "! pip install mlflow"
      ],
      "metadata": {
        "id": "4gci-VaAkSBp"
      },
      "execution_count": null,
      "outputs": []
    },
    {
      "cell_type": "code",
      "source": [
        "import pandas as pd\n",
        "import seaborn as sns\n",
        "import numpy as np\n",
        "\n",
        "from pycaret.classification import *"
      ],
      "metadata": {
        "id": "Gsm0iZTkkSEX"
      },
      "execution_count": 57,
      "outputs": []
    },
    {
      "cell_type": "markdown",
      "source": [
        "#Carregando base de dados:\n"
      ],
      "metadata": {
        "id": "FOSURaqRkDcS"
      }
    },
    {
      "cell_type": "code",
      "execution_count": 58,
      "metadata": {
        "colab": {
          "base_uri": "https://localhost:8080/",
          "height": 235
        },
        "id": "vQHuwqj0jaFB",
        "outputId": "c0fa88b4-bf1b-4f70-e6c4-8f74a2487944"
      },
      "outputs": [
        {
          "output_type": "execute_result",
          "data": {
            "text/plain": [
              "         Ano  Rodada        id fgk_equipe  Oponente  TR0  TR1  TR2  TR3  TR4  \\\n",
              "0  2014-2015       6  9d2c4411   17892952  b2b47a98    1    0    2    1    0   \n",
              "1  2014-2015       7  bc4351a4   17892952  8ef52968    2    1    0    2    1   \n",
              "2  2014-2015       8  6fa0779f   17892952  fb10988f    0    2    1    0    2   \n",
              "3  2014-2015       9  2be4379e   17892952  33c895d4    2    0    2    1    0   \n",
              "4  2014-2015      10  c172f461   17892952  7c21e445    0    2    0    2    1   \n",
              "\n",
              "   ...  OP4  OC0  OC1  OC2  OC3  OC4  OGL  Resultado  GP  GC  \n",
              "0  ...    0    2    4    3    0    2    1          2   1   0  \n",
              "1  ...    1    0    0    2    1    1    0          0   1   3  \n",
              "2  ...    3    2    0    1    4    0    1          2   2   1  \n",
              "3  ...    4    0    1    1    0    0    0          0   0   1  \n",
              "4  ...    3    1    1    0    2    1    1          1   2   2  \n",
              "\n",
              "[5 rows x 50 columns]"
            ],
            "text/html": [
              "\n",
              "  <div id=\"df-b2eb351f-0e52-498f-9d10-1cb79eb370ca\">\n",
              "    <div class=\"colab-df-container\">\n",
              "      <div>\n",
              "<style scoped>\n",
              "    .dataframe tbody tr th:only-of-type {\n",
              "        vertical-align: middle;\n",
              "    }\n",
              "\n",
              "    .dataframe tbody tr th {\n",
              "        vertical-align: top;\n",
              "    }\n",
              "\n",
              "    .dataframe thead th {\n",
              "        text-align: right;\n",
              "    }\n",
              "</style>\n",
              "<table border=\"1\" class=\"dataframe\">\n",
              "  <thead>\n",
              "    <tr style=\"text-align: right;\">\n",
              "      <th></th>\n",
              "      <th>Ano</th>\n",
              "      <th>Rodada</th>\n",
              "      <th>id</th>\n",
              "      <th>fgk_equipe</th>\n",
              "      <th>Oponente</th>\n",
              "      <th>TR0</th>\n",
              "      <th>TR1</th>\n",
              "      <th>TR2</th>\n",
              "      <th>TR3</th>\n",
              "      <th>TR4</th>\n",
              "      <th>...</th>\n",
              "      <th>OP4</th>\n",
              "      <th>OC0</th>\n",
              "      <th>OC1</th>\n",
              "      <th>OC2</th>\n",
              "      <th>OC3</th>\n",
              "      <th>OC4</th>\n",
              "      <th>OGL</th>\n",
              "      <th>Resultado</th>\n",
              "      <th>GP</th>\n",
              "      <th>GC</th>\n",
              "    </tr>\n",
              "  </thead>\n",
              "  <tbody>\n",
              "    <tr>\n",
              "      <th>0</th>\n",
              "      <td>2014-2015</td>\n",
              "      <td>6</td>\n",
              "      <td>9d2c4411</td>\n",
              "      <td>17892952</td>\n",
              "      <td>b2b47a98</td>\n",
              "      <td>1</td>\n",
              "      <td>0</td>\n",
              "      <td>2</td>\n",
              "      <td>1</td>\n",
              "      <td>0</td>\n",
              "      <td>...</td>\n",
              "      <td>0</td>\n",
              "      <td>2</td>\n",
              "      <td>4</td>\n",
              "      <td>3</td>\n",
              "      <td>0</td>\n",
              "      <td>2</td>\n",
              "      <td>1</td>\n",
              "      <td>2</td>\n",
              "      <td>1</td>\n",
              "      <td>0</td>\n",
              "    </tr>\n",
              "    <tr>\n",
              "      <th>1</th>\n",
              "      <td>2014-2015</td>\n",
              "      <td>7</td>\n",
              "      <td>bc4351a4</td>\n",
              "      <td>17892952</td>\n",
              "      <td>8ef52968</td>\n",
              "      <td>2</td>\n",
              "      <td>1</td>\n",
              "      <td>0</td>\n",
              "      <td>2</td>\n",
              "      <td>1</td>\n",
              "      <td>...</td>\n",
              "      <td>1</td>\n",
              "      <td>0</td>\n",
              "      <td>0</td>\n",
              "      <td>2</td>\n",
              "      <td>1</td>\n",
              "      <td>1</td>\n",
              "      <td>0</td>\n",
              "      <td>0</td>\n",
              "      <td>1</td>\n",
              "      <td>3</td>\n",
              "    </tr>\n",
              "    <tr>\n",
              "      <th>2</th>\n",
              "      <td>2014-2015</td>\n",
              "      <td>8</td>\n",
              "      <td>6fa0779f</td>\n",
              "      <td>17892952</td>\n",
              "      <td>fb10988f</td>\n",
              "      <td>0</td>\n",
              "      <td>2</td>\n",
              "      <td>1</td>\n",
              "      <td>0</td>\n",
              "      <td>2</td>\n",
              "      <td>...</td>\n",
              "      <td>3</td>\n",
              "      <td>2</td>\n",
              "      <td>0</td>\n",
              "      <td>1</td>\n",
              "      <td>4</td>\n",
              "      <td>0</td>\n",
              "      <td>1</td>\n",
              "      <td>2</td>\n",
              "      <td>2</td>\n",
              "      <td>1</td>\n",
              "    </tr>\n",
              "    <tr>\n",
              "      <th>3</th>\n",
              "      <td>2014-2015</td>\n",
              "      <td>9</td>\n",
              "      <td>2be4379e</td>\n",
              "      <td>17892952</td>\n",
              "      <td>33c895d4</td>\n",
              "      <td>2</td>\n",
              "      <td>0</td>\n",
              "      <td>2</td>\n",
              "      <td>1</td>\n",
              "      <td>0</td>\n",
              "      <td>...</td>\n",
              "      <td>4</td>\n",
              "      <td>0</td>\n",
              "      <td>1</td>\n",
              "      <td>1</td>\n",
              "      <td>0</td>\n",
              "      <td>0</td>\n",
              "      <td>0</td>\n",
              "      <td>0</td>\n",
              "      <td>0</td>\n",
              "      <td>1</td>\n",
              "    </tr>\n",
              "    <tr>\n",
              "      <th>4</th>\n",
              "      <td>2014-2015</td>\n",
              "      <td>10</td>\n",
              "      <td>c172f461</td>\n",
              "      <td>17892952</td>\n",
              "      <td>7c21e445</td>\n",
              "      <td>0</td>\n",
              "      <td>2</td>\n",
              "      <td>0</td>\n",
              "      <td>2</td>\n",
              "      <td>1</td>\n",
              "      <td>...</td>\n",
              "      <td>3</td>\n",
              "      <td>1</td>\n",
              "      <td>1</td>\n",
              "      <td>0</td>\n",
              "      <td>2</td>\n",
              "      <td>1</td>\n",
              "      <td>1</td>\n",
              "      <td>1</td>\n",
              "      <td>2</td>\n",
              "      <td>2</td>\n",
              "    </tr>\n",
              "  </tbody>\n",
              "</table>\n",
              "<p>5 rows × 50 columns</p>\n",
              "</div>\n",
              "      <button class=\"colab-df-convert\" onclick=\"convertToInteractive('df-b2eb351f-0e52-498f-9d10-1cb79eb370ca')\"\n",
              "              title=\"Convert this dataframe to an interactive table.\"\n",
              "              style=\"display:none;\">\n",
              "        \n",
              "  <svg xmlns=\"http://www.w3.org/2000/svg\" height=\"24px\"viewBox=\"0 0 24 24\"\n",
              "       width=\"24px\">\n",
              "    <path d=\"M0 0h24v24H0V0z\" fill=\"none\"/>\n",
              "    <path d=\"M18.56 5.44l.94 2.06.94-2.06 2.06-.94-2.06-.94-.94-2.06-.94 2.06-2.06.94zm-11 1L8.5 8.5l.94-2.06 2.06-.94-2.06-.94L8.5 2.5l-.94 2.06-2.06.94zm10 10l.94 2.06.94-2.06 2.06-.94-2.06-.94-.94-2.06-.94 2.06-2.06.94z\"/><path d=\"M17.41 7.96l-1.37-1.37c-.4-.4-.92-.59-1.43-.59-.52 0-1.04.2-1.43.59L10.3 9.45l-7.72 7.72c-.78.78-.78 2.05 0 2.83L4 21.41c.39.39.9.59 1.41.59.51 0 1.02-.2 1.41-.59l7.78-7.78 2.81-2.81c.8-.78.8-2.07 0-2.86zM5.41 20L4 18.59l7.72-7.72 1.47 1.35L5.41 20z\"/>\n",
              "  </svg>\n",
              "      </button>\n",
              "      \n",
              "  <style>\n",
              "    .colab-df-container {\n",
              "      display:flex;\n",
              "      flex-wrap:wrap;\n",
              "      gap: 12px;\n",
              "    }\n",
              "\n",
              "    .colab-df-convert {\n",
              "      background-color: #E8F0FE;\n",
              "      border: none;\n",
              "      border-radius: 50%;\n",
              "      cursor: pointer;\n",
              "      display: none;\n",
              "      fill: #1967D2;\n",
              "      height: 32px;\n",
              "      padding: 0 0 0 0;\n",
              "      width: 32px;\n",
              "    }\n",
              "\n",
              "    .colab-df-convert:hover {\n",
              "      background-color: #E2EBFA;\n",
              "      box-shadow: 0px 1px 2px rgba(60, 64, 67, 0.3), 0px 1px 3px 1px rgba(60, 64, 67, 0.15);\n",
              "      fill: #174EA6;\n",
              "    }\n",
              "\n",
              "    [theme=dark] .colab-df-convert {\n",
              "      background-color: #3B4455;\n",
              "      fill: #D2E3FC;\n",
              "    }\n",
              "\n",
              "    [theme=dark] .colab-df-convert:hover {\n",
              "      background-color: #434B5C;\n",
              "      box-shadow: 0px 1px 3px 1px rgba(0, 0, 0, 0.15);\n",
              "      filter: drop-shadow(0px 1px 2px rgba(0, 0, 0, 0.3));\n",
              "      fill: #FFFFFF;\n",
              "    }\n",
              "  </style>\n",
              "\n",
              "      <script>\n",
              "        const buttonEl =\n",
              "          document.querySelector('#df-b2eb351f-0e52-498f-9d10-1cb79eb370ca button.colab-df-convert');\n",
              "        buttonEl.style.display =\n",
              "          google.colab.kernel.accessAllowed ? 'block' : 'none';\n",
              "\n",
              "        async function convertToInteractive(key) {\n",
              "          const element = document.querySelector('#df-b2eb351f-0e52-498f-9d10-1cb79eb370ca');\n",
              "          const dataTable =\n",
              "            await google.colab.kernel.invokeFunction('convertToInteractive',\n",
              "                                                     [key], {});\n",
              "          if (!dataTable) return;\n",
              "\n",
              "          const docLinkHtml = 'Like what you see? Visit the ' +\n",
              "            '<a target=\"_blank\" href=https://colab.research.google.com/notebooks/data_table.ipynb>data table notebook</a>'\n",
              "            + ' to learn more about interactive tables.';\n",
              "          element.innerHTML = '';\n",
              "          dataTable['output_type'] = 'display_data';\n",
              "          await google.colab.output.renderOutput(dataTable, element);\n",
              "          const docLink = document.createElement('div');\n",
              "          docLink.innerHTML = docLinkHtml;\n",
              "          element.appendChild(docLink);\n",
              "        }\n",
              "      </script>\n",
              "    </div>\n",
              "  </div>\n",
              "  "
            ]
          },
          "metadata": {},
          "execution_count": 58
        }
      ],
      "source": [
        "df_dataset = pd.read_parquet('dataset_9.parquet')\n",
        "df_dataset.head()"
      ]
    },
    {
      "cell_type": "code",
      "source": [
        "df_dataset.columns"
      ],
      "metadata": {
        "colab": {
          "base_uri": "https://localhost:8080/"
        },
        "id": "XZ_8ZxqclEmY",
        "outputId": "53b1a1f7-de23-4f36-cb15-d98a7ce52c62"
      },
      "execution_count": 59,
      "outputs": [
        {
          "output_type": "execute_result",
          "data": {
            "text/plain": [
              "Index(['Ano', 'Rodada', 'id', 'fgk_equipe', 'Oponente', 'TR0', 'TR1', 'TR2',\n",
              "       'TR3', 'TR4', 'TL0', 'TL1', 'TL2', 'TL3', 'TL4', 'TP0', 'TP1', 'TP2',\n",
              "       'TP3', 'TP4', 'TC0', 'TC1', 'TC2', 'TC3', 'TC4', 'TGL', 'OR0', 'OR1',\n",
              "       'OR2', 'OR3', 'OR4', 'OL0', 'OL1', 'OL2', 'OL3', 'OL4', 'OP0', 'OP1',\n",
              "       'OP2', 'OP3', 'OP4', 'OC0', 'OC1', 'OC2', 'OC3', 'OC4', 'OGL',\n",
              "       'Resultado', 'GP', 'GC'],\n",
              "      dtype='object')"
            ]
          },
          "metadata": {},
          "execution_count": 59
        }
      ]
    },
    {
      "cell_type": "markdown",
      "source": [
        "#Tratamento de dados"
      ],
      "metadata": {
        "id": "1-ci294alI_6"
      }
    },
    {
      "cell_type": "markdown",
      "source": [
        "##Criação das médias móveis:"
      ],
      "metadata": {
        "id": "lYdVaHtxlM3B"
      }
    },
    {
      "cell_type": "code",
      "source": [
        "df_train = df_dataset[['Ano', 'Rodada', 'id', 'fgk_equipe', 'Oponente', 'Resultado', 'GP', 'GC', 'TGL', 'OGL']]"
      ],
      "metadata": {
        "id": "pQXaTayolHAo"
      },
      "execution_count": 60,
      "outputs": []
    },
    {
      "cell_type": "code",
      "source": [
        "df_train['TR_mean'] = df_dataset[['TR0', 'TR1', 'TR2', 'TR3', 'TR4']].mean(axis=1)\n",
        "df_train['TL_mean'] = df_dataset[['TL0', 'TL1', 'TL2', 'TL3', 'TL4']].mean(axis=1)\n",
        "df_train['TP_mean'] = df_dataset[['TP0', 'TP1', 'TP2', 'TP3', 'TP4']].mean(axis=1)\n",
        "df_train['TC_mean'] = df_dataset[['TC0', 'TC1', 'TC2', 'TC3', 'TC4']].mean(axis=1)\n",
        "df_train['OR_mean'] = df_dataset[['OR0', 'OR1', 'OR2', 'OR3', 'OR4']].mean(axis=1)\n",
        "df_train['OL_mean'] = df_dataset[['OL0', 'OL1', 'OL2', 'OL3', 'OL4']].mean(axis=1)\n",
        "df_train['OP_mean'] = df_dataset[['OP0', 'OP1', 'OP2', 'OP3', 'OP4']].mean(axis=1)\n",
        "df_train['OC_mean'] = df_dataset[['OC0', 'OC1', 'OC2', 'OC3', 'OC4']].mean(axis=1)"
      ],
      "metadata": {
        "id": "LOvjProLl4-Z"
      },
      "execution_count": 61,
      "outputs": []
    },
    {
      "cell_type": "code",
      "source": [
        "df_train.head()"
      ],
      "metadata": {
        "colab": {
          "base_uri": "https://localhost:8080/",
          "height": 357
        },
        "id": "pG6VNZ3jnF3I",
        "outputId": "8713d7f1-9f43-466a-ddcb-ba7746a1a120"
      },
      "execution_count": 62,
      "outputs": [
        {
          "output_type": "execute_result",
          "data": {
            "text/plain": [
              "         Ano  Rodada        id fgk_equipe  Oponente  Resultado  GP  GC  TGL  \\\n",
              "0  2014-2015       6  9d2c4411   17892952  b2b47a98          2   1   0    1   \n",
              "1  2014-2015       7  bc4351a4   17892952  8ef52968          0   1   3    0   \n",
              "2  2014-2015       8  6fa0779f   17892952  fb10988f          2   2   1    1   \n",
              "3  2014-2015       9  2be4379e   17892952  33c895d4          0   0   1    0   \n",
              "4  2014-2015      10  c172f461   17892952  7c21e445          1   2   2    1   \n",
              "\n",
              "   OGL  TR_mean  TL_mean  TP_mean  TC_mean  OR_mean  OL_mean  OP_mean  OC_mean  \n",
              "0    1      0.8      0.4      0.8      1.0      0.6      0.6      1.0      2.2  \n",
              "1    0      1.2      0.4      1.0      0.8      0.8      0.6      0.6      0.8  \n",
              "2    1      1.0      0.4      1.0      1.2      0.8      0.6      1.4      1.4  \n",
              "3    0      1.0      0.6      1.2      1.4      1.6      0.6      3.0      0.4  \n",
              "4    1      1.0      0.4      1.2      1.4      1.6      0.6      2.2      1.0  "
            ],
            "text/html": [
              "\n",
              "  <div id=\"df-b7ed43b1-328b-4602-9a44-cc13a3598ce2\">\n",
              "    <div class=\"colab-df-container\">\n",
              "      <div>\n",
              "<style scoped>\n",
              "    .dataframe tbody tr th:only-of-type {\n",
              "        vertical-align: middle;\n",
              "    }\n",
              "\n",
              "    .dataframe tbody tr th {\n",
              "        vertical-align: top;\n",
              "    }\n",
              "\n",
              "    .dataframe thead th {\n",
              "        text-align: right;\n",
              "    }\n",
              "</style>\n",
              "<table border=\"1\" class=\"dataframe\">\n",
              "  <thead>\n",
              "    <tr style=\"text-align: right;\">\n",
              "      <th></th>\n",
              "      <th>Ano</th>\n",
              "      <th>Rodada</th>\n",
              "      <th>id</th>\n",
              "      <th>fgk_equipe</th>\n",
              "      <th>Oponente</th>\n",
              "      <th>Resultado</th>\n",
              "      <th>GP</th>\n",
              "      <th>GC</th>\n",
              "      <th>TGL</th>\n",
              "      <th>OGL</th>\n",
              "      <th>TR_mean</th>\n",
              "      <th>TL_mean</th>\n",
              "      <th>TP_mean</th>\n",
              "      <th>TC_mean</th>\n",
              "      <th>OR_mean</th>\n",
              "      <th>OL_mean</th>\n",
              "      <th>OP_mean</th>\n",
              "      <th>OC_mean</th>\n",
              "    </tr>\n",
              "  </thead>\n",
              "  <tbody>\n",
              "    <tr>\n",
              "      <th>0</th>\n",
              "      <td>2014-2015</td>\n",
              "      <td>6</td>\n",
              "      <td>9d2c4411</td>\n",
              "      <td>17892952</td>\n",
              "      <td>b2b47a98</td>\n",
              "      <td>2</td>\n",
              "      <td>1</td>\n",
              "      <td>0</td>\n",
              "      <td>1</td>\n",
              "      <td>1</td>\n",
              "      <td>0.8</td>\n",
              "      <td>0.4</td>\n",
              "      <td>0.8</td>\n",
              "      <td>1.0</td>\n",
              "      <td>0.6</td>\n",
              "      <td>0.6</td>\n",
              "      <td>1.0</td>\n",
              "      <td>2.2</td>\n",
              "    </tr>\n",
              "    <tr>\n",
              "      <th>1</th>\n",
              "      <td>2014-2015</td>\n",
              "      <td>7</td>\n",
              "      <td>bc4351a4</td>\n",
              "      <td>17892952</td>\n",
              "      <td>8ef52968</td>\n",
              "      <td>0</td>\n",
              "      <td>1</td>\n",
              "      <td>3</td>\n",
              "      <td>0</td>\n",
              "      <td>0</td>\n",
              "      <td>1.2</td>\n",
              "      <td>0.4</td>\n",
              "      <td>1.0</td>\n",
              "      <td>0.8</td>\n",
              "      <td>0.8</td>\n",
              "      <td>0.6</td>\n",
              "      <td>0.6</td>\n",
              "      <td>0.8</td>\n",
              "    </tr>\n",
              "    <tr>\n",
              "      <th>2</th>\n",
              "      <td>2014-2015</td>\n",
              "      <td>8</td>\n",
              "      <td>6fa0779f</td>\n",
              "      <td>17892952</td>\n",
              "      <td>fb10988f</td>\n",
              "      <td>2</td>\n",
              "      <td>2</td>\n",
              "      <td>1</td>\n",
              "      <td>1</td>\n",
              "      <td>1</td>\n",
              "      <td>1.0</td>\n",
              "      <td>0.4</td>\n",
              "      <td>1.0</td>\n",
              "      <td>1.2</td>\n",
              "      <td>0.8</td>\n",
              "      <td>0.6</td>\n",
              "      <td>1.4</td>\n",
              "      <td>1.4</td>\n",
              "    </tr>\n",
              "    <tr>\n",
              "      <th>3</th>\n",
              "      <td>2014-2015</td>\n",
              "      <td>9</td>\n",
              "      <td>2be4379e</td>\n",
              "      <td>17892952</td>\n",
              "      <td>33c895d4</td>\n",
              "      <td>0</td>\n",
              "      <td>0</td>\n",
              "      <td>1</td>\n",
              "      <td>0</td>\n",
              "      <td>0</td>\n",
              "      <td>1.0</td>\n",
              "      <td>0.6</td>\n",
              "      <td>1.2</td>\n",
              "      <td>1.4</td>\n",
              "      <td>1.6</td>\n",
              "      <td>0.6</td>\n",
              "      <td>3.0</td>\n",
              "      <td>0.4</td>\n",
              "    </tr>\n",
              "    <tr>\n",
              "      <th>4</th>\n",
              "      <td>2014-2015</td>\n",
              "      <td>10</td>\n",
              "      <td>c172f461</td>\n",
              "      <td>17892952</td>\n",
              "      <td>7c21e445</td>\n",
              "      <td>1</td>\n",
              "      <td>2</td>\n",
              "      <td>2</td>\n",
              "      <td>1</td>\n",
              "      <td>1</td>\n",
              "      <td>1.0</td>\n",
              "      <td>0.4</td>\n",
              "      <td>1.2</td>\n",
              "      <td>1.4</td>\n",
              "      <td>1.6</td>\n",
              "      <td>0.6</td>\n",
              "      <td>2.2</td>\n",
              "      <td>1.0</td>\n",
              "    </tr>\n",
              "  </tbody>\n",
              "</table>\n",
              "</div>\n",
              "      <button class=\"colab-df-convert\" onclick=\"convertToInteractive('df-b7ed43b1-328b-4602-9a44-cc13a3598ce2')\"\n",
              "              title=\"Convert this dataframe to an interactive table.\"\n",
              "              style=\"display:none;\">\n",
              "        \n",
              "  <svg xmlns=\"http://www.w3.org/2000/svg\" height=\"24px\"viewBox=\"0 0 24 24\"\n",
              "       width=\"24px\">\n",
              "    <path d=\"M0 0h24v24H0V0z\" fill=\"none\"/>\n",
              "    <path d=\"M18.56 5.44l.94 2.06.94-2.06 2.06-.94-2.06-.94-.94-2.06-.94 2.06-2.06.94zm-11 1L8.5 8.5l.94-2.06 2.06-.94-2.06-.94L8.5 2.5l-.94 2.06-2.06.94zm10 10l.94 2.06.94-2.06 2.06-.94-2.06-.94-.94-2.06-.94 2.06-2.06.94z\"/><path d=\"M17.41 7.96l-1.37-1.37c-.4-.4-.92-.59-1.43-.59-.52 0-1.04.2-1.43.59L10.3 9.45l-7.72 7.72c-.78.78-.78 2.05 0 2.83L4 21.41c.39.39.9.59 1.41.59.51 0 1.02-.2 1.41-.59l7.78-7.78 2.81-2.81c.8-.78.8-2.07 0-2.86zM5.41 20L4 18.59l7.72-7.72 1.47 1.35L5.41 20z\"/>\n",
              "  </svg>\n",
              "      </button>\n",
              "      \n",
              "  <style>\n",
              "    .colab-df-container {\n",
              "      display:flex;\n",
              "      flex-wrap:wrap;\n",
              "      gap: 12px;\n",
              "    }\n",
              "\n",
              "    .colab-df-convert {\n",
              "      background-color: #E8F0FE;\n",
              "      border: none;\n",
              "      border-radius: 50%;\n",
              "      cursor: pointer;\n",
              "      display: none;\n",
              "      fill: #1967D2;\n",
              "      height: 32px;\n",
              "      padding: 0 0 0 0;\n",
              "      width: 32px;\n",
              "    }\n",
              "\n",
              "    .colab-df-convert:hover {\n",
              "      background-color: #E2EBFA;\n",
              "      box-shadow: 0px 1px 2px rgba(60, 64, 67, 0.3), 0px 1px 3px 1px rgba(60, 64, 67, 0.15);\n",
              "      fill: #174EA6;\n",
              "    }\n",
              "\n",
              "    [theme=dark] .colab-df-convert {\n",
              "      background-color: #3B4455;\n",
              "      fill: #D2E3FC;\n",
              "    }\n",
              "\n",
              "    [theme=dark] .colab-df-convert:hover {\n",
              "      background-color: #434B5C;\n",
              "      box-shadow: 0px 1px 3px 1px rgba(0, 0, 0, 0.15);\n",
              "      filter: drop-shadow(0px 1px 2px rgba(0, 0, 0, 0.3));\n",
              "      fill: #FFFFFF;\n",
              "    }\n",
              "  </style>\n",
              "\n",
              "      <script>\n",
              "        const buttonEl =\n",
              "          document.querySelector('#df-b7ed43b1-328b-4602-9a44-cc13a3598ce2 button.colab-df-convert');\n",
              "        buttonEl.style.display =\n",
              "          google.colab.kernel.accessAllowed ? 'block' : 'none';\n",
              "\n",
              "        async function convertToInteractive(key) {\n",
              "          const element = document.querySelector('#df-b7ed43b1-328b-4602-9a44-cc13a3598ce2');\n",
              "          const dataTable =\n",
              "            await google.colab.kernel.invokeFunction('convertToInteractive',\n",
              "                                                     [key], {});\n",
              "          if (!dataTable) return;\n",
              "\n",
              "          const docLinkHtml = 'Like what you see? Visit the ' +\n",
              "            '<a target=\"_blank\" href=https://colab.research.google.com/notebooks/data_table.ipynb>data table notebook</a>'\n",
              "            + ' to learn more about interactive tables.';\n",
              "          element.innerHTML = '';\n",
              "          dataTable['output_type'] = 'display_data';\n",
              "          await google.colab.output.renderOutput(dataTable, element);\n",
              "          const docLink = document.createElement('div');\n",
              "          docLink.innerHTML = docLinkHtml;\n",
              "          element.appendChild(docLink);\n",
              "        }\n",
              "      </script>\n",
              "    </div>\n",
              "  </div>\n",
              "  "
            ]
          },
          "metadata": {},
          "execution_count": 62
        }
      ]
    },
    {
      "cell_type": "markdown",
      "source": [
        "##Criando coluna de resultado como empate e não empate:"
      ],
      "metadata": {
        "id": "cAlkSZfknVri"
      }
    },
    {
      "cell_type": "markdown",
      "source": [
        "Primeiro vou alterar a coluna resultados:"
      ],
      "metadata": {
        "id": "nulZyZWh2I37"
      }
    },
    {
      "cell_type": "markdown",
      "source": [
        "Antes: </br>\n",
        "0 - Derrota </br>\n",
        "1 - Empate </br>\n",
        "2 - Vitória "
      ],
      "metadata": {
        "id": "28gj8ptOSvua"
      }
    },
    {
      "cell_type": "markdown",
      "source": [
        "Depois: </br>\n",
        "0 - Empate </br>\n",
        "1 - Derrota </br>\n",
        "2 - Vitória "
      ],
      "metadata": {
        "id": "7bF8r2DU2Mmk"
      }
    },
    {
      "cell_type": "code",
      "source": [
        "df_train['Resultado'].replace(to_replace=0, value=3, inplace=True)\n",
        "df_train['Resultado'].replace(to_replace=1, value=0, inplace=True)\n",
        "df_train['Resultado'].replace(to_replace=3, value=1, inplace=True)"
      ],
      "metadata": {
        "id": "6bqQ3lgO2Ue1"
      },
      "execution_count": 63,
      "outputs": []
    },
    {
      "cell_type": "markdown",
      "source": [
        "Aqui vamos deixar: </br>\n",
        "0 - Empate </br>\n",
        "1 - Não Empate"
      ],
      "metadata": {
        "id": "4VUTtqLjoQJx"
      }
    },
    {
      "cell_type": "code",
      "source": [
        "df_train['Resultado'].value_counts()"
      ],
      "metadata": {
        "colab": {
          "base_uri": "https://localhost:8080/"
        },
        "id": "yA44gLeqobTZ",
        "outputId": "40138b88-7869-484e-ca85-1b0fb073e2c4"
      },
      "execution_count": 64,
      "outputs": [
        {
          "output_type": "execute_result",
          "data": {
            "text/plain": [
              "2    2091\n",
              "1    2091\n",
              "0    1264\n",
              "Name: Resultado, dtype: int64"
            ]
          },
          "metadata": {},
          "execution_count": 64
        }
      ]
    },
    {
      "cell_type": "code",
      "source": [
        "df_train['Resultado_Empate'] = df_train['Resultado']\n",
        "df_train['Resultado_Empate'].replace(to_replace=2, value=1, inplace=True)"
      ],
      "metadata": {
        "id": "9J-M103CnH9v"
      },
      "execution_count": 65,
      "outputs": []
    },
    {
      "cell_type": "code",
      "source": [
        "df_train['Resultado_Empate'].value_counts()"
      ],
      "metadata": {
        "colab": {
          "base_uri": "https://localhost:8080/"
        },
        "id": "4V4aCVv-nqko",
        "outputId": "5d5d92ea-5582-47b5-faeb-144ae984f695"
      },
      "execution_count": 66,
      "outputs": [
        {
          "output_type": "execute_result",
          "data": {
            "text/plain": [
              "1    4182\n",
              "0    1264\n",
              "Name: Resultado_Empate, dtype: int64"
            ]
          },
          "metadata": {},
          "execution_count": 66
        }
      ]
    },
    {
      "cell_type": "code",
      "source": [
        "df_train.columns"
      ],
      "metadata": {
        "colab": {
          "base_uri": "https://localhost:8080/"
        },
        "id": "nATweHXzplwy",
        "outputId": "19b35ab9-aa39-4183-be08-76223a004f30"
      },
      "execution_count": 67,
      "outputs": [
        {
          "output_type": "execute_result",
          "data": {
            "text/plain": [
              "Index(['Ano', 'Rodada', 'id', 'fgk_equipe', 'Oponente', 'Resultado', 'GP',\n",
              "       'GC', 'TGL', 'OGL', 'TR_mean', 'TL_mean', 'TP_mean', 'TC_mean',\n",
              "       'OR_mean', 'OL_mean', 'OP_mean', 'OC_mean', 'Resultado_Empate'],\n",
              "      dtype='object')"
            ]
          },
          "metadata": {},
          "execution_count": 67
        }
      ]
    },
    {
      "cell_type": "markdown",
      "source": [
        "#Modelagem:"
      ],
      "metadata": {
        "id": "4cEVOhhZo46J"
      }
    },
    {
      "cell_type": "markdown",
      "source": [
        "##Selecionando as variáveis que desejamos:"
      ],
      "metadata": {
        "id": "upgwvolLpavh"
      }
    },
    {
      "cell_type": "code",
      "source": [
        "df_train_cut = df_train[['TR_mean', 'TL_mean', 'TP_mean',\n",
        "                         'TC_mean', 'OR_mean', 'OL_mean',\n",
        "                         'OP_mean', 'OC_mean', 'TGL',\n",
        "                         'OGL', 'Resultado_Empate']]"
      ],
      "metadata": {
        "id": "3pW4WNAOoOxY"
      },
      "execution_count": 68,
      "outputs": []
    },
    {
      "cell_type": "code",
      "source": [
        "df_train_cut.head()"
      ],
      "metadata": {
        "colab": {
          "base_uri": "https://localhost:8080/",
          "height": 206
        },
        "id": "8qvNUIbgp19I",
        "outputId": "8fcc361e-ec45-4a97-a08a-3ffdce5fdd9a"
      },
      "execution_count": 69,
      "outputs": [
        {
          "output_type": "execute_result",
          "data": {
            "text/plain": [
              "   TR_mean  TL_mean  TP_mean  TC_mean  OR_mean  OL_mean  OP_mean  OC_mean  \\\n",
              "0      0.8      0.4      0.8      1.0      0.6      0.6      1.0      2.2   \n",
              "1      1.2      0.4      1.0      0.8      0.8      0.6      0.6      0.8   \n",
              "2      1.0      0.4      1.0      1.2      0.8      0.6      1.4      1.4   \n",
              "3      1.0      0.6      1.2      1.4      1.6      0.6      3.0      0.4   \n",
              "4      1.0      0.4      1.2      1.4      1.6      0.6      2.2      1.0   \n",
              "\n",
              "   TGL  OGL  Resultado_Empate  \n",
              "0    1    1                 1  \n",
              "1    0    0                 1  \n",
              "2    1    1                 1  \n",
              "3    0    0                 1  \n",
              "4    1    1                 0  "
            ],
            "text/html": [
              "\n",
              "  <div id=\"df-41641d9c-ae3f-42a9-adc0-2dc52844c03d\">\n",
              "    <div class=\"colab-df-container\">\n",
              "      <div>\n",
              "<style scoped>\n",
              "    .dataframe tbody tr th:only-of-type {\n",
              "        vertical-align: middle;\n",
              "    }\n",
              "\n",
              "    .dataframe tbody tr th {\n",
              "        vertical-align: top;\n",
              "    }\n",
              "\n",
              "    .dataframe thead th {\n",
              "        text-align: right;\n",
              "    }\n",
              "</style>\n",
              "<table border=\"1\" class=\"dataframe\">\n",
              "  <thead>\n",
              "    <tr style=\"text-align: right;\">\n",
              "      <th></th>\n",
              "      <th>TR_mean</th>\n",
              "      <th>TL_mean</th>\n",
              "      <th>TP_mean</th>\n",
              "      <th>TC_mean</th>\n",
              "      <th>OR_mean</th>\n",
              "      <th>OL_mean</th>\n",
              "      <th>OP_mean</th>\n",
              "      <th>OC_mean</th>\n",
              "      <th>TGL</th>\n",
              "      <th>OGL</th>\n",
              "      <th>Resultado_Empate</th>\n",
              "    </tr>\n",
              "  </thead>\n",
              "  <tbody>\n",
              "    <tr>\n",
              "      <th>0</th>\n",
              "      <td>0.8</td>\n",
              "      <td>0.4</td>\n",
              "      <td>0.8</td>\n",
              "      <td>1.0</td>\n",
              "      <td>0.6</td>\n",
              "      <td>0.6</td>\n",
              "      <td>1.0</td>\n",
              "      <td>2.2</td>\n",
              "      <td>1</td>\n",
              "      <td>1</td>\n",
              "      <td>1</td>\n",
              "    </tr>\n",
              "    <tr>\n",
              "      <th>1</th>\n",
              "      <td>1.2</td>\n",
              "      <td>0.4</td>\n",
              "      <td>1.0</td>\n",
              "      <td>0.8</td>\n",
              "      <td>0.8</td>\n",
              "      <td>0.6</td>\n",
              "      <td>0.6</td>\n",
              "      <td>0.8</td>\n",
              "      <td>0</td>\n",
              "      <td>0</td>\n",
              "      <td>1</td>\n",
              "    </tr>\n",
              "    <tr>\n",
              "      <th>2</th>\n",
              "      <td>1.0</td>\n",
              "      <td>0.4</td>\n",
              "      <td>1.0</td>\n",
              "      <td>1.2</td>\n",
              "      <td>0.8</td>\n",
              "      <td>0.6</td>\n",
              "      <td>1.4</td>\n",
              "      <td>1.4</td>\n",
              "      <td>1</td>\n",
              "      <td>1</td>\n",
              "      <td>1</td>\n",
              "    </tr>\n",
              "    <tr>\n",
              "      <th>3</th>\n",
              "      <td>1.0</td>\n",
              "      <td>0.6</td>\n",
              "      <td>1.2</td>\n",
              "      <td>1.4</td>\n",
              "      <td>1.6</td>\n",
              "      <td>0.6</td>\n",
              "      <td>3.0</td>\n",
              "      <td>0.4</td>\n",
              "      <td>0</td>\n",
              "      <td>0</td>\n",
              "      <td>1</td>\n",
              "    </tr>\n",
              "    <tr>\n",
              "      <th>4</th>\n",
              "      <td>1.0</td>\n",
              "      <td>0.4</td>\n",
              "      <td>1.2</td>\n",
              "      <td>1.4</td>\n",
              "      <td>1.6</td>\n",
              "      <td>0.6</td>\n",
              "      <td>2.2</td>\n",
              "      <td>1.0</td>\n",
              "      <td>1</td>\n",
              "      <td>1</td>\n",
              "      <td>0</td>\n",
              "    </tr>\n",
              "  </tbody>\n",
              "</table>\n",
              "</div>\n",
              "      <button class=\"colab-df-convert\" onclick=\"convertToInteractive('df-41641d9c-ae3f-42a9-adc0-2dc52844c03d')\"\n",
              "              title=\"Convert this dataframe to an interactive table.\"\n",
              "              style=\"display:none;\">\n",
              "        \n",
              "  <svg xmlns=\"http://www.w3.org/2000/svg\" height=\"24px\"viewBox=\"0 0 24 24\"\n",
              "       width=\"24px\">\n",
              "    <path d=\"M0 0h24v24H0V0z\" fill=\"none\"/>\n",
              "    <path d=\"M18.56 5.44l.94 2.06.94-2.06 2.06-.94-2.06-.94-.94-2.06-.94 2.06-2.06.94zm-11 1L8.5 8.5l.94-2.06 2.06-.94-2.06-.94L8.5 2.5l-.94 2.06-2.06.94zm10 10l.94 2.06.94-2.06 2.06-.94-2.06-.94-.94-2.06-.94 2.06-2.06.94z\"/><path d=\"M17.41 7.96l-1.37-1.37c-.4-.4-.92-.59-1.43-.59-.52 0-1.04.2-1.43.59L10.3 9.45l-7.72 7.72c-.78.78-.78 2.05 0 2.83L4 21.41c.39.39.9.59 1.41.59.51 0 1.02-.2 1.41-.59l7.78-7.78 2.81-2.81c.8-.78.8-2.07 0-2.86zM5.41 20L4 18.59l7.72-7.72 1.47 1.35L5.41 20z\"/>\n",
              "  </svg>\n",
              "      </button>\n",
              "      \n",
              "  <style>\n",
              "    .colab-df-container {\n",
              "      display:flex;\n",
              "      flex-wrap:wrap;\n",
              "      gap: 12px;\n",
              "    }\n",
              "\n",
              "    .colab-df-convert {\n",
              "      background-color: #E8F0FE;\n",
              "      border: none;\n",
              "      border-radius: 50%;\n",
              "      cursor: pointer;\n",
              "      display: none;\n",
              "      fill: #1967D2;\n",
              "      height: 32px;\n",
              "      padding: 0 0 0 0;\n",
              "      width: 32px;\n",
              "    }\n",
              "\n",
              "    .colab-df-convert:hover {\n",
              "      background-color: #E2EBFA;\n",
              "      box-shadow: 0px 1px 2px rgba(60, 64, 67, 0.3), 0px 1px 3px 1px rgba(60, 64, 67, 0.15);\n",
              "      fill: #174EA6;\n",
              "    }\n",
              "\n",
              "    [theme=dark] .colab-df-convert {\n",
              "      background-color: #3B4455;\n",
              "      fill: #D2E3FC;\n",
              "    }\n",
              "\n",
              "    [theme=dark] .colab-df-convert:hover {\n",
              "      background-color: #434B5C;\n",
              "      box-shadow: 0px 1px 3px 1px rgba(0, 0, 0, 0.15);\n",
              "      filter: drop-shadow(0px 1px 2px rgba(0, 0, 0, 0.3));\n",
              "      fill: #FFFFFF;\n",
              "    }\n",
              "  </style>\n",
              "\n",
              "      <script>\n",
              "        const buttonEl =\n",
              "          document.querySelector('#df-41641d9c-ae3f-42a9-adc0-2dc52844c03d button.colab-df-convert');\n",
              "        buttonEl.style.display =\n",
              "          google.colab.kernel.accessAllowed ? 'block' : 'none';\n",
              "\n",
              "        async function convertToInteractive(key) {\n",
              "          const element = document.querySelector('#df-41641d9c-ae3f-42a9-adc0-2dc52844c03d');\n",
              "          const dataTable =\n",
              "            await google.colab.kernel.invokeFunction('convertToInteractive',\n",
              "                                                     [key], {});\n",
              "          if (!dataTable) return;\n",
              "\n",
              "          const docLinkHtml = 'Like what you see? Visit the ' +\n",
              "            '<a target=\"_blank\" href=https://colab.research.google.com/notebooks/data_table.ipynb>data table notebook</a>'\n",
              "            + ' to learn more about interactive tables.';\n",
              "          element.innerHTML = '';\n",
              "          dataTable['output_type'] = 'display_data';\n",
              "          await google.colab.output.renderOutput(dataTable, element);\n",
              "          const docLink = document.createElement('div');\n",
              "          docLink.innerHTML = docLinkHtml;\n",
              "          element.appendChild(docLink);\n",
              "        }\n",
              "      </script>\n",
              "    </div>\n",
              "  </div>\n",
              "  "
            ]
          },
          "metadata": {},
          "execution_count": 69
        }
      ]
    },
    {
      "cell_type": "markdown",
      "source": [
        "##Escolha do modelo:"
      ],
      "metadata": {
        "id": "fkLj5qvOp9DR"
      }
    },
    {
      "cell_type": "code",
      "source": [
        "exp_clf1 = setup(data = df_train_cut, \n",
        "                 target = 'Resultado_Empate', \n",
        "                 polynomial_features = True,\n",
        "                 normalize = True,\n",
        "                 fix_imbalance = True) "
      ],
      "metadata": {
        "colab": {
          "base_uri": "https://localhost:8080/",
          "height": 833
        },
        "id": "yZTIWZwap3lX",
        "outputId": "3392488d-8e25-4fc3-8c3a-a540a81be9d3"
      },
      "execution_count": 70,
      "outputs": [
        {
          "output_type": "display_data",
          "data": {
            "text/plain": [
              "<pandas.io.formats.style.Styler at 0x7f769b0a78b0>"
            ],
            "text/html": [
              "<style type=\"text/css\">\n",
              "#T_3da67_row8_col1, #T_3da67_row12_col1, #T_3da67_row14_col1, #T_3da67_row16_col1 {\n",
              "  background-color: lightgreen;\n",
              "}\n",
              "</style>\n",
              "<table id=\"T_3da67_\" class=\"dataframe\">\n",
              "  <thead>\n",
              "    <tr>\n",
              "      <th class=\"blank level0\" >&nbsp;</th>\n",
              "      <th class=\"col_heading level0 col0\" >Description</th>\n",
              "      <th class=\"col_heading level0 col1\" >Value</th>\n",
              "    </tr>\n",
              "  </thead>\n",
              "  <tbody>\n",
              "    <tr>\n",
              "      <th id=\"T_3da67_level0_row0\" class=\"row_heading level0 row0\" >0</th>\n",
              "      <td id=\"T_3da67_row0_col0\" class=\"data row0 col0\" >Session id</td>\n",
              "      <td id=\"T_3da67_row0_col1\" class=\"data row0 col1\" >2587</td>\n",
              "    </tr>\n",
              "    <tr>\n",
              "      <th id=\"T_3da67_level0_row1\" class=\"row_heading level0 row1\" >1</th>\n",
              "      <td id=\"T_3da67_row1_col0\" class=\"data row1 col0\" >Target</td>\n",
              "      <td id=\"T_3da67_row1_col1\" class=\"data row1 col1\" >Resultado_Empate</td>\n",
              "    </tr>\n",
              "    <tr>\n",
              "      <th id=\"T_3da67_level0_row2\" class=\"row_heading level0 row2\" >2</th>\n",
              "      <td id=\"T_3da67_row2_col0\" class=\"data row2 col0\" >Target type</td>\n",
              "      <td id=\"T_3da67_row2_col1\" class=\"data row2 col1\" >Binary</td>\n",
              "    </tr>\n",
              "    <tr>\n",
              "      <th id=\"T_3da67_level0_row3\" class=\"row_heading level0 row3\" >3</th>\n",
              "      <td id=\"T_3da67_row3_col0\" class=\"data row3 col0\" >Original data shape</td>\n",
              "      <td id=\"T_3da67_row3_col1\" class=\"data row3 col1\" >(5446, 11)</td>\n",
              "    </tr>\n",
              "    <tr>\n",
              "      <th id=\"T_3da67_level0_row4\" class=\"row_heading level0 row4\" >4</th>\n",
              "      <td id=\"T_3da67_row4_col0\" class=\"data row4 col0\" >Transformed data shape</td>\n",
              "      <td id=\"T_3da67_row4_col1\" class=\"data row4 col1\" >(7488, 66)</td>\n",
              "    </tr>\n",
              "    <tr>\n",
              "      <th id=\"T_3da67_level0_row5\" class=\"row_heading level0 row5\" >5</th>\n",
              "      <td id=\"T_3da67_row5_col0\" class=\"data row5 col0\" >Transformed train set shape</td>\n",
              "      <td id=\"T_3da67_row5_col1\" class=\"data row5 col1\" >(5854, 66)</td>\n",
              "    </tr>\n",
              "    <tr>\n",
              "      <th id=\"T_3da67_level0_row6\" class=\"row_heading level0 row6\" >6</th>\n",
              "      <td id=\"T_3da67_row6_col0\" class=\"data row6 col0\" >Transformed test set shape</td>\n",
              "      <td id=\"T_3da67_row6_col1\" class=\"data row6 col1\" >(1634, 66)</td>\n",
              "    </tr>\n",
              "    <tr>\n",
              "      <th id=\"T_3da67_level0_row7\" class=\"row_heading level0 row7\" >7</th>\n",
              "      <td id=\"T_3da67_row7_col0\" class=\"data row7 col0\" >Numeric features</td>\n",
              "      <td id=\"T_3da67_row7_col1\" class=\"data row7 col1\" >10</td>\n",
              "    </tr>\n",
              "    <tr>\n",
              "      <th id=\"T_3da67_level0_row8\" class=\"row_heading level0 row8\" >8</th>\n",
              "      <td id=\"T_3da67_row8_col0\" class=\"data row8 col0\" >Preprocess</td>\n",
              "      <td id=\"T_3da67_row8_col1\" class=\"data row8 col1\" >True</td>\n",
              "    </tr>\n",
              "    <tr>\n",
              "      <th id=\"T_3da67_level0_row9\" class=\"row_heading level0 row9\" >9</th>\n",
              "      <td id=\"T_3da67_row9_col0\" class=\"data row9 col0\" >Imputation type</td>\n",
              "      <td id=\"T_3da67_row9_col1\" class=\"data row9 col1\" >simple</td>\n",
              "    </tr>\n",
              "    <tr>\n",
              "      <th id=\"T_3da67_level0_row10\" class=\"row_heading level0 row10\" >10</th>\n",
              "      <td id=\"T_3da67_row10_col0\" class=\"data row10 col0\" >Numeric imputation</td>\n",
              "      <td id=\"T_3da67_row10_col1\" class=\"data row10 col1\" >mean</td>\n",
              "    </tr>\n",
              "    <tr>\n",
              "      <th id=\"T_3da67_level0_row11\" class=\"row_heading level0 row11\" >11</th>\n",
              "      <td id=\"T_3da67_row11_col0\" class=\"data row11 col0\" >Categorical imputation</td>\n",
              "      <td id=\"T_3da67_row11_col1\" class=\"data row11 col1\" >mode</td>\n",
              "    </tr>\n",
              "    <tr>\n",
              "      <th id=\"T_3da67_level0_row12\" class=\"row_heading level0 row12\" >12</th>\n",
              "      <td id=\"T_3da67_row12_col0\" class=\"data row12 col0\" >Polynomial features</td>\n",
              "      <td id=\"T_3da67_row12_col1\" class=\"data row12 col1\" >True</td>\n",
              "    </tr>\n",
              "    <tr>\n",
              "      <th id=\"T_3da67_level0_row13\" class=\"row_heading level0 row13\" >13</th>\n",
              "      <td id=\"T_3da67_row13_col0\" class=\"data row13 col0\" >Polynomial degree</td>\n",
              "      <td id=\"T_3da67_row13_col1\" class=\"data row13 col1\" >2</td>\n",
              "    </tr>\n",
              "    <tr>\n",
              "      <th id=\"T_3da67_level0_row14\" class=\"row_heading level0 row14\" >14</th>\n",
              "      <td id=\"T_3da67_row14_col0\" class=\"data row14 col0\" >Fix imbalance</td>\n",
              "      <td id=\"T_3da67_row14_col1\" class=\"data row14 col1\" >True</td>\n",
              "    </tr>\n",
              "    <tr>\n",
              "      <th id=\"T_3da67_level0_row15\" class=\"row_heading level0 row15\" >15</th>\n",
              "      <td id=\"T_3da67_row15_col0\" class=\"data row15 col0\" >Fix imbalance method</td>\n",
              "      <td id=\"T_3da67_row15_col1\" class=\"data row15 col1\" >SMOTE</td>\n",
              "    </tr>\n",
              "    <tr>\n",
              "      <th id=\"T_3da67_level0_row16\" class=\"row_heading level0 row16\" >16</th>\n",
              "      <td id=\"T_3da67_row16_col0\" class=\"data row16 col0\" >Normalize</td>\n",
              "      <td id=\"T_3da67_row16_col1\" class=\"data row16 col1\" >True</td>\n",
              "    </tr>\n",
              "    <tr>\n",
              "      <th id=\"T_3da67_level0_row17\" class=\"row_heading level0 row17\" >17</th>\n",
              "      <td id=\"T_3da67_row17_col0\" class=\"data row17 col0\" >Normalize method</td>\n",
              "      <td id=\"T_3da67_row17_col1\" class=\"data row17 col1\" >zscore</td>\n",
              "    </tr>\n",
              "    <tr>\n",
              "      <th id=\"T_3da67_level0_row18\" class=\"row_heading level0 row18\" >18</th>\n",
              "      <td id=\"T_3da67_row18_col0\" class=\"data row18 col0\" >Fold Generator</td>\n",
              "      <td id=\"T_3da67_row18_col1\" class=\"data row18 col1\" >StratifiedKFold</td>\n",
              "    </tr>\n",
              "    <tr>\n",
              "      <th id=\"T_3da67_level0_row19\" class=\"row_heading level0 row19\" >19</th>\n",
              "      <td id=\"T_3da67_row19_col0\" class=\"data row19 col0\" >Fold Number</td>\n",
              "      <td id=\"T_3da67_row19_col1\" class=\"data row19 col1\" >10</td>\n",
              "    </tr>\n",
              "    <tr>\n",
              "      <th id=\"T_3da67_level0_row20\" class=\"row_heading level0 row20\" >20</th>\n",
              "      <td id=\"T_3da67_row20_col0\" class=\"data row20 col0\" >CPU Jobs</td>\n",
              "      <td id=\"T_3da67_row20_col1\" class=\"data row20 col1\" >-1</td>\n",
              "    </tr>\n",
              "    <tr>\n",
              "      <th id=\"T_3da67_level0_row21\" class=\"row_heading level0 row21\" >21</th>\n",
              "      <td id=\"T_3da67_row21_col0\" class=\"data row21 col0\" >Use GPU</td>\n",
              "      <td id=\"T_3da67_row21_col1\" class=\"data row21 col1\" >False</td>\n",
              "    </tr>\n",
              "    <tr>\n",
              "      <th id=\"T_3da67_level0_row22\" class=\"row_heading level0 row22\" >22</th>\n",
              "      <td id=\"T_3da67_row22_col0\" class=\"data row22 col0\" >Log Experiment</td>\n",
              "      <td id=\"T_3da67_row22_col1\" class=\"data row22 col1\" >False</td>\n",
              "    </tr>\n",
              "    <tr>\n",
              "      <th id=\"T_3da67_level0_row23\" class=\"row_heading level0 row23\" >23</th>\n",
              "      <td id=\"T_3da67_row23_col0\" class=\"data row23 col0\" >Experiment Name</td>\n",
              "      <td id=\"T_3da67_row23_col1\" class=\"data row23 col1\" >clf-default-name</td>\n",
              "    </tr>\n",
              "    <tr>\n",
              "      <th id=\"T_3da67_level0_row24\" class=\"row_heading level0 row24\" >24</th>\n",
              "      <td id=\"T_3da67_row24_col0\" class=\"data row24 col0\" >USI</td>\n",
              "      <td id=\"T_3da67_row24_col1\" class=\"data row24 col1\" >12e4</td>\n",
              "    </tr>\n",
              "  </tbody>\n",
              "</table>\n"
            ]
          },
          "metadata": {}
        }
      ]
    },
    {
      "cell_type": "code",
      "source": [
        "%%time\n",
        "\n",
        "best_model = compare_models(fold=5, sort='Prec.')"
      ],
      "metadata": {
        "colab": {
          "base_uri": "https://localhost:8080/",
          "height": 523,
          "referenced_widgets": [
            "9b2bae732ca14bd39f754a4ef9792d8e",
            "19187c34e7c045cb8c20d45ff6c8608b",
            "fd0fab89254846aa8c7085cdbe8b6fd2",
            "98446c65a3924ad98f2ce5261fc44372",
            "9aa59d75c7194cc2bcc2b26233574072",
            "ea16ecac736247b2967630a289e397ec",
            "76d970e2aaa14affbb1eb70dc56c1e34",
            "0dba65a35dec4d0ab6536197d429aedf",
            "05732850171a4b21aeb9847cc00058fe",
            "74fedefb58ae4ee2a53e32671e345f60",
            "bc508eb919984eba8d6fe5354bb35032"
          ]
        },
        "id": "9PD95XIxsDfY",
        "outputId": "f6d475f0-f281-4bed-ea17-b552c0f90788"
      },
      "execution_count": 72,
      "outputs": [
        {
          "output_type": "display_data",
          "data": {
            "text/plain": [
              "<IPython.core.display.HTML object>"
            ],
            "text/html": []
          },
          "metadata": {}
        },
        {
          "output_type": "display_data",
          "data": {
            "text/plain": [
              "<pandas.io.formats.style.Styler at 0x7f76a56efb20>"
            ],
            "text/html": [
              "<style type=\"text/css\">\n",
              "#T_b9cae_ th {\n",
              "  text-align: left;\n",
              "}\n",
              "#T_b9cae_row0_col0, #T_b9cae_row0_col1, #T_b9cae_row0_col2, #T_b9cae_row0_col3, #T_b9cae_row0_col5, #T_b9cae_row0_col6, #T_b9cae_row0_col7, #T_b9cae_row1_col0, #T_b9cae_row1_col1, #T_b9cae_row1_col2, #T_b9cae_row1_col3, #T_b9cae_row1_col4, #T_b9cae_row1_col5, #T_b9cae_row1_col6, #T_b9cae_row1_col7, #T_b9cae_row2_col0, #T_b9cae_row2_col1, #T_b9cae_row2_col2, #T_b9cae_row2_col3, #T_b9cae_row2_col4, #T_b9cae_row2_col5, #T_b9cae_row2_col6, #T_b9cae_row2_col7, #T_b9cae_row3_col0, #T_b9cae_row3_col1, #T_b9cae_row3_col3, #T_b9cae_row3_col4, #T_b9cae_row3_col5, #T_b9cae_row4_col0, #T_b9cae_row4_col1, #T_b9cae_row4_col2, #T_b9cae_row4_col3, #T_b9cae_row4_col4, #T_b9cae_row4_col5, #T_b9cae_row4_col6, #T_b9cae_row4_col7, #T_b9cae_row5_col0, #T_b9cae_row5_col1, #T_b9cae_row5_col2, #T_b9cae_row5_col3, #T_b9cae_row5_col4, #T_b9cae_row5_col5, #T_b9cae_row5_col6, #T_b9cae_row5_col7, #T_b9cae_row6_col0, #T_b9cae_row6_col1, #T_b9cae_row6_col2, #T_b9cae_row6_col3, #T_b9cae_row6_col4, #T_b9cae_row6_col5, #T_b9cae_row6_col6, #T_b9cae_row6_col7, #T_b9cae_row7_col0, #T_b9cae_row7_col1, #T_b9cae_row7_col2, #T_b9cae_row7_col3, #T_b9cae_row7_col4, #T_b9cae_row7_col5, #T_b9cae_row7_col6, #T_b9cae_row7_col7, #T_b9cae_row8_col0, #T_b9cae_row8_col1, #T_b9cae_row8_col2, #T_b9cae_row8_col3, #T_b9cae_row8_col4, #T_b9cae_row8_col5, #T_b9cae_row8_col6, #T_b9cae_row8_col7, #T_b9cae_row9_col0, #T_b9cae_row9_col1, #T_b9cae_row9_col2, #T_b9cae_row9_col3, #T_b9cae_row9_col4, #T_b9cae_row9_col5, #T_b9cae_row9_col6, #T_b9cae_row9_col7, #T_b9cae_row10_col0, #T_b9cae_row10_col2, #T_b9cae_row10_col4, #T_b9cae_row10_col6, #T_b9cae_row10_col7, #T_b9cae_row11_col0, #T_b9cae_row11_col1, #T_b9cae_row11_col2, #T_b9cae_row11_col3, #T_b9cae_row11_col4, #T_b9cae_row11_col5, #T_b9cae_row11_col6, #T_b9cae_row11_col7, #T_b9cae_row12_col0, #T_b9cae_row12_col1, #T_b9cae_row12_col2, #T_b9cae_row12_col3, #T_b9cae_row12_col4, #T_b9cae_row12_col5, #T_b9cae_row12_col6, #T_b9cae_row12_col7, #T_b9cae_row13_col0, #T_b9cae_row13_col1, #T_b9cae_row13_col2, #T_b9cae_row13_col3, #T_b9cae_row13_col4, #T_b9cae_row13_col5, #T_b9cae_row13_col6, #T_b9cae_row13_col7 {\n",
              "  text-align: left;\n",
              "}\n",
              "#T_b9cae_row0_col4, #T_b9cae_row3_col2, #T_b9cae_row3_col6, #T_b9cae_row3_col7, #T_b9cae_row10_col1, #T_b9cae_row10_col3, #T_b9cae_row10_col5 {\n",
              "  text-align: left;\n",
              "  background-color: yellow;\n",
              "}\n",
              "#T_b9cae_row0_col8, #T_b9cae_row1_col8, #T_b9cae_row3_col8, #T_b9cae_row4_col8, #T_b9cae_row5_col8, #T_b9cae_row6_col8, #T_b9cae_row7_col8, #T_b9cae_row8_col8, #T_b9cae_row9_col8, #T_b9cae_row10_col8, #T_b9cae_row11_col8, #T_b9cae_row12_col8 {\n",
              "  text-align: left;\n",
              "  background-color: lightgrey;\n",
              "}\n",
              "#T_b9cae_row2_col8, #T_b9cae_row13_col8 {\n",
              "  text-align: left;\n",
              "  background-color: yellow;\n",
              "  background-color: lightgrey;\n",
              "}\n",
              "</style>\n",
              "<table id=\"T_b9cae_\" class=\"dataframe\">\n",
              "  <thead>\n",
              "    <tr>\n",
              "      <th class=\"blank level0\" >&nbsp;</th>\n",
              "      <th class=\"col_heading level0 col0\" >Model</th>\n",
              "      <th class=\"col_heading level0 col1\" >Accuracy</th>\n",
              "      <th class=\"col_heading level0 col2\" >AUC</th>\n",
              "      <th class=\"col_heading level0 col3\" >Recall</th>\n",
              "      <th class=\"col_heading level0 col4\" >Prec.</th>\n",
              "      <th class=\"col_heading level0 col5\" >F1</th>\n",
              "      <th class=\"col_heading level0 col6\" >Kappa</th>\n",
              "      <th class=\"col_heading level0 col7\" >MCC</th>\n",
              "      <th class=\"col_heading level0 col8\" >TT (Sec)</th>\n",
              "    </tr>\n",
              "  </thead>\n",
              "  <tbody>\n",
              "    <tr>\n",
              "      <th id=\"T_b9cae_level0_row0\" class=\"row_heading level0 row0\" >lr</th>\n",
              "      <td id=\"T_b9cae_row0_col0\" class=\"data row0 col0\" >Logistic Regression</td>\n",
              "      <td id=\"T_b9cae_row0_col1\" class=\"data row0 col1\" >0.5063</td>\n",
              "      <td id=\"T_b9cae_row0_col2\" class=\"data row0 col2\" >0.5108</td>\n",
              "      <td id=\"T_b9cae_row0_col3\" class=\"data row0 col3\" >0.4954</td>\n",
              "      <td id=\"T_b9cae_row0_col4\" class=\"data row0 col4\" >0.7819</td>\n",
              "      <td id=\"T_b9cae_row0_col5\" class=\"data row0 col5\" >0.6062</td>\n",
              "      <td id=\"T_b9cae_row0_col6\" class=\"data row0 col6\" >0.0263</td>\n",
              "      <td id=\"T_b9cae_row0_col7\" class=\"data row0 col7\" >0.0320</td>\n",
              "      <td id=\"T_b9cae_row0_col8\" class=\"data row0 col8\" >1.5500</td>\n",
              "    </tr>\n",
              "    <tr>\n",
              "      <th id=\"T_b9cae_level0_row1\" class=\"row_heading level0 row1\" >lda</th>\n",
              "      <td id=\"T_b9cae_row1_col0\" class=\"data row1 col0\" >Linear Discriminant Analysis</td>\n",
              "      <td id=\"T_b9cae_row1_col1\" class=\"data row1 col1\" >0.5042</td>\n",
              "      <td id=\"T_b9cae_row1_col2\" class=\"data row1 col2\" >0.5073</td>\n",
              "      <td id=\"T_b9cae_row1_col3\" class=\"data row1 col3\" >0.4930</td>\n",
              "      <td id=\"T_b9cae_row1_col4\" class=\"data row1 col4\" >0.7808</td>\n",
              "      <td id=\"T_b9cae_row1_col5\" class=\"data row1 col5\" >0.6042</td>\n",
              "      <td id=\"T_b9cae_row1_col6\" class=\"data row1 col6\" >0.0237</td>\n",
              "      <td id=\"T_b9cae_row1_col7\" class=\"data row1 col7\" >0.0290</td>\n",
              "      <td id=\"T_b9cae_row1_col8\" class=\"data row1 col8\" >0.1440</td>\n",
              "    </tr>\n",
              "    <tr>\n",
              "      <th id=\"T_b9cae_level0_row2\" class=\"row_heading level0 row2\" >ridge</th>\n",
              "      <td id=\"T_b9cae_row2_col0\" class=\"data row2 col0\" >Ridge Classifier</td>\n",
              "      <td id=\"T_b9cae_row2_col1\" class=\"data row2 col1\" >0.5031</td>\n",
              "      <td id=\"T_b9cae_row2_col2\" class=\"data row2 col2\" >0.0000</td>\n",
              "      <td id=\"T_b9cae_row2_col3\" class=\"data row2 col3\" >0.4913</td>\n",
              "      <td id=\"T_b9cae_row2_col4\" class=\"data row2 col4\" >0.7806</td>\n",
              "      <td id=\"T_b9cae_row2_col5\" class=\"data row2 col5\" >0.6028</td>\n",
              "      <td id=\"T_b9cae_row2_col6\" class=\"data row2 col6\" >0.0233</td>\n",
              "      <td id=\"T_b9cae_row2_col7\" class=\"data row2 col7\" >0.0285</td>\n",
              "      <td id=\"T_b9cae_row2_col8\" class=\"data row2 col8\" >0.0840</td>\n",
              "    </tr>\n",
              "    <tr>\n",
              "      <th id=\"T_b9cae_level0_row3\" class=\"row_heading level0 row3\" >ada</th>\n",
              "      <td id=\"T_b9cae_row3_col0\" class=\"data row3 col0\" >Ada Boost Classifier</td>\n",
              "      <td id=\"T_b9cae_row3_col1\" class=\"data row3 col1\" >0.6768</td>\n",
              "      <td id=\"T_b9cae_row3_col2\" class=\"data row3 col2\" >0.5383</td>\n",
              "      <td id=\"T_b9cae_row3_col3\" class=\"data row3 col3\" >0.8073</td>\n",
              "      <td id=\"T_b9cae_row3_col4\" class=\"data row3 col4\" >0.7796</td>\n",
              "      <td id=\"T_b9cae_row3_col5\" class=\"data row3 col5\" >0.7924</td>\n",
              "      <td id=\"T_b9cae_row3_col6\" class=\"data row3 col6\" >0.0558</td>\n",
              "      <td id=\"T_b9cae_row3_col7\" class=\"data row3 col7\" >0.0569</td>\n",
              "      <td id=\"T_b9cae_row3_col8\" class=\"data row3 col8\" >0.8640</td>\n",
              "    </tr>\n",
              "    <tr>\n",
              "      <th id=\"T_b9cae_level0_row4\" class=\"row_heading level0 row4\" >knn</th>\n",
              "      <td id=\"T_b9cae_row4_col0\" class=\"data row4 col0\" >K Neighbors Classifier</td>\n",
              "      <td id=\"T_b9cae_row4_col1\" class=\"data row4 col1\" >0.5530</td>\n",
              "      <td id=\"T_b9cae_row4_col2\" class=\"data row4 col2\" >0.5168</td>\n",
              "      <td id=\"T_b9cae_row4_col3\" class=\"data row4 col3\" >0.5859</td>\n",
              "      <td id=\"T_b9cae_row4_col4\" class=\"data row4 col4\" >0.7768</td>\n",
              "      <td id=\"T_b9cae_row4_col5\" class=\"data row4 col5\" >0.6679</td>\n",
              "      <td id=\"T_b9cae_row4_col6\" class=\"data row4 col6\" >0.0238</td>\n",
              "      <td id=\"T_b9cae_row4_col7\" class=\"data row4 col7\" >0.0258</td>\n",
              "      <td id=\"T_b9cae_row4_col8\" class=\"data row4 col8\" >0.4760</td>\n",
              "    </tr>\n",
              "    <tr>\n",
              "      <th id=\"T_b9cae_level0_row5\" class=\"row_heading level0 row5\" >dt</th>\n",
              "      <td id=\"T_b9cae_row5_col0\" class=\"data row5 col0\" >Decision Tree Classifier</td>\n",
              "      <td id=\"T_b9cae_row5_col1\" class=\"data row5 col1\" >0.6382</td>\n",
              "      <td id=\"T_b9cae_row5_col2\" class=\"data row5 col2\" >0.5152</td>\n",
              "      <td id=\"T_b9cae_row5_col3\" class=\"data row5 col3\" >0.7448</td>\n",
              "      <td id=\"T_b9cae_row5_col4\" class=\"data row5 col4\" >0.7755</td>\n",
              "      <td id=\"T_b9cae_row5_col5\" class=\"data row5 col5\" >0.7597</td>\n",
              "      <td id=\"T_b9cae_row5_col6\" class=\"data row5 col6\" >0.0283</td>\n",
              "      <td id=\"T_b9cae_row5_col7\" class=\"data row5 col7\" >0.0287</td>\n",
              "      <td id=\"T_b9cae_row5_col8\" class=\"data row5 col8\" >0.2460</td>\n",
              "    </tr>\n",
              "    <tr>\n",
              "      <th id=\"T_b9cae_level0_row6\" class=\"row_heading level0 row6\" >svm</th>\n",
              "      <td id=\"T_b9cae_row6_col0\" class=\"data row6 col0\" >SVM - Linear Kernel</td>\n",
              "      <td id=\"T_b9cae_row6_col1\" class=\"data row6 col1\" >0.5034</td>\n",
              "      <td id=\"T_b9cae_row6_col2\" class=\"data row6 col2\" >0.0000</td>\n",
              "      <td id=\"T_b9cae_row6_col3\" class=\"data row6 col3\" >0.4971</td>\n",
              "      <td id=\"T_b9cae_row6_col4\" class=\"data row6 col4\" >0.7752</td>\n",
              "      <td id=\"T_b9cae_row6_col5\" class=\"data row6 col5\" >0.6056</td>\n",
              "      <td id=\"T_b9cae_row6_col6\" class=\"data row6 col6\" >0.0154</td>\n",
              "      <td id=\"T_b9cae_row6_col7\" class=\"data row6 col7\" >0.0180</td>\n",
              "      <td id=\"T_b9cae_row6_col8\" class=\"data row6 col8\" >0.2000</td>\n",
              "    </tr>\n",
              "    <tr>\n",
              "      <th id=\"T_b9cae_level0_row7\" class=\"row_heading level0 row7\" >lightgbm</th>\n",
              "      <td id=\"T_b9cae_row7_col0\" class=\"data row7 col0\" >Light Gradient Boosting Machine</td>\n",
              "      <td id=\"T_b9cae_row7_col1\" class=\"data row7 col1\" >0.7345</td>\n",
              "      <td id=\"T_b9cae_row7_col2\" class=\"data row7 col2\" >0.5326</td>\n",
              "      <td id=\"T_b9cae_row7_col3\" class=\"data row7 col3\" >0.9279</td>\n",
              "      <td id=\"T_b9cae_row7_col4\" class=\"data row7 col4\" >0.7723</td>\n",
              "      <td id=\"T_b9cae_row7_col5\" class=\"data row7 col5\" >0.8429</td>\n",
              "      <td id=\"T_b9cae_row7_col6\" class=\"data row7 col6\" >0.0296</td>\n",
              "      <td id=\"T_b9cae_row7_col7\" class=\"data row7 col7\" >0.0358</td>\n",
              "      <td id=\"T_b9cae_row7_col8\" class=\"data row7 col8\" >1.1280</td>\n",
              "    </tr>\n",
              "    <tr>\n",
              "      <th id=\"T_b9cae_level0_row8\" class=\"row_heading level0 row8\" >et</th>\n",
              "      <td id=\"T_b9cae_row8_col0\" class=\"data row8 col0\" >Extra Trees Classifier</td>\n",
              "      <td id=\"T_b9cae_row8_col1\" class=\"data row8 col1\" >0.7201</td>\n",
              "      <td id=\"T_b9cae_row8_col2\" class=\"data row8 col2\" >0.5236</td>\n",
              "      <td id=\"T_b9cae_row8_col3\" class=\"data row8 col3\" >0.9016</td>\n",
              "      <td id=\"T_b9cae_row8_col4\" class=\"data row8 col4\" >0.7721</td>\n",
              "      <td id=\"T_b9cae_row8_col5\" class=\"data row8 col5\" >0.8318</td>\n",
              "      <td id=\"T_b9cae_row8_col6\" class=\"data row8 col6\" >0.0266</td>\n",
              "      <td id=\"T_b9cae_row8_col7\" class=\"data row8 col7\" >0.0299</td>\n",
              "      <td id=\"T_b9cae_row8_col8\" class=\"data row8 col8\" >0.8860</td>\n",
              "    </tr>\n",
              "    <tr>\n",
              "      <th id=\"T_b9cae_level0_row9\" class=\"row_heading level0 row9\" >rf</th>\n",
              "      <td id=\"T_b9cae_row9_col0\" class=\"data row9 col0\" >Random Forest Classifier</td>\n",
              "      <td id=\"T_b9cae_row9_col1\" class=\"data row9 col1\" >0.7172</td>\n",
              "      <td id=\"T_b9cae_row9_col2\" class=\"data row9 col2\" >0.5219</td>\n",
              "      <td id=\"T_b9cae_row9_col3\" class=\"data row9 col3\" >0.9030</td>\n",
              "      <td id=\"T_b9cae_row9_col4\" class=\"data row9 col4\" >0.7690</td>\n",
              "      <td id=\"T_b9cae_row9_col5\" class=\"data row9 col5\" >0.8305</td>\n",
              "      <td id=\"T_b9cae_row9_col6\" class=\"data row9 col6\" >0.0071</td>\n",
              "      <td id=\"T_b9cae_row9_col7\" class=\"data row9 col7\" >0.0079</td>\n",
              "      <td id=\"T_b9cae_row9_col8\" class=\"data row9 col8\" >1.3900</td>\n",
              "    </tr>\n",
              "    <tr>\n",
              "      <th id=\"T_b9cae_level0_row10\" class=\"row_heading level0 row10\" >gbc</th>\n",
              "      <td id=\"T_b9cae_row10_col0\" class=\"data row10 col0\" >Gradient Boosting Classifier</td>\n",
              "      <td id=\"T_b9cae_row10_col1\" class=\"data row10 col1\" >0.7450</td>\n",
              "      <td id=\"T_b9cae_row10_col2\" class=\"data row10 col2\" >0.5274</td>\n",
              "      <td id=\"T_b9cae_row10_col3\" class=\"data row10 col3\" >0.9566</td>\n",
              "      <td id=\"T_b9cae_row10_col4\" class=\"data row10 col4\" >0.7682</td>\n",
              "      <td id=\"T_b9cae_row10_col5\" class=\"data row10 col5\" >0.8521</td>\n",
              "      <td id=\"T_b9cae_row10_col6\" class=\"data row10 col6\" >0.0025</td>\n",
              "      <td id=\"T_b9cae_row10_col7\" class=\"data row10 col7\" >0.0035</td>\n",
              "      <td id=\"T_b9cae_row10_col8\" class=\"data row10 col8\" >3.4960</td>\n",
              "    </tr>\n",
              "    <tr>\n",
              "      <th id=\"T_b9cae_level0_row11\" class=\"row_heading level0 row11\" >qda</th>\n",
              "      <td id=\"T_b9cae_row11_col0\" class=\"data row11 col0\" >Quadratic Discriminant Analysis</td>\n",
              "      <td id=\"T_b9cae_row11_col1\" class=\"data row11 col1\" >0.5648</td>\n",
              "      <td id=\"T_b9cae_row11_col2\" class=\"data row11 col2\" >0.4974</td>\n",
              "      <td id=\"T_b9cae_row11_col3\" class=\"data row11 col3\" >0.6231</td>\n",
              "      <td id=\"T_b9cae_row11_col4\" class=\"data row11 col4\" >0.7596</td>\n",
              "      <td id=\"T_b9cae_row11_col5\" class=\"data row11 col5\" >0.6582</td>\n",
              "      <td id=\"T_b9cae_row11_col6\" class=\"data row11 col6\" >-0.0014</td>\n",
              "      <td id=\"T_b9cae_row11_col7\" class=\"data row11 col7\" >-0.0080</td>\n",
              "      <td id=\"T_b9cae_row11_col8\" class=\"data row11 col8\" >0.1140</td>\n",
              "    </tr>\n",
              "    <tr>\n",
              "      <th id=\"T_b9cae_level0_row12\" class=\"row_heading level0 row12\" >nb</th>\n",
              "      <td id=\"T_b9cae_row12_col0\" class=\"data row12 col0\" >Naive Bayes</td>\n",
              "      <td id=\"T_b9cae_row12_col1\" class=\"data row12 col1\" >0.4384</td>\n",
              "      <td id=\"T_b9cae_row12_col2\" class=\"data row12 col2\" >0.4994</td>\n",
              "      <td id=\"T_b9cae_row12_col3\" class=\"data row12 col3\" >0.3953</td>\n",
              "      <td id=\"T_b9cae_row12_col4\" class=\"data row12 col4\" >0.7572</td>\n",
              "      <td id=\"T_b9cae_row12_col5\" class=\"data row12 col5\" >0.5190</td>\n",
              "      <td id=\"T_b9cae_row12_col6\" class=\"data row12 col6\" >-0.0155</td>\n",
              "      <td id=\"T_b9cae_row12_col7\" class=\"data row12 col7\" >-0.0206</td>\n",
              "      <td id=\"T_b9cae_row12_col8\" class=\"data row12 col8\" >0.1040</td>\n",
              "    </tr>\n",
              "    <tr>\n",
              "      <th id=\"T_b9cae_level0_row13\" class=\"row_heading level0 row13\" >dummy</th>\n",
              "      <td id=\"T_b9cae_row13_col0\" class=\"data row13 col0\" >Dummy Classifier</td>\n",
              "      <td id=\"T_b9cae_row13_col1\" class=\"data row13 col1\" >0.2322</td>\n",
              "      <td id=\"T_b9cae_row13_col2\" class=\"data row13 col2\" >0.5000</td>\n",
              "      <td id=\"T_b9cae_row13_col3\" class=\"data row13 col3\" >0.0000</td>\n",
              "      <td id=\"T_b9cae_row13_col4\" class=\"data row13 col4\" >0.0000</td>\n",
              "      <td id=\"T_b9cae_row13_col5\" class=\"data row13 col5\" >0.0000</td>\n",
              "      <td id=\"T_b9cae_row13_col6\" class=\"data row13 col6\" >0.0000</td>\n",
              "      <td id=\"T_b9cae_row13_col7\" class=\"data row13 col7\" >0.0000</td>\n",
              "      <td id=\"T_b9cae_row13_col8\" class=\"data row13 col8\" >0.0840</td>\n",
              "    </tr>\n",
              "  </tbody>\n",
              "</table>\n"
            ]
          },
          "metadata": {}
        },
        {
          "output_type": "display_data",
          "data": {
            "text/plain": [
              "Processing:   0%|          | 0/61 [00:00<?, ?it/s]"
            ],
            "application/vnd.jupyter.widget-view+json": {
              "version_major": 2,
              "version_minor": 0,
              "model_id": "9b2bae732ca14bd39f754a4ef9792d8e"
            }
          },
          "metadata": {
            "application/vnd.jupyter.widget-view+json": {
              "colab": {
                "custom_widget_manager": {
                  "url": "https://ssl.gstatic.com/colaboratory-static/widgets/colab-cdn-widget-manager/b3e629b1971e1542/manager.min.js"
                }
              }
            }
          }
        },
        {
          "output_type": "display_data",
          "data": {
            "text/plain": [
              "<IPython.core.display.HTML object>"
            ],
            "text/html": []
          },
          "metadata": {}
        },
        {
          "output_type": "stream",
          "name": "stdout",
          "text": [
            "CPU times: user 7.68 s, sys: 808 ms, total: 8.48 s\n",
            "Wall time: 1min\n"
          ]
        }
      ]
    },
    {
      "cell_type": "code",
      "source": [
        "model_ve_gbc = create_model('gbc', fold=5)"
      ],
      "metadata": {
        "colab": {
          "base_uri": "https://localhost:8080/",
          "height": 300,
          "referenced_widgets": [
            "50fe69c176f3489594eff21a64810064",
            "2aff7203914840f9baa5c5090c3dc8d8",
            "c86ffae608ac49c2a474c56cb5020e0f",
            "6134c208673c4a748cd716f210af580e",
            "c4b103673e7241cb9829385fa04d5e33",
            "51b8a0a15e634b32810c563c60054324",
            "576f5f37dfcf4865ad5bd69480f2b5a9",
            "1d84659c121041018ada188c9c542346",
            "054b3adcb88b4832ad99b517611f758f",
            "d0ab968049824ddcaa577ae0bbe5cf6e",
            "b82bc5e84d5a48e7943d52b40af5094d"
          ]
        },
        "id": "_AOINZcrrzl2",
        "outputId": "c27439e8-0aad-4df9-dba9-8347cae3391e"
      },
      "execution_count": 76,
      "outputs": [
        {
          "output_type": "display_data",
          "data": {
            "text/plain": [
              "<IPython.core.display.HTML object>"
            ],
            "text/html": []
          },
          "metadata": {}
        },
        {
          "output_type": "display_data",
          "data": {
            "text/plain": [
              "<pandas.io.formats.style.Styler at 0x7f769b578250>"
            ],
            "text/html": [
              "<style type=\"text/css\">\n",
              "#T_3b8fa_row5_col0, #T_3b8fa_row5_col1, #T_3b8fa_row5_col2, #T_3b8fa_row5_col3, #T_3b8fa_row5_col4, #T_3b8fa_row5_col5, #T_3b8fa_row5_col6 {\n",
              "  background: yellow;\n",
              "}\n",
              "</style>\n",
              "<table id=\"T_3b8fa_\" class=\"dataframe\">\n",
              "  <thead>\n",
              "    <tr>\n",
              "      <th class=\"blank level0\" >&nbsp;</th>\n",
              "      <th class=\"col_heading level0 col0\" >Accuracy</th>\n",
              "      <th class=\"col_heading level0 col1\" >AUC</th>\n",
              "      <th class=\"col_heading level0 col2\" >Recall</th>\n",
              "      <th class=\"col_heading level0 col3\" >Prec.</th>\n",
              "      <th class=\"col_heading level0 col4\" >F1</th>\n",
              "      <th class=\"col_heading level0 col5\" >Kappa</th>\n",
              "      <th class=\"col_heading level0 col6\" >MCC</th>\n",
              "    </tr>\n",
              "    <tr>\n",
              "      <th class=\"index_name level0\" >Fold</th>\n",
              "      <th class=\"blank col0\" >&nbsp;</th>\n",
              "      <th class=\"blank col1\" >&nbsp;</th>\n",
              "      <th class=\"blank col2\" >&nbsp;</th>\n",
              "      <th class=\"blank col3\" >&nbsp;</th>\n",
              "      <th class=\"blank col4\" >&nbsp;</th>\n",
              "      <th class=\"blank col5\" >&nbsp;</th>\n",
              "      <th class=\"blank col6\" >&nbsp;</th>\n",
              "    </tr>\n",
              "  </thead>\n",
              "  <tbody>\n",
              "    <tr>\n",
              "      <th id=\"T_3b8fa_level0_row0\" class=\"row_heading level0 row0\" >0</th>\n",
              "      <td id=\"T_3b8fa_row0_col0\" class=\"data row0 col0\" >0.7392</td>\n",
              "      <td id=\"T_3b8fa_row0_col1\" class=\"data row0 col1\" >0.5102</td>\n",
              "      <td id=\"T_3b8fa_row0_col2\" class=\"data row0 col2\" >0.9420</td>\n",
              "      <td id=\"T_3b8fa_row0_col3\" class=\"data row0 col3\" >0.7699</td>\n",
              "      <td id=\"T_3b8fa_row0_col4\" class=\"data row0 col4\" >0.8473</td>\n",
              "      <td id=\"T_3b8fa_row0_col5\" class=\"data row0 col5\" >0.0132</td>\n",
              "      <td id=\"T_3b8fa_row0_col6\" class=\"data row0 col6\" >0.0173</td>\n",
              "    </tr>\n",
              "    <tr>\n",
              "      <th id=\"T_3b8fa_level0_row1\" class=\"row_heading level0 row1\" >1</th>\n",
              "      <td id=\"T_3b8fa_row1_col0\" class=\"data row1 col0\" >0.7523</td>\n",
              "      <td id=\"T_3b8fa_row1_col1\" class=\"data row1 col1\" >0.4799</td>\n",
              "      <td id=\"T_3b8fa_row1_col2\" class=\"data row1 col2\" >0.9608</td>\n",
              "      <td id=\"T_3b8fa_row1_col3\" class=\"data row1 col3\" >0.7723</td>\n",
              "      <td id=\"T_3b8fa_row1_col4\" class=\"data row1 col4\" >0.8563</td>\n",
              "      <td id=\"T_3b8fa_row1_col5\" class=\"data row1 col5\" >0.0319</td>\n",
              "      <td id=\"T_3b8fa_row1_col6\" class=\"data row1 col6\" >0.0468</td>\n",
              "    </tr>\n",
              "    <tr>\n",
              "      <th id=\"T_3b8fa_level0_row2\" class=\"row_heading level0 row2\" >2</th>\n",
              "      <td id=\"T_3b8fa_row2_col0\" class=\"data row2 col0\" >0.7454</td>\n",
              "      <td id=\"T_3b8fa_row2_col1\" class=\"data row2 col1\" >0.5866</td>\n",
              "      <td id=\"T_3b8fa_row2_col2\" class=\"data row2 col2\" >0.9607</td>\n",
              "      <td id=\"T_3b8fa_row2_col3\" class=\"data row2 col3\" >0.7667</td>\n",
              "      <td id=\"T_3b8fa_row2_col4\" class=\"data row2 col4\" >0.8528</td>\n",
              "      <td id=\"T_3b8fa_row2_col5\" class=\"data row2 col5\" >-0.0076</td>\n",
              "      <td id=\"T_3b8fa_row2_col6\" class=\"data row2 col6\" >-0.0120</td>\n",
              "    </tr>\n",
              "    <tr>\n",
              "      <th id=\"T_3b8fa_level0_row3\" class=\"row_heading level0 row3\" >3</th>\n",
              "      <td id=\"T_3b8fa_row3_col0\" class=\"data row3 col0\" >0.7349</td>\n",
              "      <td id=\"T_3b8fa_row3_col1\" class=\"data row3 col1\" >0.5277</td>\n",
              "      <td id=\"T_3b8fa_row3_col2\" class=\"data row3 col2\" >0.9487</td>\n",
              "      <td id=\"T_3b8fa_row3_col3\" class=\"data row3 col3\" >0.7634</td>\n",
              "      <td id=\"T_3b8fa_row3_col4\" class=\"data row3 col4\" >0.8460</td>\n",
              "      <td id=\"T_3b8fa_row3_col5\" class=\"data row3 col5\" >-0.0320</td>\n",
              "      <td id=\"T_3b8fa_row3_col6\" class=\"data row3 col6\" >-0.0465</td>\n",
              "    </tr>\n",
              "    <tr>\n",
              "      <th id=\"T_3b8fa_level0_row4\" class=\"row_heading level0 row4\" >4</th>\n",
              "      <td id=\"T_3b8fa_row4_col0\" class=\"data row4 col0\" >0.7533</td>\n",
              "      <td id=\"T_3b8fa_row4_col1\" class=\"data row4 col1\" >0.5323</td>\n",
              "      <td id=\"T_3b8fa_row4_col2\" class=\"data row4 col2\" >0.9709</td>\n",
              "      <td id=\"T_3b8fa_row4_col3\" class=\"data row4 col3\" >0.7686</td>\n",
              "      <td id=\"T_3b8fa_row4_col4\" class=\"data row4 col4\" >0.8580</td>\n",
              "      <td id=\"T_3b8fa_row4_col5\" class=\"data row4 col5\" >0.0069</td>\n",
              "      <td id=\"T_3b8fa_row4_col6\" class=\"data row4 col6\" >0.0119</td>\n",
              "    </tr>\n",
              "    <tr>\n",
              "      <th id=\"T_3b8fa_level0_row5\" class=\"row_heading level0 row5\" >Mean</th>\n",
              "      <td id=\"T_3b8fa_row5_col0\" class=\"data row5 col0\" >0.7450</td>\n",
              "      <td id=\"T_3b8fa_row5_col1\" class=\"data row5 col1\" >0.5274</td>\n",
              "      <td id=\"T_3b8fa_row5_col2\" class=\"data row5 col2\" >0.9566</td>\n",
              "      <td id=\"T_3b8fa_row5_col3\" class=\"data row5 col3\" >0.7682</td>\n",
              "      <td id=\"T_3b8fa_row5_col4\" class=\"data row5 col4\" >0.8521</td>\n",
              "      <td id=\"T_3b8fa_row5_col5\" class=\"data row5 col5\" >0.0025</td>\n",
              "      <td id=\"T_3b8fa_row5_col6\" class=\"data row5 col6\" >0.0035</td>\n",
              "    </tr>\n",
              "    <tr>\n",
              "      <th id=\"T_3b8fa_level0_row6\" class=\"row_heading level0 row6\" >Std</th>\n",
              "      <td id=\"T_3b8fa_row6_col0\" class=\"data row6 col0\" >0.0072</td>\n",
              "      <td id=\"T_3b8fa_row6_col1\" class=\"data row6 col1\" >0.0349</td>\n",
              "      <td id=\"T_3b8fa_row6_col2\" class=\"data row6 col2\" >0.0102</td>\n",
              "      <td id=\"T_3b8fa_row6_col3\" class=\"data row6 col3\" >0.0030</td>\n",
              "      <td id=\"T_3b8fa_row6_col4\" class=\"data row6 col4\" >0.0048</td>\n",
              "      <td id=\"T_3b8fa_row6_col5\" class=\"data row6 col5\" >0.0214</td>\n",
              "      <td id=\"T_3b8fa_row6_col6\" class=\"data row6 col6\" >0.0312</td>\n",
              "    </tr>\n",
              "  </tbody>\n",
              "</table>\n"
            ]
          },
          "metadata": {}
        },
        {
          "output_type": "display_data",
          "data": {
            "text/plain": [
              "Processing:   0%|          | 0/4 [00:00<?, ?it/s]"
            ],
            "application/vnd.jupyter.widget-view+json": {
              "version_major": 2,
              "version_minor": 0,
              "model_id": "50fe69c176f3489594eff21a64810064"
            }
          },
          "metadata": {
            "application/vnd.jupyter.widget-view+json": {
              "colab": {
                "custom_widget_manager": {
                  "url": "https://ssl.gstatic.com/colaboratory-static/widgets/colab-cdn-widget-manager/b3e629b1971e1542/manager.min.js"
                }
              }
            }
          }
        },
        {
          "output_type": "display_data",
          "data": {
            "text/plain": [
              "<IPython.core.display.HTML object>"
            ],
            "text/html": []
          },
          "metadata": {}
        }
      ]
    },
    {
      "cell_type": "code",
      "source": [
        "plot_model(model_ve_gbc, plot = 'confusion_matrix')"
      ],
      "metadata": {
        "colab": {
          "base_uri": "https://localhost:8080/",
          "height": 297
        },
        "id": "Yk1qWsEasOr4",
        "outputId": "ddfbc36e-d2cf-4d01-c329-2bd9aa0d4786"
      },
      "execution_count": 77,
      "outputs": [
        {
          "output_type": "display_data",
          "data": {
            "text/plain": [
              "<IPython.core.display.HTML object>"
            ],
            "text/html": []
          },
          "metadata": {}
        },
        {
          "output_type": "display_data",
          "data": {
            "text/plain": [
              "<Figure size 432x288 with 1 Axes>"
            ],
            "image/png": "[encoded data removed]"
          },
          "metadata": {
            "needs_background": "light"
          }
        }
      ]
    },
    {
      "cell_type": "code",
      "source": [
        "model_ve_ada = create_model('ada', fold=5)"
      ],
      "metadata": {
        "colab": {
          "base_uri": "https://localhost:8080/",
          "height": 300,
          "referenced_widgets": [
            "059f49cee7c4451aa644e39f1da396f4",
            "e470c1f97cb54d539915a2a71d6f3d50",
            "121ce22c44004fb9be9ebfadf86748bf",
            "3a5d50247aed476ea8758a5e1068e89a",
            "2b4551fea4274da18d3670c0474b2d1f",
            "65861e8486634a17b70daf36a4009db0",
            "f4170b2739f842888531da3a732c11a3",
            "dca04c0a3dad462d9f0cb27299e49e1a",
            "1c8df57a91654e7a85e04d0392915a86",
            "6fa4df4be5de41f6888d173ff238df2d",
            "41645faf96a94d82b9a36f736a552024"
          ]
        },
        "id": "TQdrEyqwupjC",
        "outputId": "71c518a4-6b4f-4b76-8ea5-de8de550274f"
      },
      "execution_count": 79,
      "outputs": [
        {
          "output_type": "display_data",
          "data": {
            "text/plain": [
              "<IPython.core.display.HTML object>"
            ],
            "text/html": []
          },
          "metadata": {}
        },
        {
          "output_type": "display_data",
          "data": {
            "text/plain": [
              "<pandas.io.formats.style.Styler at 0x7f769b55d6a0>"
            ],
            "text/html": [
              "<style type=\"text/css\">\n",
              "#T_c477d_row5_col0, #T_c477d_row5_col1, #T_c477d_row5_col2, #T_c477d_row5_col3, #T_c477d_row5_col4, #T_c477d_row5_col5, #T_c477d_row5_col6 {\n",
              "  background: yellow;\n",
              "}\n",
              "</style>\n",
              "<table id=\"T_c477d_\" class=\"dataframe\">\n",
              "  <thead>\n",
              "    <tr>\n",
              "      <th class=\"blank level0\" >&nbsp;</th>\n",
              "      <th class=\"col_heading level0 col0\" >Accuracy</th>\n",
              "      <th class=\"col_heading level0 col1\" >AUC</th>\n",
              "      <th class=\"col_heading level0 col2\" >Recall</th>\n",
              "      <th class=\"col_heading level0 col3\" >Prec.</th>\n",
              "      <th class=\"col_heading level0 col4\" >F1</th>\n",
              "      <th class=\"col_heading level0 col5\" >Kappa</th>\n",
              "      <th class=\"col_heading level0 col6\" >MCC</th>\n",
              "    </tr>\n",
              "    <tr>\n",
              "      <th class=\"index_name level0\" >Fold</th>\n",
              "      <th class=\"blank col0\" >&nbsp;</th>\n",
              "      <th class=\"blank col1\" >&nbsp;</th>\n",
              "      <th class=\"blank col2\" >&nbsp;</th>\n",
              "      <th class=\"blank col3\" >&nbsp;</th>\n",
              "      <th class=\"blank col4\" >&nbsp;</th>\n",
              "      <th class=\"blank col5\" >&nbsp;</th>\n",
              "      <th class=\"blank col6\" >&nbsp;</th>\n",
              "    </tr>\n",
              "  </thead>\n",
              "  <tbody>\n",
              "    <tr>\n",
              "      <th id=\"T_c477d_level0_row0\" class=\"row_heading level0 row0\" >0</th>\n",
              "      <td id=\"T_c477d_row0_col0\" class=\"data row0 col0\" >0.6239</td>\n",
              "      <td id=\"T_c477d_row0_col1\" class=\"data row0 col1\" >0.5222</td>\n",
              "      <td id=\"T_c477d_row0_col2\" class=\"data row0 col2\" >0.7099</td>\n",
              "      <td id=\"T_c477d_row0_col3\" class=\"data row0 col3\" >0.7805</td>\n",
              "      <td id=\"T_c477d_row0_col4\" class=\"data row0 col4\" >0.7435</td>\n",
              "      <td id=\"T_c477d_row0_col5\" class=\"data row0 col5\" >0.0443</td>\n",
              "      <td id=\"T_c477d_row0_col6\" class=\"data row0 col6\" >0.0450</td>\n",
              "    </tr>\n",
              "    <tr>\n",
              "      <th id=\"T_c477d_level0_row1\" class=\"row_heading level0 row1\" >1</th>\n",
              "      <td id=\"T_c477d_row1_col0\" class=\"data row1 col0\" >0.6763</td>\n",
              "      <td id=\"T_c477d_row1_col1\" class=\"data row1 col1\" >0.5158</td>\n",
              "      <td id=\"T_c477d_row1_col2\" class=\"data row1 col2\" >0.8208</td>\n",
              "      <td id=\"T_c477d_row1_col3\" class=\"data row1 col3\" >0.7721</td>\n",
              "      <td id=\"T_c477d_row1_col4\" class=\"data row1 col4\" >0.7957</td>\n",
              "      <td id=\"T_c477d_row1_col5\" class=\"data row1 col5\" >0.0200</td>\n",
              "      <td id=\"T_c477d_row1_col6\" class=\"data row1 col6\" >0.0202</td>\n",
              "    </tr>\n",
              "    <tr>\n",
              "      <th id=\"T_c477d_level0_row2\" class=\"row_heading level0 row2\" >2</th>\n",
              "      <td id=\"T_c477d_row2_col0\" class=\"data row2 col0\" >0.6942</td>\n",
              "      <td id=\"T_c477d_row2_col1\" class=\"data row2 col1\" >0.5776</td>\n",
              "      <td id=\"T_c477d_row2_col2\" class=\"data row2 col2\" >0.8393</td>\n",
              "      <td id=\"T_c477d_row2_col3\" class=\"data row2 col3\" >0.7794</td>\n",
              "      <td id=\"T_c477d_row2_col4\" class=\"data row2 col4\" >0.8082</td>\n",
              "      <td id=\"T_c477d_row2_col5\" class=\"data row2 col5\" >0.0593</td>\n",
              "      <td id=\"T_c477d_row2_col6\" class=\"data row2 col6\" >0.0603</td>\n",
              "    </tr>\n",
              "    <tr>\n",
              "      <th id=\"T_c477d_level0_row3\" class=\"row_heading level0 row3\" >3</th>\n",
              "      <td id=\"T_c477d_row3_col0\" class=\"data row3 col0\" >0.6693</td>\n",
              "      <td id=\"T_c477d_row3_col1\" class=\"data row3 col1\" >0.5136</td>\n",
              "      <td id=\"T_c477d_row3_col2\" class=\"data row3 col2\" >0.8034</td>\n",
              "      <td id=\"T_c477d_row3_col3\" class=\"data row3 col3\" >0.7743</td>\n",
              "      <td id=\"T_c477d_row3_col4\" class=\"data row3 col4\" >0.7886</td>\n",
              "      <td id=\"T_c477d_row3_col5\" class=\"data row3 col5\" >0.0307</td>\n",
              "      <td id=\"T_c477d_row3_col6\" class=\"data row3 col6\" >0.0309</td>\n",
              "    </tr>\n",
              "    <tr>\n",
              "      <th id=\"T_c477d_level0_row4\" class=\"row_heading level0 row4\" >4</th>\n",
              "      <td id=\"T_c477d_row4_col0\" class=\"data row4 col0\" >0.7205</td>\n",
              "      <td id=\"T_c477d_row4_col1\" class=\"data row4 col1\" >0.5622</td>\n",
              "      <td id=\"T_c477d_row4_col2\" class=\"data row4 col2\" >0.8632</td>\n",
              "      <td id=\"T_c477d_row4_col3\" class=\"data row4 col3\" >0.7915</td>\n",
              "      <td id=\"T_c477d_row4_col4\" class=\"data row4 col4\" >0.8258</td>\n",
              "      <td id=\"T_c477d_row4_col5\" class=\"data row4 col5\" >0.1249</td>\n",
              "      <td id=\"T_c477d_row4_col6\" class=\"data row4 col6\" >0.1279</td>\n",
              "    </tr>\n",
              "    <tr>\n",
              "      <th id=\"T_c477d_level0_row5\" class=\"row_heading level0 row5\" >Mean</th>\n",
              "      <td id=\"T_c477d_row5_col0\" class=\"data row5 col0\" >0.6768</td>\n",
              "      <td id=\"T_c477d_row5_col1\" class=\"data row5 col1\" >0.5383</td>\n",
              "      <td id=\"T_c477d_row5_col2\" class=\"data row5 col2\" >0.8073</td>\n",
              "      <td id=\"T_c477d_row5_col3\" class=\"data row5 col3\" >0.7796</td>\n",
              "      <td id=\"T_c477d_row5_col4\" class=\"data row5 col4\" >0.7924</td>\n",
              "      <td id=\"T_c477d_row5_col5\" class=\"data row5 col5\" >0.0558</td>\n",
              "      <td id=\"T_c477d_row5_col6\" class=\"data row5 col6\" >0.0569</td>\n",
              "    </tr>\n",
              "    <tr>\n",
              "      <th id=\"T_c477d_level0_row6\" class=\"row_heading level0 row6\" >Std</th>\n",
              "      <td id=\"T_c477d_row6_col0\" class=\"data row6 col0\" >0.0318</td>\n",
              "      <td id=\"T_c477d_row6_col1\" class=\"data row6 col1\" >0.0264</td>\n",
              "      <td id=\"T_c477d_row6_col2\" class=\"data row6 col2\" >0.0526</td>\n",
              "      <td id=\"T_c477d_row6_col3\" class=\"data row6 col3\" >0.0068</td>\n",
              "      <td id=\"T_c477d_row6_col4\" class=\"data row6 col4\" >0.0275</td>\n",
              "      <td id=\"T_c477d_row6_col5\" class=\"data row6 col5\" >0.0369</td>\n",
              "      <td id=\"T_c477d_row6_col6\" class=\"data row6 col6\" >0.0380</td>\n",
              "    </tr>\n",
              "  </tbody>\n",
              "</table>\n"
            ]
          },
          "metadata": {}
        },
        {
          "output_type": "display_data",
          "data": {
            "text/plain": [
              "Processing:   0%|          | 0/4 [00:00<?, ?it/s]"
            ],
            "application/vnd.jupyter.widget-view+json": {
              "version_major": 2,
              "version_minor": 0,
              "model_id": "059f49cee7c4451aa644e39f1da396f4"
            }
          },
          "metadata": {
            "application/vnd.jupyter.widget-view+json": {
              "colab": {
                "custom_widget_manager": {
                  "url": "https://ssl.gstatic.com/colaboratory-static/widgets/colab-cdn-widget-manager/b3e629b1971e1542/manager.min.js"
                }
              }
            }
          }
        },
        {
          "output_type": "display_data",
          "data": {
            "text/plain": [
              "<IPython.core.display.HTML object>"
            ],
            "text/html": []
          },
          "metadata": {}
        },
        {
          "output_type": "display_data",
          "data": {
            "text/plain": [
              "<IPython.core.display.HTML object>"
            ],
            "text/html": []
          },
          "metadata": {}
        }
      ]
    },
    {
      "cell_type": "code",
      "source": [
        "plot_model(model_ve_ada, plot = 'confusion_matrix')"
      ],
      "metadata": {
        "colab": {
          "base_uri": "https://localhost:8080/",
          "height": 297
        },
        "id": "TxEmr3JKuplQ",
        "outputId": "625db2e3-4ec3-4a42-a38e-2c094f8613fb"
      },
      "execution_count": 80,
      "outputs": [
        {
          "output_type": "display_data",
          "data": {
            "text/plain": [
              "<IPython.core.display.HTML object>"
            ],
            "text/html": []
          },
          "metadata": {}
        },
        {
          "output_type": "display_data",
          "data": {
            "text/plain": [
              "<Figure size 432x288 with 1 Axes>"
            ],
            "image/png": "[encoded data removed]"
          },
          "metadata": {
            "needs_background": "light"
          }
        }
      ]
    },
    {
      "cell_type": "markdown",
      "source": [
        "#Hipótese 1"
      ],
      "metadata": {
        "id": "JO8NoS72vtYR"
      }
    },
    {
      "cell_type": "markdown",
      "source": [
        "E se tirarmos os jogos com derrota e trabalharmos apenas vitória ou empate, já que os dados de vitória e derrota são espelhados (assim como são os de empate)."
      ],
      "metadata": {
        "id": "f5kdN7mqvwvQ"
      }
    },
    {
      "cell_type": "code",
      "source": [
        "df_train_v_e = df_train.drop(df_train[df_train.Resultado == 1].index)"
      ],
      "metadata": {
        "id": "3tH9KN4pvv3-"
      },
      "execution_count": 81,
      "outputs": []
    },
    {
      "cell_type": "code",
      "source": [
        "df_train_v_e.Resultado.value_counts()"
      ],
      "metadata": {
        "colab": {
          "base_uri": "https://localhost:8080/"
        },
        "id": "VIcIrw8Pwoi2",
        "outputId": "45ea3203-e559-4a1d-b756-2852a68c53ca"
      },
      "execution_count": 82,
      "outputs": [
        {
          "output_type": "execute_result",
          "data": {
            "text/plain": [
              "2    2091\n",
              "0    1264\n",
              "Name: Resultado, dtype: int64"
            ]
          },
          "metadata": {},
          "execution_count": 82
        }
      ]
    },
    {
      "cell_type": "code",
      "source": [
        "df_train_v_e['Resultado_Empate'] = df_train_v_e['Resultado']\n",
        "df_train_v_e['Resultado_Empate'].replace(to_replace=2, value=1, inplace=True)"
      ],
      "metadata": {
        "id": "mxSkg4GDwv8e"
      },
      "execution_count": 84,
      "outputs": []
    },
    {
      "cell_type": "code",
      "source": [
        "df_train_v_e_cut = df_train_v_e[['TR_mean', 'TL_mean', 'TP_mean',\n",
        "                         'TC_mean', 'OR_mean', 'OL_mean',\n",
        "                         'OP_mean', 'OC_mean', 'TGL',\n",
        "                         'OGL', 'Resultado_Empate']]"
      ],
      "metadata": {
        "id": "-j6EQPwfw8gR"
      },
      "execution_count": 85,
      "outputs": []
    },
    {
      "cell_type": "code",
      "source": [
        "exp_clf2 = setup(data = df_train_v_e_cut, \n",
        "                 target = 'Resultado_Empate', \n",
        "                 polynomial_features = True,\n",
        "                 normalize = True,\n",
        "                 fix_imbalance = True) "
      ],
      "metadata": {
        "colab": {
          "base_uri": "https://localhost:8080/",
          "height": 833
        },
        "id": "ddvHlL_uw8nn",
        "outputId": "bf97c1e4-aa8e-4cf1-c69b-6df9f733b4ea"
      },
      "execution_count": 86,
      "outputs": [
        {
          "output_type": "display_data",
          "data": {
            "text/plain": [
              "<pandas.io.formats.style.Styler at 0x7f76a0547c40>"
            ],
            "text/html": [
              "<style type=\"text/css\">\n",
              "#T_953f6_row8_col1, #T_953f6_row12_col1, #T_953f6_row14_col1, #T_953f6_row16_col1 {\n",
              "  background-color: lightgreen;\n",
              "}\n",
              "</style>\n",
              "<table id=\"T_953f6_\" class=\"dataframe\">\n",
              "  <thead>\n",
              "    <tr>\n",
              "      <th class=\"blank level0\" >&nbsp;</th>\n",
              "      <th class=\"col_heading level0 col0\" >Description</th>\n",
              "      <th class=\"col_heading level0 col1\" >Value</th>\n",
              "    </tr>\n",
              "  </thead>\n",
              "  <tbody>\n",
              "    <tr>\n",
              "      <th id=\"T_953f6_level0_row0\" class=\"row_heading level0 row0\" >0</th>\n",
              "      <td id=\"T_953f6_row0_col0\" class=\"data row0 col0\" >Session id</td>\n",
              "      <td id=\"T_953f6_row0_col1\" class=\"data row0 col1\" >2281</td>\n",
              "    </tr>\n",
              "    <tr>\n",
              "      <th id=\"T_953f6_level0_row1\" class=\"row_heading level0 row1\" >1</th>\n",
              "      <td id=\"T_953f6_row1_col0\" class=\"data row1 col0\" >Target</td>\n",
              "      <td id=\"T_953f6_row1_col1\" class=\"data row1 col1\" >Resultado_Empate</td>\n",
              "    </tr>\n",
              "    <tr>\n",
              "      <th id=\"T_953f6_level0_row2\" class=\"row_heading level0 row2\" >2</th>\n",
              "      <td id=\"T_953f6_row2_col0\" class=\"data row2 col0\" >Target type</td>\n",
              "      <td id=\"T_953f6_row2_col1\" class=\"data row2 col1\" >Binary</td>\n",
              "    </tr>\n",
              "    <tr>\n",
              "      <th id=\"T_953f6_level0_row3\" class=\"row_heading level0 row3\" >3</th>\n",
              "      <td id=\"T_953f6_row3_col0\" class=\"data row3 col0\" >Original data shape</td>\n",
              "      <td id=\"T_953f6_row3_col1\" class=\"data row3 col1\" >(3355, 11)</td>\n",
              "    </tr>\n",
              "    <tr>\n",
              "      <th id=\"T_953f6_level0_row4\" class=\"row_heading level0 row4\" >4</th>\n",
              "      <td id=\"T_953f6_row4_col0\" class=\"data row4 col0\" >Transformed data shape</td>\n",
              "      <td id=\"T_953f6_row4_col1\" class=\"data row4 col1\" >(3933, 66)</td>\n",
              "    </tr>\n",
              "    <tr>\n",
              "      <th id=\"T_953f6_level0_row5\" class=\"row_heading level0 row5\" >5</th>\n",
              "      <td id=\"T_953f6_row5_col0\" class=\"data row5 col0\" >Transformed train set shape</td>\n",
              "      <td id=\"T_953f6_row5_col1\" class=\"data row5 col1\" >(2926, 66)</td>\n",
              "    </tr>\n",
              "    <tr>\n",
              "      <th id=\"T_953f6_level0_row6\" class=\"row_heading level0 row6\" >6</th>\n",
              "      <td id=\"T_953f6_row6_col0\" class=\"data row6 col0\" >Transformed test set shape</td>\n",
              "      <td id=\"T_953f6_row6_col1\" class=\"data row6 col1\" >(1007, 66)</td>\n",
              "    </tr>\n",
              "    <tr>\n",
              "      <th id=\"T_953f6_level0_row7\" class=\"row_heading level0 row7\" >7</th>\n",
              "      <td id=\"T_953f6_row7_col0\" class=\"data row7 col0\" >Numeric features</td>\n",
              "      <td id=\"T_953f6_row7_col1\" class=\"data row7 col1\" >10</td>\n",
              "    </tr>\n",
              "    <tr>\n",
              "      <th id=\"T_953f6_level0_row8\" class=\"row_heading level0 row8\" >8</th>\n",
              "      <td id=\"T_953f6_row8_col0\" class=\"data row8 col0\" >Preprocess</td>\n",
              "      <td id=\"T_953f6_row8_col1\" class=\"data row8 col1\" >True</td>\n",
              "    </tr>\n",
              "    <tr>\n",
              "      <th id=\"T_953f6_level0_row9\" class=\"row_heading level0 row9\" >9</th>\n",
              "      <td id=\"T_953f6_row9_col0\" class=\"data row9 col0\" >Imputation type</td>\n",
              "      <td id=\"T_953f6_row9_col1\" class=\"data row9 col1\" >simple</td>\n",
              "    </tr>\n",
              "    <tr>\n",
              "      <th id=\"T_953f6_level0_row10\" class=\"row_heading level0 row10\" >10</th>\n",
              "      <td id=\"T_953f6_row10_col0\" class=\"data row10 col0\" >Numeric imputation</td>\n",
              "      <td id=\"T_953f6_row10_col1\" class=\"data row10 col1\" >mean</td>\n",
              "    </tr>\n",
              "    <tr>\n",
              "      <th id=\"T_953f6_level0_row11\" class=\"row_heading level0 row11\" >11</th>\n",
              "      <td id=\"T_953f6_row11_col0\" class=\"data row11 col0\" >Categorical imputation</td>\n",
              "      <td id=\"T_953f6_row11_col1\" class=\"data row11 col1\" >mode</td>\n",
              "    </tr>\n",
              "    <tr>\n",
              "      <th id=\"T_953f6_level0_row12\" class=\"row_heading level0 row12\" >12</th>\n",
              "      <td id=\"T_953f6_row12_col0\" class=\"data row12 col0\" >Polynomial features</td>\n",
              "      <td id=\"T_953f6_row12_col1\" class=\"data row12 col1\" >True</td>\n",
              "    </tr>\n",
              "    <tr>\n",
              "      <th id=\"T_953f6_level0_row13\" class=\"row_heading level0 row13\" >13</th>\n",
              "      <td id=\"T_953f6_row13_col0\" class=\"data row13 col0\" >Polynomial degree</td>\n",
              "      <td id=\"T_953f6_row13_col1\" class=\"data row13 col1\" >2</td>\n",
              "    </tr>\n",
              "    <tr>\n",
              "      <th id=\"T_953f6_level0_row14\" class=\"row_heading level0 row14\" >14</th>\n",
              "      <td id=\"T_953f6_row14_col0\" class=\"data row14 col0\" >Fix imbalance</td>\n",
              "      <td id=\"T_953f6_row14_col1\" class=\"data row14 col1\" >True</td>\n",
              "    </tr>\n",
              "    <tr>\n",
              "      <th id=\"T_953f6_level0_row15\" class=\"row_heading level0 row15\" >15</th>\n",
              "      <td id=\"T_953f6_row15_col0\" class=\"data row15 col0\" >Fix imbalance method</td>\n",
              "      <td id=\"T_953f6_row15_col1\" class=\"data row15 col1\" >SMOTE</td>\n",
              "    </tr>\n",
              "    <tr>\n",
              "      <th id=\"T_953f6_level0_row16\" class=\"row_heading level0 row16\" >16</th>\n",
              "      <td id=\"T_953f6_row16_col0\" class=\"data row16 col0\" >Normalize</td>\n",
              "      <td id=\"T_953f6_row16_col1\" class=\"data row16 col1\" >True</td>\n",
              "    </tr>\n",
              "    <tr>\n",
              "      <th id=\"T_953f6_level0_row17\" class=\"row_heading level0 row17\" >17</th>\n",
              "      <td id=\"T_953f6_row17_col0\" class=\"data row17 col0\" >Normalize method</td>\n",
              "      <td id=\"T_953f6_row17_col1\" class=\"data row17 col1\" >zscore</td>\n",
              "    </tr>\n",
              "    <tr>\n",
              "      <th id=\"T_953f6_level0_row18\" class=\"row_heading level0 row18\" >18</th>\n",
              "      <td id=\"T_953f6_row18_col0\" class=\"data row18 col0\" >Fold Generator</td>\n",
              "      <td id=\"T_953f6_row18_col1\" class=\"data row18 col1\" >StratifiedKFold</td>\n",
              "    </tr>\n",
              "    <tr>\n",
              "      <th id=\"T_953f6_level0_row19\" class=\"row_heading level0 row19\" >19</th>\n",
              "      <td id=\"T_953f6_row19_col0\" class=\"data row19 col0\" >Fold Number</td>\n",
              "      <td id=\"T_953f6_row19_col1\" class=\"data row19 col1\" >10</td>\n",
              "    </tr>\n",
              "    <tr>\n",
              "      <th id=\"T_953f6_level0_row20\" class=\"row_heading level0 row20\" >20</th>\n",
              "      <td id=\"T_953f6_row20_col0\" class=\"data row20 col0\" >CPU Jobs</td>\n",
              "      <td id=\"T_953f6_row20_col1\" class=\"data row20 col1\" >-1</td>\n",
              "    </tr>\n",
              "    <tr>\n",
              "      <th id=\"T_953f6_level0_row21\" class=\"row_heading level0 row21\" >21</th>\n",
              "      <td id=\"T_953f6_row21_col0\" class=\"data row21 col0\" >Use GPU</td>\n",
              "      <td id=\"T_953f6_row21_col1\" class=\"data row21 col1\" >False</td>\n",
              "    </tr>\n",
              "    <tr>\n",
              "      <th id=\"T_953f6_level0_row22\" class=\"row_heading level0 row22\" >22</th>\n",
              "      <td id=\"T_953f6_row22_col0\" class=\"data row22 col0\" >Log Experiment</td>\n",
              "      <td id=\"T_953f6_row22_col1\" class=\"data row22 col1\" >False</td>\n",
              "    </tr>\n",
              "    <tr>\n",
              "      <th id=\"T_953f6_level0_row23\" class=\"row_heading level0 row23\" >23</th>\n",
              "      <td id=\"T_953f6_row23_col0\" class=\"data row23 col0\" >Experiment Name</td>\n",
              "      <td id=\"T_953f6_row23_col1\" class=\"data row23 col1\" >clf-default-name</td>\n",
              "    </tr>\n",
              "    <tr>\n",
              "      <th id=\"T_953f6_level0_row24\" class=\"row_heading level0 row24\" >24</th>\n",
              "      <td id=\"T_953f6_row24_col0\" class=\"data row24 col0\" >USI</td>\n",
              "      <td id=\"T_953f6_row24_col1\" class=\"data row24 col1\" >37fd</td>\n",
              "    </tr>\n",
              "  </tbody>\n",
              "</table>\n"
            ]
          },
          "metadata": {}
        }
      ]
    },
    {
      "cell_type": "code",
      "source": [
        "%%time\n",
        "\n",
        "best_model = compare_models(fold=5, sort='Prec.')"
      ],
      "metadata": {
        "colab": {
          "base_uri": "https://localhost:8080/",
          "height": 523,
          "referenced_widgets": [
            "afc27d14b31142f48304c194bdfdeab6",
            "36622279d4b84adbab3698c230bd3211",
            "d3e2bdbdedfb448ba002538982504be1",
            "37a1e14490ed4ee480cc0f33f5cf2ff9",
            "c8990fea85fe4cf08e0aaf8f3f7ca856",
            "cea0e7829df444d79dc18858dd2e763a",
            "b00eb1c48d4a4029a884c750ae1da000",
            "feacd3f517234b3685a5a9ad600a1a2c",
            "fded0ac46d0e409a83042a91b6056fcb",
            "f6d6c4bad3a648058f8d5a32894249cb",
            "4d258c1a558a4d2ab9d68e02cd89ba08"
          ]
        },
        "id": "fpUPYpwkxXO5",
        "outputId": "e7154613-8d42-4f2e-8b01-2cf9194b754c"
      },
      "execution_count": 87,
      "outputs": [
        {
          "output_type": "display_data",
          "data": {
            "text/plain": [
              "<IPython.core.display.HTML object>"
            ],
            "text/html": []
          },
          "metadata": {}
        },
        {
          "output_type": "display_data",
          "data": {
            "text/plain": [
              "<pandas.io.formats.style.Styler at 0x7f76a0c13d00>"
            ],
            "text/html": [
              "<style type=\"text/css\">\n",
              "#T_44230_ th {\n",
              "  text-align: left;\n",
              "}\n",
              "#T_44230_row0_col0, #T_44230_row0_col1, #T_44230_row0_col3, #T_44230_row0_col5, #T_44230_row0_col6, #T_44230_row0_col7, #T_44230_row1_col0, #T_44230_row1_col1, #T_44230_row1_col2, #T_44230_row1_col3, #T_44230_row1_col4, #T_44230_row1_col5, #T_44230_row2_col0, #T_44230_row2_col1, #T_44230_row2_col2, #T_44230_row2_col3, #T_44230_row2_col4, #T_44230_row2_col5, #T_44230_row2_col6, #T_44230_row2_col7, #T_44230_row3_col0, #T_44230_row3_col1, #T_44230_row3_col2, #T_44230_row3_col3, #T_44230_row3_col4, #T_44230_row3_col5, #T_44230_row3_col6, #T_44230_row3_col7, #T_44230_row4_col0, #T_44230_row4_col1, #T_44230_row4_col2, #T_44230_row4_col3, #T_44230_row4_col4, #T_44230_row4_col5, #T_44230_row4_col6, #T_44230_row4_col7, #T_44230_row5_col0, #T_44230_row5_col2, #T_44230_row5_col3, #T_44230_row5_col4, #T_44230_row5_col5, #T_44230_row5_col6, #T_44230_row5_col7, #T_44230_row6_col0, #T_44230_row6_col1, #T_44230_row6_col2, #T_44230_row6_col3, #T_44230_row6_col4, #T_44230_row6_col5, #T_44230_row6_col6, #T_44230_row6_col7, #T_44230_row7_col0, #T_44230_row7_col1, #T_44230_row7_col2, #T_44230_row7_col3, #T_44230_row7_col4, #T_44230_row7_col5, #T_44230_row7_col6, #T_44230_row7_col7, #T_44230_row8_col0, #T_44230_row8_col1, #T_44230_row8_col2, #T_44230_row8_col3, #T_44230_row8_col4, #T_44230_row8_col5, #T_44230_row8_col6, #T_44230_row8_col7, #T_44230_row9_col0, #T_44230_row9_col1, #T_44230_row9_col2, #T_44230_row9_col3, #T_44230_row9_col4, #T_44230_row9_col5, #T_44230_row9_col6, #T_44230_row9_col7, #T_44230_row10_col0, #T_44230_row10_col1, #T_44230_row10_col2, #T_44230_row10_col3, #T_44230_row10_col4, #T_44230_row10_col5, #T_44230_row10_col6, #T_44230_row10_col7, #T_44230_row11_col0, #T_44230_row11_col1, #T_44230_row11_col2, #T_44230_row11_col3, #T_44230_row11_col4, #T_44230_row11_col5, #T_44230_row11_col6, #T_44230_row11_col7, #T_44230_row12_col0, #T_44230_row12_col1, #T_44230_row12_col2, #T_44230_row12_col4, #T_44230_row12_col6, #T_44230_row12_col7, #T_44230_row13_col0, #T_44230_row13_col1, #T_44230_row13_col2, #T_44230_row13_col3, #T_44230_row13_col4, #T_44230_row13_col5, #T_44230_row13_col6, #T_44230_row13_col7 {\n",
              "  text-align: left;\n",
              "}\n",
              "#T_44230_row0_col2, #T_44230_row0_col4, #T_44230_row1_col6, #T_44230_row1_col7, #T_44230_row5_col1, #T_44230_row12_col3, #T_44230_row12_col5 {\n",
              "  text-align: left;\n",
              "  background-color: yellow;\n",
              "}\n",
              "#T_44230_row0_col8, #T_44230_row1_col8, #T_44230_row2_col8, #T_44230_row3_col8, #T_44230_row4_col8, #T_44230_row5_col8, #T_44230_row6_col8, #T_44230_row7_col8, #T_44230_row8_col8, #T_44230_row9_col8, #T_44230_row10_col8, #T_44230_row11_col8, #T_44230_row12_col8 {\n",
              "  text-align: left;\n",
              "  background-color: lightgrey;\n",
              "}\n",
              "#T_44230_row13_col8 {\n",
              "  text-align: left;\n",
              "  background-color: yellow;\n",
              "  background-color: lightgrey;\n",
              "}\n",
              "</style>\n",
              "<table id=\"T_44230_\" class=\"dataframe\">\n",
              "  <thead>\n",
              "    <tr>\n",
              "      <th class=\"blank level0\" >&nbsp;</th>\n",
              "      <th class=\"col_heading level0 col0\" >Model</th>\n",
              "      <th class=\"col_heading level0 col1\" >Accuracy</th>\n",
              "      <th class=\"col_heading level0 col2\" >AUC</th>\n",
              "      <th class=\"col_heading level0 col3\" >Recall</th>\n",
              "      <th class=\"col_heading level0 col4\" >Prec.</th>\n",
              "      <th class=\"col_heading level0 col5\" >F1</th>\n",
              "      <th class=\"col_heading level0 col6\" >Kappa</th>\n",
              "      <th class=\"col_heading level0 col7\" >MCC</th>\n",
              "      <th class=\"col_heading level0 col8\" >TT (Sec)</th>\n",
              "    </tr>\n",
              "  </thead>\n",
              "  <tbody>\n",
              "    <tr>\n",
              "      <th id=\"T_44230_level0_row0\" class=\"row_heading level0 row0\" >nb</th>\n",
              "      <td id=\"T_44230_row0_col0\" class=\"data row0 col0\" >Naive Bayes</td>\n",
              "      <td id=\"T_44230_row0_col1\" class=\"data row0 col1\" >0.5720</td>\n",
              "      <td id=\"T_44230_row0_col2\" class=\"data row0 col2\" >0.6039</td>\n",
              "      <td id=\"T_44230_row0_col3\" class=\"data row0 col3\" >0.5714</td>\n",
              "      <td id=\"T_44230_row0_col4\" class=\"data row0 col4\" >0.6888</td>\n",
              "      <td id=\"T_44230_row0_col5\" class=\"data row0 col5\" >0.6245</td>\n",
              "      <td id=\"T_44230_row0_col6\" class=\"data row0 col6\" >0.1366</td>\n",
              "      <td id=\"T_44230_row0_col7\" class=\"data row0 col7\" >0.1400</td>\n",
              "      <td id=\"T_44230_row0_col8\" class=\"data row0 col8\" >0.0980</td>\n",
              "    </tr>\n",
              "    <tr>\n",
              "      <th id=\"T_44230_level0_row1\" class=\"row_heading level0 row1\" >lr</th>\n",
              "      <td id=\"T_44230_row1_col0\" class=\"data row1 col0\" >Logistic Regression</td>\n",
              "      <td id=\"T_44230_row1_col1\" class=\"data row1 col1\" >0.5758</td>\n",
              "      <td id=\"T_44230_row1_col2\" class=\"data row1 col2\" >0.5944</td>\n",
              "      <td id=\"T_44230_row1_col3\" class=\"data row1 col3\" >0.5858</td>\n",
              "      <td id=\"T_44230_row1_col4\" class=\"data row1 col4\" >0.6879</td>\n",
              "      <td id=\"T_44230_row1_col5\" class=\"data row1 col5\" >0.6323</td>\n",
              "      <td id=\"T_44230_row1_col6\" class=\"data row1 col6\" >0.1382</td>\n",
              "      <td id=\"T_44230_row1_col7\" class=\"data row1 col7\" >0.1411</td>\n",
              "      <td id=\"T_44230_row1_col8\" class=\"data row1 col8\" >1.0060</td>\n",
              "    </tr>\n",
              "    <tr>\n",
              "      <th id=\"T_44230_level0_row2\" class=\"row_heading level0 row2\" >ridge</th>\n",
              "      <td id=\"T_44230_row2_col0\" class=\"data row2 col0\" >Ridge Classifier</td>\n",
              "      <td id=\"T_44230_row2_col1\" class=\"data row2 col1\" >0.5724</td>\n",
              "      <td id=\"T_44230_row2_col2\" class=\"data row2 col2\" >0.0000</td>\n",
              "      <td id=\"T_44230_row2_col3\" class=\"data row2 col3\" >0.5837</td>\n",
              "      <td id=\"T_44230_row2_col4\" class=\"data row2 col4\" >0.6842</td>\n",
              "      <td id=\"T_44230_row2_col5\" class=\"data row2 col5\" >0.6295</td>\n",
              "      <td id=\"T_44230_row2_col6\" class=\"data row2 col6\" >0.1310</td>\n",
              "      <td id=\"T_44230_row2_col7\" class=\"data row2 col7\" >0.1337</td>\n",
              "      <td id=\"T_44230_row2_col8\" class=\"data row2 col8\" >0.0840</td>\n",
              "    </tr>\n",
              "    <tr>\n",
              "      <th id=\"T_44230_level0_row3\" class=\"row_heading level0 row3\" >lda</th>\n",
              "      <td id=\"T_44230_row3_col0\" class=\"data row3 col0\" >Linear Discriminant Analysis</td>\n",
              "      <td id=\"T_44230_row3_col1\" class=\"data row3 col1\" >0.5741</td>\n",
              "      <td id=\"T_44230_row3_col2\" class=\"data row3 col2\" >0.5918</td>\n",
              "      <td id=\"T_44230_row3_col3\" class=\"data row3 col3\" >0.5892</td>\n",
              "      <td id=\"T_44230_row3_col4\" class=\"data row3 col4\" >0.6842</td>\n",
              "      <td id=\"T_44230_row3_col5\" class=\"data row3 col5\" >0.6325</td>\n",
              "      <td id=\"T_44230_row3_col6\" class=\"data row3 col6\" >0.1322</td>\n",
              "      <td id=\"T_44230_row3_col7\" class=\"data row3 col7\" >0.1348</td>\n",
              "      <td id=\"T_44230_row3_col8\" class=\"data row3 col8\" >0.1140</td>\n",
              "    </tr>\n",
              "    <tr>\n",
              "      <th id=\"T_44230_level0_row4\" class=\"row_heading level0 row4\" >ada</th>\n",
              "      <td id=\"T_44230_row4_col0\" class=\"data row4 col0\" >Ada Boost Classifier</td>\n",
              "      <td id=\"T_44230_row4_col1\" class=\"data row4 col1\" >0.5758</td>\n",
              "      <td id=\"T_44230_row4_col2\" class=\"data row4 col2\" >0.5776</td>\n",
              "      <td id=\"T_44230_row4_col3\" class=\"data row4 col3\" >0.6589</td>\n",
              "      <td id=\"T_44230_row4_col4\" class=\"data row4 col4\" >0.6599</td>\n",
              "      <td id=\"T_44230_row4_col5\" class=\"data row4 col5\" >0.6593</td>\n",
              "      <td id=\"T_44230_row4_col6\" class=\"data row4 col6\" >0.0973</td>\n",
              "      <td id=\"T_44230_row4_col7\" class=\"data row4 col7\" >0.0973</td>\n",
              "      <td id=\"T_44230_row4_col8\" class=\"data row4 col8\" >0.4760</td>\n",
              "    </tr>\n",
              "    <tr>\n",
              "      <th id=\"T_44230_level0_row5\" class=\"row_heading level0 row5\" >rf</th>\n",
              "      <td id=\"T_44230_row5_col0\" class=\"data row5 col0\" >Random Forest Classifier</td>\n",
              "      <td id=\"T_44230_row5_col1\" class=\"data row5 col1\" >0.5933</td>\n",
              "      <td id=\"T_44230_row5_col2\" class=\"data row5 col2\" >0.5751</td>\n",
              "      <td id=\"T_44230_row5_col3\" class=\"data row5 col3\" >0.7279</td>\n",
              "      <td id=\"T_44230_row5_col4\" class=\"data row5 col4\" >0.6568</td>\n",
              "      <td id=\"T_44230_row5_col5\" class=\"data row5 col5\" >0.6904</td>\n",
              "      <td id=\"T_44230_row5_col6\" class=\"data row5 col6\" >0.1020</td>\n",
              "      <td id=\"T_44230_row5_col7\" class=\"data row5 col7\" >0.1032</td>\n",
              "      <td id=\"T_44230_row5_col8\" class=\"data row5 col8\" >1.0320</td>\n",
              "    </tr>\n",
              "    <tr>\n",
              "      <th id=\"T_44230_level0_row6\" class=\"row_heading level0 row6\" >gbc</th>\n",
              "      <td id=\"T_44230_row6_col0\" class=\"data row6 col0\" >Gradient Boosting Classifier</td>\n",
              "      <td id=\"T_44230_row6_col1\" class=\"data row6 col1\" >0.5911</td>\n",
              "      <td id=\"T_44230_row6_col2\" class=\"data row6 col2\" >0.5859</td>\n",
              "      <td id=\"T_44230_row6_col3\" class=\"data row6 col3\" >0.7259</td>\n",
              "      <td id=\"T_44230_row6_col4\" class=\"data row6 col4\" >0.6553</td>\n",
              "      <td id=\"T_44230_row6_col5\" class=\"data row6 col5\" >0.6886</td>\n",
              "      <td id=\"T_44230_row6_col6\" class=\"data row6 col6\" >0.0976</td>\n",
              "      <td id=\"T_44230_row6_col7\" class=\"data row6 col7\" >0.0987</td>\n",
              "      <td id=\"T_44230_row6_col8\" class=\"data row6 col8\" >1.6620</td>\n",
              "    </tr>\n",
              "    <tr>\n",
              "      <th id=\"T_44230_level0_row7\" class=\"row_heading level0 row7\" >et</th>\n",
              "      <td id=\"T_44230_row7_col0\" class=\"data row7 col0\" >Extra Trees Classifier</td>\n",
              "      <td id=\"T_44230_row7_col1\" class=\"data row7 col1\" >0.5835</td>\n",
              "      <td id=\"T_44230_row7_col2\" class=\"data row7 col2\" >0.5694</td>\n",
              "      <td id=\"T_44230_row7_col3\" class=\"data row7 col3\" >0.7163</td>\n",
              "      <td id=\"T_44230_row7_col4\" class=\"data row7 col4\" >0.6503</td>\n",
              "      <td id=\"T_44230_row7_col5\" class=\"data row7 col5\" >0.6814</td>\n",
              "      <td id=\"T_44230_row7_col6\" class=\"data row7 col6\" >0.0833</td>\n",
              "      <td id=\"T_44230_row7_col7\" class=\"data row7 col7\" >0.0846</td>\n",
              "      <td id=\"T_44230_row7_col8\" class=\"data row7 col8\" >0.5560</td>\n",
              "    </tr>\n",
              "    <tr>\n",
              "      <th id=\"T_44230_level0_row8\" class=\"row_heading level0 row8\" >lightgbm</th>\n",
              "      <td id=\"T_44230_row8_col0\" class=\"data row8 col0\" >Light Gradient Boosting Machine</td>\n",
              "      <td id=\"T_44230_row8_col1\" class=\"data row8 col1\" >0.5818</td>\n",
              "      <td id=\"T_44230_row8_col2\" class=\"data row8 col2\" >0.5633</td>\n",
              "      <td id=\"T_44230_row8_col3\" class=\"data row8 col3\" >0.7122</td>\n",
              "      <td id=\"T_44230_row8_col4\" class=\"data row8 col4\" >0.6503</td>\n",
              "      <td id=\"T_44230_row8_col5\" class=\"data row8 col5\" >0.6794</td>\n",
              "      <td id=\"T_44230_row8_col6\" class=\"data row8 col6\" >0.0806</td>\n",
              "      <td id=\"T_44230_row8_col7\" class=\"data row8 col7\" >0.0815</td>\n",
              "      <td id=\"T_44230_row8_col8\" class=\"data row8 col8\" >0.7880</td>\n",
              "    </tr>\n",
              "    <tr>\n",
              "      <th id=\"T_44230_level0_row9\" class=\"row_heading level0 row9\" >knn</th>\n",
              "      <td id=\"T_44230_row9_col0\" class=\"data row9 col0\" >K Neighbors Classifier</td>\n",
              "      <td id=\"T_44230_row9_col1\" class=\"data row9 col1\" >0.5358</td>\n",
              "      <td id=\"T_44230_row9_col2\" class=\"data row9 col2\" >0.5321</td>\n",
              "      <td id=\"T_44230_row9_col3\" class=\"data row9 col3\" >0.5550</td>\n",
              "      <td id=\"T_44230_row9_col4\" class=\"data row9 col4\" >0.6488</td>\n",
              "      <td id=\"T_44230_row9_col5\" class=\"data row9 col5\" >0.5978</td>\n",
              "      <td id=\"T_44230_row9_col6\" class=\"data row9 col6\" >0.0566</td>\n",
              "      <td id=\"T_44230_row9_col7\" class=\"data row9 col7\" >0.0575</td>\n",
              "      <td id=\"T_44230_row9_col8\" class=\"data row9 col8\" >0.6160</td>\n",
              "    </tr>\n",
              "    <tr>\n",
              "      <th id=\"T_44230_level0_row10\" class=\"row_heading level0 row10\" >dt</th>\n",
              "      <td id=\"T_44230_row10_col0\" class=\"data row10 col0\" >Decision Tree Classifier</td>\n",
              "      <td id=\"T_44230_row10_col1\" class=\"data row10 col1\" >0.5434</td>\n",
              "      <td id=\"T_44230_row10_col2\" class=\"data row10 col2\" >0.5216</td>\n",
              "      <td id=\"T_44230_row10_col3\" class=\"data row10 col3\" >0.6104</td>\n",
              "      <td id=\"T_44230_row10_col4\" class=\"data row10 col4\" >0.6401</td>\n",
              "      <td id=\"T_44230_row10_col5\" class=\"data row10 col5\" >0.6247</td>\n",
              "      <td id=\"T_44230_row10_col6\" class=\"data row10 col6\" >0.0426</td>\n",
              "      <td id=\"T_44230_row10_col7\" class=\"data row10 col7\" >0.0427</td>\n",
              "      <td id=\"T_44230_row10_col8\" class=\"data row10 col8\" >0.1620</td>\n",
              "    </tr>\n",
              "    <tr>\n",
              "      <th id=\"T_44230_level0_row11\" class=\"row_heading level0 row11\" >svm</th>\n",
              "      <td id=\"T_44230_row11_col0\" class=\"data row11 col0\" >SVM - Linear Kernel</td>\n",
              "      <td id=\"T_44230_row11_col1\" class=\"data row11 col1\" >0.5264</td>\n",
              "      <td id=\"T_44230_row11_col2\" class=\"data row11 col2\" >0.0000</td>\n",
              "      <td id=\"T_44230_row11_col3\" class=\"data row11 col3\" >0.5735</td>\n",
              "      <td id=\"T_44230_row11_col4\" class=\"data row11 col4\" >0.6316</td>\n",
              "      <td id=\"T_44230_row11_col5\" class=\"data row11 col5\" >0.5992</td>\n",
              "      <td id=\"T_44230_row11_col6\" class=\"data row11 col6\" >0.0220</td>\n",
              "      <td id=\"T_44230_row11_col7\" class=\"data row11 col7\" >0.0222</td>\n",
              "      <td id=\"T_44230_row11_col8\" class=\"data row11 col8\" >0.1260</td>\n",
              "    </tr>\n",
              "    <tr>\n",
              "      <th id=\"T_44230_level0_row12\" class=\"row_heading level0 row12\" >qda</th>\n",
              "      <td id=\"T_44230_row12_col0\" class=\"data row12 col0\" >Quadratic Discriminant Analysis</td>\n",
              "      <td id=\"T_44230_row12_col1\" class=\"data row12 col1\" >0.5694</td>\n",
              "      <td id=\"T_44230_row12_col2\" class=\"data row12 col2\" >0.4947</td>\n",
              "      <td id=\"T_44230_row12_col3\" class=\"data row12 col3\" >0.7985</td>\n",
              "      <td id=\"T_44230_row12_col4\" class=\"data row12 col4\" >0.6209</td>\n",
              "      <td id=\"T_44230_row12_col5\" class=\"data row12 col5\" >0.6935</td>\n",
              "      <td id=\"T_44230_row12_col6\" class=\"data row12 col6\" >-0.0128</td>\n",
              "      <td id=\"T_44230_row12_col7\" class=\"data row12 col7\" >-0.0134</td>\n",
              "      <td id=\"T_44230_row12_col8\" class=\"data row12 col8\" >0.1220</td>\n",
              "    </tr>\n",
              "    <tr>\n",
              "      <th id=\"T_44230_level0_row13\" class=\"row_heading level0 row13\" >dummy</th>\n",
              "      <td id=\"T_44230_row13_col0\" class=\"data row13 col0\" >Dummy Classifier</td>\n",
              "      <td id=\"T_44230_row13_col1\" class=\"data row13 col1\" >0.3769</td>\n",
              "      <td id=\"T_44230_row13_col2\" class=\"data row13 col2\" >0.5000</td>\n",
              "      <td id=\"T_44230_row13_col3\" class=\"data row13 col3\" >0.0000</td>\n",
              "      <td id=\"T_44230_row13_col4\" class=\"data row13 col4\" >0.0000</td>\n",
              "      <td id=\"T_44230_row13_col5\" class=\"data row13 col5\" >0.0000</td>\n",
              "      <td id=\"T_44230_row13_col6\" class=\"data row13 col6\" >0.0000</td>\n",
              "      <td id=\"T_44230_row13_col7\" class=\"data row13 col7\" >0.0000</td>\n",
              "      <td id=\"T_44230_row13_col8\" class=\"data row13 col8\" >0.0800</td>\n",
              "    </tr>\n",
              "  </tbody>\n",
              "</table>\n"
            ]
          },
          "metadata": {}
        },
        {
          "output_type": "display_data",
          "data": {
            "text/plain": [
              "Processing:   0%|          | 0/61 [00:00<?, ?it/s]"
            ],
            "application/vnd.jupyter.widget-view+json": {
              "version_major": 2,
              "version_minor": 0,
              "model_id": "afc27d14b31142f48304c194bdfdeab6"
            }
          },
          "metadata": {
            "application/vnd.jupyter.widget-view+json": {
              "colab": {
                "custom_widget_manager": {
                  "url": "https://ssl.gstatic.com/colaboratory-static/widgets/colab-cdn-widget-manager/b3e629b1971e1542/manager.min.js"
                }
              }
            }
          }
        },
        {
          "output_type": "display_data",
          "data": {
            "text/plain": [
              "<IPython.core.display.HTML object>"
            ],
            "text/html": []
          },
          "metadata": {}
        },
        {
          "output_type": "stream",
          "name": "stdout",
          "text": [
            "CPU times: user 7.35 s, sys: 195 ms, total: 7.55 s\n",
            "Wall time: 42.2 s\n"
          ]
        }
      ]
    },
    {
      "cell_type": "code",
      "source": [
        "model_ve_rf = create_model('rf', fold=5)"
      ],
      "metadata": {
        "colab": {
          "base_uri": "https://localhost:8080/",
          "height": 300,
          "referenced_widgets": [
            "4084bd89085843d19c9d3908ceaa0b0b",
            "3257ed3b9a324edeb58bd6a6f4ce8189",
            "0072fd4302a74990a65a6e8c831395cc",
            "6936d83ec58b41e38f9cc07599b61938",
            "169a2e28c61f44a4a1f93370ab7ef2ff",
            "1fabe7a013b24bf38f4dc9e88443fab7",
            "e17de2edd5f64e0ca9dae7b588bdd27c",
            "f9ddc412d13c425889be79cb7cfeabd9",
            "36519adc258e42778c0cc683db1dbf2c",
            "08949d6b5fca4a52b6841ca0bb974068",
            "ca8b88529d2d4c72a34be74305b29b42"
          ]
        },
        "id": "CwCWdh9Axl1v",
        "outputId": "a5b413aa-9c48-469b-cbf5-ba5fe7792c5b"
      },
      "execution_count": 93,
      "outputs": [
        {
          "output_type": "display_data",
          "data": {
            "text/plain": [
              "<IPython.core.display.HTML object>"
            ],
            "text/html": []
          },
          "metadata": {}
        },
        {
          "output_type": "display_data",
          "data": {
            "text/plain": [
              "<pandas.io.formats.style.Styler at 0x7f76b036be20>"
            ],
            "text/html": [
              "<style type=\"text/css\">\n",
              "#T_13ad6_row5_col0, #T_13ad6_row5_col1, #T_13ad6_row5_col2, #T_13ad6_row5_col3, #T_13ad6_row5_col4, #T_13ad6_row5_col5, #T_13ad6_row5_col6 {\n",
              "  background: yellow;\n",
              "}\n",
              "</style>\n",
              "<table id=\"T_13ad6_\" class=\"dataframe\">\n",
              "  <thead>\n",
              "    <tr>\n",
              "      <th class=\"blank level0\" >&nbsp;</th>\n",
              "      <th class=\"col_heading level0 col0\" >Accuracy</th>\n",
              "      <th class=\"col_heading level0 col1\" >AUC</th>\n",
              "      <th class=\"col_heading level0 col2\" >Recall</th>\n",
              "      <th class=\"col_heading level0 col3\" >Prec.</th>\n",
              "      <th class=\"col_heading level0 col4\" >F1</th>\n",
              "      <th class=\"col_heading level0 col5\" >Kappa</th>\n",
              "      <th class=\"col_heading level0 col6\" >MCC</th>\n",
              "    </tr>\n",
              "    <tr>\n",
              "      <th class=\"index_name level0\" >Fold</th>\n",
              "      <th class=\"blank col0\" >&nbsp;</th>\n",
              "      <th class=\"blank col1\" >&nbsp;</th>\n",
              "      <th class=\"blank col2\" >&nbsp;</th>\n",
              "      <th class=\"blank col3\" >&nbsp;</th>\n",
              "      <th class=\"blank col4\" >&nbsp;</th>\n",
              "      <th class=\"blank col5\" >&nbsp;</th>\n",
              "      <th class=\"blank col6\" >&nbsp;</th>\n",
              "    </tr>\n",
              "  </thead>\n",
              "  <tbody>\n",
              "    <tr>\n",
              "      <th id=\"T_13ad6_level0_row0\" class=\"row_heading level0 row0\" >0</th>\n",
              "      <td id=\"T_13ad6_row0_col0\" class=\"data row0 col0\" >0.5426</td>\n",
              "      <td id=\"T_13ad6_row0_col1\" class=\"data row0 col1\" >0.5321</td>\n",
              "      <td id=\"T_13ad6_row0_col2\" class=\"data row0 col2\" >0.6587</td>\n",
              "      <td id=\"T_13ad6_row0_col3\" class=\"data row0 col3\" >0.6266</td>\n",
              "      <td id=\"T_13ad6_row0_col4\" class=\"data row0 col4\" >0.6423</td>\n",
              "      <td id=\"T_13ad6_row0_col5\" class=\"data row0 col5\" >0.0091</td>\n",
              "      <td id=\"T_13ad6_row0_col6\" class=\"data row0 col6\" >0.0092</td>\n",
              "    </tr>\n",
              "    <tr>\n",
              "      <th id=\"T_13ad6_level0_row1\" class=\"row_heading level0 row1\" >1</th>\n",
              "      <td id=\"T_13ad6_row1_col0\" class=\"data row1 col0\" >0.5596</td>\n",
              "      <td id=\"T_13ad6_row1_col1\" class=\"data row1 col1\" >0.5141</td>\n",
              "      <td id=\"T_13ad6_row1_col2\" class=\"data row1 col2\" >0.6928</td>\n",
              "      <td id=\"T_13ad6_row1_col3\" class=\"data row1 col3\" >0.6344</td>\n",
              "      <td id=\"T_13ad6_row1_col4\" class=\"data row1 col4\" >0.6623</td>\n",
              "      <td id=\"T_13ad6_row1_col5\" class=\"data row1 col5\" >0.0328</td>\n",
              "      <td id=\"T_13ad6_row1_col6\" class=\"data row1 col6\" >0.0331</td>\n",
              "    </tr>\n",
              "    <tr>\n",
              "      <th id=\"T_13ad6_level0_row2\" class=\"row_heading level0 row2\" >2</th>\n",
              "      <td id=\"T_13ad6_row2_col0\" class=\"data row2 col0\" >0.4936</td>\n",
              "      <td id=\"T_13ad6_row2_col1\" class=\"data row2 col1\" >0.4539</td>\n",
              "      <td id=\"T_13ad6_row2_col2\" class=\"data row2 col2\" >0.5700</td>\n",
              "      <td id=\"T_13ad6_row2_col3\" class=\"data row2 col3\" >0.5986</td>\n",
              "      <td id=\"T_13ad6_row2_col4\" class=\"data row2 col4\" >0.5839</td>\n",
              "      <td id=\"T_13ad6_row2_col5\" class=\"data row2 col5\" >-0.0618</td>\n",
              "      <td id=\"T_13ad6_row2_col6\" class=\"data row2 col6\" >-0.0620</td>\n",
              "    </tr>\n",
              "    <tr>\n",
              "      <th id=\"T_13ad6_level0_row3\" class=\"row_heading level0 row3\" >3</th>\n",
              "      <td id=\"T_13ad6_row3_col0\" class=\"data row3 col0\" >0.5437</td>\n",
              "      <td id=\"T_13ad6_row3_col1\" class=\"data row3 col1\" >0.5246</td>\n",
              "      <td id=\"T_13ad6_row3_col2\" class=\"data row3 col2\" >0.6610</td>\n",
              "      <td id=\"T_13ad6_row3_col3\" class=\"data row3 col3\" >0.6266</td>\n",
              "      <td id=\"T_13ad6_row3_col4\" class=\"data row3 col4\" >0.6433</td>\n",
              "      <td id=\"T_13ad6_row3_col5\" class=\"data row3 col5\" >0.0114</td>\n",
              "      <td id=\"T_13ad6_row3_col6\" class=\"data row3 col6\" >0.0115</td>\n",
              "    </tr>\n",
              "    <tr>\n",
              "      <th id=\"T_13ad6_level0_row4\" class=\"row_heading level0 row4\" >4</th>\n",
              "      <td id=\"T_13ad6_row4_col0\" class=\"data row4 col0\" >0.5309</td>\n",
              "      <td id=\"T_13ad6_row4_col1\" class=\"data row4 col1\" >0.5180</td>\n",
              "      <td id=\"T_13ad6_row4_col2\" class=\"data row4 col2\" >0.6610</td>\n",
              "      <td id=\"T_13ad6_row4_col3\" class=\"data row4 col3\" >0.6146</td>\n",
              "      <td id=\"T_13ad6_row4_col4\" class=\"data row4 col4\" >0.6370</td>\n",
              "      <td id=\"T_13ad6_row4_col5\" class=\"data row4 col5\" >-0.0232</td>\n",
              "      <td id=\"T_13ad6_row4_col6\" class=\"data row4 col6\" >-0.0233</td>\n",
              "    </tr>\n",
              "    <tr>\n",
              "      <th id=\"T_13ad6_level0_row5\" class=\"row_heading level0 row5\" >Mean</th>\n",
              "      <td id=\"T_13ad6_row5_col0\" class=\"data row5 col0\" >0.5341</td>\n",
              "      <td id=\"T_13ad6_row5_col1\" class=\"data row5 col1\" >0.5085</td>\n",
              "      <td id=\"T_13ad6_row5_col2\" class=\"data row5 col2\" >0.6487</td>\n",
              "      <td id=\"T_13ad6_row5_col3\" class=\"data row5 col3\" >0.6202</td>\n",
              "      <td id=\"T_13ad6_row5_col4\" class=\"data row5 col4\" >0.6338</td>\n",
              "      <td id=\"T_13ad6_row5_col5\" class=\"data row5 col5\" >-0.0063</td>\n",
              "      <td id=\"T_13ad6_row5_col6\" class=\"data row5 col6\" >-0.0063</td>\n",
              "    </tr>\n",
              "    <tr>\n",
              "      <th id=\"T_13ad6_level0_row6\" class=\"row_heading level0 row6\" >Std</th>\n",
              "      <td id=\"T_13ad6_row6_col0\" class=\"data row6 col0\" >0.0222</td>\n",
              "      <td id=\"T_13ad6_row6_col1\" class=\"data row6 col1\" >0.0280</td>\n",
              "      <td id=\"T_13ad6_row6_col2\" class=\"data row6 col2\" >0.0413</td>\n",
              "      <td id=\"T_13ad6_row6_col3\" class=\"data row6 col3\" >0.0125</td>\n",
              "      <td id=\"T_13ad6_row6_col4\" class=\"data row6 col4\" >0.0264</td>\n",
              "      <td id=\"T_13ad6_row6_col5\" class=\"data row6 col5\" >0.0330</td>\n",
              "      <td id=\"T_13ad6_row6_col6\" class=\"data row6 col6\" >0.0331</td>\n",
              "    </tr>\n",
              "  </tbody>\n",
              "</table>\n"
            ]
          },
          "metadata": {}
        },
        {
          "output_type": "display_data",
          "data": {
            "text/plain": [
              "Processing:   0%|          | 0/4 [00:00<?, ?it/s]"
            ],
            "application/vnd.jupyter.widget-view+json": {
              "version_major": 2,
              "version_minor": 0,
              "model_id": "4084bd89085843d19c9d3908ceaa0b0b"
            }
          },
          "metadata": {
            "application/vnd.jupyter.widget-view+json": {
              "colab": {
                "custom_widget_manager": {
                  "url": "https://ssl.gstatic.com/colaboratory-static/widgets/colab-cdn-widget-manager/b3e629b1971e1542/manager.min.js"
                }
              }
            }
          }
        },
        {
          "output_type": "display_data",
          "data": {
            "text/plain": [
              "<IPython.core.display.HTML object>"
            ],
            "text/html": []
          },
          "metadata": {}
        }
      ]
    },
    {
      "cell_type": "code",
      "source": [
        "plot_model(model_ve_rf, plot = 'confusion_matrix')"
      ],
      "metadata": {
        "colab": {
          "base_uri": "https://localhost:8080/",
          "height": 297
        },
        "id": "glhNOVOMxtdI",
        "outputId": "1d7d943d-0a54-44ea-b179-5230cfa90260"
      },
      "execution_count": 94,
      "outputs": [
        {
          "output_type": "display_data",
          "data": {
            "text/plain": [
              "<IPython.core.display.HTML object>"
            ],
            "text/html": []
          },
          "metadata": {}
        },
        {
          "output_type": "display_data",
          "data": {
            "text/plain": [
              "<Figure size 432x288 with 1 Axes>"
            ],
            "image/png": "[encoded data removed]"
          },
          "metadata": {
            "needs_background": "light"
          }
        }
      ]
    },
    {
      "cell_type": "markdown",
      "source": [
        "#Hipótese 2"
      ],
      "metadata": {
        "id": "C2ujZ90bySTA"
      }
    },
    {
      "cell_type": "markdown",
      "source": [
        "E se tirarmos as informações do oponente?"
      ],
      "metadata": {
        "id": "J3XNfrffyWNP"
      }
    },
    {
      "cell_type": "code",
      "source": [
        "df_train_v_e_cut2 = df_train_v_e[['TR_mean', 'TL_mean', 'TP_mean',\n",
        "                         'TC_mean', 'TGL', 'Resultado_Empate']]"
      ],
      "metadata": {
        "id": "pT8bztA6yUvl"
      },
      "execution_count": 95,
      "outputs": []
    },
    {
      "cell_type": "code",
      "source": [
        "exp_clf3 = setup(data = df_train_v_e_cut2, \n",
        "                 target = 'Resultado_Empate', \n",
        "                 polynomial_features = True,\n",
        "                 normalize = True,\n",
        "                 fix_imbalance = True) "
      ],
      "metadata": {
        "colab": {
          "base_uri": "https://localhost:8080/",
          "height": 833
        },
        "id": "1LitfK3kyfzu",
        "outputId": "32f8858e-62db-40fb-ccd8-b5e3df806864"
      },
      "execution_count": 96,
      "outputs": [
        {
          "output_type": "display_data",
          "data": {
            "text/plain": [
              "<pandas.io.formats.style.Styler at 0x7f76a0f159a0>"
            ],
            "text/html": [
              "<style type=\"text/css\">\n",
              "#T_f62c0_row8_col1, #T_f62c0_row12_col1, #T_f62c0_row14_col1, #T_f62c0_row16_col1 {\n",
              "  background-color: lightgreen;\n",
              "}\n",
              "</style>\n",
              "<table id=\"T_f62c0_\" class=\"dataframe\">\n",
              "  <thead>\n",
              "    <tr>\n",
              "      <th class=\"blank level0\" >&nbsp;</th>\n",
              "      <th class=\"col_heading level0 col0\" >Description</th>\n",
              "      <th class=\"col_heading level0 col1\" >Value</th>\n",
              "    </tr>\n",
              "  </thead>\n",
              "  <tbody>\n",
              "    <tr>\n",
              "      <th id=\"T_f62c0_level0_row0\" class=\"row_heading level0 row0\" >0</th>\n",
              "      <td id=\"T_f62c0_row0_col0\" class=\"data row0 col0\" >Session id</td>\n",
              "      <td id=\"T_f62c0_row0_col1\" class=\"data row0 col1\" >2952</td>\n",
              "    </tr>\n",
              "    <tr>\n",
              "      <th id=\"T_f62c0_level0_row1\" class=\"row_heading level0 row1\" >1</th>\n",
              "      <td id=\"T_f62c0_row1_col0\" class=\"data row1 col0\" >Target</td>\n",
              "      <td id=\"T_f62c0_row1_col1\" class=\"data row1 col1\" >Resultado_Empate</td>\n",
              "    </tr>\n",
              "    <tr>\n",
              "      <th id=\"T_f62c0_level0_row2\" class=\"row_heading level0 row2\" >2</th>\n",
              "      <td id=\"T_f62c0_row2_col0\" class=\"data row2 col0\" >Target type</td>\n",
              "      <td id=\"T_f62c0_row2_col1\" class=\"data row2 col1\" >Binary</td>\n",
              "    </tr>\n",
              "    <tr>\n",
              "      <th id=\"T_f62c0_level0_row3\" class=\"row_heading level0 row3\" >3</th>\n",
              "      <td id=\"T_f62c0_row3_col0\" class=\"data row3 col0\" >Original data shape</td>\n",
              "      <td id=\"T_f62c0_row3_col1\" class=\"data row3 col1\" >(3355, 6)</td>\n",
              "    </tr>\n",
              "    <tr>\n",
              "      <th id=\"T_f62c0_level0_row4\" class=\"row_heading level0 row4\" >4</th>\n",
              "      <td id=\"T_f62c0_row4_col0\" class=\"data row4 col0\" >Transformed data shape</td>\n",
              "      <td id=\"T_f62c0_row4_col1\" class=\"data row4 col1\" >(3933, 21)</td>\n",
              "    </tr>\n",
              "    <tr>\n",
              "      <th id=\"T_f62c0_level0_row5\" class=\"row_heading level0 row5\" >5</th>\n",
              "      <td id=\"T_f62c0_row5_col0\" class=\"data row5 col0\" >Transformed train set shape</td>\n",
              "      <td id=\"T_f62c0_row5_col1\" class=\"data row5 col1\" >(2926, 21)</td>\n",
              "    </tr>\n",
              "    <tr>\n",
              "      <th id=\"T_f62c0_level0_row6\" class=\"row_heading level0 row6\" >6</th>\n",
              "      <td id=\"T_f62c0_row6_col0\" class=\"data row6 col0\" >Transformed test set shape</td>\n",
              "      <td id=\"T_f62c0_row6_col1\" class=\"data row6 col1\" >(1007, 21)</td>\n",
              "    </tr>\n",
              "    <tr>\n",
              "      <th id=\"T_f62c0_level0_row7\" class=\"row_heading level0 row7\" >7</th>\n",
              "      <td id=\"T_f62c0_row7_col0\" class=\"data row7 col0\" >Numeric features</td>\n",
              "      <td id=\"T_f62c0_row7_col1\" class=\"data row7 col1\" >5</td>\n",
              "    </tr>\n",
              "    <tr>\n",
              "      <th id=\"T_f62c0_level0_row8\" class=\"row_heading level0 row8\" >8</th>\n",
              "      <td id=\"T_f62c0_row8_col0\" class=\"data row8 col0\" >Preprocess</td>\n",
              "      <td id=\"T_f62c0_row8_col1\" class=\"data row8 col1\" >True</td>\n",
              "    </tr>\n",
              "    <tr>\n",
              "      <th id=\"T_f62c0_level0_row9\" class=\"row_heading level0 row9\" >9</th>\n",
              "      <td id=\"T_f62c0_row9_col0\" class=\"data row9 col0\" >Imputation type</td>\n",
              "      <td id=\"T_f62c0_row9_col1\" class=\"data row9 col1\" >simple</td>\n",
              "    </tr>\n",
              "    <tr>\n",
              "      <th id=\"T_f62c0_level0_row10\" class=\"row_heading level0 row10\" >10</th>\n",
              "      <td id=\"T_f62c0_row10_col0\" class=\"data row10 col0\" >Numeric imputation</td>\n",
              "      <td id=\"T_f62c0_row10_col1\" class=\"data row10 col1\" >mean</td>\n",
              "    </tr>\n",
              "    <tr>\n",
              "      <th id=\"T_f62c0_level0_row11\" class=\"row_heading level0 row11\" >11</th>\n",
              "      <td id=\"T_f62c0_row11_col0\" class=\"data row11 col0\" >Categorical imputation</td>\n",
              "      <td id=\"T_f62c0_row11_col1\" class=\"data row11 col1\" >mode</td>\n",
              "    </tr>\n",
              "    <tr>\n",
              "      <th id=\"T_f62c0_level0_row12\" class=\"row_heading level0 row12\" >12</th>\n",
              "      <td id=\"T_f62c0_row12_col0\" class=\"data row12 col0\" >Polynomial features</td>\n",
              "      <td id=\"T_f62c0_row12_col1\" class=\"data row12 col1\" >True</td>\n",
              "    </tr>\n",
              "    <tr>\n",
              "      <th id=\"T_f62c0_level0_row13\" class=\"row_heading level0 row13\" >13</th>\n",
              "      <td id=\"T_f62c0_row13_col0\" class=\"data row13 col0\" >Polynomial degree</td>\n",
              "      <td id=\"T_f62c0_row13_col1\" class=\"data row13 col1\" >2</td>\n",
              "    </tr>\n",
              "    <tr>\n",
              "      <th id=\"T_f62c0_level0_row14\" class=\"row_heading level0 row14\" >14</th>\n",
              "      <td id=\"T_f62c0_row14_col0\" class=\"data row14 col0\" >Fix imbalance</td>\n",
              "      <td id=\"T_f62c0_row14_col1\" class=\"data row14 col1\" >True</td>\n",
              "    </tr>\n",
              "    <tr>\n",
              "      <th id=\"T_f62c0_level0_row15\" class=\"row_heading level0 row15\" >15</th>\n",
              "      <td id=\"T_f62c0_row15_col0\" class=\"data row15 col0\" >Fix imbalance method</td>\n",
              "      <td id=\"T_f62c0_row15_col1\" class=\"data row15 col1\" >SMOTE</td>\n",
              "    </tr>\n",
              "    <tr>\n",
              "      <th id=\"T_f62c0_level0_row16\" class=\"row_heading level0 row16\" >16</th>\n",
              "      <td id=\"T_f62c0_row16_col0\" class=\"data row16 col0\" >Normalize</td>\n",
              "      <td id=\"T_f62c0_row16_col1\" class=\"data row16 col1\" >True</td>\n",
              "    </tr>\n",
              "    <tr>\n",
              "      <th id=\"T_f62c0_level0_row17\" class=\"row_heading level0 row17\" >17</th>\n",
              "      <td id=\"T_f62c0_row17_col0\" class=\"data row17 col0\" >Normalize method</td>\n",
              "      <td id=\"T_f62c0_row17_col1\" class=\"data row17 col1\" >zscore</td>\n",
              "    </tr>\n",
              "    <tr>\n",
              "      <th id=\"T_f62c0_level0_row18\" class=\"row_heading level0 row18\" >18</th>\n",
              "      <td id=\"T_f62c0_row18_col0\" class=\"data row18 col0\" >Fold Generator</td>\n",
              "      <td id=\"T_f62c0_row18_col1\" class=\"data row18 col1\" >StratifiedKFold</td>\n",
              "    </tr>\n",
              "    <tr>\n",
              "      <th id=\"T_f62c0_level0_row19\" class=\"row_heading level0 row19\" >19</th>\n",
              "      <td id=\"T_f62c0_row19_col0\" class=\"data row19 col0\" >Fold Number</td>\n",
              "      <td id=\"T_f62c0_row19_col1\" class=\"data row19 col1\" >10</td>\n",
              "    </tr>\n",
              "    <tr>\n",
              "      <th id=\"T_f62c0_level0_row20\" class=\"row_heading level0 row20\" >20</th>\n",
              "      <td id=\"T_f62c0_row20_col0\" class=\"data row20 col0\" >CPU Jobs</td>\n",
              "      <td id=\"T_f62c0_row20_col1\" class=\"data row20 col1\" >-1</td>\n",
              "    </tr>\n",
              "    <tr>\n",
              "      <th id=\"T_f62c0_level0_row21\" class=\"row_heading level0 row21\" >21</th>\n",
              "      <td id=\"T_f62c0_row21_col0\" class=\"data row21 col0\" >Use GPU</td>\n",
              "      <td id=\"T_f62c0_row21_col1\" class=\"data row21 col1\" >False</td>\n",
              "    </tr>\n",
              "    <tr>\n",
              "      <th id=\"T_f62c0_level0_row22\" class=\"row_heading level0 row22\" >22</th>\n",
              "      <td id=\"T_f62c0_row22_col0\" class=\"data row22 col0\" >Log Experiment</td>\n",
              "      <td id=\"T_f62c0_row22_col1\" class=\"data row22 col1\" >False</td>\n",
              "    </tr>\n",
              "    <tr>\n",
              "      <th id=\"T_f62c0_level0_row23\" class=\"row_heading level0 row23\" >23</th>\n",
              "      <td id=\"T_f62c0_row23_col0\" class=\"data row23 col0\" >Experiment Name</td>\n",
              "      <td id=\"T_f62c0_row23_col1\" class=\"data row23 col1\" >clf-default-name</td>\n",
              "    </tr>\n",
              "    <tr>\n",
              "      <th id=\"T_f62c0_level0_row24\" class=\"row_heading level0 row24\" >24</th>\n",
              "      <td id=\"T_f62c0_row24_col0\" class=\"data row24 col0\" >USI</td>\n",
              "      <td id=\"T_f62c0_row24_col1\" class=\"data row24 col1\" >5209</td>\n",
              "    </tr>\n",
              "  </tbody>\n",
              "</table>\n"
            ]
          },
          "metadata": {}
        }
      ]
    },
    {
      "cell_type": "code",
      "source": [
        "%%time\n",
        "\n",
        "best_model = compare_models(fold=5, sort='Prec.')"
      ],
      "metadata": {
        "colab": {
          "base_uri": "https://localhost:8080/",
          "height": 523,
          "referenced_widgets": [
            "d49218a68dee421d95eb2d0ec1b3a9d5",
            "178e8e4c89d64264b5c8c68f1e45e5bf",
            "4b0d3027f0b6433c85ac6ec761b34bc7",
            "8a1430c5d7f944c89efbe18f1ae3de39",
            "49065d56380147b792bbc584bfe5524f",
            "f1733c2a9bc340ee85ec23844af7f3d3",
            "aecd85e781294612b58a9278fc972340",
            "6b7156a2222743ccb9274ebd53a718eb",
            "008c5f2ffb024a78857c43e582e57472",
            "1f0510b27e7d458dbcc89a958dc811d0",
            "7b91f1b2c0c84d8ca6cda7d98c5db472"
          ]
        },
        "id": "7Nr7Es1MyjyI",
        "outputId": "e46df74b-27a2-4146-ece2-1d24b7c316f6"
      },
      "execution_count": 97,
      "outputs": [
        {
          "output_type": "display_data",
          "data": {
            "text/plain": [
              "<IPython.core.display.HTML object>"
            ],
            "text/html": []
          },
          "metadata": {}
        },
        {
          "output_type": "display_data",
          "data": {
            "text/plain": [
              "<pandas.io.formats.style.Styler at 0x7f76a12b9100>"
            ],
            "text/html": [
              "<style type=\"text/css\">\n",
              "#T_e0da6_ th {\n",
              "  text-align: left;\n",
              "}\n",
              "#T_e0da6_row0_col0, #T_e0da6_row0_col1, #T_e0da6_row0_col2, #T_e0da6_row0_col3, #T_e0da6_row0_col5, #T_e0da6_row0_col6, #T_e0da6_row0_col7, #T_e0da6_row1_col0, #T_e0da6_row1_col1, #T_e0da6_row1_col3, #T_e0da6_row1_col4, #T_e0da6_row1_col5, #T_e0da6_row2_col0, #T_e0da6_row2_col1, #T_e0da6_row2_col2, #T_e0da6_row2_col3, #T_e0da6_row2_col4, #T_e0da6_row2_col5, #T_e0da6_row2_col6, #T_e0da6_row2_col7, #T_e0da6_row3_col0, #T_e0da6_row3_col1, #T_e0da6_row3_col2, #T_e0da6_row3_col3, #T_e0da6_row3_col4, #T_e0da6_row3_col5, #T_e0da6_row3_col6, #T_e0da6_row3_col7, #T_e0da6_row4_col0, #T_e0da6_row4_col1, #T_e0da6_row4_col2, #T_e0da6_row4_col3, #T_e0da6_row4_col4, #T_e0da6_row4_col5, #T_e0da6_row4_col6, #T_e0da6_row4_col7, #T_e0da6_row5_col0, #T_e0da6_row5_col1, #T_e0da6_row5_col2, #T_e0da6_row5_col3, #T_e0da6_row5_col4, #T_e0da6_row5_col5, #T_e0da6_row5_col6, #T_e0da6_row5_col7, #T_e0da6_row6_col0, #T_e0da6_row6_col1, #T_e0da6_row6_col2, #T_e0da6_row6_col3, #T_e0da6_row6_col4, #T_e0da6_row6_col5, #T_e0da6_row6_col6, #T_e0da6_row6_col7, #T_e0da6_row7_col0, #T_e0da6_row7_col1, #T_e0da6_row7_col2, #T_e0da6_row7_col3, #T_e0da6_row7_col4, #T_e0da6_row7_col5, #T_e0da6_row7_col6, #T_e0da6_row7_col7, #T_e0da6_row8_col0, #T_e0da6_row8_col1, #T_e0da6_row8_col2, #T_e0da6_row8_col3, #T_e0da6_row8_col4, #T_e0da6_row8_col5, #T_e0da6_row8_col6, #T_e0da6_row8_col7, #T_e0da6_row9_col0, #T_e0da6_row9_col1, #T_e0da6_row9_col2, #T_e0da6_row9_col3, #T_e0da6_row9_col4, #T_e0da6_row9_col5, #T_e0da6_row9_col6, #T_e0da6_row9_col7, #T_e0da6_row10_col0, #T_e0da6_row10_col1, #T_e0da6_row10_col2, #T_e0da6_row10_col3, #T_e0da6_row10_col4, #T_e0da6_row10_col5, #T_e0da6_row10_col6, #T_e0da6_row10_col7, #T_e0da6_row11_col0, #T_e0da6_row11_col1, #T_e0da6_row11_col2, #T_e0da6_row11_col3, #T_e0da6_row11_col4, #T_e0da6_row11_col5, #T_e0da6_row11_col6, #T_e0da6_row11_col7, #T_e0da6_row12_col0, #T_e0da6_row12_col2, #T_e0da6_row12_col4, #T_e0da6_row12_col6, #T_e0da6_row12_col7, #T_e0da6_row13_col0, #T_e0da6_row13_col1, #T_e0da6_row13_col2, #T_e0da6_row13_col3, #T_e0da6_row13_col4, #T_e0da6_row13_col5, #T_e0da6_row13_col6, #T_e0da6_row13_col7 {\n",
              "  text-align: left;\n",
              "}\n",
              "#T_e0da6_row0_col4, #T_e0da6_row1_col2, #T_e0da6_row1_col6, #T_e0da6_row1_col7, #T_e0da6_row12_col1, #T_e0da6_row12_col3, #T_e0da6_row12_col5 {\n",
              "  text-align: left;\n",
              "  background-color: yellow;\n",
              "}\n",
              "#T_e0da6_row0_col8, #T_e0da6_row1_col8, #T_e0da6_row3_col8, #T_e0da6_row4_col8, #T_e0da6_row5_col8, #T_e0da6_row6_col8, #T_e0da6_row7_col8, #T_e0da6_row8_col8, #T_e0da6_row9_col8, #T_e0da6_row10_col8, #T_e0da6_row11_col8, #T_e0da6_row12_col8, #T_e0da6_row13_col8 {\n",
              "  text-align: left;\n",
              "  background-color: lightgrey;\n",
              "}\n",
              "#T_e0da6_row2_col8 {\n",
              "  text-align: left;\n",
              "  background-color: yellow;\n",
              "  background-color: lightgrey;\n",
              "}\n",
              "</style>\n",
              "<table id=\"T_e0da6_\" class=\"dataframe\">\n",
              "  <thead>\n",
              "    <tr>\n",
              "      <th class=\"blank level0\" >&nbsp;</th>\n",
              "      <th class=\"col_heading level0 col0\" >Model</th>\n",
              "      <th class=\"col_heading level0 col1\" >Accuracy</th>\n",
              "      <th class=\"col_heading level0 col2\" >AUC</th>\n",
              "      <th class=\"col_heading level0 col3\" >Recall</th>\n",
              "      <th class=\"col_heading level0 col4\" >Prec.</th>\n",
              "      <th class=\"col_heading level0 col5\" >F1</th>\n",
              "      <th class=\"col_heading level0 col6\" >Kappa</th>\n",
              "      <th class=\"col_heading level0 col7\" >MCC</th>\n",
              "      <th class=\"col_heading level0 col8\" >TT (Sec)</th>\n",
              "    </tr>\n",
              "  </thead>\n",
              "  <tbody>\n",
              "    <tr>\n",
              "      <th id=\"T_e0da6_level0_row0\" class=\"row_heading level0 row0\" >nb</th>\n",
              "      <td id=\"T_e0da6_row0_col0\" class=\"data row0 col0\" >Naive Bayes</td>\n",
              "      <td id=\"T_e0da6_row0_col1\" class=\"data row0 col1\" >0.5179</td>\n",
              "      <td id=\"T_e0da6_row0_col2\" class=\"data row0 col2\" >0.5740</td>\n",
              "      <td id=\"T_e0da6_row0_col3\" class=\"data row0 col3\" >0.4340</td>\n",
              "      <td id=\"T_e0da6_row0_col4\" class=\"data row0 col4\" >0.6762</td>\n",
              "      <td id=\"T_e0da6_row0_col5\" class=\"data row0 col5\" >0.5283</td>\n",
              "      <td id=\"T_e0da6_row0_col6\" class=\"data row0 col6\" >0.0811</td>\n",
              "      <td id=\"T_e0da6_row0_col7\" class=\"data row0 col7\" >0.0896</td>\n",
              "      <td id=\"T_e0da6_row0_col8\" class=\"data row0 col8\" >0.0680</td>\n",
              "    </tr>\n",
              "    <tr>\n",
              "      <th id=\"T_e0da6_level0_row1\" class=\"row_heading level0 row1\" >lr</th>\n",
              "      <td id=\"T_e0da6_row1_col0\" class=\"data row1 col0\" >Logistic Regression</td>\n",
              "      <td id=\"T_e0da6_row1_col1\" class=\"data row1 col1\" >0.5592</td>\n",
              "      <td id=\"T_e0da6_row1_col2\" class=\"data row1 col2\" >0.5760</td>\n",
              "      <td id=\"T_e0da6_row1_col3\" class=\"data row1 col3\" >0.5748</td>\n",
              "      <td id=\"T_e0da6_row1_col4\" class=\"data row1 col4\" >0.6705</td>\n",
              "      <td id=\"T_e0da6_row1_col5\" class=\"data row1 col5\" >0.6182</td>\n",
              "      <td id=\"T_e0da6_row1_col6\" class=\"data row1 col6\" >0.1035</td>\n",
              "      <td id=\"T_e0da6_row1_col7\" class=\"data row1 col7\" >0.1053</td>\n",
              "      <td id=\"T_e0da6_row1_col8\" class=\"data row1 col8\" >0.3920</td>\n",
              "    </tr>\n",
              "    <tr>\n",
              "      <th id=\"T_e0da6_level0_row2\" class=\"row_heading level0 row2\" >ridge</th>\n",
              "      <td id=\"T_e0da6_row2_col0\" class=\"data row2 col0\" >Ridge Classifier</td>\n",
              "      <td id=\"T_e0da6_row2_col1\" class=\"data row2 col1\" >0.5549</td>\n",
              "      <td id=\"T_e0da6_row2_col2\" class=\"data row2 col2\" >0.0000</td>\n",
              "      <td id=\"T_e0da6_row2_col3\" class=\"data row2 col3\" >0.5734</td>\n",
              "      <td id=\"T_e0da6_row2_col4\" class=\"data row2 col4\" >0.6658</td>\n",
              "      <td id=\"T_e0da6_row2_col5\" class=\"data row2 col5\" >0.6152</td>\n",
              "      <td id=\"T_e0da6_row2_col6\" class=\"data row2 col6\" >0.0937</td>\n",
              "      <td id=\"T_e0da6_row2_col7\" class=\"data row2 col7\" >0.0953</td>\n",
              "      <td id=\"T_e0da6_row2_col8\" class=\"data row2 col8\" >0.0620</td>\n",
              "    </tr>\n",
              "    <tr>\n",
              "      <th id=\"T_e0da6_level0_row3\" class=\"row_heading level0 row3\" >lda</th>\n",
              "      <td id=\"T_e0da6_row3_col0\" class=\"data row3 col0\" >Linear Discriminant Analysis</td>\n",
              "      <td id=\"T_e0da6_row3_col1\" class=\"data row3 col1\" >0.5515</td>\n",
              "      <td id=\"T_e0da6_row3_col2\" class=\"data row3 col2\" >0.5731</td>\n",
              "      <td id=\"T_e0da6_row3_col3\" class=\"data row3 col3\" >0.5707</td>\n",
              "      <td id=\"T_e0da6_row3_col4\" class=\"data row3 col4\" >0.6623</td>\n",
              "      <td id=\"T_e0da6_row3_col5\" class=\"data row3 col5\" >0.6119</td>\n",
              "      <td id=\"T_e0da6_row3_col6\" class=\"data row3 col6\" >0.0869</td>\n",
              "      <td id=\"T_e0da6_row3_col7\" class=\"data row3 col7\" >0.0882</td>\n",
              "      <td id=\"T_e0da6_row3_col8\" class=\"data row3 col8\" >0.0740</td>\n",
              "    </tr>\n",
              "    <tr>\n",
              "      <th id=\"T_e0da6_level0_row4\" class=\"row_heading level0 row4\" >gbc</th>\n",
              "      <td id=\"T_e0da6_row4_col0\" class=\"data row4 col0\" >Gradient Boosting Classifier</td>\n",
              "      <td id=\"T_e0da6_row4_col1\" class=\"data row4 col1\" >0.5669</td>\n",
              "      <td id=\"T_e0da6_row4_col2\" class=\"data row4 col2\" >0.5544</td>\n",
              "      <td id=\"T_e0da6_row4_col3\" class=\"data row4 col3\" >0.6630</td>\n",
              "      <td id=\"T_e0da6_row4_col4\" class=\"data row4 col4\" >0.6494</td>\n",
              "      <td id=\"T_e0da6_row4_col5\" class=\"data row4 col5\" >0.6557</td>\n",
              "      <td id=\"T_e0da6_row4_col6\" class=\"data row4 col6\" >0.0713</td>\n",
              "      <td id=\"T_e0da6_row4_col7\" class=\"data row4 col7\" >0.0715</td>\n",
              "      <td id=\"T_e0da6_row4_col8\" class=\"data row4 col8\" >0.5080</td>\n",
              "    </tr>\n",
              "    <tr>\n",
              "      <th id=\"T_e0da6_level0_row5\" class=\"row_heading level0 row5\" >svm</th>\n",
              "      <td id=\"T_e0da6_row5_col0\" class=\"data row5 col0\" >SVM - Linear Kernel</td>\n",
              "      <td id=\"T_e0da6_row5_col1\" class=\"data row5 col1\" >0.5630</td>\n",
              "      <td id=\"T_e0da6_row5_col2\" class=\"data row5 col2\" >0.0000</td>\n",
              "      <td id=\"T_e0da6_row5_col3\" class=\"data row5 col3\" >0.6760</td>\n",
              "      <td id=\"T_e0da6_row5_col4\" class=\"data row5 col4\" >0.6443</td>\n",
              "      <td id=\"T_e0da6_row5_col5\" class=\"data row5 col5\" >0.6576</td>\n",
              "      <td id=\"T_e0da6_row5_col6\" class=\"data row5 col6\" >0.0512</td>\n",
              "      <td id=\"T_e0da6_row5_col7\" class=\"data row5 col7\" >0.0514</td>\n",
              "      <td id=\"T_e0da6_row5_col8\" class=\"data row5 col8\" >0.0720</td>\n",
              "    </tr>\n",
              "    <tr>\n",
              "      <th id=\"T_e0da6_level0_row6\" class=\"row_heading level0 row6\" >ada</th>\n",
              "      <td id=\"T_e0da6_row6_col0\" class=\"data row6 col0\" >Ada Boost Classifier</td>\n",
              "      <td id=\"T_e0da6_row6_col1\" class=\"data row6 col1\" >0.5302</td>\n",
              "      <td id=\"T_e0da6_row6_col2\" class=\"data row6 col2\" >0.5394</td>\n",
              "      <td id=\"T_e0da6_row6_col3\" class=\"data row6 col3\" >0.5645</td>\n",
              "      <td id=\"T_e0da6_row6_col4\" class=\"data row6 col4\" >0.6391</td>\n",
              "      <td id=\"T_e0da6_row6_col5\" class=\"data row6 col5\" >0.5988</td>\n",
              "      <td id=\"T_e0da6_row6_col6\" class=\"data row6 col6\" >0.0368</td>\n",
              "      <td id=\"T_e0da6_row6_col7\" class=\"data row6 col7\" >0.0373</td>\n",
              "      <td id=\"T_e0da6_row6_col8\" class=\"data row6 col8\" >0.2580</td>\n",
              "    </tr>\n",
              "    <tr>\n",
              "      <th id=\"T_e0da6_level0_row7\" class=\"row_heading level0 row7\" >lightgbm</th>\n",
              "      <td id=\"T_e0da6_row7_col0\" class=\"data row7 col0\" >Light Gradient Boosting Machine</td>\n",
              "      <td id=\"T_e0da6_row7_col1\" class=\"data row7 col1\" >0.5571</td>\n",
              "      <td id=\"T_e0da6_row7_col2\" class=\"data row7 col2\" >0.5218</td>\n",
              "      <td id=\"T_e0da6_row7_col3\" class=\"data row7 col3\" >0.6671</td>\n",
              "      <td id=\"T_e0da6_row7_col4\" class=\"data row7 col4\" >0.6384</td>\n",
              "      <td id=\"T_e0da6_row7_col5\" class=\"data row7 col5\" >0.6524</td>\n",
              "      <td id=\"T_e0da6_row7_col6\" class=\"data row7 col6\" >0.0429</td>\n",
              "      <td id=\"T_e0da6_row7_col7\" class=\"data row7 col7\" >0.0430</td>\n",
              "      <td id=\"T_e0da6_row7_col8\" class=\"data row7 col8\" >0.2160</td>\n",
              "    </tr>\n",
              "    <tr>\n",
              "      <th id=\"T_e0da6_level0_row8\" class=\"row_heading level0 row8\" >rf</th>\n",
              "      <td id=\"T_e0da6_row8_col0\" class=\"data row8 col0\" >Random Forest Classifier</td>\n",
              "      <td id=\"T_e0da6_row8_col1\" class=\"data row8 col1\" >0.5477</td>\n",
              "      <td id=\"T_e0da6_row8_col2\" class=\"data row8 col2\" >0.5039</td>\n",
              "      <td id=\"T_e0da6_row8_col3\" class=\"data row8 col3\" >0.6617</td>\n",
              "      <td id=\"T_e0da6_row8_col4\" class=\"data row8 col4\" >0.6308</td>\n",
              "      <td id=\"T_e0da6_row8_col5\" class=\"data row8 col5\" >0.6458</td>\n",
              "      <td id=\"T_e0da6_row8_col6\" class=\"data row8 col6\" >0.0212</td>\n",
              "      <td id=\"T_e0da6_row8_col7\" class=\"data row8 col7\" >0.0212</td>\n",
              "      <td id=\"T_e0da6_row8_col8\" class=\"data row8 col8\" >0.5340</td>\n",
              "    </tr>\n",
              "    <tr>\n",
              "      <th id=\"T_e0da6_level0_row9\" class=\"row_heading level0 row9\" >et</th>\n",
              "      <td id=\"T_e0da6_row9_col0\" class=\"data row9 col0\" >Extra Trees Classifier</td>\n",
              "      <td id=\"T_e0da6_row9_col1\" class=\"data row9 col1\" >0.5324</td>\n",
              "      <td id=\"T_e0da6_row9_col2\" class=\"data row9 col2\" >0.5012</td>\n",
              "      <td id=\"T_e0da6_row9_col3\" class=\"data row9 col3\" >0.6070</td>\n",
              "      <td id=\"T_e0da6_row9_col4\" class=\"data row9 col4\" >0.6294</td>\n",
              "      <td id=\"T_e0da6_row9_col5\" class=\"data row9 col5\" >0.6180</td>\n",
              "      <td id=\"T_e0da6_row9_col6\" class=\"data row9 col6\" >0.0158</td>\n",
              "      <td id=\"T_e0da6_row9_col7\" class=\"data row9 col7\" >0.0158</td>\n",
              "      <td id=\"T_e0da6_row9_col8\" class=\"data row9 col8\" >0.4520</td>\n",
              "    </tr>\n",
              "    <tr>\n",
              "      <th id=\"T_e0da6_level0_row10\" class=\"row_heading level0 row10\" >dt</th>\n",
              "      <td id=\"T_e0da6_row10_col0\" class=\"data row10 col0\" >Decision Tree Classifier</td>\n",
              "      <td id=\"T_e0da6_row10_col1\" class=\"data row10 col1\" >0.5136</td>\n",
              "      <td id=\"T_e0da6_row10_col2\" class=\"data row10 col2\" >0.5014</td>\n",
              "      <td id=\"T_e0da6_row10_col3\" class=\"data row10 col3\" >0.5523</td>\n",
              "      <td id=\"T_e0da6_row10_col4\" class=\"data row10 col4\" >0.6237</td>\n",
              "      <td id=\"T_e0da6_row10_col5\" class=\"data row10 col5\" >0.5855</td>\n",
              "      <td id=\"T_e0da6_row10_col6\" class=\"data row10 col6\" >0.0021</td>\n",
              "      <td id=\"T_e0da6_row10_col7\" class=\"data row10 col7\" >0.0020</td>\n",
              "      <td id=\"T_e0da6_row10_col8\" class=\"data row10 col8\" >0.0820</td>\n",
              "    </tr>\n",
              "    <tr>\n",
              "      <th id=\"T_e0da6_level0_row11\" class=\"row_heading level0 row11\" >knn</th>\n",
              "      <td id=\"T_e0da6_row11_col0\" class=\"data row11 col0\" >K Neighbors Classifier</td>\n",
              "      <td id=\"T_e0da6_row11_col1\" class=\"data row11 col1\" >0.5140</td>\n",
              "      <td id=\"T_e0da6_row11_col2\" class=\"data row11 col2\" >0.4973</td>\n",
              "      <td id=\"T_e0da6_row11_col3\" class=\"data row11 col3\" >0.5563</td>\n",
              "      <td id=\"T_e0da6_row11_col4\" class=\"data row11 col4\" >0.6233</td>\n",
              "      <td id=\"T_e0da6_row11_col5\" class=\"data row11 col5\" >0.5875</td>\n",
              "      <td id=\"T_e0da6_row11_col6\" class=\"data row11 col6\" >0.0004</td>\n",
              "      <td id=\"T_e0da6_row11_col7\" class=\"data row11 col7\" >0.0004</td>\n",
              "      <td id=\"T_e0da6_row11_col8\" class=\"data row11 col8\" >0.2060</td>\n",
              "    </tr>\n",
              "    <tr>\n",
              "      <th id=\"T_e0da6_level0_row12\" class=\"row_heading level0 row12\" >qda</th>\n",
              "      <td id=\"T_e0da6_row12_col0\" class=\"data row12 col0\" >Quadratic Discriminant Analysis</td>\n",
              "      <td id=\"T_e0da6_row12_col1\" class=\"data row12 col1\" >0.5809</td>\n",
              "      <td id=\"T_e0da6_row12_col2\" class=\"data row12 col2\" >0.4830</td>\n",
              "      <td id=\"T_e0da6_row12_col3\" class=\"data row12 col3\" >0.8801</td>\n",
              "      <td id=\"T_e0da6_row12_col4\" class=\"data row12 col4\" >0.6059</td>\n",
              "      <td id=\"T_e0da6_row12_col5\" class=\"data row12 col5\" >0.7061</td>\n",
              "      <td id=\"T_e0da6_row12_col6\" class=\"data row12 col6\" >-0.0314</td>\n",
              "      <td id=\"T_e0da6_row12_col7\" class=\"data row12 col7\" >-0.0330</td>\n",
              "      <td id=\"T_e0da6_row12_col8\" class=\"data row12 col8\" >0.0760</td>\n",
              "    </tr>\n",
              "    <tr>\n",
              "      <th id=\"T_e0da6_level0_row13\" class=\"row_heading level0 row13\" >dummy</th>\n",
              "      <td id=\"T_e0da6_row13_col0\" class=\"data row13 col0\" >Dummy Classifier</td>\n",
              "      <td id=\"T_e0da6_row13_col1\" class=\"data row13 col1\" >0.3769</td>\n",
              "      <td id=\"T_e0da6_row13_col2\" class=\"data row13 col2\" >0.5000</td>\n",
              "      <td id=\"T_e0da6_row13_col3\" class=\"data row13 col3\" >0.0000</td>\n",
              "      <td id=\"T_e0da6_row13_col4\" class=\"data row13 col4\" >0.0000</td>\n",
              "      <td id=\"T_e0da6_row13_col5\" class=\"data row13 col5\" >0.0000</td>\n",
              "      <td id=\"T_e0da6_row13_col6\" class=\"data row13 col6\" >0.0000</td>\n",
              "      <td id=\"T_e0da6_row13_col7\" class=\"data row13 col7\" >0.0000</td>\n",
              "      <td id=\"T_e0da6_row13_col8\" class=\"data row13 col8\" >0.0660</td>\n",
              "    </tr>\n",
              "  </tbody>\n",
              "</table>\n"
            ]
          },
          "metadata": {}
        },
        {
          "output_type": "display_data",
          "data": {
            "text/plain": [
              "Processing:   0%|          | 0/61 [00:00<?, ?it/s]"
            ],
            "application/vnd.jupyter.widget-view+json": {
              "version_major": 2,
              "version_minor": 0,
              "model_id": "d49218a68dee421d95eb2d0ec1b3a9d5"
            }
          },
          "metadata": {
            "application/vnd.jupyter.widget-view+json": {
              "colab": {
                "custom_widget_manager": {
                  "url": "https://ssl.gstatic.com/colaboratory-static/widgets/colab-cdn-widget-manager/b3e629b1971e1542/manager.min.js"
                }
              }
            }
          }
        },
        {
          "output_type": "display_data",
          "data": {
            "text/plain": [
              "<IPython.core.display.HTML object>"
            ],
            "text/html": []
          },
          "metadata": {}
        },
        {
          "output_type": "stream",
          "name": "stdout",
          "text": [
            "CPU times: user 6.79 s, sys: 167 ms, total: 6.96 s\n",
            "Wall time: 21.6 s\n"
          ]
        }
      ]
    },
    {
      "cell_type": "code",
      "source": [
        "plot_model(best_model, plot = 'confusion_matrix')"
      ],
      "metadata": {
        "colab": {
          "base_uri": "https://localhost:8080/",
          "height": 297
        },
        "id": "OeHUqgwqzxBv",
        "outputId": "ed52638e-d6ee-48fc-d07b-50d4a5efe650"
      },
      "execution_count": 98,
      "outputs": [
        {
          "output_type": "display_data",
          "data": {
            "text/plain": [
              "<IPython.core.display.HTML object>"
            ],
            "text/html": []
          },
          "metadata": {}
        },
        {
          "output_type": "display_data",
          "data": {
            "text/plain": [
              "<Figure size 432x288 with 1 Axes>"
            ],
            "image/png": "[encoded data removed]"
          },
          "metadata": {
            "needs_background": "light"
          }
        }
      ]
    },
    {
      "cell_type": "markdown",
      "source": [
        "#Modelo Vitória ou Derrota"
      ],
      "metadata": {
        "id": "h3xqvpHASl6D"
      }
    },
    {
      "cell_type": "markdown",
      "source": [
        "Removendo os dados de empate do Dataframe:"
      ],
      "metadata": {
        "id": "VjPG5c7w3Q4k"
      }
    },
    {
      "cell_type": "markdown",
      "source": [
        "Criando coluna que informa vitória (2) e derrota (1)"
      ],
      "metadata": {
        "id": "wBfgkGDz3Mkd"
      }
    },
    {
      "cell_type": "code",
      "source": [
        "df_train_v_d = df_train_v_e.drop(df_train_v_e[df_train_v_e['Resultado']==0].index)"
      ],
      "metadata": {
        "id": "xDA69vvd3I3y"
      },
      "execution_count": 45,
      "outputs": []
    },
    {
      "cell_type": "code",
      "source": [
        "df_train_v_d['Resultado'].value_counts()"
      ],
      "metadata": {
        "colab": {
          "base_uri": "https://localhost:8080/"
        },
        "id": "Dql01GJb6RGR",
        "outputId": "051a401a-e302-4ae3-d757-8ef091667da8"
      },
      "execution_count": 46,
      "outputs": [
        {
          "output_type": "execute_result",
          "data": {
            "text/plain": [
              "2    2091\n",
              "1    2091\n",
              "Name: Resultado, dtype: int64"
            ]
          },
          "metadata": {},
          "execution_count": 46
        }
      ]
    },
    {
      "cell_type": "code",
      "source": [
        "df_train_v_d['Resultado_Vitoria'] = df_train_v_d['Resultado']-1"
      ],
      "metadata": {
        "id": "AM8Y0xoR6XgJ"
      },
      "execution_count": 47,
      "outputs": []
    },
    {
      "cell_type": "code",
      "source": [
        "df_train_v_d['Resultado_Vitoria'].value_counts()"
      ],
      "metadata": {
        "colab": {
          "base_uri": "https://localhost:8080/"
        },
        "id": "BF1cTAvq6kvi",
        "outputId": "3c421ad1-037f-4049-b037-15ff38b0f94e"
      },
      "execution_count": 48,
      "outputs": [
        {
          "output_type": "execute_result",
          "data": {
            "text/plain": [
              "1    2091\n",
              "0    2091\n",
              "Name: Resultado_Vitoria, dtype: int64"
            ]
          },
          "metadata": {},
          "execution_count": 48
        }
      ]
    },
    {
      "cell_type": "code",
      "source": [
        "df_train_v_d.columns"
      ],
      "metadata": {
        "colab": {
          "base_uri": "https://localhost:8080/"
        },
        "id": "4fmynLfa6oE5",
        "outputId": "58c4f415-c737-4060-dcc1-a5113c1ae53a"
      },
      "execution_count": 49,
      "outputs": [
        {
          "output_type": "execute_result",
          "data": {
            "text/plain": [
              "Index(['Ano', 'Rodada', 'id', 'fgk_equipe', 'Oponente', 'Resultado', 'GP',\n",
              "       'GC', 'TGL', 'OGL', 'TR_mean', 'TL_mean', 'TP_mean', 'TC_mean',\n",
              "       'OR_mean', 'OL_mean', 'OP_mean', 'OC_mean', 'Resultado_Empate',\n",
              "       'Resultado_Vitoria'],\n",
              "      dtype='object')"
            ]
          },
          "metadata": {},
          "execution_count": 49
        }
      ]
    },
    {
      "cell_type": "code",
      "source": [
        "df_train_v_d_cut = df_train_v_d[['TR_mean', 'TL_mean', 'TP_mean',\n",
        "                                 'TC_mean', 'OR_mean', 'OL_mean',\n",
        "                                 'OP_mean', 'OC_mean', 'TGL',\n",
        "                                 'OGL', 'Resultado_Vitoria']]"
      ],
      "metadata": {
        "id": "4sKOTKPW6sTK"
      },
      "execution_count": 50,
      "outputs": []
    },
    {
      "cell_type": "code",
      "source": [
        "exp_clf4 = setup(data = df_train_v_d_cut, \n",
        "                 target = 'Resultado_Vitoria', \n",
        "                 polynomial_features = True,\n",
        "                 normalize = True,\n",
        "                 fix_imbalance = True) "
      ],
      "metadata": {
        "colab": {
          "base_uri": "https://localhost:8080/",
          "height": 833
        },
        "id": "T0iMGbZ27Ncq",
        "outputId": "58062363-926d-4410-8826-5ca0c68367c3"
      },
      "execution_count": 51,
      "outputs": [
        {
          "output_type": "display_data",
          "data": {
            "text/plain": [
              "<pandas.io.formats.style.Styler at 0x7f769c137c40>"
            ],
            "text/html": [
              "<style type=\"text/css\">\n",
              "#T_c0306_row8_col1, #T_c0306_row12_col1, #T_c0306_row14_col1, #T_c0306_row16_col1 {\n",
              "  background-color: lightgreen;\n",
              "}\n",
              "</style>\n",
              "<table id=\"T_c0306_\" class=\"dataframe\">\n",
              "  <thead>\n",
              "    <tr>\n",
              "      <th class=\"blank level0\" >&nbsp;</th>\n",
              "      <th class=\"col_heading level0 col0\" >Description</th>\n",
              "      <th class=\"col_heading level0 col1\" >Value</th>\n",
              "    </tr>\n",
              "  </thead>\n",
              "  <tbody>\n",
              "    <tr>\n",
              "      <th id=\"T_c0306_level0_row0\" class=\"row_heading level0 row0\" >0</th>\n",
              "      <td id=\"T_c0306_row0_col0\" class=\"data row0 col0\" >Session id</td>\n",
              "      <td id=\"T_c0306_row0_col1\" class=\"data row0 col1\" >1334</td>\n",
              "    </tr>\n",
              "    <tr>\n",
              "      <th id=\"T_c0306_level0_row1\" class=\"row_heading level0 row1\" >1</th>\n",
              "      <td id=\"T_c0306_row1_col0\" class=\"data row1 col0\" >Target</td>\n",
              "      <td id=\"T_c0306_row1_col1\" class=\"data row1 col1\" >Resultado_Vitoria</td>\n",
              "    </tr>\n",
              "    <tr>\n",
              "      <th id=\"T_c0306_level0_row2\" class=\"row_heading level0 row2\" >2</th>\n",
              "      <td id=\"T_c0306_row2_col0\" class=\"data row2 col0\" >Target type</td>\n",
              "      <td id=\"T_c0306_row2_col1\" class=\"data row2 col1\" >Binary</td>\n",
              "    </tr>\n",
              "    <tr>\n",
              "      <th id=\"T_c0306_level0_row3\" class=\"row_heading level0 row3\" >3</th>\n",
              "      <td id=\"T_c0306_row3_col0\" class=\"data row3 col0\" >Original data shape</td>\n",
              "      <td id=\"T_c0306_row3_col1\" class=\"data row3 col1\" >(4182, 11)</td>\n",
              "    </tr>\n",
              "    <tr>\n",
              "      <th id=\"T_c0306_level0_row4\" class=\"row_heading level0 row4\" >4</th>\n",
              "      <td id=\"T_c0306_row4_col0\" class=\"data row4 col0\" >Transformed data shape</td>\n",
              "      <td id=\"T_c0306_row4_col1\" class=\"data row4 col1\" >(4183, 66)</td>\n",
              "    </tr>\n",
              "    <tr>\n",
              "      <th id=\"T_c0306_level0_row5\" class=\"row_heading level0 row5\" >5</th>\n",
              "      <td id=\"T_c0306_row5_col0\" class=\"data row5 col0\" >Transformed train set shape</td>\n",
              "      <td id=\"T_c0306_row5_col1\" class=\"data row5 col1\" >(2928, 66)</td>\n",
              "    </tr>\n",
              "    <tr>\n",
              "      <th id=\"T_c0306_level0_row6\" class=\"row_heading level0 row6\" >6</th>\n",
              "      <td id=\"T_c0306_row6_col0\" class=\"data row6 col0\" >Transformed test set shape</td>\n",
              "      <td id=\"T_c0306_row6_col1\" class=\"data row6 col1\" >(1255, 66)</td>\n",
              "    </tr>\n",
              "    <tr>\n",
              "      <th id=\"T_c0306_level0_row7\" class=\"row_heading level0 row7\" >7</th>\n",
              "      <td id=\"T_c0306_row7_col0\" class=\"data row7 col0\" >Numeric features</td>\n",
              "      <td id=\"T_c0306_row7_col1\" class=\"data row7 col1\" >10</td>\n",
              "    </tr>\n",
              "    <tr>\n",
              "      <th id=\"T_c0306_level0_row8\" class=\"row_heading level0 row8\" >8</th>\n",
              "      <td id=\"T_c0306_row8_col0\" class=\"data row8 col0\" >Preprocess</td>\n",
              "      <td id=\"T_c0306_row8_col1\" class=\"data row8 col1\" >True</td>\n",
              "    </tr>\n",
              "    <tr>\n",
              "      <th id=\"T_c0306_level0_row9\" class=\"row_heading level0 row9\" >9</th>\n",
              "      <td id=\"T_c0306_row9_col0\" class=\"data row9 col0\" >Imputation type</td>\n",
              "      <td id=\"T_c0306_row9_col1\" class=\"data row9 col1\" >simple</td>\n",
              "    </tr>\n",
              "    <tr>\n",
              "      <th id=\"T_c0306_level0_row10\" class=\"row_heading level0 row10\" >10</th>\n",
              "      <td id=\"T_c0306_row10_col0\" class=\"data row10 col0\" >Numeric imputation</td>\n",
              "      <td id=\"T_c0306_row10_col1\" class=\"data row10 col1\" >mean</td>\n",
              "    </tr>\n",
              "    <tr>\n",
              "      <th id=\"T_c0306_level0_row11\" class=\"row_heading level0 row11\" >11</th>\n",
              "      <td id=\"T_c0306_row11_col0\" class=\"data row11 col0\" >Categorical imputation</td>\n",
              "      <td id=\"T_c0306_row11_col1\" class=\"data row11 col1\" >mode</td>\n",
              "    </tr>\n",
              "    <tr>\n",
              "      <th id=\"T_c0306_level0_row12\" class=\"row_heading level0 row12\" >12</th>\n",
              "      <td id=\"T_c0306_row12_col0\" class=\"data row12 col0\" >Polynomial features</td>\n",
              "      <td id=\"T_c0306_row12_col1\" class=\"data row12 col1\" >True</td>\n",
              "    </tr>\n",
              "    <tr>\n",
              "      <th id=\"T_c0306_level0_row13\" class=\"row_heading level0 row13\" >13</th>\n",
              "      <td id=\"T_c0306_row13_col0\" class=\"data row13 col0\" >Polynomial degree</td>\n",
              "      <td id=\"T_c0306_row13_col1\" class=\"data row13 col1\" >2</td>\n",
              "    </tr>\n",
              "    <tr>\n",
              "      <th id=\"T_c0306_level0_row14\" class=\"row_heading level0 row14\" >14</th>\n",
              "      <td id=\"T_c0306_row14_col0\" class=\"data row14 col0\" >Fix imbalance</td>\n",
              "      <td id=\"T_c0306_row14_col1\" class=\"data row14 col1\" >True</td>\n",
              "    </tr>\n",
              "    <tr>\n",
              "      <th id=\"T_c0306_level0_row15\" class=\"row_heading level0 row15\" >15</th>\n",
              "      <td id=\"T_c0306_row15_col0\" class=\"data row15 col0\" >Fix imbalance method</td>\n",
              "      <td id=\"T_c0306_row15_col1\" class=\"data row15 col1\" >SMOTE</td>\n",
              "    </tr>\n",
              "    <tr>\n",
              "      <th id=\"T_c0306_level0_row16\" class=\"row_heading level0 row16\" >16</th>\n",
              "      <td id=\"T_c0306_row16_col0\" class=\"data row16 col0\" >Normalize</td>\n",
              "      <td id=\"T_c0306_row16_col1\" class=\"data row16 col1\" >True</td>\n",
              "    </tr>\n",
              "    <tr>\n",
              "      <th id=\"T_c0306_level0_row17\" class=\"row_heading level0 row17\" >17</th>\n",
              "      <td id=\"T_c0306_row17_col0\" class=\"data row17 col0\" >Normalize method</td>\n",
              "      <td id=\"T_c0306_row17_col1\" class=\"data row17 col1\" >zscore</td>\n",
              "    </tr>\n",
              "    <tr>\n",
              "      <th id=\"T_c0306_level0_row18\" class=\"row_heading level0 row18\" >18</th>\n",
              "      <td id=\"T_c0306_row18_col0\" class=\"data row18 col0\" >Fold Generator</td>\n",
              "      <td id=\"T_c0306_row18_col1\" class=\"data row18 col1\" >StratifiedKFold</td>\n",
              "    </tr>\n",
              "    <tr>\n",
              "      <th id=\"T_c0306_level0_row19\" class=\"row_heading level0 row19\" >19</th>\n",
              "      <td id=\"T_c0306_row19_col0\" class=\"data row19 col0\" >Fold Number</td>\n",
              "      <td id=\"T_c0306_row19_col1\" class=\"data row19 col1\" >10</td>\n",
              "    </tr>\n",
              "    <tr>\n",
              "      <th id=\"T_c0306_level0_row20\" class=\"row_heading level0 row20\" >20</th>\n",
              "      <td id=\"T_c0306_row20_col0\" class=\"data row20 col0\" >CPU Jobs</td>\n",
              "      <td id=\"T_c0306_row20_col1\" class=\"data row20 col1\" >-1</td>\n",
              "    </tr>\n",
              "    <tr>\n",
              "      <th id=\"T_c0306_level0_row21\" class=\"row_heading level0 row21\" >21</th>\n",
              "      <td id=\"T_c0306_row21_col0\" class=\"data row21 col0\" >Use GPU</td>\n",
              "      <td id=\"T_c0306_row21_col1\" class=\"data row21 col1\" >False</td>\n",
              "    </tr>\n",
              "    <tr>\n",
              "      <th id=\"T_c0306_level0_row22\" class=\"row_heading level0 row22\" >22</th>\n",
              "      <td id=\"T_c0306_row22_col0\" class=\"data row22 col0\" >Log Experiment</td>\n",
              "      <td id=\"T_c0306_row22_col1\" class=\"data row22 col1\" >False</td>\n",
              "    </tr>\n",
              "    <tr>\n",
              "      <th id=\"T_c0306_level0_row23\" class=\"row_heading level0 row23\" >23</th>\n",
              "      <td id=\"T_c0306_row23_col0\" class=\"data row23 col0\" >Experiment Name</td>\n",
              "      <td id=\"T_c0306_row23_col1\" class=\"data row23 col1\" >clf-default-name</td>\n",
              "    </tr>\n",
              "    <tr>\n",
              "      <th id=\"T_c0306_level0_row24\" class=\"row_heading level0 row24\" >24</th>\n",
              "      <td id=\"T_c0306_row24_col0\" class=\"data row24 col0\" >USI</td>\n",
              "      <td id=\"T_c0306_row24_col1\" class=\"data row24 col1\" >0c59</td>\n",
              "    </tr>\n",
              "  </tbody>\n",
              "</table>\n"
            ]
          },
          "metadata": {}
        }
      ]
    },
    {
      "cell_type": "code",
      "source": [
        "%%time\n",
        "\n",
        "best_model = compare_models(fold=10, sort='Prec.')"
      ],
      "metadata": {
        "colab": {
          "base_uri": "https://localhost:8080/",
          "height": 523,
          "referenced_widgets": [
            "13e6d4657995413f8f97f8956d271d56",
            "a0387ace36b24247844744d8423fd874",
            "8ee41409aa0d4d89badfee14f429eb23",
            "0748f81cd80c4682ba3fa86870bd54dd",
            "4aac14d7d5da4c388ff0f06381b36837",
            "68ac4899950b492187832417578f5604",
            "705cd7b407cf46deb45f58df8421b294",
            "05a2bb6323704fd988f23839f0b47f1b",
            "fa96f57637e84e3f817dd3182bacd879",
            "a219914aa8b24f6aa6fcfe2efdc0ca4a",
            "e657023b4cd04ee2984fb4e03c8c5820"
          ]
        },
        "id": "1hgQL_DF7jh-",
        "outputId": "38c4cc83-e8f1-47a0-ed4b-cef90ece8f52"
      },
      "execution_count": 52,
      "outputs": [
        {
          "output_type": "display_data",
          "data": {
            "text/plain": [
              "<IPython.core.display.HTML object>"
            ],
            "text/html": []
          },
          "metadata": {}
        },
        {
          "output_type": "display_data",
          "data": {
            "text/plain": [
              "<pandas.io.formats.style.Styler at 0x7f769c145130>"
            ],
            "text/html": [
              "<style type=\"text/css\">\n",
              "#T_3c16c_ th {\n",
              "  text-align: left;\n",
              "}\n",
              "#T_3c16c_row0_col0, #T_3c16c_row0_col3, #T_3c16c_row0_col5, #T_3c16c_row1_col0, #T_3c16c_row1_col1, #T_3c16c_row1_col2, #T_3c16c_row1_col4, #T_3c16c_row1_col6, #T_3c16c_row1_col7, #T_3c16c_row2_col0, #T_3c16c_row2_col1, #T_3c16c_row2_col2, #T_3c16c_row2_col3, #T_3c16c_row2_col4, #T_3c16c_row2_col5, #T_3c16c_row2_col6, #T_3c16c_row2_col7, #T_3c16c_row3_col0, #T_3c16c_row3_col1, #T_3c16c_row3_col2, #T_3c16c_row3_col3, #T_3c16c_row3_col4, #T_3c16c_row3_col5, #T_3c16c_row3_col6, #T_3c16c_row3_col7, #T_3c16c_row4_col0, #T_3c16c_row4_col1, #T_3c16c_row4_col2, #T_3c16c_row4_col3, #T_3c16c_row4_col4, #T_3c16c_row4_col5, #T_3c16c_row4_col6, #T_3c16c_row4_col7, #T_3c16c_row5_col0, #T_3c16c_row5_col1, #T_3c16c_row5_col2, #T_3c16c_row5_col3, #T_3c16c_row5_col4, #T_3c16c_row5_col5, #T_3c16c_row5_col6, #T_3c16c_row5_col7, #T_3c16c_row6_col0, #T_3c16c_row6_col1, #T_3c16c_row6_col2, #T_3c16c_row6_col3, #T_3c16c_row6_col4, #T_3c16c_row6_col5, #T_3c16c_row6_col6, #T_3c16c_row6_col7, #T_3c16c_row7_col0, #T_3c16c_row7_col1, #T_3c16c_row7_col2, #T_3c16c_row7_col3, #T_3c16c_row7_col4, #T_3c16c_row7_col5, #T_3c16c_row7_col6, #T_3c16c_row7_col7, #T_3c16c_row8_col0, #T_3c16c_row8_col1, #T_3c16c_row8_col2, #T_3c16c_row8_col3, #T_3c16c_row8_col4, #T_3c16c_row8_col5, #T_3c16c_row8_col6, #T_3c16c_row8_col7, #T_3c16c_row9_col0, #T_3c16c_row9_col1, #T_3c16c_row9_col2, #T_3c16c_row9_col3, #T_3c16c_row9_col4, #T_3c16c_row9_col5, #T_3c16c_row9_col6, #T_3c16c_row9_col7, #T_3c16c_row10_col0, #T_3c16c_row10_col1, #T_3c16c_row10_col2, #T_3c16c_row10_col3, #T_3c16c_row10_col4, #T_3c16c_row10_col5, #T_3c16c_row10_col6, #T_3c16c_row10_col7, #T_3c16c_row11_col0, #T_3c16c_row11_col1, #T_3c16c_row11_col2, #T_3c16c_row11_col3, #T_3c16c_row11_col4, #T_3c16c_row11_col5, #T_3c16c_row11_col6, #T_3c16c_row11_col7, #T_3c16c_row12_col0, #T_3c16c_row12_col1, #T_3c16c_row12_col2, #T_3c16c_row12_col3, #T_3c16c_row12_col4, #T_3c16c_row12_col5, #T_3c16c_row12_col6, #T_3c16c_row12_col7, #T_3c16c_row13_col0, #T_3c16c_row13_col1, #T_3c16c_row13_col2, #T_3c16c_row13_col3, #T_3c16c_row13_col4, #T_3c16c_row13_col5, #T_3c16c_row13_col6, #T_3c16c_row13_col7 {\n",
              "  text-align: left;\n",
              "}\n",
              "#T_3c16c_row0_col1, #T_3c16c_row0_col2, #T_3c16c_row0_col4, #T_3c16c_row0_col6, #T_3c16c_row0_col7, #T_3c16c_row1_col3, #T_3c16c_row1_col5 {\n",
              "  text-align: left;\n",
              "  background-color: yellow;\n",
              "}\n",
              "#T_3c16c_row0_col8, #T_3c16c_row1_col8, #T_3c16c_row2_col8, #T_3c16c_row4_col8, #T_3c16c_row5_col8, #T_3c16c_row6_col8, #T_3c16c_row7_col8, #T_3c16c_row8_col8, #T_3c16c_row9_col8, #T_3c16c_row10_col8, #T_3c16c_row11_col8, #T_3c16c_row12_col8, #T_3c16c_row13_col8 {\n",
              "  text-align: left;\n",
              "  background-color: lightgrey;\n",
              "}\n",
              "#T_3c16c_row3_col8 {\n",
              "  text-align: left;\n",
              "  background-color: yellow;\n",
              "  background-color: lightgrey;\n",
              "}\n",
              "</style>\n",
              "<table id=\"T_3c16c_\" class=\"dataframe\">\n",
              "  <thead>\n",
              "    <tr>\n",
              "      <th class=\"blank level0\" >&nbsp;</th>\n",
              "      <th class=\"col_heading level0 col0\" >Model</th>\n",
              "      <th class=\"col_heading level0 col1\" >Accuracy</th>\n",
              "      <th class=\"col_heading level0 col2\" >AUC</th>\n",
              "      <th class=\"col_heading level0 col3\" >Recall</th>\n",
              "      <th class=\"col_heading level0 col4\" >Prec.</th>\n",
              "      <th class=\"col_heading level0 col5\" >F1</th>\n",
              "      <th class=\"col_heading level0 col6\" >Kappa</th>\n",
              "      <th class=\"col_heading level0 col7\" >MCC</th>\n",
              "      <th class=\"col_heading level0 col8\" >TT (Sec)</th>\n",
              "    </tr>\n",
              "  </thead>\n",
              "  <tbody>\n",
              "    <tr>\n",
              "      <th id=\"T_3c16c_level0_row0\" class=\"row_heading level0 row0\" >nb</th>\n",
              "      <td id=\"T_3c16c_row0_col0\" class=\"data row0 col0\" >Naive Bayes</td>\n",
              "      <td id=\"T_3c16c_row0_col1\" class=\"data row0 col1\" >0.6594</td>\n",
              "      <td id=\"T_3c16c_row0_col2\" class=\"data row0 col2\" >0.7177</td>\n",
              "      <td id=\"T_3c16c_row0_col3\" class=\"data row0 col3\" >0.6316</td>\n",
              "      <td id=\"T_3c16c_row0_col4\" class=\"data row0 col4\" >0.6689</td>\n",
              "      <td id=\"T_3c16c_row0_col5\" class=\"data row0 col5\" >0.6494</td>\n",
              "      <td id=\"T_3c16c_row0_col6\" class=\"data row0 col6\" >0.3188</td>\n",
              "      <td id=\"T_3c16c_row0_col7\" class=\"data row0 col7\" >0.3195</td>\n",
              "      <td id=\"T_3c16c_row0_col8\" class=\"data row0 col8\" >0.0740</td>\n",
              "    </tr>\n",
              "    <tr>\n",
              "      <th id=\"T_3c16c_level0_row1\" class=\"row_heading level0 row1\" >gbc</th>\n",
              "      <td id=\"T_3c16c_row1_col0\" class=\"data row1 col0\" >Gradient Boosting Classifier</td>\n",
              "      <td id=\"T_3c16c_row1_col1\" class=\"data row1 col1\" >0.6556</td>\n",
              "      <td id=\"T_3c16c_row1_col2\" class=\"data row1 col2\" >0.7086</td>\n",
              "      <td id=\"T_3c16c_row1_col3\" class=\"data row1 col3\" >0.6610</td>\n",
              "      <td id=\"T_3c16c_row1_col4\" class=\"data row1 col4\" >0.6539</td>\n",
              "      <td id=\"T_3c16c_row1_col5\" class=\"data row1 col5\" >0.6573</td>\n",
              "      <td id=\"T_3c16c_row1_col6\" class=\"data row1 col6\" >0.3113</td>\n",
              "      <td id=\"T_3c16c_row1_col7\" class=\"data row1 col7\" >0.3114</td>\n",
              "      <td id=\"T_3c16c_row1_col8\" class=\"data row1 col8\" >1.1760</td>\n",
              "    </tr>\n",
              "    <tr>\n",
              "      <th id=\"T_3c16c_level0_row2\" class=\"row_heading level0 row2\" >lr</th>\n",
              "      <td id=\"T_3c16c_row2_col0\" class=\"data row2 col0\" >Logistic Regression</td>\n",
              "      <td id=\"T_3c16c_row2_col1\" class=\"data row2 col1\" >0.6505</td>\n",
              "      <td id=\"T_3c16c_row2_col2\" class=\"data row2 col2\" >0.7137</td>\n",
              "      <td id=\"T_3c16c_row2_col3\" class=\"data row2 col3\" >0.6487</td>\n",
              "      <td id=\"T_3c16c_row2_col4\" class=\"data row2 col4\" >0.6517</td>\n",
              "      <td id=\"T_3c16c_row2_col5\" class=\"data row2 col5\" >0.6498</td>\n",
              "      <td id=\"T_3c16c_row2_col6\" class=\"data row2 col6\" >0.3010</td>\n",
              "      <td id=\"T_3c16c_row2_col7\" class=\"data row2 col7\" >0.3014</td>\n",
              "      <td id=\"T_3c16c_row2_col8\" class=\"data row2 col8\" >0.9190</td>\n",
              "    </tr>\n",
              "    <tr>\n",
              "      <th id=\"T_3c16c_level0_row3\" class=\"row_heading level0 row3\" >ridge</th>\n",
              "      <td id=\"T_3c16c_row3_col0\" class=\"data row3 col0\" >Ridge Classifier</td>\n",
              "      <td id=\"T_3c16c_row3_col1\" class=\"data row3 col1\" >0.6481</td>\n",
              "      <td id=\"T_3c16c_row3_col2\" class=\"data row3 col2\" >0.0000</td>\n",
              "      <td id=\"T_3c16c_row3_col3\" class=\"data row3 col3\" >0.6480</td>\n",
              "      <td id=\"T_3c16c_row3_col4\" class=\"data row3 col4\" >0.6486</td>\n",
              "      <td id=\"T_3c16c_row3_col5\" class=\"data row3 col5\" >0.6480</td>\n",
              "      <td id=\"T_3c16c_row3_col6\" class=\"data row3 col6\" >0.2963</td>\n",
              "      <td id=\"T_3c16c_row3_col7\" class=\"data row3 col7\" >0.2965</td>\n",
              "      <td id=\"T_3c16c_row3_col8\" class=\"data row3 col8\" >0.0630</td>\n",
              "    </tr>\n",
              "    <tr>\n",
              "      <th id=\"T_3c16c_level0_row4\" class=\"row_heading level0 row4\" >lda</th>\n",
              "      <td id=\"T_3c16c_row4_col0\" class=\"data row4 col0\" >Linear Discriminant Analysis</td>\n",
              "      <td id=\"T_3c16c_row4_col1\" class=\"data row4 col1\" >0.6478</td>\n",
              "      <td id=\"T_3c16c_row4_col2\" class=\"data row4 col2\" >0.7101</td>\n",
              "      <td id=\"T_3c16c_row4_col3\" class=\"data row4 col3\" >0.6473</td>\n",
              "      <td id=\"T_3c16c_row4_col4\" class=\"data row4 col4\" >0.6481</td>\n",
              "      <td id=\"T_3c16c_row4_col5\" class=\"data row4 col5\" >0.6475</td>\n",
              "      <td id=\"T_3c16c_row4_col6\" class=\"data row4 col6\" >0.2956</td>\n",
              "      <td id=\"T_3c16c_row4_col7\" class=\"data row4 col7\" >0.2958</td>\n",
              "      <td id=\"T_3c16c_row4_col8\" class=\"data row4 col8\" >0.0980</td>\n",
              "    </tr>\n",
              "    <tr>\n",
              "      <th id=\"T_3c16c_level0_row5\" class=\"row_heading level0 row5\" >ada</th>\n",
              "      <td id=\"T_3c16c_row5_col0\" class=\"data row5 col0\" >Ada Boost Classifier</td>\n",
              "      <td id=\"T_3c16c_row5_col1\" class=\"data row5 col1\" >0.6447</td>\n",
              "      <td id=\"T_3c16c_row5_col2\" class=\"data row5 col2\" >0.6956</td>\n",
              "      <td id=\"T_3c16c_row5_col3\" class=\"data row5 col3\" >0.6460</td>\n",
              "      <td id=\"T_3c16c_row5_col4\" class=\"data row5 col4\" >0.6440</td>\n",
              "      <td id=\"T_3c16c_row5_col5\" class=\"data row5 col5\" >0.6446</td>\n",
              "      <td id=\"T_3c16c_row5_col6\" class=\"data row5 col6\" >0.2894</td>\n",
              "      <td id=\"T_3c16c_row5_col7\" class=\"data row5 col7\" >0.2898</td>\n",
              "      <td id=\"T_3c16c_row5_col8\" class=\"data row5 col8\" >0.3590</td>\n",
              "    </tr>\n",
              "    <tr>\n",
              "      <th id=\"T_3c16c_level0_row6\" class=\"row_heading level0 row6\" >lightgbm</th>\n",
              "      <td id=\"T_3c16c_row6_col0\" class=\"data row6 col0\" >Light Gradient Boosting Machine</td>\n",
              "      <td id=\"T_3c16c_row6_col1\" class=\"data row6 col1\" >0.6337</td>\n",
              "      <td id=\"T_3c16c_row6_col2\" class=\"data row6 col2\" >0.6796</td>\n",
              "      <td id=\"T_3c16c_row6_col3\" class=\"data row6 col3\" >0.6254</td>\n",
              "      <td id=\"T_3c16c_row6_col4\" class=\"data row6 col4\" >0.6363</td>\n",
              "      <td id=\"T_3c16c_row6_col5\" class=\"data row6 col5\" >0.6305</td>\n",
              "      <td id=\"T_3c16c_row6_col6\" class=\"data row6 col6\" >0.2675</td>\n",
              "      <td id=\"T_3c16c_row6_col7\" class=\"data row6 col7\" >0.2678</td>\n",
              "      <td id=\"T_3c16c_row6_col8\" class=\"data row6 col8\" >0.3100</td>\n",
              "    </tr>\n",
              "    <tr>\n",
              "      <th id=\"T_3c16c_level0_row7\" class=\"row_heading level0 row7\" >rf</th>\n",
              "      <td id=\"T_3c16c_row7_col0\" class=\"data row7 col0\" >Random Forest Classifier</td>\n",
              "      <td id=\"T_3c16c_row7_col1\" class=\"data row7 col1\" >0.6307</td>\n",
              "      <td id=\"T_3c16c_row7_col2\" class=\"data row7 col2\" >0.6784</td>\n",
              "      <td id=\"T_3c16c_row7_col3\" class=\"data row7 col3\" >0.6268</td>\n",
              "      <td id=\"T_3c16c_row7_col4\" class=\"data row7 col4\" >0.6318</td>\n",
              "      <td id=\"T_3c16c_row7_col5\" class=\"data row7 col5\" >0.6290</td>\n",
              "      <td id=\"T_3c16c_row7_col6\" class=\"data row7 col6\" >0.2614</td>\n",
              "      <td id=\"T_3c16c_row7_col7\" class=\"data row7 col7\" >0.2616</td>\n",
              "      <td id=\"T_3c16c_row7_col8\" class=\"data row7 col8\" >0.7720</td>\n",
              "    </tr>\n",
              "    <tr>\n",
              "      <th id=\"T_3c16c_level0_row8\" class=\"row_heading level0 row8\" >et</th>\n",
              "      <td id=\"T_3c16c_row8_col0\" class=\"data row8 col0\" >Extra Trees Classifier</td>\n",
              "      <td id=\"T_3c16c_row8_col1\" class=\"data row8 col1\" >0.6228</td>\n",
              "      <td id=\"T_3c16c_row8_col2\" class=\"data row8 col2\" >0.6642</td>\n",
              "      <td id=\"T_3c16c_row8_col3\" class=\"data row8 col3\" >0.6103</td>\n",
              "      <td id=\"T_3c16c_row8_col4\" class=\"data row8 col4\" >0.6262</td>\n",
              "      <td id=\"T_3c16c_row8_col5\" class=\"data row8 col5\" >0.6174</td>\n",
              "      <td id=\"T_3c16c_row8_col6\" class=\"data row8 col6\" >0.2456</td>\n",
              "      <td id=\"T_3c16c_row8_col7\" class=\"data row8 col7\" >0.2462</td>\n",
              "      <td id=\"T_3c16c_row8_col8\" class=\"data row8 col8\" >0.5040</td>\n",
              "    </tr>\n",
              "    <tr>\n",
              "      <th id=\"T_3c16c_level0_row9\" class=\"row_heading level0 row9\" >knn</th>\n",
              "      <td id=\"T_3c16c_row9_col0\" class=\"data row9 col0\" >K Neighbors Classifier</td>\n",
              "      <td id=\"T_3c16c_row9_col1\" class=\"data row9 col1\" >0.6006</td>\n",
              "      <td id=\"T_3c16c_row9_col2\" class=\"data row9 col2\" >0.6319</td>\n",
              "      <td id=\"T_3c16c_row9_col3\" class=\"data row9 col3\" >0.6029</td>\n",
              "      <td id=\"T_3c16c_row9_col4\" class=\"data row9 col4\" >0.6006</td>\n",
              "      <td id=\"T_3c16c_row9_col5\" class=\"data row9 col5\" >0.6013</td>\n",
              "      <td id=\"T_3c16c_row9_col6\" class=\"data row9 col6\" >0.2013</td>\n",
              "      <td id=\"T_3c16c_row9_col7\" class=\"data row9 col7\" >0.2016</td>\n",
              "      <td id=\"T_3c16c_row9_col8\" class=\"data row9 col8\" >0.2150</td>\n",
              "    </tr>\n",
              "    <tr>\n",
              "      <th id=\"T_3c16c_level0_row10\" class=\"row_heading level0 row10\" >svm</th>\n",
              "      <td id=\"T_3c16c_row10_col0\" class=\"data row10 col0\" >SVM - Linear Kernel</td>\n",
              "      <td id=\"T_3c16c_row10_col1\" class=\"data row10 col1\" >0.5856</td>\n",
              "      <td id=\"T_3c16c_row10_col2\" class=\"data row10 col2\" >0.0000</td>\n",
              "      <td id=\"T_3c16c_row10_col3\" class=\"data row10 col3\" >0.5953</td>\n",
              "      <td id=\"T_3c16c_row10_col4\" class=\"data row10 col4\" >0.5861</td>\n",
              "      <td id=\"T_3c16c_row10_col5\" class=\"data row10 col5\" >0.5883</td>\n",
              "      <td id=\"T_3c16c_row10_col6\" class=\"data row10 col6\" >0.1711</td>\n",
              "      <td id=\"T_3c16c_row10_col7\" class=\"data row10 col7\" >0.1726</td>\n",
              "      <td id=\"T_3c16c_row10_col8\" class=\"data row10 col8\" >0.1030</td>\n",
              "    </tr>\n",
              "    <tr>\n",
              "      <th id=\"T_3c16c_level0_row11\" class=\"row_heading level0 row11\" >qda</th>\n",
              "      <td id=\"T_3c16c_row11_col0\" class=\"data row11 col0\" >Quadratic Discriminant Analysis</td>\n",
              "      <td id=\"T_3c16c_row11_col1\" class=\"data row11 col1\" >0.5630</td>\n",
              "      <td id=\"T_3c16c_row11_col2\" class=\"data row11 col2\" >0.5631</td>\n",
              "      <td id=\"T_3c16c_row11_col3\" class=\"data row11 col3\" >0.4800</td>\n",
              "      <td id=\"T_3c16c_row11_col4\" class=\"data row11 col4\" >0.5788</td>\n",
              "      <td id=\"T_3c16c_row11_col5\" class=\"data row11 col5\" >0.5194</td>\n",
              "      <td id=\"T_3c16c_row11_col6\" class=\"data row11 col6\" >0.1262</td>\n",
              "      <td id=\"T_3c16c_row11_col7\" class=\"data row11 col7\" >0.1296</td>\n",
              "      <td id=\"T_3c16c_row11_col8\" class=\"data row11 col8\" >0.0830</td>\n",
              "    </tr>\n",
              "    <tr>\n",
              "      <th id=\"T_3c16c_level0_row12\" class=\"row_heading level0 row12\" >dt</th>\n",
              "      <td id=\"T_3c16c_row12_col0\" class=\"data row12 col0\" >Decision Tree Classifier</td>\n",
              "      <td id=\"T_3c16c_row12_col1\" class=\"data row12 col1\" >0.5586</td>\n",
              "      <td id=\"T_3c16c_row12_col2\" class=\"data row12 col2\" >0.5587</td>\n",
              "      <td id=\"T_3c16c_row12_col3\" class=\"data row12 col3\" >0.5598</td>\n",
              "      <td id=\"T_3c16c_row12_col4\" class=\"data row12 col4\" >0.5585</td>\n",
              "      <td id=\"T_3c16c_row12_col5\" class=\"data row12 col5\" >0.5589</td>\n",
              "      <td id=\"T_3c16c_row12_col6\" class=\"data row12 col6\" >0.1171</td>\n",
              "      <td id=\"T_3c16c_row12_col7\" class=\"data row12 col7\" >0.1172</td>\n",
              "      <td id=\"T_3c16c_row12_col8\" class=\"data row12 col8\" >0.1190</td>\n",
              "    </tr>\n",
              "    <tr>\n",
              "      <th id=\"T_3c16c_level0_row13\" class=\"row_heading level0 row13\" >dummy</th>\n",
              "      <td id=\"T_3c16c_row13_col0\" class=\"data row13 col0\" >Dummy Classifier</td>\n",
              "      <td id=\"T_3c16c_row13_col1\" class=\"data row13 col1\" >0.5002</td>\n",
              "      <td id=\"T_3c16c_row13_col2\" class=\"data row13 col2\" >0.5000</td>\n",
              "      <td id=\"T_3c16c_row13_col3\" class=\"data row13 col3\" >0.0000</td>\n",
              "      <td id=\"T_3c16c_row13_col4\" class=\"data row13 col4\" >0.0000</td>\n",
              "      <td id=\"T_3c16c_row13_col5\" class=\"data row13 col5\" >0.0000</td>\n",
              "      <td id=\"T_3c16c_row13_col6\" class=\"data row13 col6\" >0.0000</td>\n",
              "      <td id=\"T_3c16c_row13_col7\" class=\"data row13 col7\" >0.0000</td>\n",
              "      <td id=\"T_3c16c_row13_col8\" class=\"data row13 col8\" >0.0690</td>\n",
              "    </tr>\n",
              "  </tbody>\n",
              "</table>\n"
            ]
          },
          "metadata": {}
        },
        {
          "output_type": "display_data",
          "data": {
            "text/plain": [
              "Processing:   0%|          | 0/61 [00:00<?, ?it/s]"
            ],
            "application/vnd.jupyter.widget-view+json": {
              "version_major": 2,
              "version_minor": 0,
              "model_id": "13e6d4657995413f8f97f8956d271d56"
            }
          },
          "metadata": {
            "application/vnd.jupyter.widget-view+json": {
              "colab": {
                "custom_widget_manager": {
                  "url": "https://ssl.gstatic.com/colaboratory-static/widgets/colab-cdn-widget-manager/b3e629b1971e1542/manager.min.js"
                }
              }
            }
          }
        },
        {
          "output_type": "display_data",
          "data": {
            "text/plain": [
              "<IPython.core.display.HTML object>"
            ],
            "text/html": []
          },
          "metadata": {}
        },
        {
          "output_type": "stream",
          "name": "stdout",
          "text": [
            "CPU times: user 5.6 s, sys: 217 ms, total: 5.81 s\n",
            "Wall time: 53 s\n"
          ]
        }
      ]
    },
    {
      "cell_type": "code",
      "source": [
        "plot_model(best_model, plot = 'confusion_matrix')"
      ],
      "metadata": {
        "colab": {
          "base_uri": "https://localhost:8080/",
          "height": 297
        },
        "id": "cCdBMmEA70EL",
        "outputId": "cf895f16-b5b3-4cf7-de63-ce4d96944996"
      },
      "execution_count": 53,
      "outputs": [
        {
          "output_type": "display_data",
          "data": {
            "text/plain": [
              "<IPython.core.display.HTML object>"
            ],
            "text/html": []
          },
          "metadata": {}
        },
        {
          "output_type": "display_data",
          "data": {
            "text/plain": [
              "<Figure size 432x288 with 1 Axes>"
            ],
            "image/png": "[encoded data removed]"
          },
          "metadata": {
            "needs_background": "light"
          }
        }
      ]
    },
    {
      "cell_type": "markdown",
      "source": [
        "#Tentativa de compilação do resultado dos dois modelos:"
      ],
      "metadata": {
        "id": "wa7upz5n8DVM"
      }
    },
    {
      "cell_type": "markdown",
      "source": [
        "Escolher os modelos, rodar e comparar os resultados com a coluna de Resultados original."
      ],
      "metadata": {
        "id": "6ZvK5gi5_W0j"
      }
    },
    {
      "cell_type": "code",
      "source": [],
      "metadata": {
        "id": "DMMVlw3P8Cot"
      },
      "execution_count": null,
      "outputs": []
    }
  ]
}