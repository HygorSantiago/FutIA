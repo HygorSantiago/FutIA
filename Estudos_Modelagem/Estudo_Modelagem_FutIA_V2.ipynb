{
  "nbformat": 4,
  "nbformat_minor": 0,
  "metadata": {
    "colab": {
      "provenance": []
    },
    "kernelspec": {
      "name": "python3",
      "display_name": "Python 3"
    },
    "language_info": {
      "name": "python"
    },
    "widgets": {
      "application/vnd.jupyter.widget-state+json": {
        "1375e02428704760bec9e45c933ac2b6": {
          "model_module": "@jupyter-widgets/controls",
          "model_name": "HBoxModel",
          "model_module_version": "1.5.0",
          "state": {
            "_dom_classes": [],
            "_model_module": "@jupyter-widgets/controls",
            "_model_module_version": "1.5.0",
            "_model_name": "HBoxModel",
            "_view_count": null,
            "_view_module": "@jupyter-widgets/controls",
            "_view_module_version": "1.5.0",
            "_view_name": "HBoxView",
            "box_style": "",
            "children": [
              "IPY_MODEL_4e961cd50a25461daee967fa9090fc01",
              "IPY_MODEL_c6fb17a2167d4da6bda951fe564c19bd",
              "IPY_MODEL_c0f81d74dd424661bd8be91a5ae9d415"
            ],
            "layout": "IPY_MODEL_b6f59eff30d546afa87b31ee8d238072"
          }
        },
        "4e961cd50a25461daee967fa9090fc01": {
          "model_module": "@jupyter-widgets/controls",
          "model_name": "HTMLModel",
          "model_module_version": "1.5.0",
          "state": {
            "_dom_classes": [],
            "_model_module": "@jupyter-widgets/controls",
            "_model_module_version": "1.5.0",
            "_model_name": "HTMLModel",
            "_view_count": null,
            "_view_module": "@jupyter-widgets/controls",
            "_view_module_version": "1.5.0",
            "_view_name": "HTMLView",
            "description": "",
            "description_tooltip": null,
            "layout": "IPY_MODEL_6e3f7e7b33b74ab19779be6e0177dc67",
            "placeholder": "​",
            "style": "IPY_MODEL_089f17be8c1843b799d94d02cc068cad",
            "value": "Processing: 100%"
          }
        },
        "c6fb17a2167d4da6bda951fe564c19bd": {
          "model_module": "@jupyter-widgets/controls",
          "model_name": "FloatProgressModel",
          "model_module_version": "1.5.0",
          "state": {
            "_dom_classes": [],
            "_model_module": "@jupyter-widgets/controls",
            "_model_module_version": "1.5.0",
            "_model_name": "FloatProgressModel",
            "_view_count": null,
            "_view_module": "@jupyter-widgets/controls",
            "_view_module_version": "1.5.0",
            "_view_name": "ProgressView",
            "bar_style": "",
            "description": "",
            "description_tooltip": null,
            "layout": "IPY_MODEL_de121bed7eab4be3b468c027568280d8",
            "max": 61,
            "min": 0,
            "orientation": "horizontal",
            "style": "IPY_MODEL_84aea7ddcfbb46d6a73e91acd86d9244",
            "value": 61
          }
        },
        "c0f81d74dd424661bd8be91a5ae9d415": {
          "model_module": "@jupyter-widgets/controls",
          "model_name": "HTMLModel",
          "model_module_version": "1.5.0",
          "state": {
            "_dom_classes": [],
            "_model_module": "@jupyter-widgets/controls",
            "_model_module_version": "1.5.0",
            "_model_name": "HTMLModel",
            "_view_count": null,
            "_view_module": "@jupyter-widgets/controls",
            "_view_module_version": "1.5.0",
            "_view_name": "HTMLView",
            "description": "",
            "description_tooltip": null,
            "layout": "IPY_MODEL_576b05183b4845ef96b601b9dfd41afc",
            "placeholder": "​",
            "style": "IPY_MODEL_32386b5950974e81ac5c6617a8fce875",
            "value": " 61/61 [00:16&lt;00:00,  4.57it/s]"
          }
        },
        "b6f59eff30d546afa87b31ee8d238072": {
          "model_module": "@jupyter-widgets/base",
          "model_name": "LayoutModel",
          "model_module_version": "1.2.0",
          "state": {
            "_model_module": "@jupyter-widgets/base",
            "_model_module_version": "1.2.0",
            "_model_name": "LayoutModel",
            "_view_count": null,
            "_view_module": "@jupyter-widgets/base",
            "_view_module_version": "1.2.0",
            "_view_name": "LayoutView",
            "align_content": null,
            "align_items": null,
            "align_self": null,
            "border": null,
            "bottom": null,
            "display": null,
            "flex": null,
            "flex_flow": null,
            "grid_area": null,
            "grid_auto_columns": null,
            "grid_auto_flow": null,
            "grid_auto_rows": null,
            "grid_column": null,
            "grid_gap": null,
            "grid_row": null,
            "grid_template_areas": null,
            "grid_template_columns": null,
            "grid_template_rows": null,
            "height": null,
            "justify_content": null,
            "justify_items": null,
            "left": null,
            "margin": null,
            "max_height": null,
            "max_width": null,
            "min_height": null,
            "min_width": null,
            "object_fit": null,
            "object_position": null,
            "order": null,
            "overflow": null,
            "overflow_x": null,
            "overflow_y": null,
            "padding": null,
            "right": null,
            "top": null,
            "visibility": "hidden",
            "width": null
          }
        },
        "6e3f7e7b33b74ab19779be6e0177dc67": {
          "model_module": "@jupyter-widgets/base",
          "model_name": "LayoutModel",
          "model_module_version": "1.2.0",
          "state": {
            "_model_module": "@jupyter-widgets/base",
            "_model_module_version": "1.2.0",
            "_model_name": "LayoutModel",
            "_view_count": null,
            "_view_module": "@jupyter-widgets/base",
            "_view_module_version": "1.2.0",
            "_view_name": "LayoutView",
            "align_content": null,
            "align_items": null,
            "align_self": null,
            "border": null,
            "bottom": null,
            "display": null,
            "flex": null,
            "flex_flow": null,
            "grid_area": null,
            "grid_auto_columns": null,
            "grid_auto_flow": null,
            "grid_auto_rows": null,
            "grid_column": null,
            "grid_gap": null,
            "grid_row": null,
            "grid_template_areas": null,
            "grid_template_columns": null,
            "grid_template_rows": null,
            "height": null,
            "justify_content": null,
            "justify_items": null,
            "left": null,
            "margin": null,
            "max_height": null,
            "max_width": null,
            "min_height": null,
            "min_width": null,
            "object_fit": null,
            "object_position": null,
            "order": null,
            "overflow": null,
            "overflow_x": null,
            "overflow_y": null,
            "padding": null,
            "right": null,
            "top": null,
            "visibility": null,
            "width": null
          }
        },
        "089f17be8c1843b799d94d02cc068cad": {
          "model_module": "@jupyter-widgets/controls",
          "model_name": "DescriptionStyleModel",
          "model_module_version": "1.5.0",
          "state": {
            "_model_module": "@jupyter-widgets/controls",
            "_model_module_version": "1.5.0",
            "_model_name": "DescriptionStyleModel",
            "_view_count": null,
            "_view_module": "@jupyter-widgets/base",
            "_view_module_version": "1.2.0",
            "_view_name": "StyleView",
            "description_width": ""
          }
        },
        "de121bed7eab4be3b468c027568280d8": {
          "model_module": "@jupyter-widgets/base",
          "model_name": "LayoutModel",
          "model_module_version": "1.2.0",
          "state": {
            "_model_module": "@jupyter-widgets/base",
            "_model_module_version": "1.2.0",
            "_model_name": "LayoutModel",
            "_view_count": null,
            "_view_module": "@jupyter-widgets/base",
            "_view_module_version": "1.2.0",
            "_view_name": "LayoutView",
            "align_content": null,
            "align_items": null,
            "align_self": null,
            "border": null,
            "bottom": null,
            "display": null,
            "flex": null,
            "flex_flow": null,
            "grid_area": null,
            "grid_auto_columns": null,
            "grid_auto_flow": null,
            "grid_auto_rows": null,
            "grid_column": null,
            "grid_gap": null,
            "grid_row": null,
            "grid_template_areas": null,
            "grid_template_columns": null,
            "grid_template_rows": null,
            "height": null,
            "justify_content": null,
            "justify_items": null,
            "left": null,
            "margin": null,
            "max_height": null,
            "max_width": null,
            "min_height": null,
            "min_width": null,
            "object_fit": null,
            "object_position": null,
            "order": null,
            "overflow": null,
            "overflow_x": null,
            "overflow_y": null,
            "padding": null,
            "right": null,
            "top": null,
            "visibility": null,
            "width": null
          }
        },
        "84aea7ddcfbb46d6a73e91acd86d9244": {
          "model_module": "@jupyter-widgets/controls",
          "model_name": "ProgressStyleModel",
          "model_module_version": "1.5.0",
          "state": {
            "_model_module": "@jupyter-widgets/controls",
            "_model_module_version": "1.5.0",
            "_model_name": "ProgressStyleModel",
            "_view_count": null,
            "_view_module": "@jupyter-widgets/base",
            "_view_module_version": "1.2.0",
            "_view_name": "StyleView",
            "bar_color": null,
            "description_width": ""
          }
        },
        "576b05183b4845ef96b601b9dfd41afc": {
          "model_module": "@jupyter-widgets/base",
          "model_name": "LayoutModel",
          "model_module_version": "1.2.0",
          "state": {
            "_model_module": "@jupyter-widgets/base",
            "_model_module_version": "1.2.0",
            "_model_name": "LayoutModel",
            "_view_count": null,
            "_view_module": "@jupyter-widgets/base",
            "_view_module_version": "1.2.0",
            "_view_name": "LayoutView",
            "align_content": null,
            "align_items": null,
            "align_self": null,
            "border": null,
            "bottom": null,
            "display": null,
            "flex": null,
            "flex_flow": null,
            "grid_area": null,
            "grid_auto_columns": null,
            "grid_auto_flow": null,
            "grid_auto_rows": null,
            "grid_column": null,
            "grid_gap": null,
            "grid_row": null,
            "grid_template_areas": null,
            "grid_template_columns": null,
            "grid_template_rows": null,
            "height": null,
            "justify_content": null,
            "justify_items": null,
            "left": null,
            "margin": null,
            "max_height": null,
            "max_width": null,
            "min_height": null,
            "min_width": null,
            "object_fit": null,
            "object_position": null,
            "order": null,
            "overflow": null,
            "overflow_x": null,
            "overflow_y": null,
            "padding": null,
            "right": null,
            "top": null,
            "visibility": null,
            "width": null
          }
        },
        "32386b5950974e81ac5c6617a8fce875": {
          "model_module": "@jupyter-widgets/controls",
          "model_name": "DescriptionStyleModel",
          "model_module_version": "1.5.0",
          "state": {
            "_model_module": "@jupyter-widgets/controls",
            "_model_module_version": "1.5.0",
            "_model_name": "DescriptionStyleModel",
            "_view_count": null,
            "_view_module": "@jupyter-widgets/base",
            "_view_module_version": "1.2.0",
            "_view_name": "StyleView",
            "description_width": ""
          }
        },
        "156bf957ec094644b5a08fb2cceed673": {
          "model_module": "@jupyter-widgets/controls",
          "model_name": "HBoxModel",
          "model_module_version": "1.5.0",
          "state": {
            "_dom_classes": [],
            "_model_module": "@jupyter-widgets/controls",
            "_model_module_version": "1.5.0",
            "_model_name": "HBoxModel",
            "_view_count": null,
            "_view_module": "@jupyter-widgets/controls",
            "_view_module_version": "1.5.0",
            "_view_name": "HBoxView",
            "box_style": "",
            "children": [
              "IPY_MODEL_42ab6d4fbe1a44d7a54a8642c41420eb",
              "IPY_MODEL_d697123e2ada447889edc13df9d4d254",
              "IPY_MODEL_75b6b12b657f4de0925b52e527df531b"
            ],
            "layout": "IPY_MODEL_99fd40566d7b462e8ca87a084fdc3cb9"
          }
        },
        "42ab6d4fbe1a44d7a54a8642c41420eb": {
          "model_module": "@jupyter-widgets/controls",
          "model_name": "HTMLModel",
          "model_module_version": "1.5.0",
          "state": {
            "_dom_classes": [],
            "_model_module": "@jupyter-widgets/controls",
            "_model_module_version": "1.5.0",
            "_model_name": "HTMLModel",
            "_view_count": null,
            "_view_module": "@jupyter-widgets/controls",
            "_view_module_version": "1.5.0",
            "_view_name": "HTMLView",
            "description": "",
            "description_tooltip": null,
            "layout": "IPY_MODEL_a330c3acd56d4ac0bd8342b98403920f",
            "placeholder": "​",
            "style": "IPY_MODEL_e99cb8dbd301447d867075c634c23959",
            "value": "Processing: 100%"
          }
        },
        "d697123e2ada447889edc13df9d4d254": {
          "model_module": "@jupyter-widgets/controls",
          "model_name": "FloatProgressModel",
          "model_module_version": "1.5.0",
          "state": {
            "_dom_classes": [],
            "_model_module": "@jupyter-widgets/controls",
            "_model_module_version": "1.5.0",
            "_model_name": "FloatProgressModel",
            "_view_count": null,
            "_view_module": "@jupyter-widgets/controls",
            "_view_module_version": "1.5.0",
            "_view_name": "ProgressView",
            "bar_style": "",
            "description": "",
            "description_tooltip": null,
            "layout": "IPY_MODEL_c967306ccc8841d189567bc64fa85b0c",
            "max": 4,
            "min": 0,
            "orientation": "horizontal",
            "style": "IPY_MODEL_7a8789f91bfb4553a2afab698abac2a5",
            "value": 4
          }
        },
        "75b6b12b657f4de0925b52e527df531b": {
          "model_module": "@jupyter-widgets/controls",
          "model_name": "HTMLModel",
          "model_module_version": "1.5.0",
          "state": {
            "_dom_classes": [],
            "_model_module": "@jupyter-widgets/controls",
            "_model_module_version": "1.5.0",
            "_model_name": "HTMLModel",
            "_view_count": null,
            "_view_module": "@jupyter-widgets/controls",
            "_view_module_version": "1.5.0",
            "_view_name": "HTMLView",
            "description": "",
            "description_tooltip": null,
            "layout": "IPY_MODEL_7e43694541b747e0acc014eadd9b7e26",
            "placeholder": "​",
            "style": "IPY_MODEL_3a685ed134e844dda579415e1e6611a6",
            "value": " 4/4 [00:03&lt;00:00,  1.37it/s]"
          }
        },
        "99fd40566d7b462e8ca87a084fdc3cb9": {
          "model_module": "@jupyter-widgets/base",
          "model_name": "LayoutModel",
          "model_module_version": "1.2.0",
          "state": {
            "_model_module": "@jupyter-widgets/base",
            "_model_module_version": "1.2.0",
            "_model_name": "LayoutModel",
            "_view_count": null,
            "_view_module": "@jupyter-widgets/base",
            "_view_module_version": "1.2.0",
            "_view_name": "LayoutView",
            "align_content": null,
            "align_items": null,
            "align_self": null,
            "border": null,
            "bottom": null,
            "display": null,
            "flex": null,
            "flex_flow": null,
            "grid_area": null,
            "grid_auto_columns": null,
            "grid_auto_flow": null,
            "grid_auto_rows": null,
            "grid_column": null,
            "grid_gap": null,
            "grid_row": null,
            "grid_template_areas": null,
            "grid_template_columns": null,
            "grid_template_rows": null,
            "height": null,
            "justify_content": null,
            "justify_items": null,
            "left": null,
            "margin": null,
            "max_height": null,
            "max_width": null,
            "min_height": null,
            "min_width": null,
            "object_fit": null,
            "object_position": null,
            "order": null,
            "overflow": null,
            "overflow_x": null,
            "overflow_y": null,
            "padding": null,
            "right": null,
            "top": null,
            "visibility": "hidden",
            "width": null
          }
        },
        "a330c3acd56d4ac0bd8342b98403920f": {
          "model_module": "@jupyter-widgets/base",
          "model_name": "LayoutModel",
          "model_module_version": "1.2.0",
          "state": {
            "_model_module": "@jupyter-widgets/base",
            "_model_module_version": "1.2.0",
            "_model_name": "LayoutModel",
            "_view_count": null,
            "_view_module": "@jupyter-widgets/base",
            "_view_module_version": "1.2.0",
            "_view_name": "LayoutView",
            "align_content": null,
            "align_items": null,
            "align_self": null,
            "border": null,
            "bottom": null,
            "display": null,
            "flex": null,
            "flex_flow": null,
            "grid_area": null,
            "grid_auto_columns": null,
            "grid_auto_flow": null,
            "grid_auto_rows": null,
            "grid_column": null,
            "grid_gap": null,
            "grid_row": null,
            "grid_template_areas": null,
            "grid_template_columns": null,
            "grid_template_rows": null,
            "height": null,
            "justify_content": null,
            "justify_items": null,
            "left": null,
            "margin": null,
            "max_height": null,
            "max_width": null,
            "min_height": null,
            "min_width": null,
            "object_fit": null,
            "object_position": null,
            "order": null,
            "overflow": null,
            "overflow_x": null,
            "overflow_y": null,
            "padding": null,
            "right": null,
            "top": null,
            "visibility": null,
            "width": null
          }
        },
        "e99cb8dbd301447d867075c634c23959": {
          "model_module": "@jupyter-widgets/controls",
          "model_name": "DescriptionStyleModel",
          "model_module_version": "1.5.0",
          "state": {
            "_model_module": "@jupyter-widgets/controls",
            "_model_module_version": "1.5.0",
            "_model_name": "DescriptionStyleModel",
            "_view_count": null,
            "_view_module": "@jupyter-widgets/base",
            "_view_module_version": "1.2.0",
            "_view_name": "StyleView",
            "description_width": ""
          }
        },
        "c967306ccc8841d189567bc64fa85b0c": {
          "model_module": "@jupyter-widgets/base",
          "model_name": "LayoutModel",
          "model_module_version": "1.2.0",
          "state": {
            "_model_module": "@jupyter-widgets/base",
            "_model_module_version": "1.2.0",
            "_model_name": "LayoutModel",
            "_view_count": null,
            "_view_module": "@jupyter-widgets/base",
            "_view_module_version": "1.2.0",
            "_view_name": "LayoutView",
            "align_content": null,
            "align_items": null,
            "align_self": null,
            "border": null,
            "bottom": null,
            "display": null,
            "flex": null,
            "flex_flow": null,
            "grid_area": null,
            "grid_auto_columns": null,
            "grid_auto_flow": null,
            "grid_auto_rows": null,
            "grid_column": null,
            "grid_gap": null,
            "grid_row": null,
            "grid_template_areas": null,
            "grid_template_columns": null,
            "grid_template_rows": null,
            "height": null,
            "justify_content": null,
            "justify_items": null,
            "left": null,
            "margin": null,
            "max_height": null,
            "max_width": null,
            "min_height": null,
            "min_width": null,
            "object_fit": null,
            "object_position": null,
            "order": null,
            "overflow": null,
            "overflow_x": null,
            "overflow_y": null,
            "padding": null,
            "right": null,
            "top": null,
            "visibility": null,
            "width": null
          }
        },
        "7a8789f91bfb4553a2afab698abac2a5": {
          "model_module": "@jupyter-widgets/controls",
          "model_name": "ProgressStyleModel",
          "model_module_version": "1.5.0",
          "state": {
            "_model_module": "@jupyter-widgets/controls",
            "_model_module_version": "1.5.0",
            "_model_name": "ProgressStyleModel",
            "_view_count": null,
            "_view_module": "@jupyter-widgets/base",
            "_view_module_version": "1.2.0",
            "_view_name": "StyleView",
            "bar_color": null,
            "description_width": ""
          }
        },
        "7e43694541b747e0acc014eadd9b7e26": {
          "model_module": "@jupyter-widgets/base",
          "model_name": "LayoutModel",
          "model_module_version": "1.2.0",
          "state": {
            "_model_module": "@jupyter-widgets/base",
            "_model_module_version": "1.2.0",
            "_model_name": "LayoutModel",
            "_view_count": null,
            "_view_module": "@jupyter-widgets/base",
            "_view_module_version": "1.2.0",
            "_view_name": "LayoutView",
            "align_content": null,
            "align_items": null,
            "align_self": null,
            "border": null,
            "bottom": null,
            "display": null,
            "flex": null,
            "flex_flow": null,
            "grid_area": null,
            "grid_auto_columns": null,
            "grid_auto_flow": null,
            "grid_auto_rows": null,
            "grid_column": null,
            "grid_gap": null,
            "grid_row": null,
            "grid_template_areas": null,
            "grid_template_columns": null,
            "grid_template_rows": null,
            "height": null,
            "justify_content": null,
            "justify_items": null,
            "left": null,
            "margin": null,
            "max_height": null,
            "max_width": null,
            "min_height": null,
            "min_width": null,
            "object_fit": null,
            "object_position": null,
            "order": null,
            "overflow": null,
            "overflow_x": null,
            "overflow_y": null,
            "padding": null,
            "right": null,
            "top": null,
            "visibility": null,
            "width": null
          }
        },
        "3a685ed134e844dda579415e1e6611a6": {
          "model_module": "@jupyter-widgets/controls",
          "model_name": "DescriptionStyleModel",
          "model_module_version": "1.5.0",
          "state": {
            "_model_module": "@jupyter-widgets/controls",
            "_model_module_version": "1.5.0",
            "_model_name": "DescriptionStyleModel",
            "_view_count": null,
            "_view_module": "@jupyter-widgets/base",
            "_view_module_version": "1.2.0",
            "_view_name": "StyleView",
            "description_width": ""
          }
        },
        "a76872cb289a466cacdae8c15851c674": {
          "model_module": "@jupyter-widgets/controls",
          "model_name": "HBoxModel",
          "model_module_version": "1.5.0",
          "state": {
            "_dom_classes": [],
            "_model_module": "@jupyter-widgets/controls",
            "_model_module_version": "1.5.0",
            "_model_name": "HBoxModel",
            "_view_count": null,
            "_view_module": "@jupyter-widgets/controls",
            "_view_module_version": "1.5.0",
            "_view_name": "HBoxView",
            "box_style": "",
            "children": [
              "IPY_MODEL_40e1fffb541a48ab87f45cfc7aea2f82",
              "IPY_MODEL_d4606361744c463cac6fcbd0414524ff",
              "IPY_MODEL_9a99e8c564b149c48be17e8a93372425"
            ],
            "layout": "IPY_MODEL_48c9ccd1900641b9993a7573466b5e36"
          }
        },
        "40e1fffb541a48ab87f45cfc7aea2f82": {
          "model_module": "@jupyter-widgets/controls",
          "model_name": "HTMLModel",
          "model_module_version": "1.5.0",
          "state": {
            "_dom_classes": [],
            "_model_module": "@jupyter-widgets/controls",
            "_model_module_version": "1.5.0",
            "_model_name": "HTMLModel",
            "_view_count": null,
            "_view_module": "@jupyter-widgets/controls",
            "_view_module_version": "1.5.0",
            "_view_name": "HTMLView",
            "description": "",
            "description_tooltip": null,
            "layout": "IPY_MODEL_4b78913e7a96430cbd2808f394ea692f",
            "placeholder": "​",
            "style": "IPY_MODEL_fe4d7054c1724ae7ab2f1127df3fe304",
            "value": "Processing: 100%"
          }
        },
        "d4606361744c463cac6fcbd0414524ff": {
          "model_module": "@jupyter-widgets/controls",
          "model_name": "FloatProgressModel",
          "model_module_version": "1.5.0",
          "state": {
            "_dom_classes": [],
            "_model_module": "@jupyter-widgets/controls",
            "_model_module_version": "1.5.0",
            "_model_name": "FloatProgressModel",
            "_view_count": null,
            "_view_module": "@jupyter-widgets/controls",
            "_view_module_version": "1.5.0",
            "_view_name": "ProgressView",
            "bar_style": "",
            "description": "",
            "description_tooltip": null,
            "layout": "IPY_MODEL_949baf3aef744fac8565bcba72580edf",
            "max": 61,
            "min": 0,
            "orientation": "horizontal",
            "style": "IPY_MODEL_dec3624349d940189c21b2ea7b2a829c",
            "value": 61
          }
        },
        "9a99e8c564b149c48be17e8a93372425": {
          "model_module": "@jupyter-widgets/controls",
          "model_name": "HTMLModel",
          "model_module_version": "1.5.0",
          "state": {
            "_dom_classes": [],
            "_model_module": "@jupyter-widgets/controls",
            "_model_module_version": "1.5.0",
            "_model_name": "HTMLModel",
            "_view_count": null,
            "_view_module": "@jupyter-widgets/controls",
            "_view_module_version": "1.5.0",
            "_view_name": "HTMLView",
            "description": "",
            "description_tooltip": null,
            "layout": "IPY_MODEL_09c41b658cf047eaba17c8d17a07479a",
            "placeholder": "​",
            "style": "IPY_MODEL_b0aa01aa77b344fbbe2e32a002d7d24d",
            "value": " 61/61 [00:11&lt;00:00,  7.04it/s]"
          }
        },
        "48c9ccd1900641b9993a7573466b5e36": {
          "model_module": "@jupyter-widgets/base",
          "model_name": "LayoutModel",
          "model_module_version": "1.2.0",
          "state": {
            "_model_module": "@jupyter-widgets/base",
            "_model_module_version": "1.2.0",
            "_model_name": "LayoutModel",
            "_view_count": null,
            "_view_module": "@jupyter-widgets/base",
            "_view_module_version": "1.2.0",
            "_view_name": "LayoutView",
            "align_content": null,
            "align_items": null,
            "align_self": null,
            "border": null,
            "bottom": null,
            "display": null,
            "flex": null,
            "flex_flow": null,
            "grid_area": null,
            "grid_auto_columns": null,
            "grid_auto_flow": null,
            "grid_auto_rows": null,
            "grid_column": null,
            "grid_gap": null,
            "grid_row": null,
            "grid_template_areas": null,
            "grid_template_columns": null,
            "grid_template_rows": null,
            "height": null,
            "justify_content": null,
            "justify_items": null,
            "left": null,
            "margin": null,
            "max_height": null,
            "max_width": null,
            "min_height": null,
            "min_width": null,
            "object_fit": null,
            "object_position": null,
            "order": null,
            "overflow": null,
            "overflow_x": null,
            "overflow_y": null,
            "padding": null,
            "right": null,
            "top": null,
            "visibility": "hidden",
            "width": null
          }
        },
        "4b78913e7a96430cbd2808f394ea692f": {
          "model_module": "@jupyter-widgets/base",
          "model_name": "LayoutModel",
          "model_module_version": "1.2.0",
          "state": {
            "_model_module": "@jupyter-widgets/base",
            "_model_module_version": "1.2.0",
            "_model_name": "LayoutModel",
            "_view_count": null,
            "_view_module": "@jupyter-widgets/base",
            "_view_module_version": "1.2.0",
            "_view_name": "LayoutView",
            "align_content": null,
            "align_items": null,
            "align_self": null,
            "border": null,
            "bottom": null,
            "display": null,
            "flex": null,
            "flex_flow": null,
            "grid_area": null,
            "grid_auto_columns": null,
            "grid_auto_flow": null,
            "grid_auto_rows": null,
            "grid_column": null,
            "grid_gap": null,
            "grid_row": null,
            "grid_template_areas": null,
            "grid_template_columns": null,
            "grid_template_rows": null,
            "height": null,
            "justify_content": null,
            "justify_items": null,
            "left": null,
            "margin": null,
            "max_height": null,
            "max_width": null,
            "min_height": null,
            "min_width": null,
            "object_fit": null,
            "object_position": null,
            "order": null,
            "overflow": null,
            "overflow_x": null,
            "overflow_y": null,
            "padding": null,
            "right": null,
            "top": null,
            "visibility": null,
            "width": null
          }
        },
        "fe4d7054c1724ae7ab2f1127df3fe304": {
          "model_module": "@jupyter-widgets/controls",
          "model_name": "DescriptionStyleModel",
          "model_module_version": "1.5.0",
          "state": {
            "_model_module": "@jupyter-widgets/controls",
            "_model_module_version": "1.5.0",
            "_model_name": "DescriptionStyleModel",
            "_view_count": null,
            "_view_module": "@jupyter-widgets/base",
            "_view_module_version": "1.2.0",
            "_view_name": "StyleView",
            "description_width": ""
          }
        },
        "949baf3aef744fac8565bcba72580edf": {
          "model_module": "@jupyter-widgets/base",
          "model_name": "LayoutModel",
          "model_module_version": "1.2.0",
          "state": {
            "_model_module": "@jupyter-widgets/base",
            "_model_module_version": "1.2.0",
            "_model_name": "LayoutModel",
            "_view_count": null,
            "_view_module": "@jupyter-widgets/base",
            "_view_module_version": "1.2.0",
            "_view_name": "LayoutView",
            "align_content": null,
            "align_items": null,
            "align_self": null,
            "border": null,
            "bottom": null,
            "display": null,
            "flex": null,
            "flex_flow": null,
            "grid_area": null,
            "grid_auto_columns": null,
            "grid_auto_flow": null,
            "grid_auto_rows": null,
            "grid_column": null,
            "grid_gap": null,
            "grid_row": null,
            "grid_template_areas": null,
            "grid_template_columns": null,
            "grid_template_rows": null,
            "height": null,
            "justify_content": null,
            "justify_items": null,
            "left": null,
            "margin": null,
            "max_height": null,
            "max_width": null,
            "min_height": null,
            "min_width": null,
            "object_fit": null,
            "object_position": null,
            "order": null,
            "overflow": null,
            "overflow_x": null,
            "overflow_y": null,
            "padding": null,
            "right": null,
            "top": null,
            "visibility": null,
            "width": null
          }
        },
        "dec3624349d940189c21b2ea7b2a829c": {
          "model_module": "@jupyter-widgets/controls",
          "model_name": "ProgressStyleModel",
          "model_module_version": "1.5.0",
          "state": {
            "_model_module": "@jupyter-widgets/controls",
            "_model_module_version": "1.5.0",
            "_model_name": "ProgressStyleModel",
            "_view_count": null,
            "_view_module": "@jupyter-widgets/base",
            "_view_module_version": "1.2.0",
            "_view_name": "StyleView",
            "bar_color": null,
            "description_width": ""
          }
        },
        "09c41b658cf047eaba17c8d17a07479a": {
          "model_module": "@jupyter-widgets/base",
          "model_name": "LayoutModel",
          "model_module_version": "1.2.0",
          "state": {
            "_model_module": "@jupyter-widgets/base",
            "_model_module_version": "1.2.0",
            "_model_name": "LayoutModel",
            "_view_count": null,
            "_view_module": "@jupyter-widgets/base",
            "_view_module_version": "1.2.0",
            "_view_name": "LayoutView",
            "align_content": null,
            "align_items": null,
            "align_self": null,
            "border": null,
            "bottom": null,
            "display": null,
            "flex": null,
            "flex_flow": null,
            "grid_area": null,
            "grid_auto_columns": null,
            "grid_auto_flow": null,
            "grid_auto_rows": null,
            "grid_column": null,
            "grid_gap": null,
            "grid_row": null,
            "grid_template_areas": null,
            "grid_template_columns": null,
            "grid_template_rows": null,
            "height": null,
            "justify_content": null,
            "justify_items": null,
            "left": null,
            "margin": null,
            "max_height": null,
            "max_width": null,
            "min_height": null,
            "min_width": null,
            "object_fit": null,
            "object_position": null,
            "order": null,
            "overflow": null,
            "overflow_x": null,
            "overflow_y": null,
            "padding": null,
            "right": null,
            "top": null,
            "visibility": null,
            "width": null
          }
        },
        "b0aa01aa77b344fbbe2e32a002d7d24d": {
          "model_module": "@jupyter-widgets/controls",
          "model_name": "DescriptionStyleModel",
          "model_module_version": "1.5.0",
          "state": {
            "_model_module": "@jupyter-widgets/controls",
            "_model_module_version": "1.5.0",
            "_model_name": "DescriptionStyleModel",
            "_view_count": null,
            "_view_module": "@jupyter-widgets/base",
            "_view_module_version": "1.2.0",
            "_view_name": "StyleView",
            "description_width": ""
          }
        },
        "5d6f5163938c4872b445f35f6ba17b16": {
          "model_module": "@jupyter-widgets/controls",
          "model_name": "HBoxModel",
          "model_module_version": "1.5.0",
          "state": {
            "_dom_classes": [],
            "_model_module": "@jupyter-widgets/controls",
            "_model_module_version": "1.5.0",
            "_model_name": "HBoxModel",
            "_view_count": null,
            "_view_module": "@jupyter-widgets/controls",
            "_view_module_version": "1.5.0",
            "_view_name": "HBoxView",
            "box_style": "",
            "children": [
              "IPY_MODEL_6a097e13c6074ef7b014736175927168",
              "IPY_MODEL_cc33fe3c000445338ce0f7c94c563339",
              "IPY_MODEL_982d7406fb9f476687e04266ca8d6389"
            ],
            "layout": "IPY_MODEL_1acfc2105e414f0cb19fe3f26c5b15e3"
          }
        },
        "6a097e13c6074ef7b014736175927168": {
          "model_module": "@jupyter-widgets/controls",
          "model_name": "HTMLModel",
          "model_module_version": "1.5.0",
          "state": {
            "_dom_classes": [],
            "_model_module": "@jupyter-widgets/controls",
            "_model_module_version": "1.5.0",
            "_model_name": "HTMLModel",
            "_view_count": null,
            "_view_module": "@jupyter-widgets/controls",
            "_view_module_version": "1.5.0",
            "_view_name": "HTMLView",
            "description": "",
            "description_tooltip": null,
            "layout": "IPY_MODEL_b5e5bf9157cb46d2b14932974b93e44a",
            "placeholder": "​",
            "style": "IPY_MODEL_64c1b3431f3d4507aba684caa969a756",
            "value": "Processing:   0%"
          }
        },
        "cc33fe3c000445338ce0f7c94c563339": {
          "model_module": "@jupyter-widgets/controls",
          "model_name": "FloatProgressModel",
          "model_module_version": "1.5.0",
          "state": {
            "_dom_classes": [],
            "_model_module": "@jupyter-widgets/controls",
            "_model_module_version": "1.5.0",
            "_model_name": "FloatProgressModel",
            "_view_count": null,
            "_view_module": "@jupyter-widgets/controls",
            "_view_module_version": "1.5.0",
            "_view_name": "ProgressView",
            "bar_style": "",
            "description": "",
            "description_tooltip": null,
            "layout": "IPY_MODEL_c1749fb102734695b9ba71d2f4290503",
            "max": 4,
            "min": 0,
            "orientation": "horizontal",
            "style": "IPY_MODEL_34b97702213740169f14d4337d2716ab",
            "value": 4
          }
        },
        "982d7406fb9f476687e04266ca8d6389": {
          "model_module": "@jupyter-widgets/controls",
          "model_name": "HTMLModel",
          "model_module_version": "1.5.0",
          "state": {
            "_dom_classes": [],
            "_model_module": "@jupyter-widgets/controls",
            "_model_module_version": "1.5.0",
            "_model_name": "HTMLModel",
            "_view_count": null,
            "_view_module": "@jupyter-widgets/controls",
            "_view_module_version": "1.5.0",
            "_view_name": "HTMLView",
            "description": "",
            "description_tooltip": null,
            "layout": "IPY_MODEL_8f3193ef20e04a3b845551e0fa803634",
            "placeholder": "​",
            "style": "IPY_MODEL_078837be0eec4485bb1ecb69be6bfdde",
            "value": " 0/4 [00:00&lt;?, ?it/s]"
          }
        },
        "1acfc2105e414f0cb19fe3f26c5b15e3": {
          "model_module": "@jupyter-widgets/base",
          "model_name": "LayoutModel",
          "model_module_version": "1.2.0",
          "state": {
            "_model_module": "@jupyter-widgets/base",
            "_model_module_version": "1.2.0",
            "_model_name": "LayoutModel",
            "_view_count": null,
            "_view_module": "@jupyter-widgets/base",
            "_view_module_version": "1.2.0",
            "_view_name": "LayoutView",
            "align_content": null,
            "align_items": null,
            "align_self": null,
            "border": null,
            "bottom": null,
            "display": null,
            "flex": null,
            "flex_flow": null,
            "grid_area": null,
            "grid_auto_columns": null,
            "grid_auto_flow": null,
            "grid_auto_rows": null,
            "grid_column": null,
            "grid_gap": null,
            "grid_row": null,
            "grid_template_areas": null,
            "grid_template_columns": null,
            "grid_template_rows": null,
            "height": null,
            "justify_content": null,
            "justify_items": null,
            "left": null,
            "margin": null,
            "max_height": null,
            "max_width": null,
            "min_height": null,
            "min_width": null,
            "object_fit": null,
            "object_position": null,
            "order": null,
            "overflow": null,
            "overflow_x": null,
            "overflow_y": null,
            "padding": null,
            "right": null,
            "top": null,
            "visibility": "hidden",
            "width": null
          }
        },
        "b5e5bf9157cb46d2b14932974b93e44a": {
          "model_module": "@jupyter-widgets/base",
          "model_name": "LayoutModel",
          "model_module_version": "1.2.0",
          "state": {
            "_model_module": "@jupyter-widgets/base",
            "_model_module_version": "1.2.0",
            "_model_name": "LayoutModel",
            "_view_count": null,
            "_view_module": "@jupyter-widgets/base",
            "_view_module_version": "1.2.0",
            "_view_name": "LayoutView",
            "align_content": null,
            "align_items": null,
            "align_self": null,
            "border": null,
            "bottom": null,
            "display": null,
            "flex": null,
            "flex_flow": null,
            "grid_area": null,
            "grid_auto_columns": null,
            "grid_auto_flow": null,
            "grid_auto_rows": null,
            "grid_column": null,
            "grid_gap": null,
            "grid_row": null,
            "grid_template_areas": null,
            "grid_template_columns": null,
            "grid_template_rows": null,
            "height": null,
            "justify_content": null,
            "justify_items": null,
            "left": null,
            "margin": null,
            "max_height": null,
            "max_width": null,
            "min_height": null,
            "min_width": null,
            "object_fit": null,
            "object_position": null,
            "order": null,
            "overflow": null,
            "overflow_x": null,
            "overflow_y": null,
            "padding": null,
            "right": null,
            "top": null,
            "visibility": null,
            "width": null
          }
        },
        "64c1b3431f3d4507aba684caa969a756": {
          "model_module": "@jupyter-widgets/controls",
          "model_name": "DescriptionStyleModel",
          "model_module_version": "1.5.0",
          "state": {
            "_model_module": "@jupyter-widgets/controls",
            "_model_module_version": "1.5.0",
            "_model_name": "DescriptionStyleModel",
            "_view_count": null,
            "_view_module": "@jupyter-widgets/base",
            "_view_module_version": "1.2.0",
            "_view_name": "StyleView",
            "description_width": ""
          }
        },
        "c1749fb102734695b9ba71d2f4290503": {
          "model_module": "@jupyter-widgets/base",
          "model_name": "LayoutModel",
          "model_module_version": "1.2.0",
          "state": {
            "_model_module": "@jupyter-widgets/base",
            "_model_module_version": "1.2.0",
            "_model_name": "LayoutModel",
            "_view_count": null,
            "_view_module": "@jupyter-widgets/base",
            "_view_module_version": "1.2.0",
            "_view_name": "LayoutView",
            "align_content": null,
            "align_items": null,
            "align_self": null,
            "border": null,
            "bottom": null,
            "display": null,
            "flex": null,
            "flex_flow": null,
            "grid_area": null,
            "grid_auto_columns": null,
            "grid_auto_flow": null,
            "grid_auto_rows": null,
            "grid_column": null,
            "grid_gap": null,
            "grid_row": null,
            "grid_template_areas": null,
            "grid_template_columns": null,
            "grid_template_rows": null,
            "height": null,
            "justify_content": null,
            "justify_items": null,
            "left": null,
            "margin": null,
            "max_height": null,
            "max_width": null,
            "min_height": null,
            "min_width": null,
            "object_fit": null,
            "object_position": null,
            "order": null,
            "overflow": null,
            "overflow_x": null,
            "overflow_y": null,
            "padding": null,
            "right": null,
            "top": null,
            "visibility": null,
            "width": null
          }
        },
        "34b97702213740169f14d4337d2716ab": {
          "model_module": "@jupyter-widgets/controls",
          "model_name": "ProgressStyleModel",
          "model_module_version": "1.5.0",
          "state": {
            "_model_module": "@jupyter-widgets/controls",
            "_model_module_version": "1.5.0",
            "_model_name": "ProgressStyleModel",
            "_view_count": null,
            "_view_module": "@jupyter-widgets/base",
            "_view_module_version": "1.2.0",
            "_view_name": "StyleView",
            "bar_color": null,
            "description_width": ""
          }
        },
        "8f3193ef20e04a3b845551e0fa803634": {
          "model_module": "@jupyter-widgets/base",
          "model_name": "LayoutModel",
          "model_module_version": "1.2.0",
          "state": {
            "_model_module": "@jupyter-widgets/base",
            "_model_module_version": "1.2.0",
            "_model_name": "LayoutModel",
            "_view_count": null,
            "_view_module": "@jupyter-widgets/base",
            "_view_module_version": "1.2.0",
            "_view_name": "LayoutView",
            "align_content": null,
            "align_items": null,
            "align_self": null,
            "border": null,
            "bottom": null,
            "display": null,
            "flex": null,
            "flex_flow": null,
            "grid_area": null,
            "grid_auto_columns": null,
            "grid_auto_flow": null,
            "grid_auto_rows": null,
            "grid_column": null,
            "grid_gap": null,
            "grid_row": null,
            "grid_template_areas": null,
            "grid_template_columns": null,
            "grid_template_rows": null,
            "height": null,
            "justify_content": null,
            "justify_items": null,
            "left": null,
            "margin": null,
            "max_height": null,
            "max_width": null,
            "min_height": null,
            "min_width": null,
            "object_fit": null,
            "object_position": null,
            "order": null,
            "overflow": null,
            "overflow_x": null,
            "overflow_y": null,
            "padding": null,
            "right": null,
            "top": null,
            "visibility": null,
            "width": null
          }
        },
        "078837be0eec4485bb1ecb69be6bfdde": {
          "model_module": "@jupyter-widgets/controls",
          "model_name": "DescriptionStyleModel",
          "model_module_version": "1.5.0",
          "state": {
            "_model_module": "@jupyter-widgets/controls",
            "_model_module_version": "1.5.0",
            "_model_name": "DescriptionStyleModel",
            "_view_count": null,
            "_view_module": "@jupyter-widgets/base",
            "_view_module_version": "1.2.0",
            "_view_name": "StyleView",
            "description_width": ""
          }
        }
      }
    }
  },
  "cells": [
    {
      "cell_type": "markdown",
      "source": [
        "#Modelagem FutIA"
      ],
      "metadata": {
        "id": "5Xjn9b8CjclC"
      }
    },
    {
      "cell_type": "markdown",
      "source": [
        "Código escrito no Google Colab"
      ],
      "metadata": {
        "id": "VmyLuKToknm5"
      }
    },
    {
      "cell_type": "markdown",
      "source": [
        "#Bibliotecas Utilizada:"
      ],
      "metadata": {
        "id": "EOUwyC7Dj_ta"
      }
    },
    {
      "cell_type": "code",
      "source": [
        "! pip install --pre pycaret"
      ],
      "metadata": {
        "id": "FKkNVgSLkDCY"
      },
      "execution_count": null,
      "outputs": []
    },
    {
      "cell_type": "code",
      "source": [
        "from pycaret.utils import version\n",
        "version()"
      ],
      "metadata": {
        "colab": {
          "base_uri": "https://localhost:8080/",
          "height": 36
        },
        "id": "rX7GcUWjkR65",
        "outputId": "f45f8a43-975c-40e3-b224-16aa3002e8fd"
      },
      "execution_count": 2,
      "outputs": [
        {
          "output_type": "execute_result",
          "data": {
            "text/plain": [
              "'3.0.0.rc8'"
            ],
            "application/vnd.google.colaboratory.intrinsic+json": {
              "type": "string"
            }
          },
          "metadata": {},
          "execution_count": 2
        }
      ]
    },
    {
      "cell_type": "code",
      "source": [
        "! pip install mlflow"
      ],
      "metadata": {
        "id": "4gci-VaAkSBp"
      },
      "execution_count": null,
      "outputs": []
    },
    {
      "cell_type": "code",
      "source": [
        "import pandas as pd\n",
        "import seaborn as sns\n",
        "import numpy as np\n",
        "\n",
        "from pycaret.classification import *"
      ],
      "metadata": {
        "id": "Gsm0iZTkkSEX"
      },
      "execution_count": 4,
      "outputs": []
    },
    {
      "cell_type": "markdown",
      "source": [
        "#Carregando base de dados:\n"
      ],
      "metadata": {
        "id": "FOSURaqRkDcS"
      }
    },
    {
      "cell_type": "code",
      "execution_count": 5,
      "metadata": {
        "colab": {
          "base_uri": "https://localhost:8080/",
          "height": 235
        },
        "id": "vQHuwqj0jaFB",
        "outputId": "5a8078a3-7bba-4964-a5d7-12ae1150b536"
      },
      "outputs": [
        {
          "output_type": "execute_result",
          "data": {
            "text/plain": [
              "         Ano  Rodada        id fgk_equipe  Oponente  TR0  TR1  TR2  TR3  TR4  \\\n",
              "0  2014-2015       6  9d2c4411   17892952  b2b47a98    1    0    2    1    0   \n",
              "1  2014-2015       7  bc4351a4   17892952  8ef52968    2    1    0    2    1   \n",
              "2  2014-2015       8  6fa0779f   17892952  fb10988f    0    2    1    0    2   \n",
              "3  2014-2015       9  2be4379e   17892952  33c895d4    2    0    2    1    0   \n",
              "4  2014-2015      10  c172f461   17892952  7c21e445    0    2    0    2    1   \n",
              "\n",
              "   ...  OP4  OC0  OC1  OC2  OC3  OC4  OGL  Resultado  GP  GC  \n",
              "0  ...    0    2    4    3    0    2    1          2   1   0  \n",
              "1  ...    1    0    0    2    1    1    0          0   1   3  \n",
              "2  ...    3    2    0    1    4    0    1          2   2   1  \n",
              "3  ...    4    0    1    1    0    0    0          0   0   1  \n",
              "4  ...    3    1    1    0    2    1    1          1   2   2  \n",
              "\n",
              "[5 rows x 50 columns]"
            ],
            "text/html": [
              "\n",
              "  <div id=\"df-2927c85b-98e0-491a-9862-f84f58818ea7\">\n",
              "    <div class=\"colab-df-container\">\n",
              "      <div>\n",
              "<style scoped>\n",
              "    .dataframe tbody tr th:only-of-type {\n",
              "        vertical-align: middle;\n",
              "    }\n",
              "\n",
              "    .dataframe tbody tr th {\n",
              "        vertical-align: top;\n",
              "    }\n",
              "\n",
              "    .dataframe thead th {\n",
              "        text-align: right;\n",
              "    }\n",
              "</style>\n",
              "<table border=\"1\" class=\"dataframe\">\n",
              "  <thead>\n",
              "    <tr style=\"text-align: right;\">\n",
              "      <th></th>\n",
              "      <th>Ano</th>\n",
              "      <th>Rodada</th>\n",
              "      <th>id</th>\n",
              "      <th>fgk_equipe</th>\n",
              "      <th>Oponente</th>\n",
              "      <th>TR0</th>\n",
              "      <th>TR1</th>\n",
              "      <th>TR2</th>\n",
              "      <th>TR3</th>\n",
              "      <th>TR4</th>\n",
              "      <th>...</th>\n",
              "      <th>OP4</th>\n",
              "      <th>OC0</th>\n",
              "      <th>OC1</th>\n",
              "      <th>OC2</th>\n",
              "      <th>OC3</th>\n",
              "      <th>OC4</th>\n",
              "      <th>OGL</th>\n",
              "      <th>Resultado</th>\n",
              "      <th>GP</th>\n",
              "      <th>GC</th>\n",
              "    </tr>\n",
              "  </thead>\n",
              "  <tbody>\n",
              "    <tr>\n",
              "      <th>0</th>\n",
              "      <td>2014-2015</td>\n",
              "      <td>6</td>\n",
              "      <td>9d2c4411</td>\n",
              "      <td>17892952</td>\n",
              "      <td>b2b47a98</td>\n",
              "      <td>1</td>\n",
              "      <td>0</td>\n",
              "      <td>2</td>\n",
              "      <td>1</td>\n",
              "      <td>0</td>\n",
              "      <td>...</td>\n",
              "      <td>0</td>\n",
              "      <td>2</td>\n",
              "      <td>4</td>\n",
              "      <td>3</td>\n",
              "      <td>0</td>\n",
              "      <td>2</td>\n",
              "      <td>1</td>\n",
              "      <td>2</td>\n",
              "      <td>1</td>\n",
              "      <td>0</td>\n",
              "    </tr>\n",
              "    <tr>\n",
              "      <th>1</th>\n",
              "      <td>2014-2015</td>\n",
              "      <td>7</td>\n",
              "      <td>bc4351a4</td>\n",
              "      <td>17892952</td>\n",
              "      <td>8ef52968</td>\n",
              "      <td>2</td>\n",
              "      <td>1</td>\n",
              "      <td>0</td>\n",
              "      <td>2</td>\n",
              "      <td>1</td>\n",
              "      <td>...</td>\n",
              "      <td>1</td>\n",
              "      <td>0</td>\n",
              "      <td>0</td>\n",
              "      <td>2</td>\n",
              "      <td>1</td>\n",
              "      <td>1</td>\n",
              "      <td>0</td>\n",
              "      <td>0</td>\n",
              "      <td>1</td>\n",
              "      <td>3</td>\n",
              "    </tr>\n",
              "    <tr>\n",
              "      <th>2</th>\n",
              "      <td>2014-2015</td>\n",
              "      <td>8</td>\n",
              "      <td>6fa0779f</td>\n",
              "      <td>17892952</td>\n",
              "      <td>fb10988f</td>\n",
              "      <td>0</td>\n",
              "      <td>2</td>\n",
              "      <td>1</td>\n",
              "      <td>0</td>\n",
              "      <td>2</td>\n",
              "      <td>...</td>\n",
              "      <td>3</td>\n",
              "      <td>2</td>\n",
              "      <td>0</td>\n",
              "      <td>1</td>\n",
              "      <td>4</td>\n",
              "      <td>0</td>\n",
              "      <td>1</td>\n",
              "      <td>2</td>\n",
              "      <td>2</td>\n",
              "      <td>1</td>\n",
              "    </tr>\n",
              "    <tr>\n",
              "      <th>3</th>\n",
              "      <td>2014-2015</td>\n",
              "      <td>9</td>\n",
              "      <td>2be4379e</td>\n",
              "      <td>17892952</td>\n",
              "      <td>33c895d4</td>\n",
              "      <td>2</td>\n",
              "      <td>0</td>\n",
              "      <td>2</td>\n",
              "      <td>1</td>\n",
              "      <td>0</td>\n",
              "      <td>...</td>\n",
              "      <td>4</td>\n",
              "      <td>0</td>\n",
              "      <td>1</td>\n",
              "      <td>1</td>\n",
              "      <td>0</td>\n",
              "      <td>0</td>\n",
              "      <td>0</td>\n",
              "      <td>0</td>\n",
              "      <td>0</td>\n",
              "      <td>1</td>\n",
              "    </tr>\n",
              "    <tr>\n",
              "      <th>4</th>\n",
              "      <td>2014-2015</td>\n",
              "      <td>10</td>\n",
              "      <td>c172f461</td>\n",
              "      <td>17892952</td>\n",
              "      <td>7c21e445</td>\n",
              "      <td>0</td>\n",
              "      <td>2</td>\n",
              "      <td>0</td>\n",
              "      <td>2</td>\n",
              "      <td>1</td>\n",
              "      <td>...</td>\n",
              "      <td>3</td>\n",
              "      <td>1</td>\n",
              "      <td>1</td>\n",
              "      <td>0</td>\n",
              "      <td>2</td>\n",
              "      <td>1</td>\n",
              "      <td>1</td>\n",
              "      <td>1</td>\n",
              "      <td>2</td>\n",
              "      <td>2</td>\n",
              "    </tr>\n",
              "  </tbody>\n",
              "</table>\n",
              "<p>5 rows × 50 columns</p>\n",
              "</div>\n",
              "      <button class=\"colab-df-convert\" onclick=\"convertToInteractive('df-2927c85b-98e0-491a-9862-f84f58818ea7')\"\n",
              "              title=\"Convert this dataframe to an interactive table.\"\n",
              "              style=\"display:none;\">\n",
              "        \n",
              "  <svg xmlns=\"http://www.w3.org/2000/svg\" height=\"24px\"viewBox=\"0 0 24 24\"\n",
              "       width=\"24px\">\n",
              "    <path d=\"M0 0h24v24H0V0z\" fill=\"none\"/>\n",
              "    <path d=\"M18.56 5.44l.94 2.06.94-2.06 2.06-.94-2.06-.94-.94-2.06-.94 2.06-2.06.94zm-11 1L8.5 8.5l.94-2.06 2.06-.94-2.06-.94L8.5 2.5l-.94 2.06-2.06.94zm10 10l.94 2.06.94-2.06 2.06-.94-2.06-.94-.94-2.06-.94 2.06-2.06.94z\"/><path d=\"M17.41 7.96l-1.37-1.37c-.4-.4-.92-.59-1.43-.59-.52 0-1.04.2-1.43.59L10.3 9.45l-7.72 7.72c-.78.78-.78 2.05 0 2.83L4 21.41c.39.39.9.59 1.41.59.51 0 1.02-.2 1.41-.59l7.78-7.78 2.81-2.81c.8-.78.8-2.07 0-2.86zM5.41 20L4 18.59l7.72-7.72 1.47 1.35L5.41 20z\"/>\n",
              "  </svg>\n",
              "      </button>\n",
              "      \n",
              "  <style>\n",
              "    .colab-df-container {\n",
              "      display:flex;\n",
              "      flex-wrap:wrap;\n",
              "      gap: 12px;\n",
              "    }\n",
              "\n",
              "    .colab-df-convert {\n",
              "      background-color: #E8F0FE;\n",
              "      border: none;\n",
              "      border-radius: 50%;\n",
              "      cursor: pointer;\n",
              "      display: none;\n",
              "      fill: #1967D2;\n",
              "      height: 32px;\n",
              "      padding: 0 0 0 0;\n",
              "      width: 32px;\n",
              "    }\n",
              "\n",
              "    .colab-df-convert:hover {\n",
              "      background-color: #E2EBFA;\n",
              "      box-shadow: 0px 1px 2px rgba(60, 64, 67, 0.3), 0px 1px 3px 1px rgba(60, 64, 67, 0.15);\n",
              "      fill: #174EA6;\n",
              "    }\n",
              "\n",
              "    [theme=dark] .colab-df-convert {\n",
              "      background-color: #3B4455;\n",
              "      fill: #D2E3FC;\n",
              "    }\n",
              "\n",
              "    [theme=dark] .colab-df-convert:hover {\n",
              "      background-color: #434B5C;\n",
              "      box-shadow: 0px 1px 3px 1px rgba(0, 0, 0, 0.15);\n",
              "      filter: drop-shadow(0px 1px 2px rgba(0, 0, 0, 0.3));\n",
              "      fill: #FFFFFF;\n",
              "    }\n",
              "  </style>\n",
              "\n",
              "      <script>\n",
              "        const buttonEl =\n",
              "          document.querySelector('#df-2927c85b-98e0-491a-9862-f84f58818ea7 button.colab-df-convert');\n",
              "        buttonEl.style.display =\n",
              "          google.colab.kernel.accessAllowed ? 'block' : 'none';\n",
              "\n",
              "        async function convertToInteractive(key) {\n",
              "          const element = document.querySelector('#df-2927c85b-98e0-491a-9862-f84f58818ea7');\n",
              "          const dataTable =\n",
              "            await google.colab.kernel.invokeFunction('convertToInteractive',\n",
              "                                                     [key], {});\n",
              "          if (!dataTable) return;\n",
              "\n",
              "          const docLinkHtml = 'Like what you see? Visit the ' +\n",
              "            '<a target=\"_blank\" href=https://colab.research.google.com/notebooks/data_table.ipynb>data table notebook</a>'\n",
              "            + ' to learn more about interactive tables.';\n",
              "          element.innerHTML = '';\n",
              "          dataTable['output_type'] = 'display_data';\n",
              "          await google.colab.output.renderOutput(dataTable, element);\n",
              "          const docLink = document.createElement('div');\n",
              "          docLink.innerHTML = docLinkHtml;\n",
              "          element.appendChild(docLink);\n",
              "        }\n",
              "      </script>\n",
              "    </div>\n",
              "  </div>\n",
              "  "
            ]
          },
          "metadata": {},
          "execution_count": 5
        }
      ],
      "source": [
        "df_dataset = pd.read_parquet('dataset_9.parquet')\n",
        "df_dataset.head()"
      ]
    },
    {
      "cell_type": "code",
      "source": [
        "df_dataset.columns"
      ],
      "metadata": {
        "colab": {
          "base_uri": "https://localhost:8080/"
        },
        "id": "XZ_8ZxqclEmY",
        "outputId": "8c71aa9b-7910-49b4-fca8-b2cb51f4c3da"
      },
      "execution_count": 6,
      "outputs": [
        {
          "output_type": "execute_result",
          "data": {
            "text/plain": [
              "Index(['Ano', 'Rodada', 'id', 'fgk_equipe', 'Oponente', 'TR0', 'TR1', 'TR2',\n",
              "       'TR3', 'TR4', 'TL0', 'TL1', 'TL2', 'TL3', 'TL4', 'TP0', 'TP1', 'TP2',\n",
              "       'TP3', 'TP4', 'TC0', 'TC1', 'TC2', 'TC3', 'TC4', 'TGL', 'OR0', 'OR1',\n",
              "       'OR2', 'OR3', 'OR4', 'OL0', 'OL1', 'OL2', 'OL3', 'OL4', 'OP0', 'OP1',\n",
              "       'OP2', 'OP3', 'OP4', 'OC0', 'OC1', 'OC2', 'OC3', 'OC4', 'OGL',\n",
              "       'Resultado', 'GP', 'GC'],\n",
              "      dtype='object')"
            ]
          },
          "metadata": {},
          "execution_count": 6
        }
      ]
    },
    {
      "cell_type": "markdown",
      "source": [
        "#Tratamento de dados"
      ],
      "metadata": {
        "id": "1-ci294alI_6"
      }
    },
    {
      "cell_type": "markdown",
      "source": [
        "##Criação das médias móveis:"
      ],
      "metadata": {
        "id": "lYdVaHtxlM3B"
      }
    },
    {
      "cell_type": "code",
      "source": [
        "df_train = df_dataset[['Ano', 'Rodada', 'id', 'fgk_equipe', 'Oponente', 'Resultado', 'GP', 'GC', 'TGL', 'OGL']]"
      ],
      "metadata": {
        "id": "pQXaTayolHAo"
      },
      "execution_count": 7,
      "outputs": []
    },
    {
      "cell_type": "code",
      "source": [
        "df_train['TR_mean'] = df_dataset[['TR0', 'TR1', 'TR2', 'TR3', 'TR4']].mean(axis=1)\n",
        "df_train['TL_mean'] = df_dataset[['TL0', 'TL1', 'TL2', 'TL3', 'TL4']].mean(axis=1)\n",
        "df_train['TP_mean'] = df_dataset[['TP0', 'TP1', 'TP2', 'TP3', 'TP4']].mean(axis=1)\n",
        "df_train['TC_mean'] = df_dataset[['TC0', 'TC1', 'TC2', 'TC3', 'TC4']].mean(axis=1)\n",
        "df_train['OR_mean'] = df_dataset[['OR0', 'OR1', 'OR2', 'OR3', 'OR4']].mean(axis=1)\n",
        "df_train['OL_mean'] = df_dataset[['OL0', 'OL1', 'OL2', 'OL3', 'OL4']].mean(axis=1)\n",
        "df_train['OP_mean'] = df_dataset[['OP0', 'OP1', 'OP2', 'OP3', 'OP4']].mean(axis=1)\n",
        "df_train['OC_mean'] = df_dataset[['OC0', 'OC1', 'OC2', 'OC3', 'OC4']].mean(axis=1)"
      ],
      "metadata": {
        "id": "LOvjProLl4-Z"
      },
      "execution_count": 8,
      "outputs": []
    },
    {
      "cell_type": "code",
      "source": [
        "df_train.head()"
      ],
      "metadata": {
        "colab": {
          "base_uri": "https://localhost:8080/",
          "height": 357
        },
        "id": "pG6VNZ3jnF3I",
        "outputId": "4b50a565-9b54-48cb-a46f-f92e3058a8d9"
      },
      "execution_count": 9,
      "outputs": [
        {
          "output_type": "execute_result",
          "data": {
            "text/plain": [
              "         Ano  Rodada        id fgk_equipe  Oponente  Resultado  GP  GC  TGL  \\\n",
              "0  2014-2015       6  9d2c4411   17892952  b2b47a98          2   1   0    1   \n",
              "1  2014-2015       7  bc4351a4   17892952  8ef52968          0   1   3    0   \n",
              "2  2014-2015       8  6fa0779f   17892952  fb10988f          2   2   1    1   \n",
              "3  2014-2015       9  2be4379e   17892952  33c895d4          0   0   1    0   \n",
              "4  2014-2015      10  c172f461   17892952  7c21e445          1   2   2    1   \n",
              "\n",
              "   OGL  TR_mean  TL_mean  TP_mean  TC_mean  OR_mean  OL_mean  OP_mean  OC_mean  \n",
              "0    1      0.8      0.4      0.8      1.0      0.6      0.6      1.0      2.2  \n",
              "1    0      1.2      0.4      1.0      0.8      0.8      0.6      0.6      0.8  \n",
              "2    1      1.0      0.4      1.0      1.2      0.8      0.6      1.4      1.4  \n",
              "3    0      1.0      0.6      1.2      1.4      1.6      0.6      3.0      0.4  \n",
              "4    1      1.0      0.4      1.2      1.4      1.6      0.6      2.2      1.0  "
            ],
            "text/html": [
              "\n",
              "  <div id=\"df-d223e17f-45e0-4de0-85a3-6acec214f5fa\">\n",
              "    <div class=\"colab-df-container\">\n",
              "      <div>\n",
              "<style scoped>\n",
              "    .dataframe tbody tr th:only-of-type {\n",
              "        vertical-align: middle;\n",
              "    }\n",
              "\n",
              "    .dataframe tbody tr th {\n",
              "        vertical-align: top;\n",
              "    }\n",
              "\n",
              "    .dataframe thead th {\n",
              "        text-align: right;\n",
              "    }\n",
              "</style>\n",
              "<table border=\"1\" class=\"dataframe\">\n",
              "  <thead>\n",
              "    <tr style=\"text-align: right;\">\n",
              "      <th></th>\n",
              "      <th>Ano</th>\n",
              "      <th>Rodada</th>\n",
              "      <th>id</th>\n",
              "      <th>fgk_equipe</th>\n",
              "      <th>Oponente</th>\n",
              "      <th>Resultado</th>\n",
              "      <th>GP</th>\n",
              "      <th>GC</th>\n",
              "      <th>TGL</th>\n",
              "      <th>OGL</th>\n",
              "      <th>TR_mean</th>\n",
              "      <th>TL_mean</th>\n",
              "      <th>TP_mean</th>\n",
              "      <th>TC_mean</th>\n",
              "      <th>OR_mean</th>\n",
              "      <th>OL_mean</th>\n",
              "      <th>OP_mean</th>\n",
              "      <th>OC_mean</th>\n",
              "    </tr>\n",
              "  </thead>\n",
              "  <tbody>\n",
              "    <tr>\n",
              "      <th>0</th>\n",
              "      <td>2014-2015</td>\n",
              "      <td>6</td>\n",
              "      <td>9d2c4411</td>\n",
              "      <td>17892952</td>\n",
              "      <td>b2b47a98</td>\n",
              "      <td>2</td>\n",
              "      <td>1</td>\n",
              "      <td>0</td>\n",
              "      <td>1</td>\n",
              "      <td>1</td>\n",
              "      <td>0.8</td>\n",
              "      <td>0.4</td>\n",
              "      <td>0.8</td>\n",
              "      <td>1.0</td>\n",
              "      <td>0.6</td>\n",
              "      <td>0.6</td>\n",
              "      <td>1.0</td>\n",
              "      <td>2.2</td>\n",
              "    </tr>\n",
              "    <tr>\n",
              "      <th>1</th>\n",
              "      <td>2014-2015</td>\n",
              "      <td>7</td>\n",
              "      <td>bc4351a4</td>\n",
              "      <td>17892952</td>\n",
              "      <td>8ef52968</td>\n",
              "      <td>0</td>\n",
              "      <td>1</td>\n",
              "      <td>3</td>\n",
              "      <td>0</td>\n",
              "      <td>0</td>\n",
              "      <td>1.2</td>\n",
              "      <td>0.4</td>\n",
              "      <td>1.0</td>\n",
              "      <td>0.8</td>\n",
              "      <td>0.8</td>\n",
              "      <td>0.6</td>\n",
              "      <td>0.6</td>\n",
              "      <td>0.8</td>\n",
              "    </tr>\n",
              "    <tr>\n",
              "      <th>2</th>\n",
              "      <td>2014-2015</td>\n",
              "      <td>8</td>\n",
              "      <td>6fa0779f</td>\n",
              "      <td>17892952</td>\n",
              "      <td>fb10988f</td>\n",
              "      <td>2</td>\n",
              "      <td>2</td>\n",
              "      <td>1</td>\n",
              "      <td>1</td>\n",
              "      <td>1</td>\n",
              "      <td>1.0</td>\n",
              "      <td>0.4</td>\n",
              "      <td>1.0</td>\n",
              "      <td>1.2</td>\n",
              "      <td>0.8</td>\n",
              "      <td>0.6</td>\n",
              "      <td>1.4</td>\n",
              "      <td>1.4</td>\n",
              "    </tr>\n",
              "    <tr>\n",
              "      <th>3</th>\n",
              "      <td>2014-2015</td>\n",
              "      <td>9</td>\n",
              "      <td>2be4379e</td>\n",
              "      <td>17892952</td>\n",
              "      <td>33c895d4</td>\n",
              "      <td>0</td>\n",
              "      <td>0</td>\n",
              "      <td>1</td>\n",
              "      <td>0</td>\n",
              "      <td>0</td>\n",
              "      <td>1.0</td>\n",
              "      <td>0.6</td>\n",
              "      <td>1.2</td>\n",
              "      <td>1.4</td>\n",
              "      <td>1.6</td>\n",
              "      <td>0.6</td>\n",
              "      <td>3.0</td>\n",
              "      <td>0.4</td>\n",
              "    </tr>\n",
              "    <tr>\n",
              "      <th>4</th>\n",
              "      <td>2014-2015</td>\n",
              "      <td>10</td>\n",
              "      <td>c172f461</td>\n",
              "      <td>17892952</td>\n",
              "      <td>7c21e445</td>\n",
              "      <td>1</td>\n",
              "      <td>2</td>\n",
              "      <td>2</td>\n",
              "      <td>1</td>\n",
              "      <td>1</td>\n",
              "      <td>1.0</td>\n",
              "      <td>0.4</td>\n",
              "      <td>1.2</td>\n",
              "      <td>1.4</td>\n",
              "      <td>1.6</td>\n",
              "      <td>0.6</td>\n",
              "      <td>2.2</td>\n",
              "      <td>1.0</td>\n",
              "    </tr>\n",
              "  </tbody>\n",
              "</table>\n",
              "</div>\n",
              "      <button class=\"colab-df-convert\" onclick=\"convertToInteractive('df-d223e17f-45e0-4de0-85a3-6acec214f5fa')\"\n",
              "              title=\"Convert this dataframe to an interactive table.\"\n",
              "              style=\"display:none;\">\n",
              "        \n",
              "  <svg xmlns=\"http://www.w3.org/2000/svg\" height=\"24px\"viewBox=\"0 0 24 24\"\n",
              "       width=\"24px\">\n",
              "    <path d=\"M0 0h24v24H0V0z\" fill=\"none\"/>\n",
              "    <path d=\"M18.56 5.44l.94 2.06.94-2.06 2.06-.94-2.06-.94-.94-2.06-.94 2.06-2.06.94zm-11 1L8.5 8.5l.94-2.06 2.06-.94-2.06-.94L8.5 2.5l-.94 2.06-2.06.94zm10 10l.94 2.06.94-2.06 2.06-.94-2.06-.94-.94-2.06-.94 2.06-2.06.94z\"/><path d=\"M17.41 7.96l-1.37-1.37c-.4-.4-.92-.59-1.43-.59-.52 0-1.04.2-1.43.59L10.3 9.45l-7.72 7.72c-.78.78-.78 2.05 0 2.83L4 21.41c.39.39.9.59 1.41.59.51 0 1.02-.2 1.41-.59l7.78-7.78 2.81-2.81c.8-.78.8-2.07 0-2.86zM5.41 20L4 18.59l7.72-7.72 1.47 1.35L5.41 20z\"/>\n",
              "  </svg>\n",
              "      </button>\n",
              "      \n",
              "  <style>\n",
              "    .colab-df-container {\n",
              "      display:flex;\n",
              "      flex-wrap:wrap;\n",
              "      gap: 12px;\n",
              "    }\n",
              "\n",
              "    .colab-df-convert {\n",
              "      background-color: #E8F0FE;\n",
              "      border: none;\n",
              "      border-radius: 50%;\n",
              "      cursor: pointer;\n",
              "      display: none;\n",
              "      fill: #1967D2;\n",
              "      height: 32px;\n",
              "      padding: 0 0 0 0;\n",
              "      width: 32px;\n",
              "    }\n",
              "\n",
              "    .colab-df-convert:hover {\n",
              "      background-color: #E2EBFA;\n",
              "      box-shadow: 0px 1px 2px rgba(60, 64, 67, 0.3), 0px 1px 3px 1px rgba(60, 64, 67, 0.15);\n",
              "      fill: #174EA6;\n",
              "    }\n",
              "\n",
              "    [theme=dark] .colab-df-convert {\n",
              "      background-color: #3B4455;\n",
              "      fill: #D2E3FC;\n",
              "    }\n",
              "\n",
              "    [theme=dark] .colab-df-convert:hover {\n",
              "      background-color: #434B5C;\n",
              "      box-shadow: 0px 1px 3px 1px rgba(0, 0, 0, 0.15);\n",
              "      filter: drop-shadow(0px 1px 2px rgba(0, 0, 0, 0.3));\n",
              "      fill: #FFFFFF;\n",
              "    }\n",
              "  </style>\n",
              "\n",
              "      <script>\n",
              "        const buttonEl =\n",
              "          document.querySelector('#df-d223e17f-45e0-4de0-85a3-6acec214f5fa button.colab-df-convert');\n",
              "        buttonEl.style.display =\n",
              "          google.colab.kernel.accessAllowed ? 'block' : 'none';\n",
              "\n",
              "        async function convertToInteractive(key) {\n",
              "          const element = document.querySelector('#df-d223e17f-45e0-4de0-85a3-6acec214f5fa');\n",
              "          const dataTable =\n",
              "            await google.colab.kernel.invokeFunction('convertToInteractive',\n",
              "                                                     [key], {});\n",
              "          if (!dataTable) return;\n",
              "\n",
              "          const docLinkHtml = 'Like what you see? Visit the ' +\n",
              "            '<a target=\"_blank\" href=https://colab.research.google.com/notebooks/data_table.ipynb>data table notebook</a>'\n",
              "            + ' to learn more about interactive tables.';\n",
              "          element.innerHTML = '';\n",
              "          dataTable['output_type'] = 'display_data';\n",
              "          await google.colab.output.renderOutput(dataTable, element);\n",
              "          const docLink = document.createElement('div');\n",
              "          docLink.innerHTML = docLinkHtml;\n",
              "          element.appendChild(docLink);\n",
              "        }\n",
              "      </script>\n",
              "    </div>\n",
              "  </div>\n",
              "  "
            ]
          },
          "metadata": {},
          "execution_count": 9
        }
      ]
    },
    {
      "cell_type": "markdown",
      "source": [
        "##Criando coluna de resultado como empate e não empate:"
      ],
      "metadata": {
        "id": "cAlkSZfknVri"
      }
    },
    {
      "cell_type": "markdown",
      "source": [
        "Primeiro vou alterar a coluna resultados:"
      ],
      "metadata": {
        "id": "nulZyZWh2I37"
      }
    },
    {
      "cell_type": "markdown",
      "source": [
        "Antes: </br>\n",
        "0 - Derrota </br>\n",
        "1 - Empate </br>\n",
        "2 - Vitória "
      ],
      "metadata": {
        "id": "28gj8ptOSvua"
      }
    },
    {
      "cell_type": "markdown",
      "source": [
        "Depois: </br>\n",
        "0 - Empate </br>\n",
        "1 - Derrota </br>\n",
        "2 - Vitória "
      ],
      "metadata": {
        "id": "7bF8r2DU2Mmk"
      }
    },
    {
      "cell_type": "code",
      "source": [
        "df_train['Resultado'].replace(to_replace=0, value=3, inplace=True)\n",
        "df_train['Resultado'].replace(to_replace=1, value=0, inplace=True)\n",
        "df_train['Resultado'].replace(to_replace=3, value=1, inplace=True)"
      ],
      "metadata": {
        "id": "6bqQ3lgO2Ue1"
      },
      "execution_count": 10,
      "outputs": []
    },
    {
      "cell_type": "markdown",
      "source": [
        "Aqui vamos deixar: </br>\n",
        "0 - Empate </br>\n",
        "1 - Não Empate"
      ],
      "metadata": {
        "id": "4VUTtqLjoQJx"
      }
    },
    {
      "cell_type": "code",
      "source": [
        "df_train['Resultado'].value_counts()"
      ],
      "metadata": {
        "colab": {
          "base_uri": "https://localhost:8080/"
        },
        "id": "yA44gLeqobTZ",
        "outputId": "bb14d606-c271-4e1f-c4ec-e7e8a528feb5"
      },
      "execution_count": 11,
      "outputs": [
        {
          "output_type": "execute_result",
          "data": {
            "text/plain": [
              "2    2091\n",
              "1    2091\n",
              "0    1264\n",
              "Name: Resultado, dtype: int64"
            ]
          },
          "metadata": {},
          "execution_count": 11
        }
      ]
    },
    {
      "cell_type": "code",
      "source": [
        "df_train['Resultado_Empate'] = df_train['Resultado']\n",
        "df_train['Resultado_Empate'].replace(to_replace=2, value=1, inplace=True)"
      ],
      "metadata": {
        "id": "9J-M103CnH9v"
      },
      "execution_count": 12,
      "outputs": []
    },
    {
      "cell_type": "code",
      "source": [
        "df_train['Resultado_Empate'].value_counts()"
      ],
      "metadata": {
        "colab": {
          "base_uri": "https://localhost:8080/"
        },
        "id": "4V4aCVv-nqko",
        "outputId": "a3d6e6f5-6683-456d-bd2a-7b5ab7e1c5d7"
      },
      "execution_count": 13,
      "outputs": [
        {
          "output_type": "execute_result",
          "data": {
            "text/plain": [
              "1    4182\n",
              "0    1264\n",
              "Name: Resultado_Empate, dtype: int64"
            ]
          },
          "metadata": {},
          "execution_count": 13
        }
      ]
    },
    {
      "cell_type": "code",
      "source": [
        "df_train.columns"
      ],
      "metadata": {
        "colab": {
          "base_uri": "https://localhost:8080/"
        },
        "id": "nATweHXzplwy",
        "outputId": "98a49554-dac1-4175-ae3e-b119e7c95ac5"
      },
      "execution_count": 14,
      "outputs": [
        {
          "output_type": "execute_result",
          "data": {
            "text/plain": [
              "Index(['Ano', 'Rodada', 'id', 'fgk_equipe', 'Oponente', 'Resultado', 'GP',\n",
              "       'GC', 'TGL', 'OGL', 'TR_mean', 'TL_mean', 'TP_mean', 'TC_mean',\n",
              "       'OR_mean', 'OL_mean', 'OP_mean', 'OC_mean', 'Resultado_Empate'],\n",
              "      dtype='object')"
            ]
          },
          "metadata": {},
          "execution_count": 14
        }
      ]
    },
    {
      "cell_type": "code",
      "source": [
        "df_test_ve =  df_train[['TR_mean', 'TL_mean', 'TP_mean',\n",
        "                         'TC_mean', 'OR_mean', 'OL_mean',\n",
        "                         'OP_mean', 'OC_mean']]"
      ],
      "metadata": {
        "id": "z7aJD_jTolDv"
      },
      "execution_count": 15,
      "outputs": []
    },
    {
      "cell_type": "code",
      "source": [
        "df_test_vd = df_train[['TR_mean', 'TL_mean', 'TP_mean',\n",
        "                         'TC_mean', 'OR_mean', 'OL_mean',\n",
        "                         'OP_mean', 'OC_mean']]"
      ],
      "metadata": {
        "id": "0rxmTsyfolMQ"
      },
      "execution_count": 16,
      "outputs": []
    },
    {
      "cell_type": "markdown",
      "source": [
        "##Utilizando apenas dados de jogos em casa para evitar o espelhamento de dados:"
      ],
      "metadata": {
        "id": "AFVZHC6ykaAg"
      }
    },
    {
      "cell_type": "code",
      "source": [
        "df_train_short = df_train.drop(df_train[df_train['TGL']==0].index, axis=0)\n",
        "df_train_short.head()"
      ],
      "metadata": {
        "colab": {
          "base_uri": "https://localhost:8080/",
          "height": 357
        },
        "id": "J_poTr0mkg92",
        "outputId": "29b43206-1540-4700-decc-4891b23b61d8"
      },
      "execution_count": 17,
      "outputs": [
        {
          "output_type": "execute_result",
          "data": {
            "text/plain": [
              "         Ano  Rodada        id fgk_equipe  Oponente  Resultado  GP  GC  TGL  \\\n",
              "0  2014-2015       6  9d2c4411   17892952  b2b47a98          2   1   0    1   \n",
              "2  2014-2015       8  6fa0779f   17892952  fb10988f          2   2   1    1   \n",
              "4  2014-2015      10  c172f461   17892952  7c21e445          0   2   2    1   \n",
              "6  2014-2015      12  f618534b   17892952  943e8050          1   1   2    1   \n",
              "9  2014-2015      15  625f358a   17892952  18bb7c10          2   3   2    1   \n",
              "\n",
              "   OGL  TR_mean  TL_mean  TP_mean  TC_mean  OR_mean  OL_mean  OP_mean  \\\n",
              "0    1      0.8      0.4      0.8      1.0      0.6      0.6      1.0   \n",
              "2    1      1.0      0.4      1.0      1.2      0.8      0.6      1.4   \n",
              "4    1      1.0      0.4      1.2      1.4      1.6      0.6      2.2   \n",
              "6    1      1.0      0.4      1.4      1.6      0.6      0.6      1.0   \n",
              "9    1      0.6      0.4      1.2      1.6      1.2      0.6      1.4   \n",
              "\n",
              "   OC_mean  Resultado_Empate  \n",
              "0      2.2                 1  \n",
              "2      1.4                 1  \n",
              "4      1.0                 0  \n",
              "6      2.2                 1  \n",
              "9      0.8                 1  "
            ],
            "text/html": [
              "\n",
              "  <div id=\"df-07aeb08c-d777-48d9-a989-2cb26e6e8030\">\n",
              "    <div class=\"colab-df-container\">\n",
              "      <div>\n",
              "<style scoped>\n",
              "    .dataframe tbody tr th:only-of-type {\n",
              "        vertical-align: middle;\n",
              "    }\n",
              "\n",
              "    .dataframe tbody tr th {\n",
              "        vertical-align: top;\n",
              "    }\n",
              "\n",
              "    .dataframe thead th {\n",
              "        text-align: right;\n",
              "    }\n",
              "</style>\n",
              "<table border=\"1\" class=\"dataframe\">\n",
              "  <thead>\n",
              "    <tr style=\"text-align: right;\">\n",
              "      <th></th>\n",
              "      <th>Ano</th>\n",
              "      <th>Rodada</th>\n",
              "      <th>id</th>\n",
              "      <th>fgk_equipe</th>\n",
              "      <th>Oponente</th>\n",
              "      <th>Resultado</th>\n",
              "      <th>GP</th>\n",
              "      <th>GC</th>\n",
              "      <th>TGL</th>\n",
              "      <th>OGL</th>\n",
              "      <th>TR_mean</th>\n",
              "      <th>TL_mean</th>\n",
              "      <th>TP_mean</th>\n",
              "      <th>TC_mean</th>\n",
              "      <th>OR_mean</th>\n",
              "      <th>OL_mean</th>\n",
              "      <th>OP_mean</th>\n",
              "      <th>OC_mean</th>\n",
              "      <th>Resultado_Empate</th>\n",
              "    </tr>\n",
              "  </thead>\n",
              "  <tbody>\n",
              "    <tr>\n",
              "      <th>0</th>\n",
              "      <td>2014-2015</td>\n",
              "      <td>6</td>\n",
              "      <td>9d2c4411</td>\n",
              "      <td>17892952</td>\n",
              "      <td>b2b47a98</td>\n",
              "      <td>2</td>\n",
              "      <td>1</td>\n",
              "      <td>0</td>\n",
              "      <td>1</td>\n",
              "      <td>1</td>\n",
              "      <td>0.8</td>\n",
              "      <td>0.4</td>\n",
              "      <td>0.8</td>\n",
              "      <td>1.0</td>\n",
              "      <td>0.6</td>\n",
              "      <td>0.6</td>\n",
              "      <td>1.0</td>\n",
              "      <td>2.2</td>\n",
              "      <td>1</td>\n",
              "    </tr>\n",
              "    <tr>\n",
              "      <th>2</th>\n",
              "      <td>2014-2015</td>\n",
              "      <td>8</td>\n",
              "      <td>6fa0779f</td>\n",
              "      <td>17892952</td>\n",
              "      <td>fb10988f</td>\n",
              "      <td>2</td>\n",
              "      <td>2</td>\n",
              "      <td>1</td>\n",
              "      <td>1</td>\n",
              "      <td>1</td>\n",
              "      <td>1.0</td>\n",
              "      <td>0.4</td>\n",
              "      <td>1.0</td>\n",
              "      <td>1.2</td>\n",
              "      <td>0.8</td>\n",
              "      <td>0.6</td>\n",
              "      <td>1.4</td>\n",
              "      <td>1.4</td>\n",
              "      <td>1</td>\n",
              "    </tr>\n",
              "    <tr>\n",
              "      <th>4</th>\n",
              "      <td>2014-2015</td>\n",
              "      <td>10</td>\n",
              "      <td>c172f461</td>\n",
              "      <td>17892952</td>\n",
              "      <td>7c21e445</td>\n",
              "      <td>0</td>\n",
              "      <td>2</td>\n",
              "      <td>2</td>\n",
              "      <td>1</td>\n",
              "      <td>1</td>\n",
              "      <td>1.0</td>\n",
              "      <td>0.4</td>\n",
              "      <td>1.2</td>\n",
              "      <td>1.4</td>\n",
              "      <td>1.6</td>\n",
              "      <td>0.6</td>\n",
              "      <td>2.2</td>\n",
              "      <td>1.0</td>\n",
              "      <td>0</td>\n",
              "    </tr>\n",
              "    <tr>\n",
              "      <th>6</th>\n",
              "      <td>2014-2015</td>\n",
              "      <td>12</td>\n",
              "      <td>f618534b</td>\n",
              "      <td>17892952</td>\n",
              "      <td>943e8050</td>\n",
              "      <td>1</td>\n",
              "      <td>1</td>\n",
              "      <td>2</td>\n",
              "      <td>1</td>\n",
              "      <td>1</td>\n",
              "      <td>1.0</td>\n",
              "      <td>0.4</td>\n",
              "      <td>1.4</td>\n",
              "      <td>1.6</td>\n",
              "      <td>0.6</td>\n",
              "      <td>0.6</td>\n",
              "      <td>1.0</td>\n",
              "      <td>2.2</td>\n",
              "      <td>1</td>\n",
              "    </tr>\n",
              "    <tr>\n",
              "      <th>9</th>\n",
              "      <td>2014-2015</td>\n",
              "      <td>15</td>\n",
              "      <td>625f358a</td>\n",
              "      <td>17892952</td>\n",
              "      <td>18bb7c10</td>\n",
              "      <td>2</td>\n",
              "      <td>3</td>\n",
              "      <td>2</td>\n",
              "      <td>1</td>\n",
              "      <td>1</td>\n",
              "      <td>0.6</td>\n",
              "      <td>0.4</td>\n",
              "      <td>1.2</td>\n",
              "      <td>1.6</td>\n",
              "      <td>1.2</td>\n",
              "      <td>0.6</td>\n",
              "      <td>1.4</td>\n",
              "      <td>0.8</td>\n",
              "      <td>1</td>\n",
              "    </tr>\n",
              "  </tbody>\n",
              "</table>\n",
              "</div>\n",
              "      <button class=\"colab-df-convert\" onclick=\"convertToInteractive('df-07aeb08c-d777-48d9-a989-2cb26e6e8030')\"\n",
              "              title=\"Convert this dataframe to an interactive table.\"\n",
              "              style=\"display:none;\">\n",
              "        \n",
              "  <svg xmlns=\"http://www.w3.org/2000/svg\" height=\"24px\"viewBox=\"0 0 24 24\"\n",
              "       width=\"24px\">\n",
              "    <path d=\"M0 0h24v24H0V0z\" fill=\"none\"/>\n",
              "    <path d=\"M18.56 5.44l.94 2.06.94-2.06 2.06-.94-2.06-.94-.94-2.06-.94 2.06-2.06.94zm-11 1L8.5 8.5l.94-2.06 2.06-.94-2.06-.94L8.5 2.5l-.94 2.06-2.06.94zm10 10l.94 2.06.94-2.06 2.06-.94-2.06-.94-.94-2.06-.94 2.06-2.06.94z\"/><path d=\"M17.41 7.96l-1.37-1.37c-.4-.4-.92-.59-1.43-.59-.52 0-1.04.2-1.43.59L10.3 9.45l-7.72 7.72c-.78.78-.78 2.05 0 2.83L4 21.41c.39.39.9.59 1.41.59.51 0 1.02-.2 1.41-.59l7.78-7.78 2.81-2.81c.8-.78.8-2.07 0-2.86zM5.41 20L4 18.59l7.72-7.72 1.47 1.35L5.41 20z\"/>\n",
              "  </svg>\n",
              "      </button>\n",
              "      \n",
              "  <style>\n",
              "    .colab-df-container {\n",
              "      display:flex;\n",
              "      flex-wrap:wrap;\n",
              "      gap: 12px;\n",
              "    }\n",
              "\n",
              "    .colab-df-convert {\n",
              "      background-color: #E8F0FE;\n",
              "      border: none;\n",
              "      border-radius: 50%;\n",
              "      cursor: pointer;\n",
              "      display: none;\n",
              "      fill: #1967D2;\n",
              "      height: 32px;\n",
              "      padding: 0 0 0 0;\n",
              "      width: 32px;\n",
              "    }\n",
              "\n",
              "    .colab-df-convert:hover {\n",
              "      background-color: #E2EBFA;\n",
              "      box-shadow: 0px 1px 2px rgba(60, 64, 67, 0.3), 0px 1px 3px 1px rgba(60, 64, 67, 0.15);\n",
              "      fill: #174EA6;\n",
              "    }\n",
              "\n",
              "    [theme=dark] .colab-df-convert {\n",
              "      background-color: #3B4455;\n",
              "      fill: #D2E3FC;\n",
              "    }\n",
              "\n",
              "    [theme=dark] .colab-df-convert:hover {\n",
              "      background-color: #434B5C;\n",
              "      box-shadow: 0px 1px 3px 1px rgba(0, 0, 0, 0.15);\n",
              "      filter: drop-shadow(0px 1px 2px rgba(0, 0, 0, 0.3));\n",
              "      fill: #FFFFFF;\n",
              "    }\n",
              "  </style>\n",
              "\n",
              "      <script>\n",
              "        const buttonEl =\n",
              "          document.querySelector('#df-07aeb08c-d777-48d9-a989-2cb26e6e8030 button.colab-df-convert');\n",
              "        buttonEl.style.display =\n",
              "          google.colab.kernel.accessAllowed ? 'block' : 'none';\n",
              "\n",
              "        async function convertToInteractive(key) {\n",
              "          const element = document.querySelector('#df-07aeb08c-d777-48d9-a989-2cb26e6e8030');\n",
              "          const dataTable =\n",
              "            await google.colab.kernel.invokeFunction('convertToInteractive',\n",
              "                                                     [key], {});\n",
              "          if (!dataTable) return;\n",
              "\n",
              "          const docLinkHtml = 'Like what you see? Visit the ' +\n",
              "            '<a target=\"_blank\" href=https://colab.research.google.com/notebooks/data_table.ipynb>data table notebook</a>'\n",
              "            + ' to learn more about interactive tables.';\n",
              "          element.innerHTML = '';\n",
              "          dataTable['output_type'] = 'display_data';\n",
              "          await google.colab.output.renderOutput(dataTable, element);\n",
              "          const docLink = document.createElement('div');\n",
              "          docLink.innerHTML = docLinkHtml;\n",
              "          element.appendChild(docLink);\n",
              "        }\n",
              "      </script>\n",
              "    </div>\n",
              "  </div>\n",
              "  "
            ]
          },
          "metadata": {},
          "execution_count": 17
        }
      ]
    },
    {
      "cell_type": "code",
      "source": [
        "df_train_short['Resultado_Empate'].value_counts()"
      ],
      "metadata": {
        "colab": {
          "base_uri": "https://localhost:8080/"
        },
        "id": "eq8-B7TilozI",
        "outputId": "1f70a185-c586-4fa2-9cad-cbc47290cb39"
      },
      "execution_count": 18,
      "outputs": [
        {
          "output_type": "execute_result",
          "data": {
            "text/plain": [
              "1    2091\n",
              "0     632\n",
              "Name: Resultado_Empate, dtype: int64"
            ]
          },
          "metadata": {},
          "execution_count": 18
        }
      ]
    },
    {
      "cell_type": "markdown",
      "source": [
        "#Modelagem:"
      ],
      "metadata": {
        "id": "4cEVOhhZo46J"
      }
    },
    {
      "cell_type": "markdown",
      "source": [
        "##Selecionando as variáveis que desejamos:"
      ],
      "metadata": {
        "id": "upgwvolLpavh"
      }
    },
    {
      "cell_type": "code",
      "source": [
        "df_train_cut = df_train_short[['TR_mean', 'TL_mean', 'TP_mean',\n",
        "                         'TC_mean', 'OR_mean', 'OL_mean',\n",
        "                         'OP_mean', 'OC_mean', 'Resultado_Empate']]"
      ],
      "metadata": {
        "id": "3pW4WNAOoOxY"
      },
      "execution_count": 19,
      "outputs": []
    },
    {
      "cell_type": "code",
      "source": [
        "df_train_cut.head()"
      ],
      "metadata": {
        "colab": {
          "base_uri": "https://localhost:8080/",
          "height": 206
        },
        "id": "8qvNUIbgp19I",
        "outputId": "8b19d69b-d46f-4a69-a38e-2f3d4dc9cd0c"
      },
      "execution_count": 20,
      "outputs": [
        {
          "output_type": "execute_result",
          "data": {
            "text/plain": [
              "   TR_mean  TL_mean  TP_mean  TC_mean  OR_mean  OL_mean  OP_mean  OC_mean  \\\n",
              "0      0.8      0.4      0.8      1.0      0.6      0.6      1.0      2.2   \n",
              "2      1.0      0.4      1.0      1.2      0.8      0.6      1.4      1.4   \n",
              "4      1.0      0.4      1.2      1.4      1.6      0.6      2.2      1.0   \n",
              "6      1.0      0.4      1.4      1.6      0.6      0.6      1.0      2.2   \n",
              "9      0.6      0.4      1.2      1.6      1.2      0.6      1.4      0.8   \n",
              "\n",
              "   Resultado_Empate  \n",
              "0                 1  \n",
              "2                 1  \n",
              "4                 0  \n",
              "6                 1  \n",
              "9                 1  "
            ],
            "text/html": [
              "\n",
              "  <div id=\"df-209da103-d5d1-4987-ba3a-5a56855e5395\">\n",
              "    <div class=\"colab-df-container\">\n",
              "      <div>\n",
              "<style scoped>\n",
              "    .dataframe tbody tr th:only-of-type {\n",
              "        vertical-align: middle;\n",
              "    }\n",
              "\n",
              "    .dataframe tbody tr th {\n",
              "        vertical-align: top;\n",
              "    }\n",
              "\n",
              "    .dataframe thead th {\n",
              "        text-align: right;\n",
              "    }\n",
              "</style>\n",
              "<table border=\"1\" class=\"dataframe\">\n",
              "  <thead>\n",
              "    <tr style=\"text-align: right;\">\n",
              "      <th></th>\n",
              "      <th>TR_mean</th>\n",
              "      <th>TL_mean</th>\n",
              "      <th>TP_mean</th>\n",
              "      <th>TC_mean</th>\n",
              "      <th>OR_mean</th>\n",
              "      <th>OL_mean</th>\n",
              "      <th>OP_mean</th>\n",
              "      <th>OC_mean</th>\n",
              "      <th>Resultado_Empate</th>\n",
              "    </tr>\n",
              "  </thead>\n",
              "  <tbody>\n",
              "    <tr>\n",
              "      <th>0</th>\n",
              "      <td>0.8</td>\n",
              "      <td>0.4</td>\n",
              "      <td>0.8</td>\n",
              "      <td>1.0</td>\n",
              "      <td>0.6</td>\n",
              "      <td>0.6</td>\n",
              "      <td>1.0</td>\n",
              "      <td>2.2</td>\n",
              "      <td>1</td>\n",
              "    </tr>\n",
              "    <tr>\n",
              "      <th>2</th>\n",
              "      <td>1.0</td>\n",
              "      <td>0.4</td>\n",
              "      <td>1.0</td>\n",
              "      <td>1.2</td>\n",
              "      <td>0.8</td>\n",
              "      <td>0.6</td>\n",
              "      <td>1.4</td>\n",
              "      <td>1.4</td>\n",
              "      <td>1</td>\n",
              "    </tr>\n",
              "    <tr>\n",
              "      <th>4</th>\n",
              "      <td>1.0</td>\n",
              "      <td>0.4</td>\n",
              "      <td>1.2</td>\n",
              "      <td>1.4</td>\n",
              "      <td>1.6</td>\n",
              "      <td>0.6</td>\n",
              "      <td>2.2</td>\n",
              "      <td>1.0</td>\n",
              "      <td>0</td>\n",
              "    </tr>\n",
              "    <tr>\n",
              "      <th>6</th>\n",
              "      <td>1.0</td>\n",
              "      <td>0.4</td>\n",
              "      <td>1.4</td>\n",
              "      <td>1.6</td>\n",
              "      <td>0.6</td>\n",
              "      <td>0.6</td>\n",
              "      <td>1.0</td>\n",
              "      <td>2.2</td>\n",
              "      <td>1</td>\n",
              "    </tr>\n",
              "    <tr>\n",
              "      <th>9</th>\n",
              "      <td>0.6</td>\n",
              "      <td>0.4</td>\n",
              "      <td>1.2</td>\n",
              "      <td>1.6</td>\n",
              "      <td>1.2</td>\n",
              "      <td>0.6</td>\n",
              "      <td>1.4</td>\n",
              "      <td>0.8</td>\n",
              "      <td>1</td>\n",
              "    </tr>\n",
              "  </tbody>\n",
              "</table>\n",
              "</div>\n",
              "      <button class=\"colab-df-convert\" onclick=\"convertToInteractive('df-209da103-d5d1-4987-ba3a-5a56855e5395')\"\n",
              "              title=\"Convert this dataframe to an interactive table.\"\n",
              "              style=\"display:none;\">\n",
              "        \n",
              "  <svg xmlns=\"http://www.w3.org/2000/svg\" height=\"24px\"viewBox=\"0 0 24 24\"\n",
              "       width=\"24px\">\n",
              "    <path d=\"M0 0h24v24H0V0z\" fill=\"none\"/>\n",
              "    <path d=\"M18.56 5.44l.94 2.06.94-2.06 2.06-.94-2.06-.94-.94-2.06-.94 2.06-2.06.94zm-11 1L8.5 8.5l.94-2.06 2.06-.94-2.06-.94L8.5 2.5l-.94 2.06-2.06.94zm10 10l.94 2.06.94-2.06 2.06-.94-2.06-.94-.94-2.06-.94 2.06-2.06.94z\"/><path d=\"M17.41 7.96l-1.37-1.37c-.4-.4-.92-.59-1.43-.59-.52 0-1.04.2-1.43.59L10.3 9.45l-7.72 7.72c-.78.78-.78 2.05 0 2.83L4 21.41c.39.39.9.59 1.41.59.51 0 1.02-.2 1.41-.59l7.78-7.78 2.81-2.81c.8-.78.8-2.07 0-2.86zM5.41 20L4 18.59l7.72-7.72 1.47 1.35L5.41 20z\"/>\n",
              "  </svg>\n",
              "      </button>\n",
              "      \n",
              "  <style>\n",
              "    .colab-df-container {\n",
              "      display:flex;\n",
              "      flex-wrap:wrap;\n",
              "      gap: 12px;\n",
              "    }\n",
              "\n",
              "    .colab-df-convert {\n",
              "      background-color: #E8F0FE;\n",
              "      border: none;\n",
              "      border-radius: 50%;\n",
              "      cursor: pointer;\n",
              "      display: none;\n",
              "      fill: #1967D2;\n",
              "      height: 32px;\n",
              "      padding: 0 0 0 0;\n",
              "      width: 32px;\n",
              "    }\n",
              "\n",
              "    .colab-df-convert:hover {\n",
              "      background-color: #E2EBFA;\n",
              "      box-shadow: 0px 1px 2px rgba(60, 64, 67, 0.3), 0px 1px 3px 1px rgba(60, 64, 67, 0.15);\n",
              "      fill: #174EA6;\n",
              "    }\n",
              "\n",
              "    [theme=dark] .colab-df-convert {\n",
              "      background-color: #3B4455;\n",
              "      fill: #D2E3FC;\n",
              "    }\n",
              "\n",
              "    [theme=dark] .colab-df-convert:hover {\n",
              "      background-color: #434B5C;\n",
              "      box-shadow: 0px 1px 3px 1px rgba(0, 0, 0, 0.15);\n",
              "      filter: drop-shadow(0px 1px 2px rgba(0, 0, 0, 0.3));\n",
              "      fill: #FFFFFF;\n",
              "    }\n",
              "  </style>\n",
              "\n",
              "      <script>\n",
              "        const buttonEl =\n",
              "          document.querySelector('#df-209da103-d5d1-4987-ba3a-5a56855e5395 button.colab-df-convert');\n",
              "        buttonEl.style.display =\n",
              "          google.colab.kernel.accessAllowed ? 'block' : 'none';\n",
              "\n",
              "        async function convertToInteractive(key) {\n",
              "          const element = document.querySelector('#df-209da103-d5d1-4987-ba3a-5a56855e5395');\n",
              "          const dataTable =\n",
              "            await google.colab.kernel.invokeFunction('convertToInteractive',\n",
              "                                                     [key], {});\n",
              "          if (!dataTable) return;\n",
              "\n",
              "          const docLinkHtml = 'Like what you see? Visit the ' +\n",
              "            '<a target=\"_blank\" href=https://colab.research.google.com/notebooks/data_table.ipynb>data table notebook</a>'\n",
              "            + ' to learn more about interactive tables.';\n",
              "          element.innerHTML = '';\n",
              "          dataTable['output_type'] = 'display_data';\n",
              "          await google.colab.output.renderOutput(dataTable, element);\n",
              "          const docLink = document.createElement('div');\n",
              "          docLink.innerHTML = docLinkHtml;\n",
              "          element.appendChild(docLink);\n",
              "        }\n",
              "      </script>\n",
              "    </div>\n",
              "  </div>\n",
              "  "
            ]
          },
          "metadata": {},
          "execution_count": 20
        }
      ]
    },
    {
      "cell_type": "markdown",
      "source": [
        "##Escolha do modelo:"
      ],
      "metadata": {
        "id": "fkLj5qvOp9DR"
      }
    },
    {
      "cell_type": "code",
      "source": [
        "exp_clf1 = setup(data = df_train_cut, \n",
        "                 target = 'Resultado_Empate')"
      ],
      "metadata": {
        "colab": {
          "base_uri": "https://localhost:8080/",
          "height": 645
        },
        "id": "yZTIWZwap3lX",
        "outputId": "25062c9a-e6d5-469b-81de-99c3089ae541"
      },
      "execution_count": 21,
      "outputs": [
        {
          "output_type": "display_data",
          "data": {
            "text/plain": [
              "<pandas.io.formats.style.Styler at 0x7f81edb5cf70>"
            ],
            "text/html": [
              "<style type=\"text/css\">\n",
              "#T_78b62_row8_col1 {\n",
              "  background-color: lightgreen;\n",
              "}\n",
              "</style>\n",
              "<table id=\"T_78b62_\" class=\"dataframe\">\n",
              "  <thead>\n",
              "    <tr>\n",
              "      <th class=\"blank level0\" >&nbsp;</th>\n",
              "      <th class=\"col_heading level0 col0\" >Description</th>\n",
              "      <th class=\"col_heading level0 col1\" >Value</th>\n",
              "    </tr>\n",
              "  </thead>\n",
              "  <tbody>\n",
              "    <tr>\n",
              "      <th id=\"T_78b62_level0_row0\" class=\"row_heading level0 row0\" >0</th>\n",
              "      <td id=\"T_78b62_row0_col0\" class=\"data row0 col0\" >Session id</td>\n",
              "      <td id=\"T_78b62_row0_col1\" class=\"data row0 col1\" >1937</td>\n",
              "    </tr>\n",
              "    <tr>\n",
              "      <th id=\"T_78b62_level0_row1\" class=\"row_heading level0 row1\" >1</th>\n",
              "      <td id=\"T_78b62_row1_col0\" class=\"data row1 col0\" >Target</td>\n",
              "      <td id=\"T_78b62_row1_col1\" class=\"data row1 col1\" >Resultado_Empate</td>\n",
              "    </tr>\n",
              "    <tr>\n",
              "      <th id=\"T_78b62_level0_row2\" class=\"row_heading level0 row2\" >2</th>\n",
              "      <td id=\"T_78b62_row2_col0\" class=\"data row2 col0\" >Target type</td>\n",
              "      <td id=\"T_78b62_row2_col1\" class=\"data row2 col1\" >Binary</td>\n",
              "    </tr>\n",
              "    <tr>\n",
              "      <th id=\"T_78b62_level0_row3\" class=\"row_heading level0 row3\" >3</th>\n",
              "      <td id=\"T_78b62_row3_col0\" class=\"data row3 col0\" >Original data shape</td>\n",
              "      <td id=\"T_78b62_row3_col1\" class=\"data row3 col1\" >(2723, 9)</td>\n",
              "    </tr>\n",
              "    <tr>\n",
              "      <th id=\"T_78b62_level0_row4\" class=\"row_heading level0 row4\" >4</th>\n",
              "      <td id=\"T_78b62_row4_col0\" class=\"data row4 col0\" >Transformed data shape</td>\n",
              "      <td id=\"T_78b62_row4_col1\" class=\"data row4 col1\" >(2723, 9)</td>\n",
              "    </tr>\n",
              "    <tr>\n",
              "      <th id=\"T_78b62_level0_row5\" class=\"row_heading level0 row5\" >5</th>\n",
              "      <td id=\"T_78b62_row5_col0\" class=\"data row5 col0\" >Transformed train set shape</td>\n",
              "      <td id=\"T_78b62_row5_col1\" class=\"data row5 col1\" >(1906, 9)</td>\n",
              "    </tr>\n",
              "    <tr>\n",
              "      <th id=\"T_78b62_level0_row6\" class=\"row_heading level0 row6\" >6</th>\n",
              "      <td id=\"T_78b62_row6_col0\" class=\"data row6 col0\" >Transformed test set shape</td>\n",
              "      <td id=\"T_78b62_row6_col1\" class=\"data row6 col1\" >(817, 9)</td>\n",
              "    </tr>\n",
              "    <tr>\n",
              "      <th id=\"T_78b62_level0_row7\" class=\"row_heading level0 row7\" >7</th>\n",
              "      <td id=\"T_78b62_row7_col0\" class=\"data row7 col0\" >Numeric features</td>\n",
              "      <td id=\"T_78b62_row7_col1\" class=\"data row7 col1\" >8</td>\n",
              "    </tr>\n",
              "    <tr>\n",
              "      <th id=\"T_78b62_level0_row8\" class=\"row_heading level0 row8\" >8</th>\n",
              "      <td id=\"T_78b62_row8_col0\" class=\"data row8 col0\" >Preprocess</td>\n",
              "      <td id=\"T_78b62_row8_col1\" class=\"data row8 col1\" >True</td>\n",
              "    </tr>\n",
              "    <tr>\n",
              "      <th id=\"T_78b62_level0_row9\" class=\"row_heading level0 row9\" >9</th>\n",
              "      <td id=\"T_78b62_row9_col0\" class=\"data row9 col0\" >Imputation type</td>\n",
              "      <td id=\"T_78b62_row9_col1\" class=\"data row9 col1\" >simple</td>\n",
              "    </tr>\n",
              "    <tr>\n",
              "      <th id=\"T_78b62_level0_row10\" class=\"row_heading level0 row10\" >10</th>\n",
              "      <td id=\"T_78b62_row10_col0\" class=\"data row10 col0\" >Numeric imputation</td>\n",
              "      <td id=\"T_78b62_row10_col1\" class=\"data row10 col1\" >mean</td>\n",
              "    </tr>\n",
              "    <tr>\n",
              "      <th id=\"T_78b62_level0_row11\" class=\"row_heading level0 row11\" >11</th>\n",
              "      <td id=\"T_78b62_row11_col0\" class=\"data row11 col0\" >Categorical imputation</td>\n",
              "      <td id=\"T_78b62_row11_col1\" class=\"data row11 col1\" >mode</td>\n",
              "    </tr>\n",
              "    <tr>\n",
              "      <th id=\"T_78b62_level0_row12\" class=\"row_heading level0 row12\" >12</th>\n",
              "      <td id=\"T_78b62_row12_col0\" class=\"data row12 col0\" >Fold Generator</td>\n",
              "      <td id=\"T_78b62_row12_col1\" class=\"data row12 col1\" >StratifiedKFold</td>\n",
              "    </tr>\n",
              "    <tr>\n",
              "      <th id=\"T_78b62_level0_row13\" class=\"row_heading level0 row13\" >13</th>\n",
              "      <td id=\"T_78b62_row13_col0\" class=\"data row13 col0\" >Fold Number</td>\n",
              "      <td id=\"T_78b62_row13_col1\" class=\"data row13 col1\" >10</td>\n",
              "    </tr>\n",
              "    <tr>\n",
              "      <th id=\"T_78b62_level0_row14\" class=\"row_heading level0 row14\" >14</th>\n",
              "      <td id=\"T_78b62_row14_col0\" class=\"data row14 col0\" >CPU Jobs</td>\n",
              "      <td id=\"T_78b62_row14_col1\" class=\"data row14 col1\" >-1</td>\n",
              "    </tr>\n",
              "    <tr>\n",
              "      <th id=\"T_78b62_level0_row15\" class=\"row_heading level0 row15\" >15</th>\n",
              "      <td id=\"T_78b62_row15_col0\" class=\"data row15 col0\" >Use GPU</td>\n",
              "      <td id=\"T_78b62_row15_col1\" class=\"data row15 col1\" >False</td>\n",
              "    </tr>\n",
              "    <tr>\n",
              "      <th id=\"T_78b62_level0_row16\" class=\"row_heading level0 row16\" >16</th>\n",
              "      <td id=\"T_78b62_row16_col0\" class=\"data row16 col0\" >Log Experiment</td>\n",
              "      <td id=\"T_78b62_row16_col1\" class=\"data row16 col1\" >False</td>\n",
              "    </tr>\n",
              "    <tr>\n",
              "      <th id=\"T_78b62_level0_row17\" class=\"row_heading level0 row17\" >17</th>\n",
              "      <td id=\"T_78b62_row17_col0\" class=\"data row17 col0\" >Experiment Name</td>\n",
              "      <td id=\"T_78b62_row17_col1\" class=\"data row17 col1\" >clf-default-name</td>\n",
              "    </tr>\n",
              "    <tr>\n",
              "      <th id=\"T_78b62_level0_row18\" class=\"row_heading level0 row18\" >18</th>\n",
              "      <td id=\"T_78b62_row18_col0\" class=\"data row18 col0\" >USI</td>\n",
              "      <td id=\"T_78b62_row18_col1\" class=\"data row18 col1\" >f812</td>\n",
              "    </tr>\n",
              "  </tbody>\n",
              "</table>\n"
            ]
          },
          "metadata": {}
        }
      ]
    },
    {
      "cell_type": "code",
      "source": [
        "%%time\n",
        "\n",
        "best_model = compare_models(fold=5, sort='Prec.')"
      ],
      "metadata": {
        "colab": {
          "base_uri": "https://localhost:8080/",
          "height": 523,
          "referenced_widgets": [
            "1375e02428704760bec9e45c933ac2b6",
            "4e961cd50a25461daee967fa9090fc01",
            "c6fb17a2167d4da6bda951fe564c19bd",
            "c0f81d74dd424661bd8be91a5ae9d415",
            "b6f59eff30d546afa87b31ee8d238072",
            "6e3f7e7b33b74ab19779be6e0177dc67",
            "089f17be8c1843b799d94d02cc068cad",
            "de121bed7eab4be3b468c027568280d8",
            "84aea7ddcfbb46d6a73e91acd86d9244",
            "576b05183b4845ef96b601b9dfd41afc",
            "32386b5950974e81ac5c6617a8fce875"
          ]
        },
        "id": "9PD95XIxsDfY",
        "outputId": "e205aab3-198f-47a2-a0b4-6f3b0e9a9c6e"
      },
      "execution_count": 22,
      "outputs": [
        {
          "output_type": "display_data",
          "data": {
            "text/plain": [
              "<IPython.core.display.HTML object>"
            ],
            "text/html": []
          },
          "metadata": {}
        },
        {
          "output_type": "display_data",
          "data": {
            "text/plain": [
              "<pandas.io.formats.style.Styler at 0x7f81ede5dbb0>"
            ],
            "text/html": [
              "<style type=\"text/css\">\n",
              "#T_ec2ce_ th {\n",
              "  text-align: left;\n",
              "}\n",
              "#T_ec2ce_row0_col0, #T_ec2ce_row0_col1, #T_ec2ce_row0_col2, #T_ec2ce_row0_col3, #T_ec2ce_row0_col5, #T_ec2ce_row0_col7, #T_ec2ce_row1_col0, #T_ec2ce_row1_col1, #T_ec2ce_row1_col3, #T_ec2ce_row1_col4, #T_ec2ce_row1_col5, #T_ec2ce_row1_col6, #T_ec2ce_row2_col0, #T_ec2ce_row2_col1, #T_ec2ce_row2_col2, #T_ec2ce_row2_col3, #T_ec2ce_row2_col4, #T_ec2ce_row2_col5, #T_ec2ce_row2_col6, #T_ec2ce_row2_col7, #T_ec2ce_row3_col0, #T_ec2ce_row3_col1, #T_ec2ce_row3_col2, #T_ec2ce_row3_col3, #T_ec2ce_row3_col4, #T_ec2ce_row3_col5, #T_ec2ce_row3_col6, #T_ec2ce_row3_col7, #T_ec2ce_row4_col0, #T_ec2ce_row4_col1, #T_ec2ce_row4_col2, #T_ec2ce_row4_col3, #T_ec2ce_row4_col4, #T_ec2ce_row4_col5, #T_ec2ce_row4_col6, #T_ec2ce_row4_col7, #T_ec2ce_row5_col0, #T_ec2ce_row5_col2, #T_ec2ce_row5_col4, #T_ec2ce_row5_col6, #T_ec2ce_row5_col7, #T_ec2ce_row6_col0, #T_ec2ce_row6_col2, #T_ec2ce_row6_col4, #T_ec2ce_row6_col6, #T_ec2ce_row6_col7, #T_ec2ce_row7_col0, #T_ec2ce_row7_col2, #T_ec2ce_row7_col4, #T_ec2ce_row7_col6, #T_ec2ce_row7_col7, #T_ec2ce_row8_col0, #T_ec2ce_row8_col2, #T_ec2ce_row8_col4, #T_ec2ce_row8_col6, #T_ec2ce_row8_col7, #T_ec2ce_row9_col0, #T_ec2ce_row9_col2, #T_ec2ce_row9_col4, #T_ec2ce_row9_col6, #T_ec2ce_row9_col7, #T_ec2ce_row10_col0, #T_ec2ce_row10_col1, #T_ec2ce_row10_col2, #T_ec2ce_row10_col3, #T_ec2ce_row10_col4, #T_ec2ce_row10_col5, #T_ec2ce_row10_col6, #T_ec2ce_row10_col7, #T_ec2ce_row11_col0, #T_ec2ce_row11_col1, #T_ec2ce_row11_col2, #T_ec2ce_row11_col3, #T_ec2ce_row11_col4, #T_ec2ce_row11_col5, #T_ec2ce_row11_col6, #T_ec2ce_row11_col7, #T_ec2ce_row12_col0, #T_ec2ce_row12_col1, #T_ec2ce_row12_col2, #T_ec2ce_row12_col3, #T_ec2ce_row12_col4, #T_ec2ce_row12_col5, #T_ec2ce_row12_col6, #T_ec2ce_row12_col7, #T_ec2ce_row13_col0, #T_ec2ce_row13_col1, #T_ec2ce_row13_col2, #T_ec2ce_row13_col3, #T_ec2ce_row13_col4, #T_ec2ce_row13_col5, #T_ec2ce_row13_col6, #T_ec2ce_row13_col7 {\n",
              "  text-align: left;\n",
              "}\n",
              "#T_ec2ce_row0_col4, #T_ec2ce_row0_col6, #T_ec2ce_row1_col2, #T_ec2ce_row1_col7, #T_ec2ce_row5_col1, #T_ec2ce_row5_col3, #T_ec2ce_row5_col5, #T_ec2ce_row6_col1, #T_ec2ce_row6_col3, #T_ec2ce_row6_col5, #T_ec2ce_row7_col1, #T_ec2ce_row7_col3, #T_ec2ce_row7_col5, #T_ec2ce_row8_col1, #T_ec2ce_row8_col3, #T_ec2ce_row8_col5, #T_ec2ce_row9_col1, #T_ec2ce_row9_col3, #T_ec2ce_row9_col5 {\n",
              "  text-align: left;\n",
              "  background-color: yellow;\n",
              "}\n",
              "#T_ec2ce_row0_col8, #T_ec2ce_row1_col8, #T_ec2ce_row2_col8, #T_ec2ce_row3_col8, #T_ec2ce_row4_col8, #T_ec2ce_row5_col8, #T_ec2ce_row6_col8, #T_ec2ce_row8_col8, #T_ec2ce_row9_col8, #T_ec2ce_row10_col8, #T_ec2ce_row11_col8, #T_ec2ce_row12_col8, #T_ec2ce_row13_col8 {\n",
              "  text-align: left;\n",
              "  background-color: lightgrey;\n",
              "}\n",
              "#T_ec2ce_row7_col8 {\n",
              "  text-align: left;\n",
              "  background-color: yellow;\n",
              "  background-color: lightgrey;\n",
              "}\n",
              "</style>\n",
              "<table id=\"T_ec2ce_\" class=\"dataframe\">\n",
              "  <thead>\n",
              "    <tr>\n",
              "      <th class=\"blank level0\" >&nbsp;</th>\n",
              "      <th class=\"col_heading level0 col0\" >Model</th>\n",
              "      <th class=\"col_heading level0 col1\" >Accuracy</th>\n",
              "      <th class=\"col_heading level0 col2\" >AUC</th>\n",
              "      <th class=\"col_heading level0 col3\" >Recall</th>\n",
              "      <th class=\"col_heading level0 col4\" >Prec.</th>\n",
              "      <th class=\"col_heading level0 col5\" >F1</th>\n",
              "      <th class=\"col_heading level0 col6\" >Kappa</th>\n",
              "      <th class=\"col_heading level0 col7\" >MCC</th>\n",
              "      <th class=\"col_heading level0 col8\" >TT (Sec)</th>\n",
              "    </tr>\n",
              "  </thead>\n",
              "  <tbody>\n",
              "    <tr>\n",
              "      <th id=\"T_ec2ce_level0_row0\" class=\"row_heading level0 row0\" >knn</th>\n",
              "      <td id=\"T_ec2ce_row0_col0\" class=\"data row0 col0\" >K Neighbors Classifier</td>\n",
              "      <td id=\"T_ec2ce_row0_col1\" class=\"data row0 col1\" >0.7319</td>\n",
              "      <td id=\"T_ec2ce_row0_col2\" class=\"data row0 col2\" >0.5196</td>\n",
              "      <td id=\"T_ec2ce_row0_col3\" class=\"data row0 col3\" >0.9187</td>\n",
              "      <td id=\"T_ec2ce_row0_col4\" class=\"data row0 col4\" >0.7745</td>\n",
              "      <td id=\"T_ec2ce_row0_col5\" class=\"data row0 col5\" >0.8404</td>\n",
              "      <td id=\"T_ec2ce_row0_col6\" class=\"data row0 col6\" >0.0383</td>\n",
              "      <td id=\"T_ec2ce_row0_col7\" class=\"data row0 col7\" >0.0411</td>\n",
              "      <td id=\"T_ec2ce_row0_col8\" class=\"data row0 col8\" >0.0600</td>\n",
              "    </tr>\n",
              "    <tr>\n",
              "      <th id=\"T_ec2ce_level0_row1\" class=\"row_heading level0 row1\" >lightgbm</th>\n",
              "      <td id=\"T_ec2ce_row1_col0\" class=\"data row1 col0\" >Light Gradient Boosting Machine</td>\n",
              "      <td id=\"T_ec2ce_row1_col1\" class=\"data row1 col1\" >0.7361</td>\n",
              "      <td id=\"T_ec2ce_row1_col2\" class=\"data row1 col2\" >0.5331</td>\n",
              "      <td id=\"T_ec2ce_row1_col3\" class=\"data row1 col3\" >0.9276</td>\n",
              "      <td id=\"T_ec2ce_row1_col4\" class=\"data row1 col4\" >0.7738</td>\n",
              "      <td id=\"T_ec2ce_row1_col5\" class=\"data row1 col5\" >0.8437</td>\n",
              "      <td id=\"T_ec2ce_row1_col6\" class=\"data row1 col6\" >0.0378</td>\n",
              "      <td id=\"T_ec2ce_row1_col7\" class=\"data row1 col7\" >0.0450</td>\n",
              "      <td id=\"T_ec2ce_row1_col8\" class=\"data row1 col8\" >0.3080</td>\n",
              "    </tr>\n",
              "    <tr>\n",
              "      <th id=\"T_ec2ce_level0_row2\" class=\"row_heading level0 row2\" >dt</th>\n",
              "      <td id=\"T_ec2ce_row2_col0\" class=\"data row2 col0\" >Decision Tree Classifier</td>\n",
              "      <td id=\"T_ec2ce_row2_col1\" class=\"data row2 col1\" >0.6264</td>\n",
              "      <td id=\"T_ec2ce_row2_col2\" class=\"data row2 col2\" >0.5113</td>\n",
              "      <td id=\"T_ec2ce_row2_col3\" class=\"data row2 col3\" >0.7261</td>\n",
              "      <td id=\"T_ec2ce_row2_col4\" class=\"data row2 col4\" >0.7736</td>\n",
              "      <td id=\"T_ec2ce_row2_col5\" class=\"data row2 col5\" >0.7490</td>\n",
              "      <td id=\"T_ec2ce_row2_col6\" class=\"data row2 col6\" >0.0213</td>\n",
              "      <td id=\"T_ec2ce_row2_col7\" class=\"data row2 col7\" >0.0214</td>\n",
              "      <td id=\"T_ec2ce_row2_col8\" class=\"data row2 col8\" >0.0420</td>\n",
              "    </tr>\n",
              "    <tr>\n",
              "      <th id=\"T_ec2ce_level0_row3\" class=\"row_heading level0 row3\" >et</th>\n",
              "      <td id=\"T_ec2ce_row3_col0\" class=\"data row3 col0\" >Extra Trees Classifier</td>\n",
              "      <td id=\"T_ec2ce_row3_col1\" class=\"data row3 col1\" >0.7440</td>\n",
              "      <td id=\"T_ec2ce_row3_col2\" class=\"data row3 col2\" >0.5209</td>\n",
              "      <td id=\"T_ec2ce_row3_col3\" class=\"data row3 col3\" >0.9454</td>\n",
              "      <td id=\"T_ec2ce_row3_col4\" class=\"data row3 col4\" >0.7723</td>\n",
              "      <td id=\"T_ec2ce_row3_col5\" class=\"data row3 col5\" >0.8501</td>\n",
              "      <td id=\"T_ec2ce_row3_col6\" class=\"data row3 col6\" >0.0296</td>\n",
              "      <td id=\"T_ec2ce_row3_col7\" class=\"data row3 col7\" >0.0382</td>\n",
              "      <td id=\"T_ec2ce_row3_col8\" class=\"data row3 col8\" >0.2700</td>\n",
              "    </tr>\n",
              "    <tr>\n",
              "      <th id=\"T_ec2ce_level0_row4\" class=\"row_heading level0 row4\" >rf</th>\n",
              "      <td id=\"T_ec2ce_row4_col0\" class=\"data row4 col0\" >Random Forest Classifier</td>\n",
              "      <td id=\"T_ec2ce_row4_col1\" class=\"data row4 col1\" >0.7503</td>\n",
              "      <td id=\"T_ec2ce_row4_col2\" class=\"data row4 col2\" >0.5239</td>\n",
              "      <td id=\"T_ec2ce_row4_col3\" class=\"data row4 col3\" >0.9597</td>\n",
              "      <td id=\"T_ec2ce_row4_col4\" class=\"data row4 col4\" >0.7711</td>\n",
              "      <td id=\"T_ec2ce_row4_col5\" class=\"data row4 col5\" >0.8551</td>\n",
              "      <td id=\"T_ec2ce_row4_col6\" class=\"data row4 col6\" >0.0227</td>\n",
              "      <td id=\"T_ec2ce_row4_col7\" class=\"data row4 col7\" >0.0347</td>\n",
              "      <td id=\"T_ec2ce_row4_col8\" class=\"data row4 col8\" >0.3120</td>\n",
              "    </tr>\n",
              "    <tr>\n",
              "      <th id=\"T_ec2ce_level0_row5\" class=\"row_heading level0 row5\" >lr</th>\n",
              "      <td id=\"T_ec2ce_row5_col0\" class=\"data row5 col0\" >Logistic Regression</td>\n",
              "      <td id=\"T_ec2ce_row5_col1\" class=\"data row5 col1\" >0.7681</td>\n",
              "      <td id=\"T_ec2ce_row5_col2\" class=\"data row5 col2\" >0.5016</td>\n",
              "      <td id=\"T_ec2ce_row5_col3\" class=\"data row5 col3\" >1.0000</td>\n",
              "      <td id=\"T_ec2ce_row5_col4\" class=\"data row5 col4\" >0.7681</td>\n",
              "      <td id=\"T_ec2ce_row5_col5\" class=\"data row5 col5\" >0.8688</td>\n",
              "      <td id=\"T_ec2ce_row5_col6\" class=\"data row5 col6\" >0.0000</td>\n",
              "      <td id=\"T_ec2ce_row5_col7\" class=\"data row5 col7\" >0.0000</td>\n",
              "      <td id=\"T_ec2ce_row5_col8\" class=\"data row5 col8\" >0.8500</td>\n",
              "    </tr>\n",
              "    <tr>\n",
              "      <th id=\"T_ec2ce_level0_row6\" class=\"row_heading level0 row6\" >svm</th>\n",
              "      <td id=\"T_ec2ce_row6_col0\" class=\"data row6 col0\" >SVM - Linear Kernel</td>\n",
              "      <td id=\"T_ec2ce_row6_col1\" class=\"data row6 col1\" >0.7681</td>\n",
              "      <td id=\"T_ec2ce_row6_col2\" class=\"data row6 col2\" >0.0000</td>\n",
              "      <td id=\"T_ec2ce_row6_col3\" class=\"data row6 col3\" >1.0000</td>\n",
              "      <td id=\"T_ec2ce_row6_col4\" class=\"data row6 col4\" >0.7681</td>\n",
              "      <td id=\"T_ec2ce_row6_col5\" class=\"data row6 col5\" >0.8688</td>\n",
              "      <td id=\"T_ec2ce_row6_col6\" class=\"data row6 col6\" >0.0000</td>\n",
              "      <td id=\"T_ec2ce_row6_col7\" class=\"data row6 col7\" >0.0000</td>\n",
              "      <td id=\"T_ec2ce_row6_col8\" class=\"data row6 col8\" >0.0340</td>\n",
              "    </tr>\n",
              "    <tr>\n",
              "      <th id=\"T_ec2ce_level0_row7\" class=\"row_heading level0 row7\" >ridge</th>\n",
              "      <td id=\"T_ec2ce_row7_col0\" class=\"data row7 col0\" >Ridge Classifier</td>\n",
              "      <td id=\"T_ec2ce_row7_col1\" class=\"data row7 col1\" >0.7681</td>\n",
              "      <td id=\"T_ec2ce_row7_col2\" class=\"data row7 col2\" >0.0000</td>\n",
              "      <td id=\"T_ec2ce_row7_col3\" class=\"data row7 col3\" >1.0000</td>\n",
              "      <td id=\"T_ec2ce_row7_col4\" class=\"data row7 col4\" >0.7681</td>\n",
              "      <td id=\"T_ec2ce_row7_col5\" class=\"data row7 col5\" >0.8688</td>\n",
              "      <td id=\"T_ec2ce_row7_col6\" class=\"data row7 col6\" >0.0000</td>\n",
              "      <td id=\"T_ec2ce_row7_col7\" class=\"data row7 col7\" >0.0000</td>\n",
              "      <td id=\"T_ec2ce_row7_col8\" class=\"data row7 col8\" >0.0300</td>\n",
              "    </tr>\n",
              "    <tr>\n",
              "      <th id=\"T_ec2ce_level0_row8\" class=\"row_heading level0 row8\" >lda</th>\n",
              "      <td id=\"T_ec2ce_row8_col0\" class=\"data row8 col0\" >Linear Discriminant Analysis</td>\n",
              "      <td id=\"T_ec2ce_row8_col1\" class=\"data row8 col1\" >0.7681</td>\n",
              "      <td id=\"T_ec2ce_row8_col2\" class=\"data row8 col2\" >0.5011</td>\n",
              "      <td id=\"T_ec2ce_row8_col3\" class=\"data row8 col3\" >1.0000</td>\n",
              "      <td id=\"T_ec2ce_row8_col4\" class=\"data row8 col4\" >0.7681</td>\n",
              "      <td id=\"T_ec2ce_row8_col5\" class=\"data row8 col5\" >0.8688</td>\n",
              "      <td id=\"T_ec2ce_row8_col6\" class=\"data row8 col6\" >0.0000</td>\n",
              "      <td id=\"T_ec2ce_row8_col7\" class=\"data row8 col7\" >0.0000</td>\n",
              "      <td id=\"T_ec2ce_row8_col8\" class=\"data row8 col8\" >0.0340</td>\n",
              "    </tr>\n",
              "    <tr>\n",
              "      <th id=\"T_ec2ce_level0_row9\" class=\"row_heading level0 row9\" >dummy</th>\n",
              "      <td id=\"T_ec2ce_row9_col0\" class=\"data row9 col0\" >Dummy Classifier</td>\n",
              "      <td id=\"T_ec2ce_row9_col1\" class=\"data row9 col1\" >0.7681</td>\n",
              "      <td id=\"T_ec2ce_row9_col2\" class=\"data row9 col2\" >0.5000</td>\n",
              "      <td id=\"T_ec2ce_row9_col3\" class=\"data row9 col3\" >1.0000</td>\n",
              "      <td id=\"T_ec2ce_row9_col4\" class=\"data row9 col4\" >0.7681</td>\n",
              "      <td id=\"T_ec2ce_row9_col5\" class=\"data row9 col5\" >0.8688</td>\n",
              "      <td id=\"T_ec2ce_row9_col6\" class=\"data row9 col6\" >0.0000</td>\n",
              "      <td id=\"T_ec2ce_row9_col7\" class=\"data row9 col7\" >0.0000</td>\n",
              "      <td id=\"T_ec2ce_row9_col8\" class=\"data row9 col8\" >0.0560</td>\n",
              "    </tr>\n",
              "    <tr>\n",
              "      <th id=\"T_ec2ce_level0_row10\" class=\"row_heading level0 row10\" >nb</th>\n",
              "      <td id=\"T_ec2ce_row10_col0\" class=\"data row10 col0\" >Naive Bayes</td>\n",
              "      <td id=\"T_ec2ce_row10_col1\" class=\"data row10 col1\" >0.7676</td>\n",
              "      <td id=\"T_ec2ce_row10_col2\" class=\"data row10 col2\" >0.5068</td>\n",
              "      <td id=\"T_ec2ce_row10_col3\" class=\"data row10 col3\" >0.9993</td>\n",
              "      <td id=\"T_ec2ce_row10_col4\" class=\"data row10 col4\" >0.7680</td>\n",
              "      <td id=\"T_ec2ce_row10_col5\" class=\"data row10 col5\" >0.8685</td>\n",
              "      <td id=\"T_ec2ce_row10_col6\" class=\"data row10 col6\" >-0.0010</td>\n",
              "      <td id=\"T_ec2ce_row10_col7\" class=\"data row10 col7\" >-0.0057</td>\n",
              "      <td id=\"T_ec2ce_row10_col8\" class=\"data row10 col8\" >0.0340</td>\n",
              "    </tr>\n",
              "    <tr>\n",
              "      <th id=\"T_ec2ce_level0_row11\" class=\"row_heading level0 row11\" >qda</th>\n",
              "      <td id=\"T_ec2ce_row11_col0\" class=\"data row11 col0\" >Quadratic Discriminant Analysis</td>\n",
              "      <td id=\"T_ec2ce_row11_col1\" class=\"data row11 col1\" >0.7623</td>\n",
              "      <td id=\"T_ec2ce_row11_col2\" class=\"data row11 col2\" >0.5164</td>\n",
              "      <td id=\"T_ec2ce_row11_col3\" class=\"data row11 col3\" >0.9898</td>\n",
              "      <td id=\"T_ec2ce_row11_col4\" class=\"data row11 col4\" >0.7679</td>\n",
              "      <td id=\"T_ec2ce_row11_col5\" class=\"data row11 col5\" >0.8648</td>\n",
              "      <td id=\"T_ec2ce_row11_col6\" class=\"data row11 col6\" >-0.0020</td>\n",
              "      <td id=\"T_ec2ce_row11_col7\" class=\"data row11 col7\" >-0.0124</td>\n",
              "      <td id=\"T_ec2ce_row11_col8\" class=\"data row11 col8\" >0.0360</td>\n",
              "    </tr>\n",
              "    <tr>\n",
              "      <th id=\"T_ec2ce_level0_row12\" class=\"row_heading level0 row12\" >ada</th>\n",
              "      <td id=\"T_ec2ce_row12_col0\" class=\"data row12 col0\" >Ada Boost Classifier</td>\n",
              "      <td id=\"T_ec2ce_row12_col1\" class=\"data row12 col1\" >0.7629</td>\n",
              "      <td id=\"T_ec2ce_row12_col2\" class=\"data row12 col2\" >0.5034</td>\n",
              "      <td id=\"T_ec2ce_row12_col3\" class=\"data row12 col3\" >0.9925</td>\n",
              "      <td id=\"T_ec2ce_row12_col4\" class=\"data row12 col4\" >0.7672</td>\n",
              "      <td id=\"T_ec2ce_row12_col5\" class=\"data row12 col5\" >0.8654</td>\n",
              "      <td id=\"T_ec2ce_row12_col6\" class=\"data row12 col6\" >-0.0079</td>\n",
              "      <td id=\"T_ec2ce_row12_col7\" class=\"data row12 col7\" >-0.0265</td>\n",
              "      <td id=\"T_ec2ce_row12_col8\" class=\"data row12 col8\" >0.1460</td>\n",
              "    </tr>\n",
              "    <tr>\n",
              "      <th id=\"T_ec2ce_level0_row13\" class=\"row_heading level0 row13\" >gbc</th>\n",
              "      <td id=\"T_ec2ce_row13_col0\" class=\"data row13 col0\" >Gradient Boosting Classifier</td>\n",
              "      <td id=\"T_ec2ce_row13_col1\" class=\"data row13 col1\" >0.7534</td>\n",
              "      <td id=\"T_ec2ce_row13_col2\" class=\"data row13 col2\" >0.5265</td>\n",
              "      <td id=\"T_ec2ce_row13_col3\" class=\"data row13 col3\" >0.9761</td>\n",
              "      <td id=\"T_ec2ce_row13_col4\" class=\"data row13 col4\" >0.7666</td>\n",
              "      <td id=\"T_ec2ce_row13_col5\" class=\"data row13 col5\" >0.8588</td>\n",
              "      <td id=\"T_ec2ce_row13_col6\" class=\"data row13 col6\" >-0.0116</td>\n",
              "      <td id=\"T_ec2ce_row13_col7\" class=\"data row13 col7\" >-0.0180</td>\n",
              "      <td id=\"T_ec2ce_row13_col8\" class=\"data row13 col8\" >0.1820</td>\n",
              "    </tr>\n",
              "  </tbody>\n",
              "</table>\n"
            ]
          },
          "metadata": {}
        },
        {
          "output_type": "display_data",
          "data": {
            "text/plain": [
              "Processing:   0%|          | 0/61 [00:00<?, ?it/s]"
            ],
            "application/vnd.jupyter.widget-view+json": {
              "version_major": 2,
              "version_minor": 0,
              "model_id": "1375e02428704760bec9e45c933ac2b6"
            }
          },
          "metadata": {
            "application/vnd.jupyter.widget-view+json": {
              "colab": {
                "custom_widget_manager": {
                  "url": "https://ssl.gstatic.com/colaboratory-static/widgets/colab-cdn-widget-manager/b3e629b1971e1542/manager.min.js"
                }
              }
            }
          }
        },
        {
          "output_type": "display_data",
          "data": {
            "text/plain": [
              "<IPython.core.display.HTML object>"
            ],
            "text/html": []
          },
          "metadata": {}
        },
        {
          "output_type": "stream",
          "name": "stdout",
          "text": [
            "CPU times: user 4.84 s, sys: 231 ms, total: 5.08 s\n",
            "Wall time: 16.5 s\n"
          ]
        }
      ]
    },
    {
      "cell_type": "code",
      "source": [
        "model_ve = create_model('et', fold=5)\n",
        "plot_model(model_ve, plot = 'confusion_matrix')"
      ],
      "metadata": {
        "colab": {
          "base_uri": "https://localhost:8080/",
          "height": 580,
          "referenced_widgets": [
            "156bf957ec094644b5a08fb2cceed673",
            "42ab6d4fbe1a44d7a54a8642c41420eb",
            "d697123e2ada447889edc13df9d4d254",
            "75b6b12b657f4de0925b52e527df531b",
            "99fd40566d7b462e8ca87a084fdc3cb9",
            "a330c3acd56d4ac0bd8342b98403920f",
            "e99cb8dbd301447d867075c634c23959",
            "c967306ccc8841d189567bc64fa85b0c",
            "7a8789f91bfb4553a2afab698abac2a5",
            "7e43694541b747e0acc014eadd9b7e26",
            "3a685ed134e844dda579415e1e6611a6"
          ]
        },
        "id": "_AOINZcrrzl2",
        "outputId": "0cdcc9ed-8ee9-4cb5-a020-7f74b3f278ab"
      },
      "execution_count": 23,
      "outputs": [
        {
          "output_type": "display_data",
          "data": {
            "text/plain": [
              "<IPython.core.display.HTML object>"
            ],
            "text/html": []
          },
          "metadata": {}
        },
        {
          "output_type": "display_data",
          "data": {
            "text/plain": [
              "<pandas.io.formats.style.Styler at 0x7f81f7c22400>"
            ],
            "text/html": [
              "<style type=\"text/css\">\n",
              "#T_5b94a_row5_col0, #T_5b94a_row5_col1, #T_5b94a_row5_col2, #T_5b94a_row5_col3, #T_5b94a_row5_col4, #T_5b94a_row5_col5, #T_5b94a_row5_col6 {\n",
              "  background: yellow;\n",
              "}\n",
              "</style>\n",
              "<table id=\"T_5b94a_\" class=\"dataframe\">\n",
              "  <thead>\n",
              "    <tr>\n",
              "      <th class=\"blank level0\" >&nbsp;</th>\n",
              "      <th class=\"col_heading level0 col0\" >Accuracy</th>\n",
              "      <th class=\"col_heading level0 col1\" >AUC</th>\n",
              "      <th class=\"col_heading level0 col2\" >Recall</th>\n",
              "      <th class=\"col_heading level0 col3\" >Prec.</th>\n",
              "      <th class=\"col_heading level0 col4\" >F1</th>\n",
              "      <th class=\"col_heading level0 col5\" >Kappa</th>\n",
              "      <th class=\"col_heading level0 col6\" >MCC</th>\n",
              "    </tr>\n",
              "    <tr>\n",
              "      <th class=\"index_name level0\" >Fold</th>\n",
              "      <th class=\"blank col0\" >&nbsp;</th>\n",
              "      <th class=\"blank col1\" >&nbsp;</th>\n",
              "      <th class=\"blank col2\" >&nbsp;</th>\n",
              "      <th class=\"blank col3\" >&nbsp;</th>\n",
              "      <th class=\"blank col4\" >&nbsp;</th>\n",
              "      <th class=\"blank col5\" >&nbsp;</th>\n",
              "      <th class=\"blank col6\" >&nbsp;</th>\n",
              "    </tr>\n",
              "  </thead>\n",
              "  <tbody>\n",
              "    <tr>\n",
              "      <th id=\"T_5b94a_level0_row0\" class=\"row_heading level0 row0\" >0</th>\n",
              "      <td id=\"T_5b94a_row0_col0\" class=\"data row0 col0\" >0.7382</td>\n",
              "      <td id=\"T_5b94a_row0_col1\" class=\"data row0 col1\" >0.5645</td>\n",
              "      <td id=\"T_5b94a_row0_col2\" class=\"data row0 col2\" >0.9283</td>\n",
              "      <td id=\"T_5b94a_row0_col3\" class=\"data row0 col3\" >0.7749</td>\n",
              "      <td id=\"T_5b94a_row0_col4\" class=\"data row0 col4\" >0.8447</td>\n",
              "      <td id=\"T_5b94a_row0_col5\" class=\"data row0 col5\" >0.0526</td>\n",
              "      <td id=\"T_5b94a_row0_col6\" class=\"data row0 col6\" >0.0630</td>\n",
              "    </tr>\n",
              "    <tr>\n",
              "      <th id=\"T_5b94a_level0_row1\" class=\"row_heading level0 row1\" >1</th>\n",
              "      <td id=\"T_5b94a_row1_col0\" class=\"data row1 col0\" >0.7480</td>\n",
              "      <td id=\"T_5b94a_row1_col1\" class=\"data row1 col1\" >0.5494</td>\n",
              "      <td id=\"T_5b94a_row1_col2\" class=\"data row1 col2\" >0.9454</td>\n",
              "      <td id=\"T_5b94a_row1_col3\" class=\"data row1 col3\" >0.7759</td>\n",
              "      <td id=\"T_5b94a_row1_col4\" class=\"data row1 col4\" >0.8523</td>\n",
              "      <td id=\"T_5b94a_row1_col5\" class=\"data row1 col5\" >0.0487</td>\n",
              "      <td id=\"T_5b94a_row1_col6\" class=\"data row1 col6\" >0.0630</td>\n",
              "    </tr>\n",
              "    <tr>\n",
              "      <th id=\"T_5b94a_level0_row2\" class=\"row_heading level0 row2\" >2</th>\n",
              "      <td id=\"T_5b94a_row2_col0\" class=\"data row2 col0\" >0.7428</td>\n",
              "      <td id=\"T_5b94a_row2_col1\" class=\"data row2 col1\" >0.4882</td>\n",
              "      <td id=\"T_5b94a_row2_col2\" class=\"data row2 col2\" >0.9488</td>\n",
              "      <td id=\"T_5b94a_row2_col3\" class=\"data row2 col3\" >0.7701</td>\n",
              "      <td id=\"T_5b94a_row2_col4\" class=\"data row2 col4\" >0.8502</td>\n",
              "      <td id=\"T_5b94a_row2_col5\" class=\"data row2 col5\" >0.0077</td>\n",
              "      <td id=\"T_5b94a_row2_col6\" class=\"data row2 col6\" >0.0106</td>\n",
              "    </tr>\n",
              "    <tr>\n",
              "      <th id=\"T_5b94a_level0_row3\" class=\"row_heading level0 row3\" >3</th>\n",
              "      <td id=\"T_5b94a_row3_col0\" class=\"data row3 col0\" >0.7480</td>\n",
              "      <td id=\"T_5b94a_row3_col1\" class=\"data row3 col1\" >0.4963</td>\n",
              "      <td id=\"T_5b94a_row3_col2\" class=\"data row3 col2\" >0.9556</td>\n",
              "      <td id=\"T_5b94a_row3_col3\" class=\"data row3 col3\" >0.7713</td>\n",
              "      <td id=\"T_5b94a_row3_col4\" class=\"data row3 col4\" >0.8537</td>\n",
              "      <td id=\"T_5b94a_row3_col5\" class=\"data row3 col5\" >0.0172</td>\n",
              "      <td id=\"T_5b94a_row3_col6\" class=\"data row3 col6\" >0.0247</td>\n",
              "    </tr>\n",
              "    <tr>\n",
              "      <th id=\"T_5b94a_level0_row4\" class=\"row_heading level0 row4\" >4</th>\n",
              "      <td id=\"T_5b94a_row4_col0\" class=\"data row4 col0\" >0.7428</td>\n",
              "      <td id=\"T_5b94a_row4_col1\" class=\"data row4 col1\" >0.5062</td>\n",
              "      <td id=\"T_5b94a_row4_col2\" class=\"data row4 col2\" >0.9486</td>\n",
              "      <td id=\"T_5b94a_row4_col3\" class=\"data row4 col3\" >0.7694</td>\n",
              "      <td id=\"T_5b94a_row4_col4\" class=\"data row4 col4\" >0.8497</td>\n",
              "      <td id=\"T_5b94a_row4_col5\" class=\"data row4 col5\" >0.0218</td>\n",
              "      <td id=\"T_5b94a_row4_col6\" class=\"data row4 col6\" >0.0298</td>\n",
              "    </tr>\n",
              "    <tr>\n",
              "      <th id=\"T_5b94a_level0_row5\" class=\"row_heading level0 row5\" >Mean</th>\n",
              "      <td id=\"T_5b94a_row5_col0\" class=\"data row5 col0\" >0.7440</td>\n",
              "      <td id=\"T_5b94a_row5_col1\" class=\"data row5 col1\" >0.5209</td>\n",
              "      <td id=\"T_5b94a_row5_col2\" class=\"data row5 col2\" >0.9454</td>\n",
              "      <td id=\"T_5b94a_row5_col3\" class=\"data row5 col3\" >0.7723</td>\n",
              "      <td id=\"T_5b94a_row5_col4\" class=\"data row5 col4\" >0.8501</td>\n",
              "      <td id=\"T_5b94a_row5_col5\" class=\"data row5 col5\" >0.0296</td>\n",
              "      <td id=\"T_5b94a_row5_col6\" class=\"data row5 col6\" >0.0382</td>\n",
              "    </tr>\n",
              "    <tr>\n",
              "      <th id=\"T_5b94a_level0_row6\" class=\"row_heading level0 row6\" >Std</th>\n",
              "      <td id=\"T_5b94a_row6_col0\" class=\"data row6 col0\" >0.0037</td>\n",
              "      <td id=\"T_5b94a_row6_col1\" class=\"data row6 col1\" >0.0303</td>\n",
              "      <td id=\"T_5b94a_row6_col2\" class=\"data row6 col2\" >0.0091</td>\n",
              "      <td id=\"T_5b94a_row6_col3\" class=\"data row6 col3\" >0.0026</td>\n",
              "      <td id=\"T_5b94a_row6_col4\" class=\"data row6 col4\" >0.0031</td>\n",
              "      <td id=\"T_5b94a_row6_col5\" class=\"data row6 col5\" >0.0178</td>\n",
              "      <td id=\"T_5b94a_row6_col6\" class=\"data row6 col6\" >0.0212</td>\n",
              "    </tr>\n",
              "  </tbody>\n",
              "</table>\n"
            ]
          },
          "metadata": {}
        },
        {
          "output_type": "display_data",
          "data": {
            "text/plain": [
              "Processing:   0%|          | 0/4 [00:00<?, ?it/s]"
            ],
            "application/vnd.jupyter.widget-view+json": {
              "version_major": 2,
              "version_minor": 0,
              "model_id": "156bf957ec094644b5a08fb2cceed673"
            }
          },
          "metadata": {
            "application/vnd.jupyter.widget-view+json": {
              "colab": {
                "custom_widget_manager": {
                  "url": "https://ssl.gstatic.com/colaboratory-static/widgets/colab-cdn-widget-manager/b3e629b1971e1542/manager.min.js"
                }
              }
            }
          }
        },
        {
          "output_type": "display_data",
          "data": {
            "text/plain": [
              "<IPython.core.display.HTML object>"
            ],
            "text/html": []
          },
          "metadata": {}
        },
        {
          "output_type": "display_data",
          "data": {
            "text/plain": [
              "<IPython.core.display.HTML object>"
            ],
            "text/html": []
          },
          "metadata": {}
        },
        {
          "output_type": "display_data",
          "data": {
            "text/plain": [
              "<Figure size 432x288 with 1 Axes>"
            ],
            "image/png": "[encoded data removed]"
          },
          "metadata": {
            "needs_background": "light"
          }
        }
      ]
    },
    {
      "cell_type": "markdown",
      "source": [
        "#Modelo Vitória ou Derrota"
      ],
      "metadata": {
        "id": "h3xqvpHASl6D"
      }
    },
    {
      "cell_type": "markdown",
      "source": [
        "Removendo os dados de empate do Dataframe:"
      ],
      "metadata": {
        "id": "VjPG5c7w3Q4k"
      }
    },
    {
      "cell_type": "markdown",
      "source": [
        "Criando coluna que informa vitória (2) e derrota (1)"
      ],
      "metadata": {
        "id": "wBfgkGDz3Mkd"
      }
    },
    {
      "cell_type": "code",
      "source": [
        "df_train_v_d = df_train_short.drop(df_train_short[df_train_short['Resultado']==0].index)"
      ],
      "metadata": {
        "id": "xDA69vvd3I3y"
      },
      "execution_count": 24,
      "outputs": []
    },
    {
      "cell_type": "code",
      "source": [
        "df_train_v_d['Resultado'].value_counts()"
      ],
      "metadata": {
        "colab": {
          "base_uri": "https://localhost:8080/"
        },
        "id": "Dql01GJb6RGR",
        "outputId": "85d7a2fc-11b6-4be4-f45c-4ca39cc844ec"
      },
      "execution_count": 25,
      "outputs": [
        {
          "output_type": "execute_result",
          "data": {
            "text/plain": [
              "2    1238\n",
              "1     853\n",
              "Name: Resultado, dtype: int64"
            ]
          },
          "metadata": {},
          "execution_count": 25
        }
      ]
    },
    {
      "cell_type": "code",
      "source": [
        "df_train_v_d['Resultado_Vitoria'] = df_train_v_d['Resultado']-1"
      ],
      "metadata": {
        "id": "AM8Y0xoR6XgJ"
      },
      "execution_count": 26,
      "outputs": []
    },
    {
      "cell_type": "code",
      "source": [
        "df_train_v_d['Resultado_Vitoria'].value_counts()"
      ],
      "metadata": {
        "colab": {
          "base_uri": "https://localhost:8080/"
        },
        "id": "BF1cTAvq6kvi",
        "outputId": "258a4e3d-9bed-49f8-ac6e-e03b741111ee"
      },
      "execution_count": 27,
      "outputs": [
        {
          "output_type": "execute_result",
          "data": {
            "text/plain": [
              "1    1238\n",
              "0     853\n",
              "Name: Resultado_Vitoria, dtype: int64"
            ]
          },
          "metadata": {},
          "execution_count": 27
        }
      ]
    },
    {
      "cell_type": "code",
      "source": [
        "df_train_v_d.columns"
      ],
      "metadata": {
        "colab": {
          "base_uri": "https://localhost:8080/"
        },
        "id": "4fmynLfa6oE5",
        "outputId": "335b3db8-3265-4478-8597-96e42c50bfe6"
      },
      "execution_count": 28,
      "outputs": [
        {
          "output_type": "execute_result",
          "data": {
            "text/plain": [
              "Index(['Ano', 'Rodada', 'id', 'fgk_equipe', 'Oponente', 'Resultado', 'GP',\n",
              "       'GC', 'TGL', 'OGL', 'TR_mean', 'TL_mean', 'TP_mean', 'TC_mean',\n",
              "       'OR_mean', 'OL_mean', 'OP_mean', 'OC_mean', 'Resultado_Empate',\n",
              "       'Resultado_Vitoria'],\n",
              "      dtype='object')"
            ]
          },
          "metadata": {},
          "execution_count": 28
        }
      ]
    },
    {
      "cell_type": "code",
      "source": [
        "df_train_v_d_cut = df_train_v_d[['TR_mean', 'TL_mean', 'TP_mean',\n",
        "                                 'TC_mean', 'OR_mean', 'OL_mean',\n",
        "                                 'OP_mean', 'OC_mean', 'Resultado_Vitoria']]"
      ],
      "metadata": {
        "id": "4sKOTKPW6sTK"
      },
      "execution_count": 29,
      "outputs": []
    },
    {
      "cell_type": "code",
      "source": [
        "exp_clf2 = setup(data = df_train_v_d_cut, \n",
        "                 target = 'Resultado_Vitoria') "
      ],
      "metadata": {
        "colab": {
          "base_uri": "https://localhost:8080/",
          "height": 645
        },
        "id": "T0iMGbZ27Ncq",
        "outputId": "c952fea1-3875-437c-95a0-1c0ad7c0759c"
      },
      "execution_count": 30,
      "outputs": [
        {
          "output_type": "display_data",
          "data": {
            "text/plain": [
              "<pandas.io.formats.style.Styler at 0x7f81ebe8de50>"
            ],
            "text/html": [
              "<style type=\"text/css\">\n",
              "#T_1d197_row8_col1 {\n",
              "  background-color: lightgreen;\n",
              "}\n",
              "</style>\n",
              "<table id=\"T_1d197_\" class=\"dataframe\">\n",
              "  <thead>\n",
              "    <tr>\n",
              "      <th class=\"blank level0\" >&nbsp;</th>\n",
              "      <th class=\"col_heading level0 col0\" >Description</th>\n",
              "      <th class=\"col_heading level0 col1\" >Value</th>\n",
              "    </tr>\n",
              "  </thead>\n",
              "  <tbody>\n",
              "    <tr>\n",
              "      <th id=\"T_1d197_level0_row0\" class=\"row_heading level0 row0\" >0</th>\n",
              "      <td id=\"T_1d197_row0_col0\" class=\"data row0 col0\" >Session id</td>\n",
              "      <td id=\"T_1d197_row0_col1\" class=\"data row0 col1\" >7082</td>\n",
              "    </tr>\n",
              "    <tr>\n",
              "      <th id=\"T_1d197_level0_row1\" class=\"row_heading level0 row1\" >1</th>\n",
              "      <td id=\"T_1d197_row1_col0\" class=\"data row1 col0\" >Target</td>\n",
              "      <td id=\"T_1d197_row1_col1\" class=\"data row1 col1\" >Resultado_Vitoria</td>\n",
              "    </tr>\n",
              "    <tr>\n",
              "      <th id=\"T_1d197_level0_row2\" class=\"row_heading level0 row2\" >2</th>\n",
              "      <td id=\"T_1d197_row2_col0\" class=\"data row2 col0\" >Target type</td>\n",
              "      <td id=\"T_1d197_row2_col1\" class=\"data row2 col1\" >Binary</td>\n",
              "    </tr>\n",
              "    <tr>\n",
              "      <th id=\"T_1d197_level0_row3\" class=\"row_heading level0 row3\" >3</th>\n",
              "      <td id=\"T_1d197_row3_col0\" class=\"data row3 col0\" >Original data shape</td>\n",
              "      <td id=\"T_1d197_row3_col1\" class=\"data row3 col1\" >(2091, 9)</td>\n",
              "    </tr>\n",
              "    <tr>\n",
              "      <th id=\"T_1d197_level0_row4\" class=\"row_heading level0 row4\" >4</th>\n",
              "      <td id=\"T_1d197_row4_col0\" class=\"data row4 col0\" >Transformed data shape</td>\n",
              "      <td id=\"T_1d197_row4_col1\" class=\"data row4 col1\" >(2091, 9)</td>\n",
              "    </tr>\n",
              "    <tr>\n",
              "      <th id=\"T_1d197_level0_row5\" class=\"row_heading level0 row5\" >5</th>\n",
              "      <td id=\"T_1d197_row5_col0\" class=\"data row5 col0\" >Transformed train set shape</td>\n",
              "      <td id=\"T_1d197_row5_col1\" class=\"data row5 col1\" >(1463, 9)</td>\n",
              "    </tr>\n",
              "    <tr>\n",
              "      <th id=\"T_1d197_level0_row6\" class=\"row_heading level0 row6\" >6</th>\n",
              "      <td id=\"T_1d197_row6_col0\" class=\"data row6 col0\" >Transformed test set shape</td>\n",
              "      <td id=\"T_1d197_row6_col1\" class=\"data row6 col1\" >(628, 9)</td>\n",
              "    </tr>\n",
              "    <tr>\n",
              "      <th id=\"T_1d197_level0_row7\" class=\"row_heading level0 row7\" >7</th>\n",
              "      <td id=\"T_1d197_row7_col0\" class=\"data row7 col0\" >Numeric features</td>\n",
              "      <td id=\"T_1d197_row7_col1\" class=\"data row7 col1\" >8</td>\n",
              "    </tr>\n",
              "    <tr>\n",
              "      <th id=\"T_1d197_level0_row8\" class=\"row_heading level0 row8\" >8</th>\n",
              "      <td id=\"T_1d197_row8_col0\" class=\"data row8 col0\" >Preprocess</td>\n",
              "      <td id=\"T_1d197_row8_col1\" class=\"data row8 col1\" >True</td>\n",
              "    </tr>\n",
              "    <tr>\n",
              "      <th id=\"T_1d197_level0_row9\" class=\"row_heading level0 row9\" >9</th>\n",
              "      <td id=\"T_1d197_row9_col0\" class=\"data row9 col0\" >Imputation type</td>\n",
              "      <td id=\"T_1d197_row9_col1\" class=\"data row9 col1\" >simple</td>\n",
              "    </tr>\n",
              "    <tr>\n",
              "      <th id=\"T_1d197_level0_row10\" class=\"row_heading level0 row10\" >10</th>\n",
              "      <td id=\"T_1d197_row10_col0\" class=\"data row10 col0\" >Numeric imputation</td>\n",
              "      <td id=\"T_1d197_row10_col1\" class=\"data row10 col1\" >mean</td>\n",
              "    </tr>\n",
              "    <tr>\n",
              "      <th id=\"T_1d197_level0_row11\" class=\"row_heading level0 row11\" >11</th>\n",
              "      <td id=\"T_1d197_row11_col0\" class=\"data row11 col0\" >Categorical imputation</td>\n",
              "      <td id=\"T_1d197_row11_col1\" class=\"data row11 col1\" >mode</td>\n",
              "    </tr>\n",
              "    <tr>\n",
              "      <th id=\"T_1d197_level0_row12\" class=\"row_heading level0 row12\" >12</th>\n",
              "      <td id=\"T_1d197_row12_col0\" class=\"data row12 col0\" >Fold Generator</td>\n",
              "      <td id=\"T_1d197_row12_col1\" class=\"data row12 col1\" >StratifiedKFold</td>\n",
              "    </tr>\n",
              "    <tr>\n",
              "      <th id=\"T_1d197_level0_row13\" class=\"row_heading level0 row13\" >13</th>\n",
              "      <td id=\"T_1d197_row13_col0\" class=\"data row13 col0\" >Fold Number</td>\n",
              "      <td id=\"T_1d197_row13_col1\" class=\"data row13 col1\" >10</td>\n",
              "    </tr>\n",
              "    <tr>\n",
              "      <th id=\"T_1d197_level0_row14\" class=\"row_heading level0 row14\" >14</th>\n",
              "      <td id=\"T_1d197_row14_col0\" class=\"data row14 col0\" >CPU Jobs</td>\n",
              "      <td id=\"T_1d197_row14_col1\" class=\"data row14 col1\" >-1</td>\n",
              "    </tr>\n",
              "    <tr>\n",
              "      <th id=\"T_1d197_level0_row15\" class=\"row_heading level0 row15\" >15</th>\n",
              "      <td id=\"T_1d197_row15_col0\" class=\"data row15 col0\" >Use GPU</td>\n",
              "      <td id=\"T_1d197_row15_col1\" class=\"data row15 col1\" >False</td>\n",
              "    </tr>\n",
              "    <tr>\n",
              "      <th id=\"T_1d197_level0_row16\" class=\"row_heading level0 row16\" >16</th>\n",
              "      <td id=\"T_1d197_row16_col0\" class=\"data row16 col0\" >Log Experiment</td>\n",
              "      <td id=\"T_1d197_row16_col1\" class=\"data row16 col1\" >False</td>\n",
              "    </tr>\n",
              "    <tr>\n",
              "      <th id=\"T_1d197_level0_row17\" class=\"row_heading level0 row17\" >17</th>\n",
              "      <td id=\"T_1d197_row17_col0\" class=\"data row17 col0\" >Experiment Name</td>\n",
              "      <td id=\"T_1d197_row17_col1\" class=\"data row17 col1\" >clf-default-name</td>\n",
              "    </tr>\n",
              "    <tr>\n",
              "      <th id=\"T_1d197_level0_row18\" class=\"row_heading level0 row18\" >18</th>\n",
              "      <td id=\"T_1d197_row18_col0\" class=\"data row18 col0\" >USI</td>\n",
              "      <td id=\"T_1d197_row18_col1\" class=\"data row18 col1\" >7666</td>\n",
              "    </tr>\n",
              "  </tbody>\n",
              "</table>\n"
            ]
          },
          "metadata": {}
        }
      ]
    },
    {
      "cell_type": "code",
      "source": [
        "%%time\n",
        "\n",
        "best_model = compare_models(fold=5, sort='Prec.')"
      ],
      "metadata": {
        "colab": {
          "base_uri": "https://localhost:8080/",
          "height": 523,
          "referenced_widgets": [
            "a76872cb289a466cacdae8c15851c674",
            "40e1fffb541a48ab87f45cfc7aea2f82",
            "d4606361744c463cac6fcbd0414524ff",
            "9a99e8c564b149c48be17e8a93372425",
            "48c9ccd1900641b9993a7573466b5e36",
            "4b78913e7a96430cbd2808f394ea692f",
            "fe4d7054c1724ae7ab2f1127df3fe304",
            "949baf3aef744fac8565bcba72580edf",
            "dec3624349d940189c21b2ea7b2a829c",
            "09c41b658cf047eaba17c8d17a07479a",
            "b0aa01aa77b344fbbe2e32a002d7d24d"
          ]
        },
        "id": "1hgQL_DF7jh-",
        "outputId": "1dc0b8b2-d5c0-4f90-b85e-6e2733001a3c"
      },
      "execution_count": 31,
      "outputs": [
        {
          "output_type": "display_data",
          "data": {
            "text/plain": [
              "<IPython.core.display.HTML object>"
            ],
            "text/html": []
          },
          "metadata": {}
        },
        {
          "output_type": "display_data",
          "data": {
            "text/plain": [
              "<pandas.io.formats.style.Styler at 0x7f81ed1f8a30>"
            ],
            "text/html": [
              "<style type=\"text/css\">\n",
              "#T_2938e_ th {\n",
              "  text-align: left;\n",
              "}\n",
              "#T_2938e_row0_col0, #T_2938e_row0_col1, #T_2938e_row0_col2, #T_2938e_row0_col3, #T_2938e_row0_col5, #T_2938e_row0_col7, #T_2938e_row1_col0, #T_2938e_row1_col1, #T_2938e_row1_col2, #T_2938e_row1_col3, #T_2938e_row1_col4, #T_2938e_row1_col5, #T_2938e_row1_col6, #T_2938e_row1_col7, #T_2938e_row2_col0, #T_2938e_row2_col3, #T_2938e_row2_col4, #T_2938e_row2_col6, #T_2938e_row3_col0, #T_2938e_row3_col1, #T_2938e_row3_col2, #T_2938e_row3_col3, #T_2938e_row3_col4, #T_2938e_row3_col5, #T_2938e_row3_col6, #T_2938e_row3_col7, #T_2938e_row4_col0, #T_2938e_row4_col1, #T_2938e_row4_col2, #T_2938e_row4_col3, #T_2938e_row4_col4, #T_2938e_row4_col5, #T_2938e_row4_col6, #T_2938e_row4_col7, #T_2938e_row5_col0, #T_2938e_row5_col1, #T_2938e_row5_col2, #T_2938e_row5_col3, #T_2938e_row5_col4, #T_2938e_row5_col5, #T_2938e_row5_col6, #T_2938e_row5_col7, #T_2938e_row6_col0, #T_2938e_row6_col1, #T_2938e_row6_col2, #T_2938e_row6_col3, #T_2938e_row6_col4, #T_2938e_row6_col5, #T_2938e_row6_col6, #T_2938e_row6_col7, #T_2938e_row7_col0, #T_2938e_row7_col1, #T_2938e_row7_col2, #T_2938e_row7_col3, #T_2938e_row7_col4, #T_2938e_row7_col5, #T_2938e_row7_col6, #T_2938e_row7_col7, #T_2938e_row8_col0, #T_2938e_row8_col1, #T_2938e_row8_col2, #T_2938e_row8_col3, #T_2938e_row8_col4, #T_2938e_row8_col5, #T_2938e_row8_col6, #T_2938e_row8_col7, #T_2938e_row9_col0, #T_2938e_row9_col1, #T_2938e_row9_col2, #T_2938e_row9_col3, #T_2938e_row9_col4, #T_2938e_row9_col5, #T_2938e_row9_col6, #T_2938e_row9_col7, #T_2938e_row10_col0, #T_2938e_row10_col1, #T_2938e_row10_col2, #T_2938e_row10_col3, #T_2938e_row10_col4, #T_2938e_row10_col5, #T_2938e_row10_col6, #T_2938e_row10_col7, #T_2938e_row11_col0, #T_2938e_row11_col1, #T_2938e_row11_col2, #T_2938e_row11_col3, #T_2938e_row11_col4, #T_2938e_row11_col5, #T_2938e_row11_col6, #T_2938e_row11_col7, #T_2938e_row12_col0, #T_2938e_row12_col1, #T_2938e_row12_col2, #T_2938e_row12_col3, #T_2938e_row12_col4, #T_2938e_row12_col5, #T_2938e_row12_col6, #T_2938e_row12_col7, #T_2938e_row13_col0, #T_2938e_row13_col1, #T_2938e_row13_col2, #T_2938e_row13_col4, #T_2938e_row13_col5, #T_2938e_row13_col6, #T_2938e_row13_col7 {\n",
              "  text-align: left;\n",
              "}\n",
              "#T_2938e_row0_col4, #T_2938e_row0_col6, #T_2938e_row2_col1, #T_2938e_row2_col2, #T_2938e_row2_col5, #T_2938e_row2_col7, #T_2938e_row13_col3 {\n",
              "  text-align: left;\n",
              "  background-color: yellow;\n",
              "}\n",
              "#T_2938e_row0_col8, #T_2938e_row1_col8, #T_2938e_row2_col8, #T_2938e_row3_col8, #T_2938e_row4_col8, #T_2938e_row5_col8, #T_2938e_row7_col8, #T_2938e_row8_col8, #T_2938e_row9_col8, #T_2938e_row10_col8, #T_2938e_row11_col8, #T_2938e_row12_col8, #T_2938e_row13_col8 {\n",
              "  text-align: left;\n",
              "  background-color: lightgrey;\n",
              "}\n",
              "#T_2938e_row6_col8 {\n",
              "  text-align: left;\n",
              "  background-color: yellow;\n",
              "  background-color: lightgrey;\n",
              "}\n",
              "</style>\n",
              "<table id=\"T_2938e_\" class=\"dataframe\">\n",
              "  <thead>\n",
              "    <tr>\n",
              "      <th class=\"blank level0\" >&nbsp;</th>\n",
              "      <th class=\"col_heading level0 col0\" >Model</th>\n",
              "      <th class=\"col_heading level0 col1\" >Accuracy</th>\n",
              "      <th class=\"col_heading level0 col2\" >AUC</th>\n",
              "      <th class=\"col_heading level0 col3\" >Recall</th>\n",
              "      <th class=\"col_heading level0 col4\" >Prec.</th>\n",
              "      <th class=\"col_heading level0 col5\" >F1</th>\n",
              "      <th class=\"col_heading level0 col6\" >Kappa</th>\n",
              "      <th class=\"col_heading level0 col7\" >MCC</th>\n",
              "      <th class=\"col_heading level0 col8\" >TT (Sec)</th>\n",
              "    </tr>\n",
              "  </thead>\n",
              "  <tbody>\n",
              "    <tr>\n",
              "      <th id=\"T_2938e_level0_row0\" class=\"row_heading level0 row0\" >nb</th>\n",
              "      <td id=\"T_2938e_row0_col0\" class=\"data row0 col0\" >Naive Bayes</td>\n",
              "      <td id=\"T_2938e_row0_col1\" class=\"data row0 col1\" >0.6609</td>\n",
              "      <td id=\"T_2938e_row0_col2\" class=\"data row0 col2\" >0.7061</td>\n",
              "      <td id=\"T_2938e_row0_col3\" class=\"data row0 col3\" >0.7367</td>\n",
              "      <td id=\"T_2938e_row0_col4\" class=\"data row0 col4\" >0.7041</td>\n",
              "      <td id=\"T_2938e_row0_col5\" class=\"data row0 col5\" >0.7198</td>\n",
              "      <td id=\"T_2938e_row0_col6\" class=\"data row0 col6\" >0.2910</td>\n",
              "      <td id=\"T_2938e_row0_col7\" class=\"data row0 col7\" >0.2918</td>\n",
              "      <td id=\"T_2938e_row0_col8\" class=\"data row0 col8\" >0.0360</td>\n",
              "    </tr>\n",
              "    <tr>\n",
              "      <th id=\"T_2938e_level0_row1\" class=\"row_heading level0 row1\" >ada</th>\n",
              "      <td id=\"T_2938e_row1_col0\" class=\"data row1 col0\" >Ada Boost Classifier</td>\n",
              "      <td id=\"T_2938e_row1_col1\" class=\"data row1 col1\" >0.6623</td>\n",
              "      <td id=\"T_2938e_row1_col2\" class=\"data row1 col2\" >0.6889</td>\n",
              "      <td id=\"T_2938e_row1_col3\" class=\"data row1 col3\" >0.7921</td>\n",
              "      <td id=\"T_2938e_row1_col4\" class=\"data row1 col4\" >0.6872</td>\n",
              "      <td id=\"T_2938e_row1_col5\" class=\"data row1 col5\" >0.7353</td>\n",
              "      <td id=\"T_2938e_row1_col6\" class=\"data row1 col6\" >0.2751</td>\n",
              "      <td id=\"T_2938e_row1_col7\" class=\"data row1 col7\" >0.2812</td>\n",
              "      <td id=\"T_2938e_row1_col8\" class=\"data row1 col8\" >0.1380</td>\n",
              "    </tr>\n",
              "    <tr>\n",
              "      <th id=\"T_2938e_level0_row2\" class=\"row_heading level0 row2\" >lr</th>\n",
              "      <td id=\"T_2938e_row2_col0\" class=\"data row2 col0\" >Logistic Regression</td>\n",
              "      <td id=\"T_2938e_row2_col1\" class=\"data row2 col1\" >0.6719</td>\n",
              "      <td id=\"T_2938e_row2_col2\" class=\"data row2 col2\" >0.7076</td>\n",
              "      <td id=\"T_2938e_row2_col3\" class=\"data row2 col3\" >0.8245</td>\n",
              "      <td id=\"T_2938e_row2_col4\" class=\"data row2 col4\" >0.6852</td>\n",
              "      <td id=\"T_2938e_row2_col5\" class=\"data row2 col5\" >0.7483</td>\n",
              "      <td id=\"T_2938e_row2_col6\" class=\"data row2 col6\" >0.2884</td>\n",
              "      <td id=\"T_2938e_row2_col7\" class=\"data row2 col7\" >0.2994</td>\n",
              "      <td id=\"T_2938e_row2_col8\" class=\"data row2 col8\" >0.1440</td>\n",
              "    </tr>\n",
              "    <tr>\n",
              "      <th id=\"T_2938e_level0_row3\" class=\"row_heading level0 row3\" >rf</th>\n",
              "      <td id=\"T_2938e_row3_col0\" class=\"data row3 col0\" >Random Forest Classifier</td>\n",
              "      <td id=\"T_2938e_row3_col1\" class=\"data row3 col1\" >0.6528</td>\n",
              "      <td id=\"T_2938e_row3_col2\" class=\"data row3 col2\" >0.6736</td>\n",
              "      <td id=\"T_2938e_row3_col3\" class=\"data row3 col3\" >0.7656</td>\n",
              "      <td id=\"T_2938e_row3_col4\" class=\"data row3 col4\" >0.6849</td>\n",
              "      <td id=\"T_2938e_row3_col5\" class=\"data row3 col5\" >0.7227</td>\n",
              "      <td id=\"T_2938e_row3_col6\" class=\"data row3 col6\" >0.2618</td>\n",
              "      <td id=\"T_2938e_row3_col7\" class=\"data row3 col7\" >0.2653</td>\n",
              "      <td id=\"T_2938e_row3_col8\" class=\"data row3 col8\" >0.3420</td>\n",
              "    </tr>\n",
              "    <tr>\n",
              "      <th id=\"T_2938e_level0_row4\" class=\"row_heading level0 row4\" >svm</th>\n",
              "      <td id=\"T_2938e_row4_col0\" class=\"data row4 col0\" >SVM - Linear Kernel</td>\n",
              "      <td id=\"T_2938e_row4_col1\" class=\"data row4 col1\" >0.6459</td>\n",
              "      <td id=\"T_2938e_row4_col2\" class=\"data row4 col2\" >0.0000</td>\n",
              "      <td id=\"T_2938e_row4_col3\" class=\"data row4 col3\" >0.8002</td>\n",
              "      <td id=\"T_2938e_row4_col4\" class=\"data row4 col4\" >0.6837</td>\n",
              "      <td id=\"T_2938e_row4_col5\" class=\"data row4 col5\" >0.7214</td>\n",
              "      <td id=\"T_2938e_row4_col6\" class=\"data row4 col6\" >0.2261</td>\n",
              "      <td id=\"T_2938e_row4_col7\" class=\"data row4 col7\" >0.2609</td>\n",
              "      <td id=\"T_2938e_row4_col8\" class=\"data row4 col8\" >0.0320</td>\n",
              "    </tr>\n",
              "    <tr>\n",
              "      <th id=\"T_2938e_level0_row5\" class=\"row_heading level0 row5\" >lda</th>\n",
              "      <td id=\"T_2938e_row5_col0\" class=\"data row5 col0\" >Linear Discriminant Analysis</td>\n",
              "      <td id=\"T_2938e_row5_col1\" class=\"data row5 col1\" >0.6678</td>\n",
              "      <td id=\"T_2938e_row5_col2\" class=\"data row5 col2\" >0.7069</td>\n",
              "      <td id=\"T_2938e_row5_col3\" class=\"data row5 col3\" >0.8176</td>\n",
              "      <td id=\"T_2938e_row5_col4\" class=\"data row5 col4\" >0.6835</td>\n",
              "      <td id=\"T_2938e_row5_col5\" class=\"data row5 col5\" >0.7444</td>\n",
              "      <td id=\"T_2938e_row5_col6\" class=\"data row5 col6\" >0.2806</td>\n",
              "      <td id=\"T_2938e_row5_col7\" class=\"data row5 col7\" >0.2905</td>\n",
              "      <td id=\"T_2938e_row5_col8\" class=\"data row5 col8\" >0.0360</td>\n",
              "    </tr>\n",
              "    <tr>\n",
              "      <th id=\"T_2938e_level0_row6\" class=\"row_heading level0 row6\" >ridge</th>\n",
              "      <td id=\"T_2938e_row6_col0\" class=\"data row6 col0\" >Ridge Classifier</td>\n",
              "      <td id=\"T_2938e_row6_col1\" class=\"data row6 col1\" >0.6678</td>\n",
              "      <td id=\"T_2938e_row6_col2\" class=\"data row6 col2\" >0.0000</td>\n",
              "      <td id=\"T_2938e_row6_col3\" class=\"data row6 col3\" >0.8222</td>\n",
              "      <td id=\"T_2938e_row6_col4\" class=\"data row6 col4\" >0.6820</td>\n",
              "      <td id=\"T_2938e_row6_col5\" class=\"data row6 col5\" >0.7454</td>\n",
              "      <td id=\"T_2938e_row6_col6\" class=\"data row6 col6\" >0.2791</td>\n",
              "      <td id=\"T_2938e_row6_col7\" class=\"data row6 col7\" >0.2900</td>\n",
              "      <td id=\"T_2938e_row6_col8\" class=\"data row6 col8\" >0.0280</td>\n",
              "    </tr>\n",
              "    <tr>\n",
              "      <th id=\"T_2938e_level0_row7\" class=\"row_heading level0 row7\" >gbc</th>\n",
              "      <td id=\"T_2938e_row7_col0\" class=\"data row7 col0\" >Gradient Boosting Classifier</td>\n",
              "      <td id=\"T_2938e_row7_col1\" class=\"data row7 col1\" >0.6596</td>\n",
              "      <td id=\"T_2938e_row7_col2\" class=\"data row7 col2\" >0.6814</td>\n",
              "      <td id=\"T_2938e_row7_col3\" class=\"data row7 col3\" >0.8049</td>\n",
              "      <td id=\"T_2938e_row7_col4\" class=\"data row7 col4\" >0.6801</td>\n",
              "      <td id=\"T_2938e_row7_col5\" class=\"data row7 col5\" >0.7367</td>\n",
              "      <td id=\"T_2938e_row7_col6\" class=\"data row7 col6\" >0.2645</td>\n",
              "      <td id=\"T_2938e_row7_col7\" class=\"data row7 col7\" >0.2732</td>\n",
              "      <td id=\"T_2938e_row7_col8\" class=\"data row7 col8\" >0.1600</td>\n",
              "    </tr>\n",
              "    <tr>\n",
              "      <th id=\"T_2938e_level0_row8\" class=\"row_heading level0 row8\" >et</th>\n",
              "      <td id=\"T_2938e_row8_col0\" class=\"data row8 col0\" >Extra Trees Classifier</td>\n",
              "      <td id=\"T_2938e_row8_col1\" class=\"data row8 col1\" >0.6323</td>\n",
              "      <td id=\"T_2938e_row8_col2\" class=\"data row8 col2\" >0.6612</td>\n",
              "      <td id=\"T_2938e_row8_col3\" class=\"data row8 col3\" >0.7391</td>\n",
              "      <td id=\"T_2938e_row8_col4\" class=\"data row8 col4\" >0.6728</td>\n",
              "      <td id=\"T_2938e_row8_col5\" class=\"data row8 col5\" >0.7040</td>\n",
              "      <td id=\"T_2938e_row8_col6\" class=\"data row8 col6\" >0.2213</td>\n",
              "      <td id=\"T_2938e_row8_col7\" class=\"data row8 col7\" >0.2233</td>\n",
              "      <td id=\"T_2938e_row8_col8\" class=\"data row8 col8\" >0.2500</td>\n",
              "    </tr>\n",
              "    <tr>\n",
              "      <th id=\"T_2938e_level0_row9\" class=\"row_heading level0 row9\" >lightgbm</th>\n",
              "      <td id=\"T_2938e_row9_col0\" class=\"data row9 col0\" >Light Gradient Boosting Machine</td>\n",
              "      <td id=\"T_2938e_row9_col1\" class=\"data row9 col1\" >0.6268</td>\n",
              "      <td id=\"T_2938e_row9_col2\" class=\"data row9 col2\" >0.6511</td>\n",
              "      <td id=\"T_2938e_row9_col3\" class=\"data row9 col3\" >0.7309</td>\n",
              "      <td id=\"T_2938e_row9_col4\" class=\"data row9 col4\" >0.6698</td>\n",
              "      <td id=\"T_2938e_row9_col5\" class=\"data row9 col5\" >0.6986</td>\n",
              "      <td id=\"T_2938e_row9_col6\" class=\"data row9 col6\" >0.2108</td>\n",
              "      <td id=\"T_2938e_row9_col7\" class=\"data row9 col7\" >0.2127</td>\n",
              "      <td id=\"T_2938e_row9_col8\" class=\"data row9 col8\" >0.0800</td>\n",
              "    </tr>\n",
              "    <tr>\n",
              "      <th id=\"T_2938e_level0_row10\" class=\"row_heading level0 row10\" >knn</th>\n",
              "      <td id=\"T_2938e_row10_col0\" class=\"data row10 col0\" >K Neighbors Classifier</td>\n",
              "      <td id=\"T_2938e_row10_col1\" class=\"data row10 col1\" >0.6193</td>\n",
              "      <td id=\"T_2938e_row10_col2\" class=\"data row10 col2\" >0.6268</td>\n",
              "      <td id=\"T_2938e_row10_col3\" class=\"data row10 col3\" >0.7056</td>\n",
              "      <td id=\"T_2938e_row10_col4\" class=\"data row10 col4\" >0.6692</td>\n",
              "      <td id=\"T_2938e_row10_col5\" class=\"data row10 col5\" >0.6865</td>\n",
              "      <td id=\"T_2938e_row10_col6\" class=\"data row10 col6\" >0.2024</td>\n",
              "      <td id=\"T_2938e_row10_col7\" class=\"data row10 col7\" >0.2035</td>\n",
              "      <td id=\"T_2938e_row10_col8\" class=\"data row10 col8\" >0.0600</td>\n",
              "    </tr>\n",
              "    <tr>\n",
              "      <th id=\"T_2938e_level0_row11\" class=\"row_heading level0 row11\" >qda</th>\n",
              "      <td id=\"T_2938e_row11_col0\" class=\"data row11 col0\" >Quadratic Discriminant Analysis</td>\n",
              "      <td id=\"T_2938e_row11_col1\" class=\"data row11 col1\" >0.6364</td>\n",
              "      <td id=\"T_2938e_row11_col2\" class=\"data row11 col2\" >0.6721</td>\n",
              "      <td id=\"T_2938e_row11_col3\" class=\"data row11 col3\" >0.7760</td>\n",
              "      <td id=\"T_2938e_row11_col4\" class=\"data row11 col4\" >0.6652</td>\n",
              "      <td id=\"T_2938e_row11_col5\" class=\"data row11 col5\" >0.7163</td>\n",
              "      <td id=\"T_2938e_row11_col6\" class=\"data row11 col6\" >0.2182</td>\n",
              "      <td id=\"T_2938e_row11_col7\" class=\"data row11 col7\" >0.2236</td>\n",
              "      <td id=\"T_2938e_row11_col8\" class=\"data row11 col8\" >0.0400</td>\n",
              "    </tr>\n",
              "    <tr>\n",
              "      <th id=\"T_2938e_level0_row12\" class=\"row_heading level0 row12\" >dt</th>\n",
              "      <td id=\"T_2938e_row12_col0\" class=\"data row12 col0\" >Decision Tree Classifier</td>\n",
              "      <td id=\"T_2938e_row12_col1\" class=\"data row12 col1\" >0.5598</td>\n",
              "      <td id=\"T_2938e_row12_col2\" class=\"data row12 col2\" >0.5478</td>\n",
              "      <td id=\"T_2938e_row12_col3\" class=\"data row12 col3\" >0.6132</td>\n",
              "      <td id=\"T_2938e_row12_col4\" class=\"data row12 col4\" >0.6318</td>\n",
              "      <td id=\"T_2938e_row12_col5\" class=\"data row12 col5\" >0.6219</td>\n",
              "      <td id=\"T_2938e_row12_col6\" class=\"data row12 col6\" >0.0953</td>\n",
              "      <td id=\"T_2938e_row12_col7\" class=\"data row12 col7\" >0.0955</td>\n",
              "      <td id=\"T_2938e_row12_col8\" class=\"data row12 col8\" >0.0380</td>\n",
              "    </tr>\n",
              "    <tr>\n",
              "      <th id=\"T_2938e_level0_row13\" class=\"row_heading level0 row13\" >dummy</th>\n",
              "      <td id=\"T_2938e_row13_col0\" class=\"data row13 col0\" >Dummy Classifier</td>\n",
              "      <td id=\"T_2938e_row13_col1\" class=\"data row13 col1\" >0.5919</td>\n",
              "      <td id=\"T_2938e_row13_col2\" class=\"data row13 col2\" >0.5000</td>\n",
              "      <td id=\"T_2938e_row13_col3\" class=\"data row13 col3\" >1.0000</td>\n",
              "      <td id=\"T_2938e_row13_col4\" class=\"data row13 col4\" >0.5919</td>\n",
              "      <td id=\"T_2938e_row13_col5\" class=\"data row13 col5\" >0.7437</td>\n",
              "      <td id=\"T_2938e_row13_col6\" class=\"data row13 col6\" >0.0000</td>\n",
              "      <td id=\"T_2938e_row13_col7\" class=\"data row13 col7\" >0.0000</td>\n",
              "      <td id=\"T_2938e_row13_col8\" class=\"data row13 col8\" >0.0320</td>\n",
              "    </tr>\n",
              "  </tbody>\n",
              "</table>\n"
            ]
          },
          "metadata": {}
        },
        {
          "output_type": "display_data",
          "data": {
            "text/plain": [
              "Processing:   0%|          | 0/61 [00:00<?, ?it/s]"
            ],
            "application/vnd.jupyter.widget-view+json": {
              "version_major": 2,
              "version_minor": 0,
              "model_id": "a76872cb289a466cacdae8c15851c674"
            }
          },
          "metadata": {
            "application/vnd.jupyter.widget-view+json": {
              "colab": {
                "custom_widget_manager": {
                  "url": "https://ssl.gstatic.com/colaboratory-static/widgets/colab-cdn-widget-manager/b3e629b1971e1542/manager.min.js"
                }
              }
            }
          }
        },
        {
          "output_type": "display_data",
          "data": {
            "text/plain": [
              "<IPython.core.display.HTML object>"
            ],
            "text/html": []
          },
          "metadata": {}
        },
        {
          "output_type": "stream",
          "name": "stdout",
          "text": [
            "CPU times: user 4.62 s, sys: 112 ms, total: 4.73 s\n",
            "Wall time: 11.3 s\n"
          ]
        }
      ]
    },
    {
      "cell_type": "code",
      "source": [
        "model_vd = create_model('nb', fold=5)\n",
        "plot_model(model_vd, plot = 'confusion_matrix')"
      ],
      "metadata": {
        "colab": {
          "base_uri": "https://localhost:8080/",
          "height": 580,
          "referenced_widgets": [
            "5d6f5163938c4872b445f35f6ba17b16",
            "6a097e13c6074ef7b014736175927168",
            "cc33fe3c000445338ce0f7c94c563339",
            "982d7406fb9f476687e04266ca8d6389",
            "1acfc2105e414f0cb19fe3f26c5b15e3",
            "b5e5bf9157cb46d2b14932974b93e44a",
            "64c1b3431f3d4507aba684caa969a756",
            "c1749fb102734695b9ba71d2f4290503",
            "34b97702213740169f14d4337d2716ab",
            "8f3193ef20e04a3b845551e0fa803634",
            "078837be0eec4485bb1ecb69be6bfdde"
          ]
        },
        "id": "V2pOztJBn3n3",
        "outputId": "dbdeae5f-e99d-43f2-b5e8-cce78cd4a223"
      },
      "execution_count": 32,
      "outputs": [
        {
          "output_type": "display_data",
          "data": {
            "text/plain": [
              "<IPython.core.display.HTML object>"
            ],
            "text/html": []
          },
          "metadata": {}
        },
        {
          "output_type": "display_data",
          "data": {
            "text/plain": [
              "<pandas.io.formats.style.Styler at 0x7f81eda5b5b0>"
            ],
            "text/html": [
              "<style type=\"text/css\">\n",
              "#T_4e1b8_row5_col0, #T_4e1b8_row5_col1, #T_4e1b8_row5_col2, #T_4e1b8_row5_col3, #T_4e1b8_row5_col4, #T_4e1b8_row5_col5, #T_4e1b8_row5_col6 {\n",
              "  background: yellow;\n",
              "}\n",
              "</style>\n",
              "<table id=\"T_4e1b8_\" class=\"dataframe\">\n",
              "  <thead>\n",
              "    <tr>\n",
              "      <th class=\"blank level0\" >&nbsp;</th>\n",
              "      <th class=\"col_heading level0 col0\" >Accuracy</th>\n",
              "      <th class=\"col_heading level0 col1\" >AUC</th>\n",
              "      <th class=\"col_heading level0 col2\" >Recall</th>\n",
              "      <th class=\"col_heading level0 col3\" >Prec.</th>\n",
              "      <th class=\"col_heading level0 col4\" >F1</th>\n",
              "      <th class=\"col_heading level0 col5\" >Kappa</th>\n",
              "      <th class=\"col_heading level0 col6\" >MCC</th>\n",
              "    </tr>\n",
              "    <tr>\n",
              "      <th class=\"index_name level0\" >Fold</th>\n",
              "      <th class=\"blank col0\" >&nbsp;</th>\n",
              "      <th class=\"blank col1\" >&nbsp;</th>\n",
              "      <th class=\"blank col2\" >&nbsp;</th>\n",
              "      <th class=\"blank col3\" >&nbsp;</th>\n",
              "      <th class=\"blank col4\" >&nbsp;</th>\n",
              "      <th class=\"blank col5\" >&nbsp;</th>\n",
              "      <th class=\"blank col6\" >&nbsp;</th>\n",
              "    </tr>\n",
              "  </thead>\n",
              "  <tbody>\n",
              "    <tr>\n",
              "      <th id=\"T_4e1b8_level0_row0\" class=\"row_heading level0 row0\" >0</th>\n",
              "      <td id=\"T_4e1b8_row0_col0\" class=\"data row0 col0\" >0.6553</td>\n",
              "      <td id=\"T_4e1b8_row0_col1\" class=\"data row0 col1\" >0.6928</td>\n",
              "      <td id=\"T_4e1b8_row0_col2\" class=\"data row0 col2\" >0.7241</td>\n",
              "      <td id=\"T_4e1b8_row0_col3\" class=\"data row0 col3\" >0.7039</td>\n",
              "      <td id=\"T_4e1b8_row0_col4\" class=\"data row0 col4\" >0.7139</td>\n",
              "      <td id=\"T_4e1b8_row0_col5\" class=\"data row0 col5\" >0.2806</td>\n",
              "      <td id=\"T_4e1b8_row0_col6\" class=\"data row0 col6\" >0.2808</td>\n",
              "    </tr>\n",
              "    <tr>\n",
              "      <th id=\"T_4e1b8_level0_row1\" class=\"row_heading level0 row1\" >1</th>\n",
              "      <td id=\"T_4e1b8_row1_col0\" class=\"data row1 col0\" >0.6792</td>\n",
              "      <td id=\"T_4e1b8_row1_col1\" class=\"data row1 col1\" >0.7220</td>\n",
              "      <td id=\"T_4e1b8_row1_col2\" class=\"data row1 col2\" >0.7514</td>\n",
              "      <td id=\"T_4e1b8_row1_col3\" class=\"data row1 col3\" >0.7182</td>\n",
              "      <td id=\"T_4e1b8_row1_col4\" class=\"data row1 col4\" >0.7345</td>\n",
              "      <td id=\"T_4e1b8_row1_col5\" class=\"data row1 col5\" >0.3298</td>\n",
              "      <td id=\"T_4e1b8_row1_col6\" class=\"data row1 col6\" >0.3304</td>\n",
              "    </tr>\n",
              "    <tr>\n",
              "      <th id=\"T_4e1b8_level0_row2\" class=\"row_heading level0 row2\" >2</th>\n",
              "      <td id=\"T_4e1b8_row2_col0\" class=\"data row2 col0\" >0.6997</td>\n",
              "      <td id=\"T_4e1b8_row2_col1\" class=\"data row2 col1\" >0.7353</td>\n",
              "      <td id=\"T_4e1b8_row2_col2\" class=\"data row2 col2\" >0.7977</td>\n",
              "      <td id=\"T_4e1b8_row2_col3\" class=\"data row2 col3\" >0.7225</td>\n",
              "      <td id=\"T_4e1b8_row2_col4\" class=\"data row2 col4\" >0.7582</td>\n",
              "      <td id=\"T_4e1b8_row2_col5\" class=\"data row2 col5\" >0.3644</td>\n",
              "      <td id=\"T_4e1b8_row2_col6\" class=\"data row2 col6\" >0.3675</td>\n",
              "    </tr>\n",
              "    <tr>\n",
              "      <th id=\"T_4e1b8_level0_row3\" class=\"row_heading level0 row3\" >3</th>\n",
              "      <td id=\"T_4e1b8_row3_col0\" class=\"data row3 col0\" >0.6096</td>\n",
              "      <td id=\"T_4e1b8_row3_col1\" class=\"data row3 col1\" >0.6708</td>\n",
              "      <td id=\"T_4e1b8_row3_col2\" class=\"data row3 col2\" >0.6936</td>\n",
              "      <td id=\"T_4e1b8_row3_col3\" class=\"data row3 col3\" >0.6630</td>\n",
              "      <td id=\"T_4e1b8_row3_col4\" class=\"data row3 col4\" >0.6780</td>\n",
              "      <td id=\"T_4e1b8_row3_col5\" class=\"data row3 col5\" >0.1830</td>\n",
              "      <td id=\"T_4e1b8_row3_col6\" class=\"data row3 col6\" >0.1833</td>\n",
              "    </tr>\n",
              "    <tr>\n",
              "      <th id=\"T_4e1b8_level0_row4\" class=\"row_heading level0 row4\" >4</th>\n",
              "      <td id=\"T_4e1b8_row4_col0\" class=\"data row4 col0\" >0.6610</td>\n",
              "      <td id=\"T_4e1b8_row4_col1\" class=\"data row4 col1\" >0.7096</td>\n",
              "      <td id=\"T_4e1b8_row4_col2\" class=\"data row4 col2\" >0.7168</td>\n",
              "      <td id=\"T_4e1b8_row4_col3\" class=\"data row4 col3\" >0.7126</td>\n",
              "      <td id=\"T_4e1b8_row4_col4\" class=\"data row4 col4\" >0.7147</td>\n",
              "      <td id=\"T_4e1b8_row4_col5\" class=\"data row4 col5\" >0.2970</td>\n",
              "      <td id=\"T_4e1b8_row4_col6\" class=\"data row4 col6\" >0.2970</td>\n",
              "    </tr>\n",
              "    <tr>\n",
              "      <th id=\"T_4e1b8_level0_row5\" class=\"row_heading level0 row5\" >Mean</th>\n",
              "      <td id=\"T_4e1b8_row5_col0\" class=\"data row5 col0\" >0.6609</td>\n",
              "      <td id=\"T_4e1b8_row5_col1\" class=\"data row5 col1\" >0.7061</td>\n",
              "      <td id=\"T_4e1b8_row5_col2\" class=\"data row5 col2\" >0.7367</td>\n",
              "      <td id=\"T_4e1b8_row5_col3\" class=\"data row5 col3\" >0.7041</td>\n",
              "      <td id=\"T_4e1b8_row5_col4\" class=\"data row5 col4\" >0.7198</td>\n",
              "      <td id=\"T_4e1b8_row5_col5\" class=\"data row5 col5\" >0.2910</td>\n",
              "      <td id=\"T_4e1b8_row5_col6\" class=\"data row5 col6\" >0.2918</td>\n",
              "    </tr>\n",
              "    <tr>\n",
              "      <th id=\"T_4e1b8_level0_row6\" class=\"row_heading level0 row6\" >Std</th>\n",
              "      <td id=\"T_4e1b8_row6_col0\" class=\"data row6 col0\" >0.0300</td>\n",
              "      <td id=\"T_4e1b8_row6_col1\" class=\"data row6 col1\" >0.0226</td>\n",
              "      <td id=\"T_4e1b8_row6_col2\" class=\"data row6 col2\" >0.0356</td>\n",
              "      <td id=\"T_4e1b8_row6_col3\" class=\"data row6 col3\" >0.0215</td>\n",
              "      <td id=\"T_4e1b8_row6_col4\" class=\"data row6 col4\" >0.0265</td>\n",
              "      <td id=\"T_4e1b8_row6_col5\" class=\"data row6 col5\" >0.0612</td>\n",
              "      <td id=\"T_4e1b8_row6_col6\" class=\"data row6 col6\" >0.0619</td>\n",
              "    </tr>\n",
              "  </tbody>\n",
              "</table>\n"
            ]
          },
          "metadata": {}
        },
        {
          "output_type": "display_data",
          "data": {
            "text/plain": [
              "Processing:   0%|          | 0/4 [00:00<?, ?it/s]"
            ],
            "application/vnd.jupyter.widget-view+json": {
              "version_major": 2,
              "version_minor": 0,
              "model_id": "5d6f5163938c4872b445f35f6ba17b16"
            }
          },
          "metadata": {
            "application/vnd.jupyter.widget-view+json": {
              "colab": {
                "custom_widget_manager": {
                  "url": "https://ssl.gstatic.com/colaboratory-static/widgets/colab-cdn-widget-manager/b3e629b1971e1542/manager.min.js"
                }
              }
            }
          }
        },
        {
          "output_type": "display_data",
          "data": {
            "text/plain": [
              "<IPython.core.display.HTML object>"
            ],
            "text/html": []
          },
          "metadata": {}
        },
        {
          "output_type": "display_data",
          "data": {
            "text/plain": [
              "<IPython.core.display.HTML object>"
            ],
            "text/html": []
          },
          "metadata": {}
        },
        {
          "output_type": "display_data",
          "data": {
            "text/plain": [
              "<Figure size 432x288 with 1 Axes>"
            ],
            "image/png": "[encoded data removed]"
          },
          "metadata": {
            "needs_background": "light"
          }
        }
      ]
    },
    {
      "cell_type": "markdown",
      "source": [
        "#Tentativa de compilação do resultado dos dois modelos:"
      ],
      "metadata": {
        "id": "wa7upz5n8DVM"
      }
    },
    {
      "cell_type": "markdown",
      "source": [
        "Escolher os modelos, rodar e comparar os resultados com a coluna de Resultados original."
      ],
      "metadata": {
        "id": "6ZvK5gi5_W0j"
      }
    },
    {
      "cell_type": "code",
      "source": [
        "df_train['Resultado_ve'] = model_ve.predict(df_test_ve)\n",
        "df_train['Resultado_ve'].value_counts()"
      ],
      "metadata": {
        "id": "DMMVlw3P8Cot",
        "colab": {
          "base_uri": "https://localhost:8080/"
        },
        "outputId": "fcb3ca7c-163a-47da-ef8b-d96dadfdc1d0"
      },
      "execution_count": 33,
      "outputs": [
        {
          "output_type": "execute_result",
          "data": {
            "text/plain": [
              "1    4769\n",
              "0     677\n",
              "Name: Resultado_ve, dtype: int64"
            ]
          },
          "metadata": {},
          "execution_count": 33
        }
      ]
    },
    {
      "cell_type": "code",
      "source": [
        "df_train['Resultado_vd'] = model_vd.predict(df_test_vd) + 1\n",
        "df_train['Resultado_vd'].value_counts()"
      ],
      "metadata": {
        "colab": {
          "base_uri": "https://localhost:8080/"
        },
        "id": "UXikOEoooPp8",
        "outputId": "c1e7deb7-3d2f-4499-cae2-c839019c8c25"
      },
      "execution_count": 34,
      "outputs": [
        {
          "output_type": "execute_result",
          "data": {
            "text/plain": [
              "2    3608\n",
              "1    1838\n",
              "Name: Resultado_vd, dtype: int64"
            ]
          },
          "metadata": {},
          "execution_count": 34
        }
      ]
    },
    {
      "cell_type": "code",
      "source": [
        "df_train['Resultado_modelo'] = df_train['Resultado_ve'] * df_train['Resultado_vd']\n",
        "df_train['Resultado_modelo'].value_counts()"
      ],
      "metadata": {
        "colab": {
          "base_uri": "https://localhost:8080/"
        },
        "id": "YcuSMYDu4_zZ",
        "outputId": "af8eb657-f87a-4122-94b6-6e09fdfb0bde"
      },
      "execution_count": 35,
      "outputs": [
        {
          "output_type": "execute_result",
          "data": {
            "text/plain": [
              "2    3156\n",
              "1    1613\n",
              "0     677\n",
              "Name: Resultado_modelo, dtype: int64"
            ]
          },
          "metadata": {},
          "execution_count": 35
        }
      ]
    },
    {
      "cell_type": "code",
      "source": [
        "pd.crosstab(df_train['Resultado'], df_train['Resultado_modelo'])"
      ],
      "metadata": {
        "colab": {
          "base_uri": "https://localhost:8080/",
          "height": 175
        },
        "id": "EOjRawXm5IEg",
        "outputId": "871f9687-ff69-4461-ffcf-1a2b6d7b1061"
      },
      "execution_count": 36,
      "outputs": [
        {
          "output_type": "execute_result",
          "data": {
            "text/plain": [
              "Resultado_modelo    0    1     2\n",
              "Resultado                       \n",
              "0                 494  239   531\n",
              "1                 100  911  1080\n",
              "2                  83  463  1545"
            ],
            "text/html": [
              "\n",
              "  <div id=\"df-73fa8e98-69d5-4e0e-8596-6bd073160d1e\">\n",
              "    <div class=\"colab-df-container\">\n",
              "      <div>\n",
              "<style scoped>\n",
              "    .dataframe tbody tr th:only-of-type {\n",
              "        vertical-align: middle;\n",
              "    }\n",
              "\n",
              "    .dataframe tbody tr th {\n",
              "        vertical-align: top;\n",
              "    }\n",
              "\n",
              "    .dataframe thead th {\n",
              "        text-align: right;\n",
              "    }\n",
              "</style>\n",
              "<table border=\"1\" class=\"dataframe\">\n",
              "  <thead>\n",
              "    <tr style=\"text-align: right;\">\n",
              "      <th>Resultado_modelo</th>\n",
              "      <th>0</th>\n",
              "      <th>1</th>\n",
              "      <th>2</th>\n",
              "    </tr>\n",
              "    <tr>\n",
              "      <th>Resultado</th>\n",
              "      <th></th>\n",
              "      <th></th>\n",
              "      <th></th>\n",
              "    </tr>\n",
              "  </thead>\n",
              "  <tbody>\n",
              "    <tr>\n",
              "      <th>0</th>\n",
              "      <td>494</td>\n",
              "      <td>239</td>\n",
              "      <td>531</td>\n",
              "    </tr>\n",
              "    <tr>\n",
              "      <th>1</th>\n",
              "      <td>100</td>\n",
              "      <td>911</td>\n",
              "      <td>1080</td>\n",
              "    </tr>\n",
              "    <tr>\n",
              "      <th>2</th>\n",
              "      <td>83</td>\n",
              "      <td>463</td>\n",
              "      <td>1545</td>\n",
              "    </tr>\n",
              "  </tbody>\n",
              "</table>\n",
              "</div>\n",
              "      <button class=\"colab-df-convert\" onclick=\"convertToInteractive('df-73fa8e98-69d5-4e0e-8596-6bd073160d1e')\"\n",
              "              title=\"Convert this dataframe to an interactive table.\"\n",
              "              style=\"display:none;\">\n",
              "        \n",
              "  <svg xmlns=\"http://www.w3.org/2000/svg\" height=\"24px\"viewBox=\"0 0 24 24\"\n",
              "       width=\"24px\">\n",
              "    <path d=\"M0 0h24v24H0V0z\" fill=\"none\"/>\n",
              "    <path d=\"M18.56 5.44l.94 2.06.94-2.06 2.06-.94-2.06-.94-.94-2.06-.94 2.06-2.06.94zm-11 1L8.5 8.5l.94-2.06 2.06-.94-2.06-.94L8.5 2.5l-.94 2.06-2.06.94zm10 10l.94 2.06.94-2.06 2.06-.94-2.06-.94-.94-2.06-.94 2.06-2.06.94z\"/><path d=\"M17.41 7.96l-1.37-1.37c-.4-.4-.92-.59-1.43-.59-.52 0-1.04.2-1.43.59L10.3 9.45l-7.72 7.72c-.78.78-.78 2.05 0 2.83L4 21.41c.39.39.9.59 1.41.59.51 0 1.02-.2 1.41-.59l7.78-7.78 2.81-2.81c.8-.78.8-2.07 0-2.86zM5.41 20L4 18.59l7.72-7.72 1.47 1.35L5.41 20z\"/>\n",
              "  </svg>\n",
              "      </button>\n",
              "      \n",
              "  <style>\n",
              "    .colab-df-container {\n",
              "      display:flex;\n",
              "      flex-wrap:wrap;\n",
              "      gap: 12px;\n",
              "    }\n",
              "\n",
              "    .colab-df-convert {\n",
              "      background-color: #E8F0FE;\n",
              "      border: none;\n",
              "      border-radius: 50%;\n",
              "      cursor: pointer;\n",
              "      display: none;\n",
              "      fill: #1967D2;\n",
              "      height: 32px;\n",
              "      padding: 0 0 0 0;\n",
              "      width: 32px;\n",
              "    }\n",
              "\n",
              "    .colab-df-convert:hover {\n",
              "      background-color: #E2EBFA;\n",
              "      box-shadow: 0px 1px 2px rgba(60, 64, 67, 0.3), 0px 1px 3px 1px rgba(60, 64, 67, 0.15);\n",
              "      fill: #174EA6;\n",
              "    }\n",
              "\n",
              "    [theme=dark] .colab-df-convert {\n",
              "      background-color: #3B4455;\n",
              "      fill: #D2E3FC;\n",
              "    }\n",
              "\n",
              "    [theme=dark] .colab-df-convert:hover {\n",
              "      background-color: #434B5C;\n",
              "      box-shadow: 0px 1px 3px 1px rgba(0, 0, 0, 0.15);\n",
              "      filter: drop-shadow(0px 1px 2px rgba(0, 0, 0, 0.3));\n",
              "      fill: #FFFFFF;\n",
              "    }\n",
              "  </style>\n",
              "\n",
              "      <script>\n",
              "        const buttonEl =\n",
              "          document.querySelector('#df-73fa8e98-69d5-4e0e-8596-6bd073160d1e button.colab-df-convert');\n",
              "        buttonEl.style.display =\n",
              "          google.colab.kernel.accessAllowed ? 'block' : 'none';\n",
              "\n",
              "        async function convertToInteractive(key) {\n",
              "          const element = document.querySelector('#df-73fa8e98-69d5-4e0e-8596-6bd073160d1e');\n",
              "          const dataTable =\n",
              "            await google.colab.kernel.invokeFunction('convertToInteractive',\n",
              "                                                     [key], {});\n",
              "          if (!dataTable) return;\n",
              "\n",
              "          const docLinkHtml = 'Like what you see? Visit the ' +\n",
              "            '<a target=\"_blank\" href=https://colab.research.google.com/notebooks/data_table.ipynb>data table notebook</a>'\n",
              "            + ' to learn more about interactive tables.';\n",
              "          element.innerHTML = '';\n",
              "          dataTable['output_type'] = 'display_data';\n",
              "          await google.colab.output.renderOutput(dataTable, element);\n",
              "          const docLink = document.createElement('div');\n",
              "          docLink.innerHTML = docLinkHtml;\n",
              "          element.appendChild(docLink);\n",
              "        }\n",
              "      </script>\n",
              "    </div>\n",
              "  </div>\n",
              "  "
            ]
          },
          "metadata": {},
          "execution_count": 36
        }
      ]
    }
  ]
}