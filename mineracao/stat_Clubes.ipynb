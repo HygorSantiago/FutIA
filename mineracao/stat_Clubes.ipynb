{
 "cells": [
  {
   "cell_type": "code",
   "execution_count": 1,
   "metadata": {},
   "outputs": [],
   "source": [
    "import requests\n",
    "from bs4 import BeautifulSoup\n",
    "import pandas as pd\n",
    "import time"
   ]
  },
  {
   "cell_type": "code",
   "execution_count": 2,
   "metadata": {},
   "outputs": [],
   "source": [
    "def get_column_name(val):\n",
    "    name = ''\n",
    "    if val.get('data-over-header'):\n",
    "        name = val.get('data-over-header').strip()+' '\n",
    "    return name + val.text.strip()"
   ]
  },
  {
   "cell_type": "code",
   "execution_count": 3,
   "metadata": {},
   "outputs": [],
   "source": [
    "def get_url(html):\n",
    "    resp = html.find(\"a\", href=True)['href']\n",
    "    return resp"
   ]
  },
  {
   "cell_type": "code",
   "execution_count": 4,
   "metadata": {},
   "outputs": [],
   "source": [
    "def get_table(soup, id, ano):\n",
    "    tbl = soup.find(\"table\", id=id)\n",
    "    \n",
    "    tbl_h = tbl.find(\"thead\")\n",
    "    tbl_b = tbl.find(\"tbody\")\n",
    "    fields = [get_column_name(a) for a in tbl_h.find_all('tr')[1].find_all('th')]\n",
    "    table_rows = tbl_b.find_all('tr')\n",
    "    \n",
    "    res = []\n",
    "    \n",
    "    for tr in table_rows:\n",
    "        res.append(\n",
    "            [get_url(tr.find(\"th\"))] + [a.text.strip() for i, a in enumerate(tr.find_all('td'))]\n",
    "        )\n",
    "    \n",
    "    df = pd.DataFrame(\n",
    "        res\n",
    "        , columns=fields\n",
    "    ).assign(\n",
    "        **{'Ano': ano}\n",
    "    )\n",
    "    \n",
    "    return df"
   ]
  },
  {
   "cell_type": "code",
   "execution_count": 44,
   "metadata": {},
   "outputs": [],
   "source": [
    "def get_all_tables(soup, ano):\n",
    "    df_standard = get_table(soup, \"stats_squads_standard_for\", ano)\n",
    "    df_keeper = get_table(soup, 'stats_squads_keeper_for', ano)\n",
    "    try:\n",
    "        df_keeper_adv = get_table(soup, 'stats_squads_keeper_adv_for', ano)\n",
    "    except:\n",
    "        df_keeper_adv = pd.DataFrame()\n",
    "    try:\n",
    "        df_shooting = get_table(soup, 'stats_squads_shooting_for', ano)\n",
    "    except:\n",
    "        df_shooting = pd.DataFrame()\n",
    "    try:\n",
    "        df_passing = get_table(soup, 'stats_squads_passing_for', ano)\n",
    "    except:\n",
    "        df_passing = pd.DataFrame()\n",
    "    try:\n",
    "        df_passing_types = get_table(soup, 'stats_squads_passing_types_for', ano)\n",
    "    except:\n",
    "        df_passing_types = pd.DataFrame()\n",
    "    try:\n",
    "        df_gca = get_table(soup, 'stats_squads_gca_for', ano)\n",
    "    except:\n",
    "        df_gca = pd.DataFrame()\n",
    "    try:\n",
    "        df_defense = get_table(soup, 'stats_squads_defense_for', ano)\n",
    "    except:\n",
    "        df_defense = pd.DataFrame()\n",
    "    try:\n",
    "        df_possession = get_table(soup, 'stats_squads_possession_for', ano)\n",
    "    except:\n",
    "        df_possession = pd.DataFrame()\n",
    "    try:\n",
    "        df_playing_time = get_table(soup, 'stats_squads_playing_time_for', ano)\n",
    "    except:\n",
    "        df_playing_time = pd.DataFrame()\n",
    "    try:\n",
    "        df_misc = get_table(soup, 'stats_squads_misc_for', ano)\n",
    "    except:\n",
    "        df_misc = pd.DataFrame()\n",
    "    \n",
    "    return (\n",
    "        df_standard\n",
    "        , df_keeper\n",
    "        , df_keeper_adv\n",
    "        , df_shooting\n",
    "        , df_passing\n",
    "        , df_passing_types\n",
    "        , df_gca\n",
    "        , df_defense\n",
    "        , df_possession\n",
    "        , df_playing_time\n",
    "        , df_misc\n",
    "    )"
   ]
  },
  {
   "cell_type": "code",
   "execution_count": 45,
   "metadata": {},
   "outputs": [],
   "source": [
    "def get_temporadas(url, r):\n",
    "    df_standard_f = pd.DataFrame()\n",
    "    df_keeper_f = pd.DataFrame()\n",
    "    df_keeper_adv_f = pd.DataFrame()\n",
    "    df_shooting_f = pd.DataFrame()\n",
    "    df_passing_f = pd.DataFrame()\n",
    "    df_passing_types_f = pd.DataFrame()\n",
    "    df_gca_f = pd.DataFrame()\n",
    "    df_defense_f = pd.DataFrame()\n",
    "    df_possession_f = pd.DataFrame()\n",
    "    df_playing_time_f = pd.DataFrame()\n",
    "    df_misc_f = pd.DataFrame()\n",
    "    \n",
    "    for a in r:\n",
    "        print(a)\n",
    "        time.sleep(2)\n",
    "        r = requests.get(\n",
    "            url.format(ano=a)\n",
    "        )\n",
    "        df_standard, df_keeper, df_keeper_adv, df_shooting, df_passing, df_passing_types, df_gca, df_defense, df_possession, df_playing_time, df_misc = get_all_tables(BeautifulSoup(r.text, 'lxml'), a)\n",
    "        \n",
    "        df_standard_f = pd.concat([df_standard_f, df_standard], ignore_index=True)\n",
    "        df_keeper_f = pd.concat([df_keeper_f, df_keeper], ignore_index=True)\n",
    "        df_keeper_adv_f = pd.concat([df_keeper_adv_f, df_keeper_adv], ignore_index=True)\n",
    "        df_shooting_f = pd.concat([df_shooting_f, df_shooting], ignore_index=True)\n",
    "        df_passing_f = pd.concat([df_passing_f, df_passing], ignore_index=True)\n",
    "        df_passing_types_f = pd.concat([df_passing_types_f, df_passing_types], ignore_index=True)\n",
    "        df_gca_f = pd.concat([df_gca_f, df_gca], ignore_index=True)\n",
    "        df_defense_f = pd.concat([df_defense_f, df_defense], ignore_index=True)\n",
    "        df_possession_f = pd.concat([df_possession_f, df_possession], ignore_index=True)\n",
    "        df_playing_time_f = pd.concat([df_playing_time_f, df_playing_time], ignore_index=True)\n",
    "        df_misc_f = pd.concat([df_misc_f, df_misc], ignore_index=True)\n",
    "    \n",
    "    return (df_standard_f, df_keeper_f, df_keeper_adv_f, df_shooting_f, df_passing_f, df_passing_types_f, df_gca_f, df_defense_f, df_possession_f, df_playing_time_f, df_misc_f)"
   ]
  },
  {
   "cell_type": "code",
   "execution_count": 46,
   "metadata": {},
   "outputs": [],
   "source": [
    "url = 'https://fbref.com/pt/comps/24/{ano}/{ano}-Serie-A-estatisticas'"
   ]
  },
  {
   "cell_type": "code",
   "execution_count": 47,
   "metadata": {},
   "outputs": [
    {
     "name": "stdout",
     "output_type": "stream",
     "text": [
      "2014\n",
      "2015\n",
      "2016\n",
      "2017\n",
      "2018\n",
      "2019\n",
      "2020\n",
      "2021\n",
      "2022\n"
     ]
    }
   ],
   "source": [
    "df_standard_f, df_keeper_f, df_keeper_adv_f, df_shooting_f, df_passing_f, df_passing_types_f, df_gca_f, df_defense_f, df_possession_f, df_playing_time_f, df_misc_f = get_temporadas(url, range(2014, 2023))"
   ]
  },
  {
   "cell_type": "code",
   "execution_count": 53,
   "metadata": {},
   "outputs": [],
   "source": [
    "df_standard_f.to_parquet('{name}_{camp}.parquet'.format(name='standard', camp=24))\n",
    "df_keeper_f.to_parquet('{name}_{camp}.parquet'.format(name='keeper', camp=24))\n",
    "\n",
    "df_keeper_adv_f.columns = ['Equipe', '# J', 'Tempo de jogo 90s', 'Gols GC', 'Gols GPC', 'Gols TD',\n",
    "       'Gols GCC', 'Gols OG', 'Esperado PSxG', 'Esperado PSxG/SoT',\n",
    "       'Esperado PSxG+/-', 'Esperado /90', 'Lançados Cmp', 'Lançados Att',\n",
    "       'Lançados Cmp%', 'Passes Att', 'Passes Pas', 'Passes Lançamentos%',\n",
    "       'Passes CompMéd', 'Tiro de meta Att', 'Tiro de meta Lançamentos%',\n",
    "       'Tiro de meta CompMéd', 'Cruzamentos Oponente', 'Cruzamentos Stp',\n",
    "       'Cruzamentos Stp%', 'Sweeper #OPA', 'Sweeper #OPA/90',\n",
    "       'Sweeper DistMéd', 'Ano']\n",
    "\n",
    "df_keeper_adv_f.to_parquet('{name}_{camp}.parquet'.format(name='keeper_adv', camp=24))\n",
    "df_shooting_f.to_parquet('{name}_{camp}.parquet'.format(name='shooting', camp=24))\n",
    "df_passing_f.to_parquet('{name}_{camp}.parquet'.format(name='passing', camp=24))\n",
    "df_passing_types_f.to_parquet('{name}_{camp}.parquet'.format(name='passing_types', camp=24))\n",
    "df_gca_f.to_parquet('{name}_{camp}.parquet'.format(name='gca', camp=24))\n",
    "df_defense_f.to_parquet('{name}_{camp}.parquet'.format(name='defense', camp=24))\n",
    "df_possession_f.to_parquet('{name}_{camp}.parquet'.format(name='possession', camp=24))\n",
    "df_playing_time_f.to_parquet('{name}_{camp}.parquet'.format(name='playing_time', camp=24))\n",
    "df_misc_f.to_parquet('{name}_{camp}.parquet'.format(name='misc', camp=24))"
   ]
  },
  {
   "cell_type": "code",
   "execution_count": null,
   "metadata": {},
   "outputs": [],
   "source": []
  },
  {
   "cell_type": "code",
   "execution_count": null,
   "metadata": {},
   "outputs": [],
   "source": []
  },
  {
   "cell_type": "code",
   "execution_count": null,
   "metadata": {},
   "outputs": [],
   "source": []
  },
  {
   "cell_type": "code",
   "execution_count": null,
   "metadata": {},
   "outputs": [],
   "source": [
    "r = requests.get(\n",
    "    url\n",
    ")"
   ]
  },
  {
   "cell_type": "code",
   "execution_count": null,
   "metadata": {},
   "outputs": [],
   "source": [
    "soup = BeautifulSoup(r.text, 'lxml')"
   ]
  },
  {
   "cell_type": "code",
   "execution_count": null,
   "metadata": {},
   "outputs": [],
   "source": [
    "# get_table(soup, \"stats_squads_standard_for\")\n",
    "# get_table(soup, 'stats_squads_keeper_for')\n",
    "# get_table(soup, 'stats_squads_keeper_adv_for')\n",
    "# get_table(soup, 'stats_squads_shooting_for')\n",
    "# get_table(soup, 'stats_squads_passing_for')\n",
    "# get_table(soup, 'stats_squads_passing_types_for')\n",
    "# get_table(soup, 'stats_squads_gca_for')\n",
    "# get_table(soup, 'stats_squads_defense_for')\n",
    "# get_table(soup, 'stats_squads_possession_for')\n",
    "# get_table(soup, 'stats_squads_playing_time_for')\n",
    "# get_table(soup, 'stats_squads_misc_for')"
   ]
  },
  {
   "cell_type": "code",
   "execution_count": null,
   "metadata": {},
   "outputs": [],
   "source": [
    "tbl = soup.find(\"table\", id=\"stats_squads_standard_for\")"
   ]
  },
  {
   "cell_type": "code",
   "execution_count": null,
   "metadata": {},
   "outputs": [],
   "source": [
    "tbl_h = tbl.find(\"thead\")\n",
    "tbl_b = tbl.find(\"tbody\")\n",
    "fields = [get_column_name(a) for a in tbl_h.find_all('tr')[1].find_all('th')]\n",
    "table_rows = tbl_b.find_all('tr')\n",
    "\n",
    "res = []\n",
    "\n",
    "for tr in table_rows:\n",
    "    res.append(\n",
    "        # [get_url(tr.find(\"th\"))] + [get_url(a) if i == 1 else a.text.strip() for i, a in enumerate(tr.find_all('td'))]\n",
    "        # [a.text.strip() for i, a in enumerate(tr.find_all('th'))]\n",
    "        [get_url(tr.find(\"th\"))] + [a.text.strip() for i, a in enumerate(tr.find_all('td'))]\n",
    "    )\n",
    "    \n",
    "df = pd.DataFrame(\n",
    "    res\n",
    "    , columns=fields\n",
    ")"
   ]
  },
  {
   "cell_type": "code",
   "execution_count": null,
   "metadata": {},
   "outputs": [],
   "source": [
    "df"
   ]
  },
  {
   "cell_type": "code",
   "execution_count": null,
   "metadata": {},
   "outputs": [],
   "source": [
    "'stats_squads_keeper_for'"
   ]
  },
  {
   "cell_type": "code",
   "execution_count": null,
   "metadata": {},
   "outputs": [],
   "source": []
  }
 ],
 "metadata": {
  "kernelspec": {
   "display_name": "Python 3",
   "language": "python",
   "name": "python3"
  },
  "language_info": {
   "codemirror_mode": {
    "name": "ipython",
    "version": 3
   },
   "file_extension": ".py",
   "mimetype": "text/x-python",
   "name": "python",
   "nbconvert_exporter": "python",
   "pygments_lexer": "ipython3",
   "version": "3.8.5"
  }
 },
 "nbformat": 4,
 "nbformat_minor": 4
}
